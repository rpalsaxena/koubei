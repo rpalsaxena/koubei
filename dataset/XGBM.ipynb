{
 "cells": [
  {
   "cell_type": "code",
   "execution_count": 3,
   "metadata": {
    "collapsed": true
   },
   "outputs": [],
   "source": [
    "import pandas as pd\n",
    "import xgboost as xgb"
   ]
  },
  {
   "cell_type": "code",
   "execution_count": null,
   "metadata": {
    "collapsed": true
   },
   "outputs": [],
   "source": [
    "\n",
    "X_train = df.drop('y',axis=1)\n",
    "Y_train = df['y']\n",
    "T_train_xgb = xgb.DMatrix(X_train, Y_train)\n",
    "\n",
    "params = {\"objective\": \"reg:linear\"}\n",
    "gbm = xgb.train(dtrain=T_train_xgb,params=params)\n",
    "Y_pred = gbm.predict(xgb.DMatrix(pd.DataFrame({'x':[4,5]})))\n",
    "print Y_pred\n",
    "params = {\"objective\": \"reg:linear\", \"booster\":\"gblinear\"}\n",
    "gbm = xgb.train(dtrain=T_train_xgb,params=params)\n",
    "Y_pred = gbm.predict(xgb.DMatrix(pd.DataFrame({'x':[4,5]})))\n",
    "print Y_pred"
   ]
  },
  {
   "cell_type": "code",
   "execution_count": 22,
   "metadata": {
    "collapsed": false
   },
   "outputs": [
    {
     "data": {
      "text/html": [
       "<div>\n",
       "<table border=\"1\" class=\"dataframe\">\n",
       "  <thead>\n",
       "    <tr style=\"text-align: right;\">\n",
       "      <th></th>\n",
       "      <th>Unnamed: 0</th>\n",
       "      <th>shop_id</th>\n",
       "      <th>date.day_1</th>\n",
       "      <th>date.day_2</th>\n",
       "      <th>date.day_3</th>\n",
       "      <th>date.day_4</th>\n",
       "      <th>date.day_5</th>\n",
       "      <th>date.day_6</th>\n",
       "      <th>date.day_7</th>\n",
       "      <th>date.day_8</th>\n",
       "      <th>...</th>\n",
       "      <th>cate_2_name_快餐</th>\n",
       "      <th>cate_2_name_本地购物</th>\n",
       "      <th>cate_2_name_汤/粥/煲/砂锅/炖菜</th>\n",
       "      <th>cate_2_name_火锅</th>\n",
       "      <th>cate_2_name_烘焙糕点</th>\n",
       "      <th>cate_2_name_烧烤</th>\n",
       "      <th>cate_2_name_网吧网咖</th>\n",
       "      <th>cate_2_name_药店</th>\n",
       "      <th>cate_2_name_超市</th>\n",
       "      <th>count</th>\n",
       "    </tr>\n",
       "  </thead>\n",
       "  <tbody>\n",
       "    <tr>\n",
       "      <th>0</th>\n",
       "      <td>0</td>\n",
       "      <td>544</td>\n",
       "      <td>0</td>\n",
       "      <td>0</td>\n",
       "      <td>0</td>\n",
       "      <td>0</td>\n",
       "      <td>0</td>\n",
       "      <td>0</td>\n",
       "      <td>0</td>\n",
       "      <td>0</td>\n",
       "      <td>...</td>\n",
       "      <td>0</td>\n",
       "      <td>0</td>\n",
       "      <td>0</td>\n",
       "      <td>0</td>\n",
       "      <td>0</td>\n",
       "      <td>0</td>\n",
       "      <td>0</td>\n",
       "      <td>0</td>\n",
       "      <td>0</td>\n",
       "      <td>221</td>\n",
       "    </tr>\n",
       "    <tr>\n",
       "      <th>1</th>\n",
       "      <td>1</td>\n",
       "      <td>810</td>\n",
       "      <td>0</td>\n",
       "      <td>0</td>\n",
       "      <td>0</td>\n",
       "      <td>0</td>\n",
       "      <td>0</td>\n",
       "      <td>0</td>\n",
       "      <td>0</td>\n",
       "      <td>0</td>\n",
       "      <td>...</td>\n",
       "      <td>1</td>\n",
       "      <td>0</td>\n",
       "      <td>0</td>\n",
       "      <td>0</td>\n",
       "      <td>0</td>\n",
       "      <td>0</td>\n",
       "      <td>0</td>\n",
       "      <td>0</td>\n",
       "      <td>0</td>\n",
       "      <td>125</td>\n",
       "    </tr>\n",
       "    <tr>\n",
       "      <th>2</th>\n",
       "      <td>2</td>\n",
       "      <td>163</td>\n",
       "      <td>0</td>\n",
       "      <td>0</td>\n",
       "      <td>0</td>\n",
       "      <td>0</td>\n",
       "      <td>0</td>\n",
       "      <td>0</td>\n",
       "      <td>1</td>\n",
       "      <td>0</td>\n",
       "      <td>...</td>\n",
       "      <td>0</td>\n",
       "      <td>0</td>\n",
       "      <td>0</td>\n",
       "      <td>0</td>\n",
       "      <td>0</td>\n",
       "      <td>0</td>\n",
       "      <td>0</td>\n",
       "      <td>0</td>\n",
       "      <td>1</td>\n",
       "      <td>91</td>\n",
       "    </tr>\n",
       "    <tr>\n",
       "      <th>3</th>\n",
       "      <td>3</td>\n",
       "      <td>1977</td>\n",
       "      <td>0</td>\n",
       "      <td>0</td>\n",
       "      <td>0</td>\n",
       "      <td>0</td>\n",
       "      <td>0</td>\n",
       "      <td>0</td>\n",
       "      <td>0</td>\n",
       "      <td>0</td>\n",
       "      <td>...</td>\n",
       "      <td>1</td>\n",
       "      <td>0</td>\n",
       "      <td>0</td>\n",
       "      <td>0</td>\n",
       "      <td>0</td>\n",
       "      <td>0</td>\n",
       "      <td>0</td>\n",
       "      <td>0</td>\n",
       "      <td>0</td>\n",
       "      <td>137</td>\n",
       "    </tr>\n",
       "    <tr>\n",
       "      <th>4</th>\n",
       "      <td>4</td>\n",
       "      <td>746</td>\n",
       "      <td>0</td>\n",
       "      <td>0</td>\n",
       "      <td>0</td>\n",
       "      <td>0</td>\n",
       "      <td>0</td>\n",
       "      <td>0</td>\n",
       "      <td>0</td>\n",
       "      <td>0</td>\n",
       "      <td>...</td>\n",
       "      <td>1</td>\n",
       "      <td>0</td>\n",
       "      <td>0</td>\n",
       "      <td>0</td>\n",
       "      <td>0</td>\n",
       "      <td>0</td>\n",
       "      <td>0</td>\n",
       "      <td>0</td>\n",
       "      <td>0</td>\n",
       "      <td>68</td>\n",
       "    </tr>\n",
       "  </tbody>\n",
       "</table>\n",
       "<p>5 rows × 218 columns</p>\n",
       "</div>"
      ],
      "text/plain": [
       "   Unnamed: 0  shop_id  date.day_1  date.day_2  date.day_3  date.day_4  \\\n",
       "0           0      544           0           0           0           0   \n",
       "1           1      810           0           0           0           0   \n",
       "2           2      163           0           0           0           0   \n",
       "3           3     1977           0           0           0           0   \n",
       "4           4      746           0           0           0           0   \n",
       "\n",
       "   date.day_5  date.day_6  date.day_7  date.day_8  ...    cate_2_name_快餐  \\\n",
       "0           0           0           0           0  ...                 0   \n",
       "1           0           0           0           0  ...                 1   \n",
       "2           0           0           1           0  ...                 0   \n",
       "3           0           0           0           0  ...                 1   \n",
       "4           0           0           0           0  ...                 1   \n",
       "\n",
       "   cate_2_name_本地购物  cate_2_name_汤/粥/煲/砂锅/炖菜  cate_2_name_火锅  \\\n",
       "0                 0                        0               0   \n",
       "1                 0                        0               0   \n",
       "2                 0                        0               0   \n",
       "3                 0                        0               0   \n",
       "4                 0                        0               0   \n",
       "\n",
       "   cate_2_name_烘焙糕点  cate_2_name_烧烤  cate_2_name_网吧网咖  cate_2_name_药店  \\\n",
       "0                 0               0                 0               0   \n",
       "1                 0               0                 0               0   \n",
       "2                 0               0                 0               0   \n",
       "3                 0               0                 0               0   \n",
       "4                 0               0                 0               0   \n",
       "\n",
       "   cate_2_name_超市  count  \n",
       "0               0    221  \n",
       "1               0    125  \n",
       "2               1     91  \n",
       "3               0    137  \n",
       "4               0     68  \n",
       "\n",
       "[5 rows x 218 columns]"
      ]
     },
     "execution_count": 22,
     "metadata": {},
     "output_type": "execute_result"
    }
   ],
   "source": [
    "df.head()"
   ]
  },
  {
   "cell_type": "code",
   "execution_count": 16,
   "metadata": {
    "collapsed": false
   },
   "outputs": [],
   "source": [
    "df = pd.read_csv('final_file.csv',encoding=\"GBK\")\n",
    "X = df.values[:, 0:217]\n",
    "Y = df.values[:,217]\n",
    "from sklearn.cross_validation import train_test_split\n",
    "X_train, X_test, y_train, y_test = train_test_split(X, Y, test_size = 0.3, random_state = 100)"
   ]
  },
  {
   "cell_type": "code",
   "execution_count": 17,
   "metadata": {
    "collapsed": false
   },
   "outputs": [
    {
     "data": {
      "text/plain": [
       "array([ 55.,  43.,  30., ...,  86.,  88.,  33.])"
      ]
     },
     "execution_count": 17,
     "metadata": {},
     "output_type": "execute_result"
    }
   ],
   "source": [
    "y_test"
   ]
  },
  {
   "cell_type": "code",
   "execution_count": 31,
   "metadata": {
    "collapsed": false
   },
   "outputs": [],
   "source": [
    "T_train_xgb = xgb.DMatrix(X_train, y_train)\n",
    "params = {\"objective\": \"reg:linear\", \"booster\":\"gblinear\"}\n",
    "gbm = xgb.train(dtrain=T_train_xgb,params=params)\n"
   ]
  },
  {
   "cell_type": "code",
   "execution_count": 32,
   "metadata": {
    "collapsed": false
   },
   "outputs": [],
   "source": [
    "y_pred = gbm.predict(xgb.DMatrix(X_test))"
   ]
  },
  {
   "cell_type": "code",
   "execution_count": 33,
   "metadata": {
    "collapsed": false
   },
   "outputs": [
    {
     "data": {
      "text/plain": [
       "0.19673278857505061"
      ]
     },
     "execution_count": 33,
     "metadata": {},
     "output_type": "execute_result"
    }
   ],
   "source": [
    "from sklearn.metrics import r2_score\n",
    "r2_score(y_test, y_pred)"
   ]
  },
  {
   "cell_type": "code",
   "execution_count": 34,
   "metadata": {
    "collapsed": false
   },
   "outputs": [
    {
     "data": {
      "text/plain": [
       "14560.387872683435"
      ]
     },
     "execution_count": 34,
     "metadata": {},
     "output_type": "execute_result"
    }
   ],
   "source": [
    "from sklearn.metrics import mean_squared_error\n",
    "mean_squared_error(y_test, y_pred)"
   ]
  },
  {
   "cell_type": "code",
   "execution_count": 35,
   "metadata": {
    "collapsed": false
   },
   "outputs": [
    {
     "name": "stdout",
     "output_type": "stream",
     "text": [
      "0.563503054594\n",
      "7912.14273402\n"
     ]
    }
   ],
   "source": [
    "params1 = {\"objective\": \"reg:linear\", \"booster\":\"dart\"}\n",
    "gbm1 = xgb.train(dtrain=T_train_xgb,params=params1)\n",
    "y_pred1 = gbm1.predict(xgb.DMatrix(X_test))\n",
    "print(r2_score(y_test, y_pred1))\n",
    "print(mean_squared_error(y_test, y_pred1))"
   ]
  },
  {
   "cell_type": "code",
   "execution_count": 43,
   "metadata": {
    "collapsed": false
   },
   "outputs": [
    {
     "name": "stdout",
     "output_type": "stream",
     "text": [
      "0.847366462931\n",
      "2766.70511444\n"
     ]
    }
   ],
   "source": [
    "params2 = {\"objective\": \"reg:linear\", \"booster\":\"gbtree\",\n",
    "           \"max_depth\":90}\n",
    "gbm2 = xgb.train(dtrain=T_train_xgb,params=params2)\n",
    "y_pred2 = gbm2.predict(xgb.DMatrix(X_test))\n",
    "print(r2_score(y_test, y_pred2))\n",
    "print(mean_squared_error(y_test, y_pred2))"
   ]
  },
  {
   "cell_type": "code",
   "execution_count": null,
   "metadata": {
    "collapsed": true
   },
   "outputs": [],
   "source": []
  }
 ],
 "metadata": {
  "kernelspec": {
   "display_name": "Python 2",
   "language": "python",
   "name": "python2"
  },
  "language_info": {
   "codemirror_mode": {
    "name": "ipython",
    "version": 2
   },
   "file_extension": ".py",
   "mimetype": "text/x-python",
   "name": "python",
   "nbconvert_exporter": "python",
   "pygments_lexer": "ipython2",
   "version": "2.7.13"
  }
 },
 "nbformat": 4,
 "nbformat_minor": 0
}
