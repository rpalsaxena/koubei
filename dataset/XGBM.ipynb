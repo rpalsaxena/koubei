{
 "cells": [
  {
   "cell_type": "code",
   "execution_count": 1,
   "metadata": {
    "collapsed": false
   },
   "outputs": [],
   "source": [
    "import pandas as pd\n",
    "import numpy as np"
   ]
  },
  {
   "cell_type": "code",
   "execution_count": 2,
   "metadata": {
    "collapsed": false
   },
   "outputs": [],
   "source": [
    "import xgboost as xgb"
   ]
  },
  {
   "cell_type": "code",
   "execution_count": 5,
   "metadata": {
    "collapsed": false
   },
   "outputs": [
    {
     "name": "stderr",
     "output_type": "stream",
     "text": [
      "/opt/anaconda/anaconda2/lib/python2.7/site-packages/sklearn/cross_validation.py:44: DeprecationWarning: This module was deprecated in version 0.18 in favor of the model_selection module into which all the refactored classes and functions are moved. Also note that the interface of the new CV iterators are different from that of this module. This module will be removed in 0.20.\n",
      "  \"This module will be removed in 0.20.\", DeprecationWarning)\n"
     ]
    }
   ],
   "source": [
    "df = pd.read_csv('final_file.csv',encoding=\"GBK\")\n",
    "X = df.values[:, 0:217]\n",
    "Y = df.values[:,217]\n",
    "\n",
    "from sklearn.cross_validation import train_test_split\n",
    "X_train, X_test, y_train, y_test = train_test_split(X, Y, test_size = 0.3, random_state = 100)"
   ]
  },
  {
   "cell_type": "code",
   "execution_count": 6,
   "metadata": {
    "collapsed": false
   },
   "outputs": [
    {
     "data": {
      "text/plain": [
       "array([ 55.,  43.,  30., ...,  86.,  88.,  33.])"
      ]
     },
     "execution_count": 6,
     "metadata": {},
     "output_type": "execute_result"
    }
   ],
   "source": [
    "y_test"
   ]
  },
  {
   "cell_type": "code",
   "execution_count": 7,
   "metadata": {
    "collapsed": false
   },
   "outputs": [
    {
     "name": "stderr",
     "output_type": "stream",
     "text": [
      "/opt/anaconda/anaconda2/lib/python2.7/site-packages/sklearn/grid_search.py:43: DeprecationWarning: This module was deprecated in version 0.18 in favor of the model_selection module into which all the refactored classes and functions are moved. This module will be removed in 0.20.\n",
      "  DeprecationWarning)\n"
     ]
    }
   ],
   "source": [
    "from sklearn import datasets, linear_model, cross_validation, grid_search\n",
    "from sklearn.metrics import r2_score"
   ]
  },
  {
   "cell_type": "raw",
   "metadata": {},
   "source": [
    ">>> y = np.array([1, 2, 3, 4])\n",
    ">>> kf = KFold(n_splits=2)\n",
    ">>> kf.get_n_splits(X)\n",
    "2\n",
    ">>> print(kf)  \n",
    "KFold(n_splits=2, random_state=None, shuffle=False)\n",
    ">>> for train_index, test_index in kf.split(X):\n",
    "...    print(\"TRAIN:\", train_index, \"TEST:\", test_index)\n",
    "...    X_train, X_test = X[train_index], X[test_index]\n",
    "...    y_train, y_test = y[train_index], y[test_index]\n",
    "TRAIN: [2 3] TEST: [0 1]\n",
    "TRAIN: [0 1] TEST: [2 3]"
   ]
  },
  {
   "cell_type": "code",
   "execution_count": 8,
   "metadata": {
    "collapsed": true
   },
   "outputs": [],
   "source": [
    "r2_results = []\n",
    "mse_results= []"
   ]
  },
  {
   "cell_type": "code",
   "execution_count": 12,
   "metadata": {
    "collapsed": false
   },
   "outputs": [],
   "source": [
    "from sklearn.model_selection import KFold\n",
    "from sklearn.metrics import mean_squared_error"
   ]
  },
  {
   "cell_type": "code",
   "execution_count": 13,
   "metadata": {
    "collapsed": false
   },
   "outputs": [],
   "source": [
    "kf_total = KFold(n_splits=25, shuffle=True, random_state=100)\n",
    "for train_index, test_index in kf_total.split(X):\n",
    "    x_tr, x_cv = X[train_index], X[test_index]\n",
    "    y_tr, y_cv = Y[train_index], Y[test_index]\n",
    "    T_train_xgb = xgb.DMatrix(x_tr, y_tr)\n",
    "    params = {\"objective\": \"reg:linear\", \"booster\":\"gbtree\",\"max_depth\":60}\n",
    "    gbm = xgb.train(dtrain=T_train_xgb,params=params)\n",
    "    y_pr = gbm.predict(xgb.DMatrix(x_cv))\n",
    "    r2_results.append(r2_score(y_cv, y_pr))\n",
    "    mse_results.append(mean_squared_error(y_cv, y_pr))"
   ]
  },
  {
   "cell_type": "code",
   "execution_count": 14,
   "metadata": {
    "collapsed": false
   },
   "outputs": [
    {
     "name": "stdout",
     "output_type": "stream",
     "text": [
      "0.860000537873\n",
      "2496.69219914\n"
     ]
    }
   ],
   "source": [
    "print np.average(r2_results)\n",
    "print np.average(mse_results)"
   ]
  },
  {
   "cell_type": "markdown",
   "metadata": {},
   "source": [
    "# 1st submission\n"
   ]
  },
  {
   "cell_type": "code",
   "execution_count": 16,
   "metadata": {
    "collapsed": false
   },
   "outputs": [
    {
     "name": "stdout",
     "output_type": "stream",
     "text": [
      "0.989574817469\n",
      "188.97161384\n"
     ]
    }
   ],
   "source": [
    "params2 = {\"objective\": \"reg:linear\", \"booster\":\"gbtree\",\"max_depth\":60}\n",
    "gbm2 = xgb.train(dtrain=T_train_xgb,params=params2)\n",
    "y_pred2 = gbm2.predict(xgb.DMatrix(X_test))\n",
    "print(r2_score(y_test, y_pred2))\n",
    "print(mean_squared_error(y_test, y_pred2))"
   ]
  },
  {
   "cell_type": "code",
   "execution_count": 99,
   "metadata": {
    "collapsed": false
   },
   "outputs": [
    {
     "data": {
      "text/html": [
       "<div>\n",
       "<table border=\"1\" class=\"dataframe\">\n",
       "  <thead>\n",
       "    <tr style=\"text-align: right;\">\n",
       "      <th></th>\n",
       "      <th>shop_id</th>\n",
       "    </tr>\n",
       "  </thead>\n",
       "  <tbody>\n",
       "    <tr>\n",
       "      <th>0</th>\n",
       "      <td>1</td>\n",
       "    </tr>\n",
       "    <tr>\n",
       "      <th>1</th>\n",
       "      <td>2</td>\n",
       "    </tr>\n",
       "    <tr>\n",
       "      <th>2</th>\n",
       "      <td>3</td>\n",
       "    </tr>\n",
       "    <tr>\n",
       "      <th>3</th>\n",
       "      <td>4</td>\n",
       "    </tr>\n",
       "    <tr>\n",
       "      <th>4</th>\n",
       "      <td>5</td>\n",
       "    </tr>\n",
       "    <tr>\n",
       "      <th>5</th>\n",
       "      <td>6</td>\n",
       "    </tr>\n",
       "    <tr>\n",
       "      <th>6</th>\n",
       "      <td>7</td>\n",
       "    </tr>\n",
       "    <tr>\n",
       "      <th>7</th>\n",
       "      <td>8</td>\n",
       "    </tr>\n",
       "    <tr>\n",
       "      <th>8</th>\n",
       "      <td>9</td>\n",
       "    </tr>\n",
       "    <tr>\n",
       "      <th>9</th>\n",
       "      <td>10</td>\n",
       "    </tr>\n",
       "    <tr>\n",
       "      <th>10</th>\n",
       "      <td>11</td>\n",
       "    </tr>\n",
       "    <tr>\n",
       "      <th>11</th>\n",
       "      <td>12</td>\n",
       "    </tr>\n",
       "    <tr>\n",
       "      <th>12</th>\n",
       "      <td>13</td>\n",
       "    </tr>\n",
       "    <tr>\n",
       "      <th>13</th>\n",
       "      <td>14</td>\n",
       "    </tr>\n",
       "    <tr>\n",
       "      <th>14</th>\n",
       "      <td>15</td>\n",
       "    </tr>\n",
       "    <tr>\n",
       "      <th>15</th>\n",
       "      <td>16</td>\n",
       "    </tr>\n",
       "    <tr>\n",
       "      <th>16</th>\n",
       "      <td>17</td>\n",
       "    </tr>\n",
       "    <tr>\n",
       "      <th>17</th>\n",
       "      <td>18</td>\n",
       "    </tr>\n",
       "    <tr>\n",
       "      <th>18</th>\n",
       "      <td>19</td>\n",
       "    </tr>\n",
       "    <tr>\n",
       "      <th>19</th>\n",
       "      <td>20</td>\n",
       "    </tr>\n",
       "    <tr>\n",
       "      <th>20</th>\n",
       "      <td>21</td>\n",
       "    </tr>\n",
       "    <tr>\n",
       "      <th>21</th>\n",
       "      <td>22</td>\n",
       "    </tr>\n",
       "    <tr>\n",
       "      <th>22</th>\n",
       "      <td>23</td>\n",
       "    </tr>\n",
       "    <tr>\n",
       "      <th>23</th>\n",
       "      <td>24</td>\n",
       "    </tr>\n",
       "    <tr>\n",
       "      <th>24</th>\n",
       "      <td>25</td>\n",
       "    </tr>\n",
       "    <tr>\n",
       "      <th>25</th>\n",
       "      <td>26</td>\n",
       "    </tr>\n",
       "    <tr>\n",
       "      <th>26</th>\n",
       "      <td>27</td>\n",
       "    </tr>\n",
       "    <tr>\n",
       "      <th>27</th>\n",
       "      <td>28</td>\n",
       "    </tr>\n",
       "    <tr>\n",
       "      <th>28</th>\n",
       "      <td>29</td>\n",
       "    </tr>\n",
       "    <tr>\n",
       "      <th>29</th>\n",
       "      <td>30</td>\n",
       "    </tr>\n",
       "    <tr>\n",
       "      <th>...</th>\n",
       "      <td>...</td>\n",
       "    </tr>\n",
       "    <tr>\n",
       "      <th>1970</th>\n",
       "      <td>1971</td>\n",
       "    </tr>\n",
       "    <tr>\n",
       "      <th>1971</th>\n",
       "      <td>1972</td>\n",
       "    </tr>\n",
       "    <tr>\n",
       "      <th>1972</th>\n",
       "      <td>1973</td>\n",
       "    </tr>\n",
       "    <tr>\n",
       "      <th>1973</th>\n",
       "      <td>1974</td>\n",
       "    </tr>\n",
       "    <tr>\n",
       "      <th>1974</th>\n",
       "      <td>1975</td>\n",
       "    </tr>\n",
       "    <tr>\n",
       "      <th>1975</th>\n",
       "      <td>1976</td>\n",
       "    </tr>\n",
       "    <tr>\n",
       "      <th>1976</th>\n",
       "      <td>1977</td>\n",
       "    </tr>\n",
       "    <tr>\n",
       "      <th>1977</th>\n",
       "      <td>1978</td>\n",
       "    </tr>\n",
       "    <tr>\n",
       "      <th>1978</th>\n",
       "      <td>1979</td>\n",
       "    </tr>\n",
       "    <tr>\n",
       "      <th>1979</th>\n",
       "      <td>1980</td>\n",
       "    </tr>\n",
       "    <tr>\n",
       "      <th>1980</th>\n",
       "      <td>1981</td>\n",
       "    </tr>\n",
       "    <tr>\n",
       "      <th>1981</th>\n",
       "      <td>1982</td>\n",
       "    </tr>\n",
       "    <tr>\n",
       "      <th>1982</th>\n",
       "      <td>1983</td>\n",
       "    </tr>\n",
       "    <tr>\n",
       "      <th>1983</th>\n",
       "      <td>1984</td>\n",
       "    </tr>\n",
       "    <tr>\n",
       "      <th>1984</th>\n",
       "      <td>1985</td>\n",
       "    </tr>\n",
       "    <tr>\n",
       "      <th>1985</th>\n",
       "      <td>1986</td>\n",
       "    </tr>\n",
       "    <tr>\n",
       "      <th>1986</th>\n",
       "      <td>1987</td>\n",
       "    </tr>\n",
       "    <tr>\n",
       "      <th>1987</th>\n",
       "      <td>1988</td>\n",
       "    </tr>\n",
       "    <tr>\n",
       "      <th>1988</th>\n",
       "      <td>1989</td>\n",
       "    </tr>\n",
       "    <tr>\n",
       "      <th>1989</th>\n",
       "      <td>1990</td>\n",
       "    </tr>\n",
       "    <tr>\n",
       "      <th>1990</th>\n",
       "      <td>1991</td>\n",
       "    </tr>\n",
       "    <tr>\n",
       "      <th>1991</th>\n",
       "      <td>1992</td>\n",
       "    </tr>\n",
       "    <tr>\n",
       "      <th>1992</th>\n",
       "      <td>1993</td>\n",
       "    </tr>\n",
       "    <tr>\n",
       "      <th>1993</th>\n",
       "      <td>1994</td>\n",
       "    </tr>\n",
       "    <tr>\n",
       "      <th>1994</th>\n",
       "      <td>1995</td>\n",
       "    </tr>\n",
       "    <tr>\n",
       "      <th>1995</th>\n",
       "      <td>1996</td>\n",
       "    </tr>\n",
       "    <tr>\n",
       "      <th>1996</th>\n",
       "      <td>1997</td>\n",
       "    </tr>\n",
       "    <tr>\n",
       "      <th>1997</th>\n",
       "      <td>1998</td>\n",
       "    </tr>\n",
       "    <tr>\n",
       "      <th>1998</th>\n",
       "      <td>1999</td>\n",
       "    </tr>\n",
       "    <tr>\n",
       "      <th>1999</th>\n",
       "      <td>2000</td>\n",
       "    </tr>\n",
       "  </tbody>\n",
       "</table>\n",
       "<p>2000 rows × 1 columns</p>\n",
       "</div>"
      ],
      "text/plain": [
       "      shop_id\n",
       "0           1\n",
       "1           2\n",
       "2           3\n",
       "3           4\n",
       "4           5\n",
       "5           6\n",
       "6           7\n",
       "7           8\n",
       "8           9\n",
       "9          10\n",
       "10         11\n",
       "11         12\n",
       "12         13\n",
       "13         14\n",
       "14         15\n",
       "15         16\n",
       "16         17\n",
       "17         18\n",
       "18         19\n",
       "19         20\n",
       "20         21\n",
       "21         22\n",
       "22         23\n",
       "23         24\n",
       "24         25\n",
       "25         26\n",
       "26         27\n",
       "27         28\n",
       "28         29\n",
       "29         30\n",
       "...       ...\n",
       "1970     1971\n",
       "1971     1972\n",
       "1972     1973\n",
       "1973     1974\n",
       "1974     1975\n",
       "1975     1976\n",
       "1976     1977\n",
       "1977     1978\n",
       "1978     1979\n",
       "1979     1980\n",
       "1980     1981\n",
       "1981     1982\n",
       "1982     1983\n",
       "1983     1984\n",
       "1984     1985\n",
       "1985     1986\n",
       "1986     1987\n",
       "1987     1988\n",
       "1988     1989\n",
       "1989     1990\n",
       "1990     1991\n",
       "1991     1992\n",
       "1992     1993\n",
       "1993     1994\n",
       "1994     1995\n",
       "1995     1996\n",
       "1996     1997\n",
       "1997     1998\n",
       "1998     1999\n",
       "1999     2000\n",
       "\n",
       "[2000 rows x 1 columns]"
      ]
     },
     "execution_count": 99,
     "metadata": {},
     "output_type": "execute_result"
    }
   ],
   "source": [
    "#Predictt the results\n",
    "shop_id = np.arange(1,2001, 1)\n",
    "shop_pred12 = pd.DataFrame(data=shop_id)\n",
    "shop_pred12.columns=['shop_id']\n",
    "shop_pred12"
   ]
  },
  {
   "cell_type": "code",
   "execution_count": 96,
   "metadata": {
    "collapsed": false
   },
   "outputs": [],
   "source": [
    "shop_pd = pd.read_csv('dataset/shop_info.txt', header=None,encoding='utf-8')\n",
    "shop_pd.columns = ['shop_id','city_name','location_id',\n",
    "                   'per_pay','score', 'comment_cnt','shop_level','cate_1_name',\n",
    "                   'cate_2_name','cate_3_name']"
   ]
  },
  {
   "cell_type": "code",
   "execution_count": 111,
   "metadata": {
    "collapsed": false
   },
   "outputs": [
    {
     "data": {
      "text/plain": [
       "28000"
      ]
     },
     "execution_count": 111,
     "metadata": {},
     "output_type": "execute_result"
    }
   ],
   "source": [
    "shop_pred1 = shop_pred1.append(shop_pred12, ignore_index=True)\n",
    "len(shop_pred1)"
   ]
  },
  {
   "cell_type": "code",
   "execution_count": 129,
   "metadata": {
    "collapsed": false
   },
   "outputs": [
    {
     "data": {
      "text/plain": [
       "28000"
      ]
     },
     "execution_count": 129,
     "metadata": {},
     "output_type": "execute_result"
    }
   ],
   "source": [
    "shop_pred = shop_pred1\n",
    "len(shop_pred)"
   ]
  },
  {
   "cell_type": "code",
   "execution_count": 69,
   "metadata": {
    "collapsed": false,
    "scrolled": true
   },
   "outputs": [],
   "source": [
    "d1 = np.array([\"2016-11-01 17:00:00\"])\n",
    "d1 = np.tile(d1,(2000))\n",
    "\n",
    "d2 = np.array([\"2016-11-02 17:00:00\"])\n",
    "d2 = np.tile(d2,(2000))\n",
    "\n",
    "d3 = np.array([\"2016-11-03 17:00:00\"])\n",
    "d3 = np.tile(d3,(2000))\n",
    "\n",
    "d4 = np.array([\"2016-11-04 17:00:00\"])\n",
    "d4 = np.tile(d4,(2000))\n",
    "\n",
    "d5 = np.array([\"2016-11-05 17:00:00\"])\n",
    "d5 = np.tile(d5,(2000))\n",
    "\n",
    "d6 = np.array([\"2016-11-06 17:00:00\"])\n",
    "d6 = np.tile(d6,(2000))\n",
    "\n",
    "d7 = np.array([\"2016-11-07 17:00:00\"])\n",
    "d7 = np.tile(d7,(2000))\n",
    "\n",
    "d8 = np.array([\"2016-11-08 17:00:00\"])\n",
    "d8 = np.tile(d8,(2000))\n",
    "\n",
    "d9 = np.array([\"2016-11-09 17:00:00\"])\n",
    "d9 = np.tile(d9,(2000))\n",
    "\n",
    "d10 = np.array([\"2016-11-10 17:00:00\"])\n",
    "d10 = np.tile(d10,(2000))\n",
    "\n",
    "d11 = np.array([\"2016-11-11 17:00:00\"])\n",
    "d11 = np.tile(d11,(2000))\n",
    "\n",
    "d12 = np.array([\"2016-11-12 17:00:00\"])\n",
    "d12 = np.tile(d12,(2000))\n",
    "\n",
    "d13 = np.array([\"2016-11-13 17:00:00\"])\n",
    "d13 = np.tile(d13,(2000))\n",
    "\n",
    "d14 = np.array([\"2016-11-14 17:00:00\"])\n",
    "d14 = np.tile(d14,(2000))\n"
   ]
  },
  {
   "cell_type": "code",
   "execution_count": 72,
   "metadata": {
    "collapsed": false
   },
   "outputs": [],
   "source": [
    "#np.concatenate((a, b))\n",
    "dates_pred = np.concatenate((d1, d2, d3, d4, d5,\n",
    "                      d6, d7, d8, d9, d10,\n",
    "                      d11, d12, d13, d14))"
   ]
  },
  {
   "cell_type": "code",
   "execution_count": 81,
   "metadata": {
    "collapsed": false
   },
   "outputs": [],
   "source": [
    "date_pred = pd.DataFrame(data=dates_pred)\n",
    "date_pred.columns=['timestamp']"
   ]
  },
  {
   "cell_type": "code",
   "execution_count": 130,
   "metadata": {
    "collapsed": false
   },
   "outputs": [],
   "source": [
    "shop_pred['timestamp']= date_pred['timestamp']"
   ]
  },
  {
   "cell_type": "code",
   "execution_count": 86,
   "metadata": {
    "collapsed": true
   },
   "outputs": [],
   "source": [
    "import graphlab\n",
    "graphlab.product_key.set_product_key('C1F8-C271-2792-131F-9B58-89C4-548B-7F25')\n",
    "\n",
    "# output active product key\n",
    "graphlab.product_key.get_product_key()\n",
    "import graphlab as gl"
   ]
  },
  {
   "cell_type": "code",
   "execution_count": 121,
   "metadata": {
    "collapsed": false
   },
   "outputs": [],
   "source": [
    "shop_pred.timestamp = shop_pred.timestamp.astype('str')"
   ]
  },
  {
   "cell_type": "code",
   "execution_count": 125,
   "metadata": {
    "collapsed": false
   },
   "outputs": [],
   "source": [
    "shop_pred['date'] = pd.to_datetime(shop_pred['timestamp'])"
   ]
  },
  {
   "cell_type": "code",
   "execution_count": 133,
   "metadata": {
    "collapsed": false
   },
   "outputs": [],
   "source": [
    "shop_pred.to_csv('shop_pred.csv')"
   ]
  },
  {
   "cell_type": "code",
   "execution_count": 134,
   "metadata": {
    "collapsed": false
   },
   "outputs": [
    {
     "name": "stderr",
     "output_type": "stream",
     "text": [
      "[INFO] graphlab.cython.cy_server: GraphLab Create v2.1 started. Logging: /tmp/graphlab_server_1489132034.log\n",
      "INFO:graphlab.cython.cy_server:GraphLab Create v2.1 started. Logging: /tmp/graphlab_server_1489132034.log\n"
     ]
    },
    {
     "data": {
      "text/html": [
       "<pre>Finished parsing file /home/ubuntu/koubei/dataset/shop_pred.csv</pre>"
      ],
      "text/plain": [
       "Finished parsing file /home/ubuntu/koubei/dataset/shop_pred.csv"
      ]
     },
     "metadata": {},
     "output_type": "display_data"
    },
    {
     "data": {
      "text/html": [
       "<pre>Parsing completed. Parsed 100 lines in 0.047399 secs.</pre>"
      ],
      "text/plain": [
       "Parsing completed. Parsed 100 lines in 0.047399 secs."
      ]
     },
     "metadata": {},
     "output_type": "display_data"
    },
    {
     "name": "stdout",
     "output_type": "stream",
     "text": [
      "This non-commercial license of GraphLab Create for academic use is assigned to raplsaxena@gmail.com and will expire on February 23, 2018.\n",
      "------------------------------------------------------"
     ]
    },
    {
     "data": {
      "text/html": [
       "<pre>Finished parsing file /home/ubuntu/koubei/dataset/shop_pred.csv</pre>"
      ],
      "text/plain": [
       "Finished parsing file /home/ubuntu/koubei/dataset/shop_pred.csv"
      ]
     },
     "metadata": {},
     "output_type": "display_data"
    },
    {
     "data": {
      "text/html": [
       "<pre>Parsing completed. Parsed 28000 lines in 0.032127 secs.</pre>"
      ],
      "text/plain": [
       "Parsing completed. Parsed 28000 lines in 0.032127 secs."
      ]
     },
     "metadata": {},
     "output_type": "display_data"
    },
    {
     "name": "stdout",
     "output_type": "stream",
     "text": [
      "\n",
      "Inferred types from first 100 line(s) of file as \n",
      "column_type_hints=[int,int,str,str]\n",
      "If parsing fails due to incorrect types, you can correct\n",
      "the inferred type list above and pass it to read_csv in\n",
      "the column_type_hints argument\n",
      "------------------------------------------------------\n"
     ]
    },
    {
     "data": {
      "text/html": [
       "<div style=\"max-height:1000px;max-width:1500px;overflow:auto;\"><table frame=\"box\" rules=\"cols\">\n",
       "    <tr>\n",
       "        <th style=\"padding-left: 1em; padding-right: 1em; text-align: center\">X1</th>\n",
       "        <th style=\"padding-left: 1em; padding-right: 1em; text-align: center\">shop_id</th>\n",
       "        <th style=\"padding-left: 1em; padding-right: 1em; text-align: center\">timestamp</th>\n",
       "        <th style=\"padding-left: 1em; padding-right: 1em; text-align: center\">date</th>\n",
       "    </tr>\n",
       "    <tr>\n",
       "        <td style=\"padding-left: 1em; padding-right: 1em; text-align: center; vertical-align: top\">0</td>\n",
       "        <td style=\"padding-left: 1em; padding-right: 1em; text-align: center; vertical-align: top\">1</td>\n",
       "        <td style=\"padding-left: 1em; padding-right: 1em; text-align: center; vertical-align: top\">2016-11-01 17:00:00</td>\n",
       "        <td style=\"padding-left: 1em; padding-right: 1em; text-align: center; vertical-align: top\">2016-11-01 17:00:00</td>\n",
       "    </tr>\n",
       "    <tr>\n",
       "        <td style=\"padding-left: 1em; padding-right: 1em; text-align: center; vertical-align: top\">1</td>\n",
       "        <td style=\"padding-left: 1em; padding-right: 1em; text-align: center; vertical-align: top\">2</td>\n",
       "        <td style=\"padding-left: 1em; padding-right: 1em; text-align: center; vertical-align: top\">2016-11-01 17:00:00</td>\n",
       "        <td style=\"padding-left: 1em; padding-right: 1em; text-align: center; vertical-align: top\">2016-11-01 17:00:00</td>\n",
       "    </tr>\n",
       "    <tr>\n",
       "        <td style=\"padding-left: 1em; padding-right: 1em; text-align: center; vertical-align: top\">2</td>\n",
       "        <td style=\"padding-left: 1em; padding-right: 1em; text-align: center; vertical-align: top\">3</td>\n",
       "        <td style=\"padding-left: 1em; padding-right: 1em; text-align: center; vertical-align: top\">2016-11-01 17:00:00</td>\n",
       "        <td style=\"padding-left: 1em; padding-right: 1em; text-align: center; vertical-align: top\">2016-11-01 17:00:00</td>\n",
       "    </tr>\n",
       "    <tr>\n",
       "        <td style=\"padding-left: 1em; padding-right: 1em; text-align: center; vertical-align: top\">3</td>\n",
       "        <td style=\"padding-left: 1em; padding-right: 1em; text-align: center; vertical-align: top\">4</td>\n",
       "        <td style=\"padding-left: 1em; padding-right: 1em; text-align: center; vertical-align: top\">2016-11-01 17:00:00</td>\n",
       "        <td style=\"padding-left: 1em; padding-right: 1em; text-align: center; vertical-align: top\">2016-11-01 17:00:00</td>\n",
       "    </tr>\n",
       "    <tr>\n",
       "        <td style=\"padding-left: 1em; padding-right: 1em; text-align: center; vertical-align: top\">4</td>\n",
       "        <td style=\"padding-left: 1em; padding-right: 1em; text-align: center; vertical-align: top\">5</td>\n",
       "        <td style=\"padding-left: 1em; padding-right: 1em; text-align: center; vertical-align: top\">2016-11-01 17:00:00</td>\n",
       "        <td style=\"padding-left: 1em; padding-right: 1em; text-align: center; vertical-align: top\">2016-11-01 17:00:00</td>\n",
       "    </tr>\n",
       "    <tr>\n",
       "        <td style=\"padding-left: 1em; padding-right: 1em; text-align: center; vertical-align: top\">5</td>\n",
       "        <td style=\"padding-left: 1em; padding-right: 1em; text-align: center; vertical-align: top\">6</td>\n",
       "        <td style=\"padding-left: 1em; padding-right: 1em; text-align: center; vertical-align: top\">2016-11-01 17:00:00</td>\n",
       "        <td style=\"padding-left: 1em; padding-right: 1em; text-align: center; vertical-align: top\">2016-11-01 17:00:00</td>\n",
       "    </tr>\n",
       "    <tr>\n",
       "        <td style=\"padding-left: 1em; padding-right: 1em; text-align: center; vertical-align: top\">6</td>\n",
       "        <td style=\"padding-left: 1em; padding-right: 1em; text-align: center; vertical-align: top\">7</td>\n",
       "        <td style=\"padding-left: 1em; padding-right: 1em; text-align: center; vertical-align: top\">2016-11-01 17:00:00</td>\n",
       "        <td style=\"padding-left: 1em; padding-right: 1em; text-align: center; vertical-align: top\">2016-11-01 17:00:00</td>\n",
       "    </tr>\n",
       "    <tr>\n",
       "        <td style=\"padding-left: 1em; padding-right: 1em; text-align: center; vertical-align: top\">7</td>\n",
       "        <td style=\"padding-left: 1em; padding-right: 1em; text-align: center; vertical-align: top\">8</td>\n",
       "        <td style=\"padding-left: 1em; padding-right: 1em; text-align: center; vertical-align: top\">2016-11-01 17:00:00</td>\n",
       "        <td style=\"padding-left: 1em; padding-right: 1em; text-align: center; vertical-align: top\">2016-11-01 17:00:00</td>\n",
       "    </tr>\n",
       "    <tr>\n",
       "        <td style=\"padding-left: 1em; padding-right: 1em; text-align: center; vertical-align: top\">8</td>\n",
       "        <td style=\"padding-left: 1em; padding-right: 1em; text-align: center; vertical-align: top\">9</td>\n",
       "        <td style=\"padding-left: 1em; padding-right: 1em; text-align: center; vertical-align: top\">2016-11-01 17:00:00</td>\n",
       "        <td style=\"padding-left: 1em; padding-right: 1em; text-align: center; vertical-align: top\">2016-11-01 17:00:00</td>\n",
       "    </tr>\n",
       "    <tr>\n",
       "        <td style=\"padding-left: 1em; padding-right: 1em; text-align: center; vertical-align: top\">9</td>\n",
       "        <td style=\"padding-left: 1em; padding-right: 1em; text-align: center; vertical-align: top\">10</td>\n",
       "        <td style=\"padding-left: 1em; padding-right: 1em; text-align: center; vertical-align: top\">2016-11-01 17:00:00</td>\n",
       "        <td style=\"padding-left: 1em; padding-right: 1em; text-align: center; vertical-align: top\">2016-11-01 17:00:00</td>\n",
       "    </tr>\n",
       "</table>\n",
       "[28000 rows x 4 columns]<br/>Note: Only the head of the SFrame is printed.<br/>You can use print_rows(num_rows=m, num_columns=n) to print more rows and columns.\n",
       "</div>"
      ],
      "text/plain": [
       "Columns:\n",
       "\tX1\tint\n",
       "\tshop_id\tint\n",
       "\ttimestamp\tstr\n",
       "\tdate\tstr\n",
       "\n",
       "Rows: 28000\n",
       "\n",
       "Data:\n",
       "+----+---------+---------------------+---------------------+\n",
       "| X1 | shop_id |      timestamp      |         date        |\n",
       "+----+---------+---------------------+---------------------+\n",
       "| 0  |    1    | 2016-11-01 17:00:00 | 2016-11-01 17:00:00 |\n",
       "| 1  |    2    | 2016-11-01 17:00:00 | 2016-11-01 17:00:00 |\n",
       "| 2  |    3    | 2016-11-01 17:00:00 | 2016-11-01 17:00:00 |\n",
       "| 3  |    4    | 2016-11-01 17:00:00 | 2016-11-01 17:00:00 |\n",
       "| 4  |    5    | 2016-11-01 17:00:00 | 2016-11-01 17:00:00 |\n",
       "| 5  |    6    | 2016-11-01 17:00:00 | 2016-11-01 17:00:00 |\n",
       "| 6  |    7    | 2016-11-01 17:00:00 | 2016-11-01 17:00:00 |\n",
       "| 7  |    8    | 2016-11-01 17:00:00 | 2016-11-01 17:00:00 |\n",
       "| 8  |    9    | 2016-11-01 17:00:00 | 2016-11-01 17:00:00 |\n",
       "| 9  |    10   | 2016-11-01 17:00:00 | 2016-11-01 17:00:00 |\n",
       "+----+---------+---------------------+---------------------+\n",
       "[28000 rows x 4 columns]\n",
       "Note: Only the head of the SFrame is printed.\n",
       "You can use print_rows(num_rows=m, num_columns=n) to print more rows and columns."
      ]
     },
     "execution_count": 134,
     "metadata": {},
     "output_type": "execute_result"
    }
   ],
   "source": [
    "shop_gd = gl.SFrame.read_csv('shop_pred.csv')\n",
    "shop_gd"
   ]
  },
  {
   "cell_type": "code",
   "execution_count": 138,
   "metadata": {
    "collapsed": false
   },
   "outputs": [],
   "source": [
    "shop_gd['date'] = shop_gd['timestamp'].str_to_datetime('%Y-%m-%d')"
   ]
  },
  {
   "cell_type": "code",
   "execution_count": 139,
   "metadata": {
    "collapsed": true
   },
   "outputs": [],
   "source": [
    "a = shop_gd['date'].split_datetime(column_name_prefix='date',limit=['day','year', 'month', 'isoweekday'])"
   ]
  },
  {
   "cell_type": "code",
   "execution_count": 141,
   "metadata": {
    "collapsed": false
   },
   "outputs": [
    {
     "data": {
      "text/html": [
       "<div style=\"max-height:1000px;max-width:1500px;overflow:auto;\"><table frame=\"box\" rules=\"cols\">\n",
       "    <tr>\n",
       "        <th style=\"padding-left: 1em; padding-right: 1em; text-align: center\">X1</th>\n",
       "        <th style=\"padding-left: 1em; padding-right: 1em; text-align: center\">shop_id</th>\n",
       "        <th style=\"padding-left: 1em; padding-right: 1em; text-align: center\">timestamp</th>\n",
       "        <th style=\"padding-left: 1em; padding-right: 1em; text-align: center\">date</th>\n",
       "        <th style=\"padding-left: 1em; padding-right: 1em; text-align: center\">date1</th>\n",
       "        <th style=\"padding-left: 1em; padding-right: 1em; text-align: center\">date.day</th>\n",
       "        <th style=\"padding-left: 1em; padding-right: 1em; text-align: center\">date.year</th>\n",
       "        <th style=\"padding-left: 1em; padding-right: 1em; text-align: center\">date.month</th>\n",
       "        <th style=\"padding-left: 1em; padding-right: 1em; text-align: center\">date.isoweekday</th>\n",
       "    </tr>\n",
       "    <tr>\n",
       "        <td style=\"padding-left: 1em; padding-right: 1em; text-align: center; vertical-align: top\">0</td>\n",
       "        <td style=\"padding-left: 1em; padding-right: 1em; text-align: center; vertical-align: top\">1</td>\n",
       "        <td style=\"padding-left: 1em; padding-right: 1em; text-align: center; vertical-align: top\">2016-11-01 17:00:00</td>\n",
       "        <td style=\"padding-left: 1em; padding-right: 1em; text-align: center; vertical-align: top\">2016-11-01 00:00:00</td>\n",
       "        <td style=\"padding-left: 1em; padding-right: 1em; text-align: center; vertical-align: top\">2016-11-01 00:00:00</td>\n",
       "        <td style=\"padding-left: 1em; padding-right: 1em; text-align: center; vertical-align: top\">1</td>\n",
       "        <td style=\"padding-left: 1em; padding-right: 1em; text-align: center; vertical-align: top\">2016</td>\n",
       "        <td style=\"padding-left: 1em; padding-right: 1em; text-align: center; vertical-align: top\">11</td>\n",
       "        <td style=\"padding-left: 1em; padding-right: 1em; text-align: center; vertical-align: top\">2</td>\n",
       "    </tr>\n",
       "    <tr>\n",
       "        <td style=\"padding-left: 1em; padding-right: 1em; text-align: center; vertical-align: top\">1</td>\n",
       "        <td style=\"padding-left: 1em; padding-right: 1em; text-align: center; vertical-align: top\">2</td>\n",
       "        <td style=\"padding-left: 1em; padding-right: 1em; text-align: center; vertical-align: top\">2016-11-01 17:00:00</td>\n",
       "        <td style=\"padding-left: 1em; padding-right: 1em; text-align: center; vertical-align: top\">2016-11-01 00:00:00</td>\n",
       "        <td style=\"padding-left: 1em; padding-right: 1em; text-align: center; vertical-align: top\">2016-11-01 00:00:00</td>\n",
       "        <td style=\"padding-left: 1em; padding-right: 1em; text-align: center; vertical-align: top\">1</td>\n",
       "        <td style=\"padding-left: 1em; padding-right: 1em; text-align: center; vertical-align: top\">2016</td>\n",
       "        <td style=\"padding-left: 1em; padding-right: 1em; text-align: center; vertical-align: top\">11</td>\n",
       "        <td style=\"padding-left: 1em; padding-right: 1em; text-align: center; vertical-align: top\">2</td>\n",
       "    </tr>\n",
       "    <tr>\n",
       "        <td style=\"padding-left: 1em; padding-right: 1em; text-align: center; vertical-align: top\">2</td>\n",
       "        <td style=\"padding-left: 1em; padding-right: 1em; text-align: center; vertical-align: top\">3</td>\n",
       "        <td style=\"padding-left: 1em; padding-right: 1em; text-align: center; vertical-align: top\">2016-11-01 17:00:00</td>\n",
       "        <td style=\"padding-left: 1em; padding-right: 1em; text-align: center; vertical-align: top\">2016-11-01 00:00:00</td>\n",
       "        <td style=\"padding-left: 1em; padding-right: 1em; text-align: center; vertical-align: top\">2016-11-01 00:00:00</td>\n",
       "        <td style=\"padding-left: 1em; padding-right: 1em; text-align: center; vertical-align: top\">1</td>\n",
       "        <td style=\"padding-left: 1em; padding-right: 1em; text-align: center; vertical-align: top\">2016</td>\n",
       "        <td style=\"padding-left: 1em; padding-right: 1em; text-align: center; vertical-align: top\">11</td>\n",
       "        <td style=\"padding-left: 1em; padding-right: 1em; text-align: center; vertical-align: top\">2</td>\n",
       "    </tr>\n",
       "    <tr>\n",
       "        <td style=\"padding-left: 1em; padding-right: 1em; text-align: center; vertical-align: top\">3</td>\n",
       "        <td style=\"padding-left: 1em; padding-right: 1em; text-align: center; vertical-align: top\">4</td>\n",
       "        <td style=\"padding-left: 1em; padding-right: 1em; text-align: center; vertical-align: top\">2016-11-01 17:00:00</td>\n",
       "        <td style=\"padding-left: 1em; padding-right: 1em; text-align: center; vertical-align: top\">2016-11-01 00:00:00</td>\n",
       "        <td style=\"padding-left: 1em; padding-right: 1em; text-align: center; vertical-align: top\">2016-11-01 00:00:00</td>\n",
       "        <td style=\"padding-left: 1em; padding-right: 1em; text-align: center; vertical-align: top\">1</td>\n",
       "        <td style=\"padding-left: 1em; padding-right: 1em; text-align: center; vertical-align: top\">2016</td>\n",
       "        <td style=\"padding-left: 1em; padding-right: 1em; text-align: center; vertical-align: top\">11</td>\n",
       "        <td style=\"padding-left: 1em; padding-right: 1em; text-align: center; vertical-align: top\">2</td>\n",
       "    </tr>\n",
       "    <tr>\n",
       "        <td style=\"padding-left: 1em; padding-right: 1em; text-align: center; vertical-align: top\">4</td>\n",
       "        <td style=\"padding-left: 1em; padding-right: 1em; text-align: center; vertical-align: top\">5</td>\n",
       "        <td style=\"padding-left: 1em; padding-right: 1em; text-align: center; vertical-align: top\">2016-11-01 17:00:00</td>\n",
       "        <td style=\"padding-left: 1em; padding-right: 1em; text-align: center; vertical-align: top\">2016-11-01 00:00:00</td>\n",
       "        <td style=\"padding-left: 1em; padding-right: 1em; text-align: center; vertical-align: top\">2016-11-01 00:00:00</td>\n",
       "        <td style=\"padding-left: 1em; padding-right: 1em; text-align: center; vertical-align: top\">1</td>\n",
       "        <td style=\"padding-left: 1em; padding-right: 1em; text-align: center; vertical-align: top\">2016</td>\n",
       "        <td style=\"padding-left: 1em; padding-right: 1em; text-align: center; vertical-align: top\">11</td>\n",
       "        <td style=\"padding-left: 1em; padding-right: 1em; text-align: center; vertical-align: top\">2</td>\n",
       "    </tr>\n",
       "    <tr>\n",
       "        <td style=\"padding-left: 1em; padding-right: 1em; text-align: center; vertical-align: top\">5</td>\n",
       "        <td style=\"padding-left: 1em; padding-right: 1em; text-align: center; vertical-align: top\">6</td>\n",
       "        <td style=\"padding-left: 1em; padding-right: 1em; text-align: center; vertical-align: top\">2016-11-01 17:00:00</td>\n",
       "        <td style=\"padding-left: 1em; padding-right: 1em; text-align: center; vertical-align: top\">2016-11-01 00:00:00</td>\n",
       "        <td style=\"padding-left: 1em; padding-right: 1em; text-align: center; vertical-align: top\">2016-11-01 00:00:00</td>\n",
       "        <td style=\"padding-left: 1em; padding-right: 1em; text-align: center; vertical-align: top\">1</td>\n",
       "        <td style=\"padding-left: 1em; padding-right: 1em; text-align: center; vertical-align: top\">2016</td>\n",
       "        <td style=\"padding-left: 1em; padding-right: 1em; text-align: center; vertical-align: top\">11</td>\n",
       "        <td style=\"padding-left: 1em; padding-right: 1em; text-align: center; vertical-align: top\">2</td>\n",
       "    </tr>\n",
       "    <tr>\n",
       "        <td style=\"padding-left: 1em; padding-right: 1em; text-align: center; vertical-align: top\">6</td>\n",
       "        <td style=\"padding-left: 1em; padding-right: 1em; text-align: center; vertical-align: top\">7</td>\n",
       "        <td style=\"padding-left: 1em; padding-right: 1em; text-align: center; vertical-align: top\">2016-11-01 17:00:00</td>\n",
       "        <td style=\"padding-left: 1em; padding-right: 1em; text-align: center; vertical-align: top\">2016-11-01 00:00:00</td>\n",
       "        <td style=\"padding-left: 1em; padding-right: 1em; text-align: center; vertical-align: top\">2016-11-01 00:00:00</td>\n",
       "        <td style=\"padding-left: 1em; padding-right: 1em; text-align: center; vertical-align: top\">1</td>\n",
       "        <td style=\"padding-left: 1em; padding-right: 1em; text-align: center; vertical-align: top\">2016</td>\n",
       "        <td style=\"padding-left: 1em; padding-right: 1em; text-align: center; vertical-align: top\">11</td>\n",
       "        <td style=\"padding-left: 1em; padding-right: 1em; text-align: center; vertical-align: top\">2</td>\n",
       "    </tr>\n",
       "    <tr>\n",
       "        <td style=\"padding-left: 1em; padding-right: 1em; text-align: center; vertical-align: top\">7</td>\n",
       "        <td style=\"padding-left: 1em; padding-right: 1em; text-align: center; vertical-align: top\">8</td>\n",
       "        <td style=\"padding-left: 1em; padding-right: 1em; text-align: center; vertical-align: top\">2016-11-01 17:00:00</td>\n",
       "        <td style=\"padding-left: 1em; padding-right: 1em; text-align: center; vertical-align: top\">2016-11-01 00:00:00</td>\n",
       "        <td style=\"padding-left: 1em; padding-right: 1em; text-align: center; vertical-align: top\">2016-11-01 00:00:00</td>\n",
       "        <td style=\"padding-left: 1em; padding-right: 1em; text-align: center; vertical-align: top\">1</td>\n",
       "        <td style=\"padding-left: 1em; padding-right: 1em; text-align: center; vertical-align: top\">2016</td>\n",
       "        <td style=\"padding-left: 1em; padding-right: 1em; text-align: center; vertical-align: top\">11</td>\n",
       "        <td style=\"padding-left: 1em; padding-right: 1em; text-align: center; vertical-align: top\">2</td>\n",
       "    </tr>\n",
       "    <tr>\n",
       "        <td style=\"padding-left: 1em; padding-right: 1em; text-align: center; vertical-align: top\">8</td>\n",
       "        <td style=\"padding-left: 1em; padding-right: 1em; text-align: center; vertical-align: top\">9</td>\n",
       "        <td style=\"padding-left: 1em; padding-right: 1em; text-align: center; vertical-align: top\">2016-11-01 17:00:00</td>\n",
       "        <td style=\"padding-left: 1em; padding-right: 1em; text-align: center; vertical-align: top\">2016-11-01 00:00:00</td>\n",
       "        <td style=\"padding-left: 1em; padding-right: 1em; text-align: center; vertical-align: top\">2016-11-01 00:00:00</td>\n",
       "        <td style=\"padding-left: 1em; padding-right: 1em; text-align: center; vertical-align: top\">1</td>\n",
       "        <td style=\"padding-left: 1em; padding-right: 1em; text-align: center; vertical-align: top\">2016</td>\n",
       "        <td style=\"padding-left: 1em; padding-right: 1em; text-align: center; vertical-align: top\">11</td>\n",
       "        <td style=\"padding-left: 1em; padding-right: 1em; text-align: center; vertical-align: top\">2</td>\n",
       "    </tr>\n",
       "    <tr>\n",
       "        <td style=\"padding-left: 1em; padding-right: 1em; text-align: center; vertical-align: top\">9</td>\n",
       "        <td style=\"padding-left: 1em; padding-right: 1em; text-align: center; vertical-align: top\">10</td>\n",
       "        <td style=\"padding-left: 1em; padding-right: 1em; text-align: center; vertical-align: top\">2016-11-01 17:00:00</td>\n",
       "        <td style=\"padding-left: 1em; padding-right: 1em; text-align: center; vertical-align: top\">2016-11-01 00:00:00</td>\n",
       "        <td style=\"padding-left: 1em; padding-right: 1em; text-align: center; vertical-align: top\">2016-11-01 00:00:00</td>\n",
       "        <td style=\"padding-left: 1em; padding-right: 1em; text-align: center; vertical-align: top\">1</td>\n",
       "        <td style=\"padding-left: 1em; padding-right: 1em; text-align: center; vertical-align: top\">2016</td>\n",
       "        <td style=\"padding-left: 1em; padding-right: 1em; text-align: center; vertical-align: top\">11</td>\n",
       "        <td style=\"padding-left: 1em; padding-right: 1em; text-align: center; vertical-align: top\">2</td>\n",
       "    </tr>\n",
       "</table>\n",
       "[28000 rows x 9 columns]<br/>Note: Only the head of the SFrame is printed.<br/>You can use print_rows(num_rows=m, num_columns=n) to print more rows and columns.\n",
       "</div>"
      ],
      "text/plain": [
       "Columns:\n",
       "\tX1\tint\n",
       "\tshop_id\tint\n",
       "\ttimestamp\tstr\n",
       "\tdate\tdatetime\n",
       "\tdate1\tdatetime\n",
       "\tdate.day\tint\n",
       "\tdate.year\tint\n",
       "\tdate.month\tint\n",
       "\tdate.isoweekday\tint\n",
       "\n",
       "Rows: 28000\n",
       "\n",
       "Data:\n",
       "+----+---------+---------------------+---------------------+---------------------+\n",
       "| X1 | shop_id |      timestamp      |         date        |        date1        |\n",
       "+----+---------+---------------------+---------------------+---------------------+\n",
       "| 0  |    1    | 2016-11-01 17:00:00 | 2016-11-01 00:00:00 | 2016-11-01 00:00:00 |\n",
       "| 1  |    2    | 2016-11-01 17:00:00 | 2016-11-01 00:00:00 | 2016-11-01 00:00:00 |\n",
       "| 2  |    3    | 2016-11-01 17:00:00 | 2016-11-01 00:00:00 | 2016-11-01 00:00:00 |\n",
       "| 3  |    4    | 2016-11-01 17:00:00 | 2016-11-01 00:00:00 | 2016-11-01 00:00:00 |\n",
       "| 4  |    5    | 2016-11-01 17:00:00 | 2016-11-01 00:00:00 | 2016-11-01 00:00:00 |\n",
       "| 5  |    6    | 2016-11-01 17:00:00 | 2016-11-01 00:00:00 | 2016-11-01 00:00:00 |\n",
       "| 6  |    7    | 2016-11-01 17:00:00 | 2016-11-01 00:00:00 | 2016-11-01 00:00:00 |\n",
       "| 7  |    8    | 2016-11-01 17:00:00 | 2016-11-01 00:00:00 | 2016-11-01 00:00:00 |\n",
       "| 8  |    9    | 2016-11-01 17:00:00 | 2016-11-01 00:00:00 | 2016-11-01 00:00:00 |\n",
       "| 9  |    10   | 2016-11-01 17:00:00 | 2016-11-01 00:00:00 | 2016-11-01 00:00:00 |\n",
       "+----+---------+---------------------+---------------------+---------------------+\n",
       "+----------+-----------+------------+-----------------+\n",
       "| date.day | date.year | date.month | date.isoweekday |\n",
       "+----------+-----------+------------+-----------------+\n",
       "|    1     |    2016   |     11     |        2        |\n",
       "|    1     |    2016   |     11     |        2        |\n",
       "|    1     |    2016   |     11     |        2        |\n",
       "|    1     |    2016   |     11     |        2        |\n",
       "|    1     |    2016   |     11     |        2        |\n",
       "|    1     |    2016   |     11     |        2        |\n",
       "|    1     |    2016   |     11     |        2        |\n",
       "|    1     |    2016   |     11     |        2        |\n",
       "|    1     |    2016   |     11     |        2        |\n",
       "|    1     |    2016   |     11     |        2        |\n",
       "+----------+-----------+------------+-----------------+\n",
       "[28000 rows x 9 columns]\n",
       "Note: Only the head of the SFrame is printed.\n",
       "You can use print_rows(num_rows=m, num_columns=n) to print more rows and columns."
      ]
     },
     "execution_count": 141,
     "metadata": {},
     "output_type": "execute_result"
    }
   ],
   "source": [
    "shop_gd.add_columns(a)"
   ]
  },
  {
   "cell_type": "code",
   "execution_count": 143,
   "metadata": {
    "collapsed": false
   },
   "outputs": [
    {
     "data": {
      "text/html": [
       "<div style=\"max-height:1000px;max-width:1500px;overflow:auto;\"><table frame=\"box\" rules=\"cols\">\n",
       "    <tr>\n",
       "        <th style=\"padding-left: 1em; padding-right: 1em; text-align: center\">X1</th>\n",
       "        <th style=\"padding-left: 1em; padding-right: 1em; text-align: center\">shop_id</th>\n",
       "        <th style=\"padding-left: 1em; padding-right: 1em; text-align: center\">date.day</th>\n",
       "        <th style=\"padding-left: 1em; padding-right: 1em; text-align: center\">date.year</th>\n",
       "        <th style=\"padding-left: 1em; padding-right: 1em; text-align: center\">date.month</th>\n",
       "        <th style=\"padding-left: 1em; padding-right: 1em; text-align: center\">date.isoweekday</th>\n",
       "    </tr>\n",
       "    <tr>\n",
       "        <td style=\"padding-left: 1em; padding-right: 1em; text-align: center; vertical-align: top\">0</td>\n",
       "        <td style=\"padding-left: 1em; padding-right: 1em; text-align: center; vertical-align: top\">1</td>\n",
       "        <td style=\"padding-left: 1em; padding-right: 1em; text-align: center; vertical-align: top\">1</td>\n",
       "        <td style=\"padding-left: 1em; padding-right: 1em; text-align: center; vertical-align: top\">2016</td>\n",
       "        <td style=\"padding-left: 1em; padding-right: 1em; text-align: center; vertical-align: top\">11</td>\n",
       "        <td style=\"padding-left: 1em; padding-right: 1em; text-align: center; vertical-align: top\">2</td>\n",
       "    </tr>\n",
       "    <tr>\n",
       "        <td style=\"padding-left: 1em; padding-right: 1em; text-align: center; vertical-align: top\">1</td>\n",
       "        <td style=\"padding-left: 1em; padding-right: 1em; text-align: center; vertical-align: top\">2</td>\n",
       "        <td style=\"padding-left: 1em; padding-right: 1em; text-align: center; vertical-align: top\">1</td>\n",
       "        <td style=\"padding-left: 1em; padding-right: 1em; text-align: center; vertical-align: top\">2016</td>\n",
       "        <td style=\"padding-left: 1em; padding-right: 1em; text-align: center; vertical-align: top\">11</td>\n",
       "        <td style=\"padding-left: 1em; padding-right: 1em; text-align: center; vertical-align: top\">2</td>\n",
       "    </tr>\n",
       "    <tr>\n",
       "        <td style=\"padding-left: 1em; padding-right: 1em; text-align: center; vertical-align: top\">2</td>\n",
       "        <td style=\"padding-left: 1em; padding-right: 1em; text-align: center; vertical-align: top\">3</td>\n",
       "        <td style=\"padding-left: 1em; padding-right: 1em; text-align: center; vertical-align: top\">1</td>\n",
       "        <td style=\"padding-left: 1em; padding-right: 1em; text-align: center; vertical-align: top\">2016</td>\n",
       "        <td style=\"padding-left: 1em; padding-right: 1em; text-align: center; vertical-align: top\">11</td>\n",
       "        <td style=\"padding-left: 1em; padding-right: 1em; text-align: center; vertical-align: top\">2</td>\n",
       "    </tr>\n",
       "    <tr>\n",
       "        <td style=\"padding-left: 1em; padding-right: 1em; text-align: center; vertical-align: top\">3</td>\n",
       "        <td style=\"padding-left: 1em; padding-right: 1em; text-align: center; vertical-align: top\">4</td>\n",
       "        <td style=\"padding-left: 1em; padding-right: 1em; text-align: center; vertical-align: top\">1</td>\n",
       "        <td style=\"padding-left: 1em; padding-right: 1em; text-align: center; vertical-align: top\">2016</td>\n",
       "        <td style=\"padding-left: 1em; padding-right: 1em; text-align: center; vertical-align: top\">11</td>\n",
       "        <td style=\"padding-left: 1em; padding-right: 1em; text-align: center; vertical-align: top\">2</td>\n",
       "    </tr>\n",
       "    <tr>\n",
       "        <td style=\"padding-left: 1em; padding-right: 1em; text-align: center; vertical-align: top\">4</td>\n",
       "        <td style=\"padding-left: 1em; padding-right: 1em; text-align: center; vertical-align: top\">5</td>\n",
       "        <td style=\"padding-left: 1em; padding-right: 1em; text-align: center; vertical-align: top\">1</td>\n",
       "        <td style=\"padding-left: 1em; padding-right: 1em; text-align: center; vertical-align: top\">2016</td>\n",
       "        <td style=\"padding-left: 1em; padding-right: 1em; text-align: center; vertical-align: top\">11</td>\n",
       "        <td style=\"padding-left: 1em; padding-right: 1em; text-align: center; vertical-align: top\">2</td>\n",
       "    </tr>\n",
       "    <tr>\n",
       "        <td style=\"padding-left: 1em; padding-right: 1em; text-align: center; vertical-align: top\">5</td>\n",
       "        <td style=\"padding-left: 1em; padding-right: 1em; text-align: center; vertical-align: top\">6</td>\n",
       "        <td style=\"padding-left: 1em; padding-right: 1em; text-align: center; vertical-align: top\">1</td>\n",
       "        <td style=\"padding-left: 1em; padding-right: 1em; text-align: center; vertical-align: top\">2016</td>\n",
       "        <td style=\"padding-left: 1em; padding-right: 1em; text-align: center; vertical-align: top\">11</td>\n",
       "        <td style=\"padding-left: 1em; padding-right: 1em; text-align: center; vertical-align: top\">2</td>\n",
       "    </tr>\n",
       "    <tr>\n",
       "        <td style=\"padding-left: 1em; padding-right: 1em; text-align: center; vertical-align: top\">6</td>\n",
       "        <td style=\"padding-left: 1em; padding-right: 1em; text-align: center; vertical-align: top\">7</td>\n",
       "        <td style=\"padding-left: 1em; padding-right: 1em; text-align: center; vertical-align: top\">1</td>\n",
       "        <td style=\"padding-left: 1em; padding-right: 1em; text-align: center; vertical-align: top\">2016</td>\n",
       "        <td style=\"padding-left: 1em; padding-right: 1em; text-align: center; vertical-align: top\">11</td>\n",
       "        <td style=\"padding-left: 1em; padding-right: 1em; text-align: center; vertical-align: top\">2</td>\n",
       "    </tr>\n",
       "    <tr>\n",
       "        <td style=\"padding-left: 1em; padding-right: 1em; text-align: center; vertical-align: top\">7</td>\n",
       "        <td style=\"padding-left: 1em; padding-right: 1em; text-align: center; vertical-align: top\">8</td>\n",
       "        <td style=\"padding-left: 1em; padding-right: 1em; text-align: center; vertical-align: top\">1</td>\n",
       "        <td style=\"padding-left: 1em; padding-right: 1em; text-align: center; vertical-align: top\">2016</td>\n",
       "        <td style=\"padding-left: 1em; padding-right: 1em; text-align: center; vertical-align: top\">11</td>\n",
       "        <td style=\"padding-left: 1em; padding-right: 1em; text-align: center; vertical-align: top\">2</td>\n",
       "    </tr>\n",
       "    <tr>\n",
       "        <td style=\"padding-left: 1em; padding-right: 1em; text-align: center; vertical-align: top\">8</td>\n",
       "        <td style=\"padding-left: 1em; padding-right: 1em; text-align: center; vertical-align: top\">9</td>\n",
       "        <td style=\"padding-left: 1em; padding-right: 1em; text-align: center; vertical-align: top\">1</td>\n",
       "        <td style=\"padding-left: 1em; padding-right: 1em; text-align: center; vertical-align: top\">2016</td>\n",
       "        <td style=\"padding-left: 1em; padding-right: 1em; text-align: center; vertical-align: top\">11</td>\n",
       "        <td style=\"padding-left: 1em; padding-right: 1em; text-align: center; vertical-align: top\">2</td>\n",
       "    </tr>\n",
       "    <tr>\n",
       "        <td style=\"padding-left: 1em; padding-right: 1em; text-align: center; vertical-align: top\">9</td>\n",
       "        <td style=\"padding-left: 1em; padding-right: 1em; text-align: center; vertical-align: top\">10</td>\n",
       "        <td style=\"padding-left: 1em; padding-right: 1em; text-align: center; vertical-align: top\">1</td>\n",
       "        <td style=\"padding-left: 1em; padding-right: 1em; text-align: center; vertical-align: top\">2016</td>\n",
       "        <td style=\"padding-left: 1em; padding-right: 1em; text-align: center; vertical-align: top\">11</td>\n",
       "        <td style=\"padding-left: 1em; padding-right: 1em; text-align: center; vertical-align: top\">2</td>\n",
       "    </tr>\n",
       "</table>\n",
       "[28000 rows x 6 columns]<br/>Note: Only the head of the SFrame is printed.<br/>You can use print_rows(num_rows=m, num_columns=n) to print more rows and columns.\n",
       "</div>"
      ],
      "text/plain": [
       "Columns:\n",
       "\tX1\tint\n",
       "\tshop_id\tint\n",
       "\tdate.day\tint\n",
       "\tdate.year\tint\n",
       "\tdate.month\tint\n",
       "\tdate.isoweekday\tint\n",
       "\n",
       "Rows: 28000\n",
       "\n",
       "Data:\n",
       "+----+---------+----------+-----------+------------+-----------------+\n",
       "| X1 | shop_id | date.day | date.year | date.month | date.isoweekday |\n",
       "+----+---------+----------+-----------+------------+-----------------+\n",
       "| 0  |    1    |    1     |    2016   |     11     |        2        |\n",
       "| 1  |    2    |    1     |    2016   |     11     |        2        |\n",
       "| 2  |    3    |    1     |    2016   |     11     |        2        |\n",
       "| 3  |    4    |    1     |    2016   |     11     |        2        |\n",
       "| 4  |    5    |    1     |    2016   |     11     |        2        |\n",
       "| 5  |    6    |    1     |    2016   |     11     |        2        |\n",
       "| 6  |    7    |    1     |    2016   |     11     |        2        |\n",
       "| 7  |    8    |    1     |    2016   |     11     |        2        |\n",
       "| 8  |    9    |    1     |    2016   |     11     |        2        |\n",
       "| 9  |    10   |    1     |    2016   |     11     |        2        |\n",
       "+----+---------+----------+-----------+------------+-----------------+\n",
       "[28000 rows x 6 columns]\n",
       "Note: Only the head of the SFrame is printed.\n",
       "You can use print_rows(num_rows=m, num_columns=n) to print more rows and columns."
      ]
     },
     "execution_count": 143,
     "metadata": {},
     "output_type": "execute_result"
    }
   ],
   "source": [
    "shop_gd.remove_columns(['timestamp', 'date','date1'])"
   ]
  },
  {
   "cell_type": "code",
   "execution_count": 144,
   "metadata": {
    "collapsed": false
   },
   "outputs": [
    {
     "data": {
      "text/html": [
       "<div style=\"max-height:1000px;max-width:1500px;overflow:auto;\"><table frame=\"box\" rules=\"cols\">\n",
       "    <tr>\n",
       "        <th style=\"padding-left: 1em; padding-right: 1em; text-align: center\">shop_id</th>\n",
       "        <th style=\"padding-left: 1em; padding-right: 1em; text-align: center\">date.day</th>\n",
       "        <th style=\"padding-left: 1em; padding-right: 1em; text-align: center\">date.year</th>\n",
       "        <th style=\"padding-left: 1em; padding-right: 1em; text-align: center\">date.month</th>\n",
       "        <th style=\"padding-left: 1em; padding-right: 1em; text-align: center\">date.isoweekday</th>\n",
       "    </tr>\n",
       "    <tr>\n",
       "        <td style=\"padding-left: 1em; padding-right: 1em; text-align: center; vertical-align: top\">1</td>\n",
       "        <td style=\"padding-left: 1em; padding-right: 1em; text-align: center; vertical-align: top\">1</td>\n",
       "        <td style=\"padding-left: 1em; padding-right: 1em; text-align: center; vertical-align: top\">2016</td>\n",
       "        <td style=\"padding-left: 1em; padding-right: 1em; text-align: center; vertical-align: top\">11</td>\n",
       "        <td style=\"padding-left: 1em; padding-right: 1em; text-align: center; vertical-align: top\">2</td>\n",
       "    </tr>\n",
       "    <tr>\n",
       "        <td style=\"padding-left: 1em; padding-right: 1em; text-align: center; vertical-align: top\">2</td>\n",
       "        <td style=\"padding-left: 1em; padding-right: 1em; text-align: center; vertical-align: top\">1</td>\n",
       "        <td style=\"padding-left: 1em; padding-right: 1em; text-align: center; vertical-align: top\">2016</td>\n",
       "        <td style=\"padding-left: 1em; padding-right: 1em; text-align: center; vertical-align: top\">11</td>\n",
       "        <td style=\"padding-left: 1em; padding-right: 1em; text-align: center; vertical-align: top\">2</td>\n",
       "    </tr>\n",
       "    <tr>\n",
       "        <td style=\"padding-left: 1em; padding-right: 1em; text-align: center; vertical-align: top\">3</td>\n",
       "        <td style=\"padding-left: 1em; padding-right: 1em; text-align: center; vertical-align: top\">1</td>\n",
       "        <td style=\"padding-left: 1em; padding-right: 1em; text-align: center; vertical-align: top\">2016</td>\n",
       "        <td style=\"padding-left: 1em; padding-right: 1em; text-align: center; vertical-align: top\">11</td>\n",
       "        <td style=\"padding-left: 1em; padding-right: 1em; text-align: center; vertical-align: top\">2</td>\n",
       "    </tr>\n",
       "    <tr>\n",
       "        <td style=\"padding-left: 1em; padding-right: 1em; text-align: center; vertical-align: top\">4</td>\n",
       "        <td style=\"padding-left: 1em; padding-right: 1em; text-align: center; vertical-align: top\">1</td>\n",
       "        <td style=\"padding-left: 1em; padding-right: 1em; text-align: center; vertical-align: top\">2016</td>\n",
       "        <td style=\"padding-left: 1em; padding-right: 1em; text-align: center; vertical-align: top\">11</td>\n",
       "        <td style=\"padding-left: 1em; padding-right: 1em; text-align: center; vertical-align: top\">2</td>\n",
       "    </tr>\n",
       "    <tr>\n",
       "        <td style=\"padding-left: 1em; padding-right: 1em; text-align: center; vertical-align: top\">5</td>\n",
       "        <td style=\"padding-left: 1em; padding-right: 1em; text-align: center; vertical-align: top\">1</td>\n",
       "        <td style=\"padding-left: 1em; padding-right: 1em; text-align: center; vertical-align: top\">2016</td>\n",
       "        <td style=\"padding-left: 1em; padding-right: 1em; text-align: center; vertical-align: top\">11</td>\n",
       "        <td style=\"padding-left: 1em; padding-right: 1em; text-align: center; vertical-align: top\">2</td>\n",
       "    </tr>\n",
       "    <tr>\n",
       "        <td style=\"padding-left: 1em; padding-right: 1em; text-align: center; vertical-align: top\">6</td>\n",
       "        <td style=\"padding-left: 1em; padding-right: 1em; text-align: center; vertical-align: top\">1</td>\n",
       "        <td style=\"padding-left: 1em; padding-right: 1em; text-align: center; vertical-align: top\">2016</td>\n",
       "        <td style=\"padding-left: 1em; padding-right: 1em; text-align: center; vertical-align: top\">11</td>\n",
       "        <td style=\"padding-left: 1em; padding-right: 1em; text-align: center; vertical-align: top\">2</td>\n",
       "    </tr>\n",
       "    <tr>\n",
       "        <td style=\"padding-left: 1em; padding-right: 1em; text-align: center; vertical-align: top\">7</td>\n",
       "        <td style=\"padding-left: 1em; padding-right: 1em; text-align: center; vertical-align: top\">1</td>\n",
       "        <td style=\"padding-left: 1em; padding-right: 1em; text-align: center; vertical-align: top\">2016</td>\n",
       "        <td style=\"padding-left: 1em; padding-right: 1em; text-align: center; vertical-align: top\">11</td>\n",
       "        <td style=\"padding-left: 1em; padding-right: 1em; text-align: center; vertical-align: top\">2</td>\n",
       "    </tr>\n",
       "    <tr>\n",
       "        <td style=\"padding-left: 1em; padding-right: 1em; text-align: center; vertical-align: top\">8</td>\n",
       "        <td style=\"padding-left: 1em; padding-right: 1em; text-align: center; vertical-align: top\">1</td>\n",
       "        <td style=\"padding-left: 1em; padding-right: 1em; text-align: center; vertical-align: top\">2016</td>\n",
       "        <td style=\"padding-left: 1em; padding-right: 1em; text-align: center; vertical-align: top\">11</td>\n",
       "        <td style=\"padding-left: 1em; padding-right: 1em; text-align: center; vertical-align: top\">2</td>\n",
       "    </tr>\n",
       "    <tr>\n",
       "        <td style=\"padding-left: 1em; padding-right: 1em; text-align: center; vertical-align: top\">9</td>\n",
       "        <td style=\"padding-left: 1em; padding-right: 1em; text-align: center; vertical-align: top\">1</td>\n",
       "        <td style=\"padding-left: 1em; padding-right: 1em; text-align: center; vertical-align: top\">2016</td>\n",
       "        <td style=\"padding-left: 1em; padding-right: 1em; text-align: center; vertical-align: top\">11</td>\n",
       "        <td style=\"padding-left: 1em; padding-right: 1em; text-align: center; vertical-align: top\">2</td>\n",
       "    </tr>\n",
       "    <tr>\n",
       "        <td style=\"padding-left: 1em; padding-right: 1em; text-align: center; vertical-align: top\">10</td>\n",
       "        <td style=\"padding-left: 1em; padding-right: 1em; text-align: center; vertical-align: top\">1</td>\n",
       "        <td style=\"padding-left: 1em; padding-right: 1em; text-align: center; vertical-align: top\">2016</td>\n",
       "        <td style=\"padding-left: 1em; padding-right: 1em; text-align: center; vertical-align: top\">11</td>\n",
       "        <td style=\"padding-left: 1em; padding-right: 1em; text-align: center; vertical-align: top\">2</td>\n",
       "    </tr>\n",
       "</table>\n",
       "[28000 rows x 5 columns]<br/>Note: Only the head of the SFrame is printed.<br/>You can use print_rows(num_rows=m, num_columns=n) to print more rows and columns.\n",
       "</div>"
      ],
      "text/plain": [
       "Columns:\n",
       "\tshop_id\tint\n",
       "\tdate.day\tint\n",
       "\tdate.year\tint\n",
       "\tdate.month\tint\n",
       "\tdate.isoweekday\tint\n",
       "\n",
       "Rows: 28000\n",
       "\n",
       "Data:\n",
       "+---------+----------+-----------+------------+-----------------+\n",
       "| shop_id | date.day | date.year | date.month | date.isoweekday |\n",
       "+---------+----------+-----------+------------+-----------------+\n",
       "|    1    |    1     |    2016   |     11     |        2        |\n",
       "|    2    |    1     |    2016   |     11     |        2        |\n",
       "|    3    |    1     |    2016   |     11     |        2        |\n",
       "|    4    |    1     |    2016   |     11     |        2        |\n",
       "|    5    |    1     |    2016   |     11     |        2        |\n",
       "|    6    |    1     |    2016   |     11     |        2        |\n",
       "|    7    |    1     |    2016   |     11     |        2        |\n",
       "|    8    |    1     |    2016   |     11     |        2        |\n",
       "|    9    |    1     |    2016   |     11     |        2        |\n",
       "|    10   |    1     |    2016   |     11     |        2        |\n",
       "+---------+----------+-----------+------------+-----------------+\n",
       "[28000 rows x 5 columns]\n",
       "Note: Only the head of the SFrame is printed.\n",
       "You can use print_rows(num_rows=m, num_columns=n) to print more rows and columns."
      ]
     },
     "execution_count": 144,
     "metadata": {},
     "output_type": "execute_result"
    }
   ],
   "source": [
    "shop_gd.remove_columns(['X1'])"
   ]
  },
  {
   "cell_type": "code",
   "execution_count": 145,
   "metadata": {
    "collapsed": true
   },
   "outputs": [],
   "source": [
    "shop_gd.save('shop_gd.csv', format = 'csv')"
   ]
  },
  {
   "cell_type": "code",
   "execution_count": 169,
   "metadata": {
    "collapsed": false
   },
   "outputs": [
    {
     "data": {
      "text/html": [
       "<div>\n",
       "<table border=\"1\" class=\"dataframe\">\n",
       "  <thead>\n",
       "    <tr style=\"text-align: right;\">\n",
       "      <th></th>\n",
       "      <th>shop_id</th>\n",
       "      <th>date.day</th>\n",
       "      <th>date.year</th>\n",
       "      <th>date.month</th>\n",
       "      <th>date.isoweekday</th>\n",
       "    </tr>\n",
       "  </thead>\n",
       "  <tbody>\n",
       "    <tr>\n",
       "      <th>0</th>\n",
       "      <td>1</td>\n",
       "      <td>1</td>\n",
       "      <td>2016</td>\n",
       "      <td>11</td>\n",
       "      <td>2</td>\n",
       "    </tr>\n",
       "    <tr>\n",
       "      <th>1</th>\n",
       "      <td>2</td>\n",
       "      <td>1</td>\n",
       "      <td>2016</td>\n",
       "      <td>11</td>\n",
       "      <td>2</td>\n",
       "    </tr>\n",
       "    <tr>\n",
       "      <th>2</th>\n",
       "      <td>3</td>\n",
       "      <td>1</td>\n",
       "      <td>2016</td>\n",
       "      <td>11</td>\n",
       "      <td>2</td>\n",
       "    </tr>\n",
       "    <tr>\n",
       "      <th>3</th>\n",
       "      <td>4</td>\n",
       "      <td>1</td>\n",
       "      <td>2016</td>\n",
       "      <td>11</td>\n",
       "      <td>2</td>\n",
       "    </tr>\n",
       "    <tr>\n",
       "      <th>4</th>\n",
       "      <td>5</td>\n",
       "      <td>1</td>\n",
       "      <td>2016</td>\n",
       "      <td>11</td>\n",
       "      <td>2</td>\n",
       "    </tr>\n",
       "  </tbody>\n",
       "</table>\n",
       "</div>"
      ],
      "text/plain": [
       "   shop_id  date.day  date.year  date.month  date.isoweekday\n",
       "0        1         1       2016          11                2\n",
       "1        2         1       2016          11                2\n",
       "2        3         1       2016          11                2\n",
       "3        4         1       2016          11                2\n",
       "4        5         1       2016          11                2"
      ]
     },
     "execution_count": 169,
     "metadata": {},
     "output_type": "execute_result"
    }
   ],
   "source": [
    "shop_finalp = pd.read_csv('shop_gd.csv')\n",
    "shop_finalp.head()"
   ]
  },
  {
   "cell_type": "code",
   "execution_count": 170,
   "metadata": {
    "collapsed": false
   },
   "outputs": [],
   "source": [
    "pred = pd.merge(shop_finalp, shop_pd, how='left', on='shop_id')"
   ]
  },
  {
   "cell_type": "code",
   "execution_count": 171,
   "metadata": {
    "collapsed": false
   },
   "outputs": [],
   "source": [
    "pred.drop(['location_id', 'comment_cnt', 'score', 'cate_3_name'], axis=1, inplace=True)"
   ]
  },
  {
   "cell_type": "code",
   "execution_count": 172,
   "metadata": {
    "collapsed": true
   },
   "outputs": [],
   "source": [
    "dummy_fields = ['date.day', 'date.isoweekday', 'date.month','date.year', \n",
    "                'city_name','per_pay','shop_level','cate_1_name','cate_2_name']\n",
    "#'date.day', 'date.isoweekday', 'date.month', \n",
    "for each in dummy_fields:\n",
    "    dummies = pd.get_dummies(pred[each], prefix=each)\n",
    "    pred = pd.concat([pred, dummies], axis=1)"
   ]
  },
  {
   "cell_type": "code",
   "execution_count": 173,
   "metadata": {
    "collapsed": false
   },
   "outputs": [],
   "source": [
    "pred.drop(dummy_fields, axis=1, inplace=True)"
   ]
  },
  {
   "cell_type": "code",
   "execution_count": 174,
   "metadata": {
    "collapsed": false
   },
   "outputs": [
    {
     "name": "stdout",
     "output_type": "stream",
     "text": [
      "shop_id\n",
      "date.day_1\n",
      "date.day_2\n",
      "date.day_3\n",
      "date.day_4\n",
      "date.day_5\n",
      "date.day_6\n",
      "date.day_7\n",
      "date.day_8\n",
      "date.day_9\n",
      "date.day_10\n",
      "date.day_11\n",
      "date.day_12\n",
      "date.day_13\n",
      "date.day_14\n",
      "date.isoweekday_1\n",
      "date.isoweekday_2\n",
      "date.isoweekday_3\n",
      "date.isoweekday_4\n",
      "date.isoweekday_5\n",
      "date.isoweekday_6\n",
      "date.isoweekday_7\n",
      "date.month_11\n",
      "date.year_2016\n",
      "city_name_三亚\n",
      "city_name_三明\n",
      "city_name_上海\n",
      "city_name_上饶\n",
      "city_name_东莞\n",
      "city_name_东营\n",
      "city_name_中山\n",
      "city_name_丽水\n",
      "city_name_乐山\n",
      "city_name_佛山\n",
      "city_name_保定\n",
      "city_name_信阳\n",
      "city_name_六安\n",
      "city_name_北京\n",
      "city_name_十堰\n",
      "city_name_南京\n",
      "city_name_南宁\n",
      "city_name_南平\n",
      "city_name_南昌\n",
      "city_name_南通\n",
      "city_name_厦门\n",
      "city_name_台州\n",
      "city_name_合肥\n",
      "city_name_咸宁\n",
      "city_name_咸阳\n",
      "city_name_哈尔滨\n",
      "city_name_嘉兴\n",
      "city_name_大连\n",
      "city_name_天津\n",
      "city_name_天门\n",
      "city_name_太原\n",
      "city_name_威海\n",
      "city_name_孝感\n",
      "city_name_宁德\n",
      "city_name_宁波\n",
      "city_name_安康\n",
      "city_name_宜昌\n",
      "city_name_宝鸡\n",
      "city_name_宿迁\n",
      "city_name_常州\n",
      "city_name_广州\n",
      "city_name_廊坊\n",
      "city_name_张家口\n",
      "city_name_徐州\n",
      "city_name_德阳\n",
      "city_name_思茅\n",
      "city_name_惠州\n",
      "city_name_成都\n",
      "city_name_扬州\n",
      "city_name_抚顺\n",
      "city_name_无锡\n",
      "city_name_日照\n",
      "city_name_昆明\n",
      "city_name_杭州\n",
      "city_name_柳州\n",
      "city_name_株洲\n",
      "city_name_梧州\n",
      "city_name_武汉\n",
      "city_name_汉中\n",
      "city_name_汕尾\n",
      "city_name_江门\n",
      "city_name_沈阳\n",
      "city_name_泉州\n",
      "city_name_泰州\n",
      "city_name_洛阳\n",
      "city_name_济南\n",
      "city_name_济宁\n",
      "city_name_淮北\n",
      "city_name_淮安\n",
      "city_name_深圳\n",
      "city_name_清远\n",
      "city_name_温州\n",
      "city_name_湖州\n",
      "city_name_湛江\n",
      "city_name_漳州\n",
      "city_name_潍坊\n",
      "city_name_濮阳\n",
      "city_name_烟台\n",
      "city_name_玉林\n",
      "city_name_珠海\n",
      "city_name_盐城\n",
      "city_name_石家庄\n",
      "city_name_石河子\n",
      "city_name_福州\n",
      "city_name_绍兴\n",
      "city_name_绵阳\n",
      "city_name_聊城\n",
      "city_name_肇庆\n",
      "city_name_自贡\n",
      "city_name_舟山\n",
      "city_name_芜湖\n",
      "city_name_苏州\n",
      "city_name_荆州\n",
      "city_name_荆门\n",
      "city_name_莆田\n",
      "city_name_营口\n",
      "city_name_葫芦岛\n",
      "city_name_蚌埠\n",
      "city_name_衢州\n",
      "city_name_襄阳\n",
      "city_name_西安\n",
      "city_name_贵阳\n",
      "city_name_辽阳\n",
      "city_name_达州\n",
      "city_name_通辽\n",
      "city_name_邢台\n",
      "city_name_邯郸\n",
      "city_name_郑州\n",
      "city_name_重庆\n",
      "city_name_金华\n",
      "city_name_铜陵\n",
      "city_name_锦州\n",
      "city_name_镇江\n",
      "city_name_长沙\n",
      "city_name_长治\n",
      "city_name_阜阳\n",
      "city_name_阳江\n",
      "city_name_青岛\n",
      "city_name_黄冈\n",
      "city_name_黄山\n",
      "city_name_黄石\n",
      "city_name_龙岩\n",
      "per_pay_1\n",
      "per_pay_2\n",
      "per_pay_3\n",
      "per_pay_4\n",
      "per_pay_5\n",
      "per_pay_6\n",
      "per_pay_7\n",
      "per_pay_8\n",
      "per_pay_9\n",
      "per_pay_10\n",
      "per_pay_11\n",
      "per_pay_12\n",
      "per_pay_13\n",
      "per_pay_14\n",
      "per_pay_15\n",
      "per_pay_16\n",
      "per_pay_17\n",
      "per_pay_18\n",
      "per_pay_19\n",
      "per_pay_20\n",
      "shop_level_0\n",
      "shop_level_1\n",
      "shop_level_2\n",
      "cate_1_name_休闲娱乐\n",
      "cate_1_name_医疗健康\n",
      "cate_1_name_美发/美容/美甲\n",
      "cate_1_name_美食\n",
      "cate_1_name_购物\n",
      "cate_1_name_超市便利店\n",
      "cate_2_name_个人护理\n",
      "cate_2_name_中餐\n",
      "cate_2_name_休闲茶饮\n",
      "cate_2_name_休闲食品\n",
      "cate_2_name_便利店\n",
      "cate_2_name_其他美食\n",
      "cate_2_name_小吃\n",
      "cate_2_name_快餐\n",
      "cate_2_name_本地购物\n",
      "cate_2_name_汤/粥/煲/砂锅/炖菜\n",
      "cate_2_name_火锅\n",
      "cate_2_name_烘焙糕点\n",
      "cate_2_name_烧烤\n",
      "cate_2_name_网吧网咖\n",
      "cate_2_name_美容美发\n",
      "cate_2_name_药店\n",
      "cate_2_name_超市\n"
     ]
    }
   ],
   "source": [
    "for i in pred.columns: print i"
   ]
  },
  {
   "cell_type": "code",
   "execution_count": 175,
   "metadata": {
    "collapsed": false,
    "scrolled": true
   },
   "outputs": [],
   "source": [
    "pred['date.year_2015'] = 0\n",
    "pred['date.day_15'] = 0\n",
    "pred['date.day_16'] = 0\n",
    "pred['date.day_17'] = 0\n",
    "pred['date.day_18'] = 0\n",
    "pred['date.day_19'] = 0\n",
    "pred['date.day_20'] = 0\n",
    "pred['date.day_21'] = 0\n",
    "pred['date.day_22'] = 0\n",
    "pred['date.day_23'] = 0\n",
    "pred['date.day_24'] = 0\n",
    "pred['date.day_25'] = 0\n",
    "pred['date.day_26'] = 0\n",
    "pred['date.day_27'] = 0\n",
    "pred['date.day_28'] = 0\n",
    "pred['date.day_29'] = 0\n",
    "pred['date.day_30'] = 0\n",
    "pred['date.day_31'] = 0\n",
    "pred['date.month_1'] = 0\n",
    "pred['date.month_2'] = 0\n",
    "pred['date.month_3'] = 0\n",
    "pred['date.month_4'] = 0\n",
    "pred['date.month_5'] = 0\n",
    "pred['date.month_6'] = 0\n",
    "pred['date.month_7'] = 0\n",
    "pred['date.month_8'] = 0\n",
    "pred['date.month_9'] = 0\n",
    "pred['date.month_10'] = 0\n",
    "pred['date.month_12'] = 0"
   ]
  },
  {
   "cell_type": "code",
   "execution_count": 176,
   "metadata": {
    "collapsed": false
   },
   "outputs": [
    {
     "data": {
      "text/plain": [
       "(28000, 221)"
      ]
     },
     "execution_count": 176,
     "metadata": {},
     "output_type": "execute_result"
    }
   ],
   "source": [
    "pred.shape"
   ]
  },
  {
   "cell_type": "code",
   "execution_count": 180,
   "metadata": {
    "collapsed": false
   },
   "outputs": [],
   "source": [
    "pred.to_csv('predictions.csv',encoding=\"GBK\")"
   ]
  },
  {
   "cell_type": "code",
   "execution_count": 29,
   "metadata": {
    "collapsed": false
   },
   "outputs": [
    {
     "name": "stdout",
     "output_type": "stream",
     "text": [
      "0.846494403053\n",
      "2767.76687806\n",
      "0.849009138546\n",
      "2686.18915392\n",
      "0.850403192447\n",
      "2655.55175695\n"
     ]
    }
   ],
   "source": [
    "r2_results = []\n",
    "mse_results= []\n",
    "kf_total = KFold(n_splits=3, shuffle=True, random_state=100)\n",
    "for train_index, test_index in kf_total.split(X):\n",
    "    x_tr, x_cv = X[train_index], X[test_index]\n",
    "    y_tr, y_cv = Y[train_index], Y[test_index]\n",
    "    T_train_xgb = xgb.DMatrix(x_tr, y_tr)\n",
    "    params_1 = {\"booster\":\"gbtree\", \"objective\": \"reg:linear\", \"eta\":0.1, \"max_depth\":25,\"eval_metric\":\"rmse\"}\n",
    "    gbm = xgb.train(dtrain=T_train_xgb,params=params)\n",
    "    y_pr = gbm.predict(xgb.DMatrix(x_cv))\n",
    "    r2_results.append(r2_score(y_cv, y_pr))\n",
    "    mse_results.append(mean_squared_error(y_cv, y_pr))\n",
    "    print np.average(r2_results)\n",
    "    print np.average(mse_results)"
   ]
  },
  {
   "cell_type": "code",
   "execution_count": null,
   "metadata": {
    "collapsed": true
   },
   "outputs": [],
   "source": [
    "kf_total = KFold(n_splits=10, shuffle=True, random_state=100)\n",
    "for train_index, test_index in kf_total.split(X):\n",
    "    x_tr, x_cv = X[train_index], X[test_index]\n",
    "    y_tr, y_cv = Y[train_index], Y[test_index]\n",
    "    T_train_xgb = xgb.DMatrix(x_tr, y_tr)\n",
    "    params = {\"objective\": \"reg:linear\", \"booster\":\"gbtree\",\"max_depth\":60, \"lambda\":5, }\n",
    "    gbm = xgb.train(dtrain=T_train_xgb,params=params)\n",
    "    y_pr = gbm.predict(xgb.DMatrix(x_cv))\n",
    "    r2_results.append(r2_score(y_cv, y_pr))\n",
    "    mse_results.append(mean_squared_error(y_cv, y_pr))\n",
    "\n",
    "\n"
   ]
  },
  {
   "cell_type": "code",
   "execution_count": 31,
   "metadata": {
    "collapsed": false
   },
   "outputs": [],
   "source": [
    "T_train_xgb = xgb.DMatrix(X_train, y_train)\n",
    "params = {\"objective\": \"reg:linear\", \"booster\":\"gblinear\"}\n",
    "gbm = xgb.train(dtrain=T_train_xgb,params=params)\n"
   ]
  },
  {
   "cell_type": "code",
   "execution_count": null,
   "metadata": {
    "collapsed": true
   },
   "outputs": [],
   "source": [
    "from sklearn.model_selection import cross_val_score\n"
   ]
  },
  {
   "cell_type": "code",
   "execution_count": 32,
   "metadata": {
    "collapsed": false
   },
   "outputs": [],
   "source": [
    "y_pred = gbm.predict(xgb.DMatrix(X_test))"
   ]
  },
  {
   "cell_type": "code",
   "execution_count": 33,
   "metadata": {
    "collapsed": false
   },
   "outputs": [
    {
     "data": {
      "text/plain": [
       "0.19673278857505061"
      ]
     },
     "execution_count": 33,
     "metadata": {},
     "output_type": "execute_result"
    }
   ],
   "source": [
    "from sklearn.metrics import r2_score\n",
    "r2_score(y_test, y_pred)"
   ]
  },
  {
   "cell_type": "code",
   "execution_count": 34,
   "metadata": {
    "collapsed": false
   },
   "outputs": [
    {
     "data": {
      "text/plain": [
       "14560.387872683435"
      ]
     },
     "execution_count": 34,
     "metadata": {},
     "output_type": "execute_result"
    }
   ],
   "source": [
    "from sklearn.metrics import mean_squared_error\n",
    "mean_squared_error(y_test, y_pred)"
   ]
  },
  {
   "cell_type": "code",
   "execution_count": 35,
   "metadata": {
    "collapsed": false
   },
   "outputs": [
    {
     "name": "stdout",
     "output_type": "stream",
     "text": [
      "0.563503054594\n",
      "7912.14273402\n"
     ]
    }
   ],
   "source": [
    "params1 = {\"objective\": \"reg:linear\", \"booster\":\"dart\"}\n",
    "gbm1 = xgb.train(dtrain=T_train_xgb,params=params1)\n",
    "y_pred1 = gbm1.predict(xgb.DMatrix(X_test))\n",
    "print(r2_score(y_test, y_pred1))\n",
    "print(mean_squared_error(y_test, y_pred1))"
   ]
  },
  {
   "cell_type": "code",
   "execution_count": 43,
   "metadata": {
    "collapsed": false
   },
   "outputs": [
    {
     "name": "stdout",
     "output_type": "stream",
     "text": [
      "0.847366462931\n",
      "2766.70511444\n"
     ]
    }
   ],
   "source": [
    "params2 = {\"objective\": \"reg:linear\", \"booster\":\"gbtree\",\n",
    "           \"max_depth\":90}\n",
    "gbm2 = xgb.train(dtrain=T_train_xgb,params=params2)\n",
    "y_pred2 = gbm2.predict(xgb.DMatrix(X_test))\n",
    "print(r2_score(y_test, y_pred2))\n",
    "print(mean_squared_error(y_test, y_pred2))"
   ]
  },
  {
   "cell_type": "code",
   "execution_count": null,
   "metadata": {
    "collapsed": true
   },
   "outputs": [],
   "source": []
  }
 ],
 "metadata": {
  "kernelspec": {
   "display_name": "Python 2",
   "language": "python",
   "name": "python2"
  },
  "language_info": {
   "codemirror_mode": {
    "name": "ipython",
    "version": 2
   },
   "file_extension": ".py",
   "mimetype": "text/x-python",
   "name": "python",
   "nbconvert_exporter": "python",
   "pygments_lexer": "ipython2",
   "version": "2.7.11"
  }
 },
 "nbformat": 4,
 "nbformat_minor": 0
}
