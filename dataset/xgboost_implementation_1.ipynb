{
 "cells": [
  {
   "cell_type": "code",
   "execution_count": 1,
   "metadata": {
    "collapsed": false
   },
   "outputs": [
    {
     "name": "stderr",
     "output_type": "stream",
     "text": [
      "/opt/anaconda/anaconda2/lib/python2.7/site-packages/sklearn/cross_validation.py:44: DeprecationWarning: This module was deprecated in version 0.18 in favor of the model_selection module into which all the refactored classes and functions are moved. Also note that the interface of the new CV iterators are different from that of this module. This module will be removed in 0.20.\n",
      "  \"This module will be removed in 0.20.\", DeprecationWarning)\n"
     ]
    }
   ],
   "source": [
    "import pandas as pd\n",
    "import numpy as np\n",
    "import xgboost as xgb"
   ]
  },
  {
   "cell_type": "code",
   "execution_count": 2,
   "metadata": {
    "collapsed": false
   },
   "outputs": [],
   "source": [
    "df = pd.read_csv('final_file.csv',encoding=\"GBK\").drop(['Unnamed: 0'], axis=1)\n",
    "X = df.values[:, 0:216]\n",
    "Y = df.values[:,216]\n",
    "\n",
    "from sklearn.cross_validation import train_test_split\n",
    "X_train, X_test, y_train, y_test = train_test_split(X, Y, test_size = 0.3, random_state = 100)"
   ]
  },
  {
   "cell_type": "code",
   "execution_count": 3,
   "metadata": {
    "collapsed": false
   },
   "outputs": [
    {
     "data": {
      "text/html": [
       "<div>\n",
       "<table border=\"1\" class=\"dataframe\">\n",
       "  <thead>\n",
       "    <tr style=\"text-align: right;\">\n",
       "      <th></th>\n",
       "      <th>shop_id</th>\n",
       "      <th>date.day_1</th>\n",
       "      <th>date.day_2</th>\n",
       "      <th>date.day_3</th>\n",
       "      <th>date.day_4</th>\n",
       "      <th>date.day_5</th>\n",
       "      <th>date.day_6</th>\n",
       "      <th>date.day_7</th>\n",
       "      <th>date.day_8</th>\n",
       "      <th>date.day_9</th>\n",
       "      <th>...</th>\n",
       "      <th>cate_2_name_快餐</th>\n",
       "      <th>cate_2_name_本地购物</th>\n",
       "      <th>cate_2_name_汤/粥/煲/砂锅/炖菜</th>\n",
       "      <th>cate_2_name_火锅</th>\n",
       "      <th>cate_2_name_烘焙糕点</th>\n",
       "      <th>cate_2_name_烧烤</th>\n",
       "      <th>cate_2_name_网吧网咖</th>\n",
       "      <th>cate_2_name_药店</th>\n",
       "      <th>cate_2_name_超市</th>\n",
       "      <th>count</th>\n",
       "    </tr>\n",
       "  </thead>\n",
       "  <tbody>\n",
       "    <tr>\n",
       "      <th>0</th>\n",
       "      <td>544</td>\n",
       "      <td>0.0</td>\n",
       "      <td>0.0</td>\n",
       "      <td>0.0</td>\n",
       "      <td>0.0</td>\n",
       "      <td>0.0</td>\n",
       "      <td>0.0</td>\n",
       "      <td>0.0</td>\n",
       "      <td>0.0</td>\n",
       "      <td>0.0</td>\n",
       "      <td>...</td>\n",
       "      <td>0.0</td>\n",
       "      <td>0.0</td>\n",
       "      <td>0.0</td>\n",
       "      <td>0.0</td>\n",
       "      <td>0.0</td>\n",
       "      <td>0.0</td>\n",
       "      <td>0.0</td>\n",
       "      <td>0.0</td>\n",
       "      <td>0.0</td>\n",
       "      <td>221</td>\n",
       "    </tr>\n",
       "    <tr>\n",
       "      <th>1</th>\n",
       "      <td>810</td>\n",
       "      <td>0.0</td>\n",
       "      <td>0.0</td>\n",
       "      <td>0.0</td>\n",
       "      <td>0.0</td>\n",
       "      <td>0.0</td>\n",
       "      <td>0.0</td>\n",
       "      <td>0.0</td>\n",
       "      <td>0.0</td>\n",
       "      <td>0.0</td>\n",
       "      <td>...</td>\n",
       "      <td>1.0</td>\n",
       "      <td>0.0</td>\n",
       "      <td>0.0</td>\n",
       "      <td>0.0</td>\n",
       "      <td>0.0</td>\n",
       "      <td>0.0</td>\n",
       "      <td>0.0</td>\n",
       "      <td>0.0</td>\n",
       "      <td>0.0</td>\n",
       "      <td>125</td>\n",
       "    </tr>\n",
       "    <tr>\n",
       "      <th>2</th>\n",
       "      <td>163</td>\n",
       "      <td>0.0</td>\n",
       "      <td>0.0</td>\n",
       "      <td>0.0</td>\n",
       "      <td>0.0</td>\n",
       "      <td>0.0</td>\n",
       "      <td>0.0</td>\n",
       "      <td>1.0</td>\n",
       "      <td>0.0</td>\n",
       "      <td>0.0</td>\n",
       "      <td>...</td>\n",
       "      <td>0.0</td>\n",
       "      <td>0.0</td>\n",
       "      <td>0.0</td>\n",
       "      <td>0.0</td>\n",
       "      <td>0.0</td>\n",
       "      <td>0.0</td>\n",
       "      <td>0.0</td>\n",
       "      <td>0.0</td>\n",
       "      <td>1.0</td>\n",
       "      <td>91</td>\n",
       "    </tr>\n",
       "    <tr>\n",
       "      <th>3</th>\n",
       "      <td>1977</td>\n",
       "      <td>0.0</td>\n",
       "      <td>0.0</td>\n",
       "      <td>0.0</td>\n",
       "      <td>0.0</td>\n",
       "      <td>0.0</td>\n",
       "      <td>0.0</td>\n",
       "      <td>0.0</td>\n",
       "      <td>0.0</td>\n",
       "      <td>0.0</td>\n",
       "      <td>...</td>\n",
       "      <td>1.0</td>\n",
       "      <td>0.0</td>\n",
       "      <td>0.0</td>\n",
       "      <td>0.0</td>\n",
       "      <td>0.0</td>\n",
       "      <td>0.0</td>\n",
       "      <td>0.0</td>\n",
       "      <td>0.0</td>\n",
       "      <td>0.0</td>\n",
       "      <td>137</td>\n",
       "    </tr>\n",
       "    <tr>\n",
       "      <th>4</th>\n",
       "      <td>746</td>\n",
       "      <td>0.0</td>\n",
       "      <td>0.0</td>\n",
       "      <td>0.0</td>\n",
       "      <td>0.0</td>\n",
       "      <td>0.0</td>\n",
       "      <td>0.0</td>\n",
       "      <td>0.0</td>\n",
       "      <td>0.0</td>\n",
       "      <td>0.0</td>\n",
       "      <td>...</td>\n",
       "      <td>1.0</td>\n",
       "      <td>0.0</td>\n",
       "      <td>0.0</td>\n",
       "      <td>0.0</td>\n",
       "      <td>0.0</td>\n",
       "      <td>0.0</td>\n",
       "      <td>0.0</td>\n",
       "      <td>0.0</td>\n",
       "      <td>0.0</td>\n",
       "      <td>68</td>\n",
       "    </tr>\n",
       "  </tbody>\n",
       "</table>\n",
       "<p>5 rows × 217 columns</p>\n",
       "</div>"
      ],
      "text/plain": [
       "   shop_id  date.day_1  date.day_2  date.day_3  date.day_4  date.day_5  \\\n",
       "0      544         0.0         0.0         0.0         0.0         0.0   \n",
       "1      810         0.0         0.0         0.0         0.0         0.0   \n",
       "2      163         0.0         0.0         0.0         0.0         0.0   \n",
       "3     1977         0.0         0.0         0.0         0.0         0.0   \n",
       "4      746         0.0         0.0         0.0         0.0         0.0   \n",
       "\n",
       "   date.day_6  date.day_7  date.day_8  date.day_9  ...    cate_2_name_快餐  \\\n",
       "0         0.0         0.0         0.0         0.0  ...               0.0   \n",
       "1         0.0         0.0         0.0         0.0  ...               1.0   \n",
       "2         0.0         1.0         0.0         0.0  ...               0.0   \n",
       "3         0.0         0.0         0.0         0.0  ...               1.0   \n",
       "4         0.0         0.0         0.0         0.0  ...               1.0   \n",
       "\n",
       "   cate_2_name_本地购物  cate_2_name_汤/粥/煲/砂锅/炖菜  cate_2_name_火锅  \\\n",
       "0               0.0                      0.0             0.0   \n",
       "1               0.0                      0.0             0.0   \n",
       "2               0.0                      0.0             0.0   \n",
       "3               0.0                      0.0             0.0   \n",
       "4               0.0                      0.0             0.0   \n",
       "\n",
       "   cate_2_name_烘焙糕点  cate_2_name_烧烤  cate_2_name_网吧网咖  cate_2_name_药店  \\\n",
       "0               0.0             0.0               0.0             0.0   \n",
       "1               0.0             0.0               0.0             0.0   \n",
       "2               0.0             0.0               0.0             0.0   \n",
       "3               0.0             0.0               0.0             0.0   \n",
       "4               0.0             0.0               0.0             0.0   \n",
       "\n",
       "   cate_2_name_超市  count  \n",
       "0             0.0    221  \n",
       "1             0.0    125  \n",
       "2             1.0     91  \n",
       "3             0.0    137  \n",
       "4             0.0     68  \n",
       "\n",
       "[5 rows x 217 columns]"
      ]
     },
     "execution_count": 3,
     "metadata": {},
     "output_type": "execute_result"
    }
   ],
   "source": [
    "df.head()"
   ]
  },
  {
   "cell_type": "code",
   "execution_count": 4,
   "metadata": {
    "collapsed": false
   },
   "outputs": [
    {
     "name": "stderr",
     "output_type": "stream",
     "text": [
      "/opt/anaconda/anaconda2/lib/python2.7/site-packages/sklearn/grid_search.py:43: DeprecationWarning: This module was deprecated in version 0.18 in favor of the model_selection module into which all the refactored classes and functions are moved. This module will be removed in 0.20.\n",
      "  DeprecationWarning)\n"
     ]
    }
   ],
   "source": [
    "from sklearn import datasets, linear_model, cross_validation, grid_search\n",
    "from sklearn.metrics import r2_score \n",
    "from sklearn.model_selection import KFold\n",
    "from sklearn.metrics import mean_squared_error"
   ]
  },
  {
   "cell_type": "code",
   "execution_count": 5,
   "metadata": {
    "collapsed": false
   },
   "outputs": [
    {
     "data": {
      "text/plain": [
       "'0.18.1'"
      ]
     },
     "execution_count": 5,
     "metadata": {},
     "output_type": "execute_result"
    }
   ],
   "source": [
    "import sklearn\n",
    "sklearn.__version__"
   ]
  },
  {
   "cell_type": "code",
   "execution_count": 6,
   "metadata": {
    "collapsed": true
   },
   "outputs": [],
   "source": []
  },
  {
   "cell_type": "code",
   "execution_count": 7,
   "metadata": {
    "collapsed": false
   },
   "outputs": [
    {
     "name": "stdout",
     "output_type": "stream",
     "text": [
      "0.851709436989\n",
      "2631.5385578\n"
     ]
    }
   ],
   "source": [
    "r2_results = []\n",
    "mse_results= []\n",
    "\n",
    "kf_total = KFold(n_splits=2, shuffle=True, random_state=100)\n",
    "for train_index, test_index in kf_total.split(X):\n",
    "    x_tr, x_cv = X[train_index], X[test_index]\n",
    "    y_tr, y_cv = Y[train_index], Y[test_index]\n",
    "    T_train_xgb = xgb.DMatrix(x_tr, y_tr)\n",
    "    params = {\"objective\": \"reg:linear\", \"booster\":\"gbtree\",\"max_depth\":60}\n",
    "    gbm = xgb.train(dtrain=T_train_xgb,params=params)\n",
    "    y_pr = gbm.predict(xgb.DMatrix(x_cv))\n",
    "    r2_results.append(r2_score(y_cv, y_pr))\n",
    "    mse_results.append(mean_squared_error(y_cv, y_pr))\n",
    "    \n",
    "print np.average(r2_results)\n",
    "print np.average(mse_results)"
   ]
  },
  {
   "cell_type": "code",
   "execution_count": 10,
   "metadata": {
    "collapsed": false
   },
   "outputs": [
    {
     "name": "stdout",
     "output_type": "stream",
     "text": [
      "0.987571751453\n",
      "225.28010213\n"
     ]
    }
   ],
   "source": [
    "y_pred = gbm.predict(xgb.DMatrix(X_test))\n",
    "print(r2_score(y_test, y_pred))\n",
    "print(mean_squared_error(y_test, y_pred))"
   ]
  },
  {
   "cell_type": "code",
   "execution_count": null,
   "metadata": {
    "collapsed": true
   },
   "outputs": [],
   "source": [
    "params2 = {\"objective\": \"reg:linear\", \"booster\":\"gbtree\",\"max_depth\":60}\n",
    "gbm2 = xgb.train(dtrain=T_train_xgb,params=params2)\n",
    "y_pred2 = gbm2.predict(xgb.DMatrix(X_test))\n",
    "print(r2_score(y_test, y_pred2))\n",
    "print(mean_squared_error(y_test, y_pred2))"
   ]
  },
  {
   "cell_type": "code",
   "execution_count": 12,
   "metadata": {
    "collapsed": false
   },
   "outputs": [],
   "source": [
    "df1 = df[df['shop_id'] != 1629]\n",
    "df1 = df[df['shop_id'] != 58]\n",
    "df1 = df[df['shop_id'] != 1821]\n",
    "#df['shop_id'] != 58 and df['shop_id'] != 1821]"
   ]
  },
  {
   "cell_type": "code",
   "execution_count": 15,
   "metadata": {
    "collapsed": true
   },
   "outputs": [],
   "source": [
    "X = df1.values[:, 0:216]\n",
    "Y = df1.values[:,216]\n",
    "\n",
    "X_train, X_test, y_train, y_test = train_test_split(X, Y, test_size = 0.3, random_state = 100)"
   ]
  },
  {
   "cell_type": "code",
   "execution_count": null,
   "metadata": {
    "collapsed": false
   },
   "outputs": [],
   "source": [
    "r2_results = []\n",
    "mse_results= []\n",
    "kf_total = KFold(n_splits=50, shuffle=True, random_state=100)\n",
    "for train_index, test_index in kf_total.split(X):\n",
    "    x_tr, x_cv = X[train_index], X[test_index]\n",
    "    y_tr, y_cv = Y[train_index], Y[test_index]\n",
    "    T_train_xgb = xgb.DMatrix(x_tr, y_tr)\n",
    "    params_1 = {\"booster\":\"gbtree\", \"objective\": \"reg:linear\", \"eta\":0.1, \"max_depth\":40,\"eval_metric\":\"rmse\"}\n",
    "    gbm = xgb.train(dtrain=T_train_xgb,params=params)\n",
    "    y_pr = gbm.predict(xgb.DMatrix(x_cv))\n",
    "    r2_results.append(r2_score(y_cv, y_pr))\n",
    "    mse_results.append(mean_squared_error(y_cv, y_pr))\n",
    "print 'average_r2', np.average(r2_results)\n",
    "print 'average_mse', np.average(mse_results)\n",
    "print 'median_r2', np.median(r2_results)\n",
    "print 'median_mse', np.median(mse_results)"
   ]
  },
  {
   "cell_type": "code",
   "execution_count": null,
   "metadata": {
    "collapsed": true
   },
   "outputs": [],
   "source": [
    "r2_results = []\n",
    "mse_results= []\n",
    "kf_total = KFold(n_splits=50, shuffle=True, random_state=100)\n",
    "for train_index, test_index in kf_total.split(X):\n",
    "    x_tr, x_cv = X[train_index], X[test_index]\n",
    "    y_tr, y_cv = Y[train_index], Y[test_index]\n",
    "    T_train_xgb = xgb.DMatrix(x_tr, y_tr)\n",
    "    params_1 = {\"booster\":\"gbtree\", \"objective\": \"reg:linear\", \"eta\":0.1, \"max_depth\":40,\"eval_metric\":\"rmse\"}\n",
    "    gbm_12 = xgb.train(dtrain=T_train_xgb,params=params1)\n",
    "    y_pr = gbm_12.predict(xgb.DMatrix(x_cv))\n",
    "    r2_results.append(r2_score(y_cv, y_pr))\n",
    "    mse_results.append(mean_squared_error(y_cv, y_pr))\n",
    "print 'average_r2', np.average(r2_results)\n",
    "print 'average_mse', np.average(mse_results)\n",
    "print 'median_r2', np.median(r2_results)\n",
    "print 'median_mse', np.median(mse_results)"
   ]
  },
  {
   "cell_type": "code",
   "execution_count": null,
   "metadata": {
    "collapsed": true
   },
   "outputs": [],
   "source": []
  }
 ],
 "metadata": {
  "kernelspec": {
   "display_name": "Python 2",
   "language": "python",
   "name": "python2"
  },
  "language_info": {
   "codemirror_mode": {
    "name": "ipython",
    "version": 2
   },
   "file_extension": ".py",
   "mimetype": "text/x-python",
   "name": "python",
   "nbconvert_exporter": "python",
   "pygments_lexer": "ipython2",
   "version": "2.7.13"
  }
 },
 "nbformat": 4,
 "nbformat_minor": 0
}
