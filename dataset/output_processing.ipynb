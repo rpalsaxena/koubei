{
 "cells": [
  {
   "cell_type": "code",
   "execution_count": 15,
   "metadata": {
    "collapsed": false
   },
   "outputs": [],
   "source": [
    "import numpy as np\n",
    "import string"
   ]
  },
  {
   "cell_type": "code",
   "execution_count": 16,
   "metadata": {
    "collapsed": true
   },
   "outputs": [],
   "source": [
    "text_file = open(\"/home/ubuntu/koubei/dataset/out.txt\", \"r\")"
   ]
  },
  {
   "cell_type": "code",
   "execution_count": 17,
   "metadata": {
    "collapsed": true
   },
   "outputs": [],
   "source": [
    "def process_file(text_file):\n",
    "    a = text_file.read()\n",
    "    b = string.replace(a, ' ','')\n",
    "    b = string.replace(b, '.',',')\n",
    "    b = string.replace(b, '\\n', '')\n",
    "    b = string.replace(b, '[', '')\n",
    "    b = string.replace(b, ',]', '\\n')\n",
    "    return b"
   ]
  },
  {
   "cell_type": "code",
   "execution_count": 24,
   "metadata": {
    "collapsed": true
   },
   "outputs": [],
   "source": [
    "filename = 'a'"
   ]
  },
  {
   "cell_type": "code",
   "execution_count": 19,
   "metadata": {
    "collapsed": false
   },
   "outputs": [],
   "source": [
    "b = process_file(text_file)\n",
    "f = open(filename+'.txt','w')\n",
    "f.write(b)"
   ]
  },
  {
   "cell_type": "code",
   "execution_count": 25,
   "metadata": {
    "collapsed": false
   },
   "outputs": [],
   "source": [
    "m = open(filename+'.txt','r')\n",
    "zeros = m.readlines()"
   ]
  },
  {
   "cell_type": "code",
   "execution_count": 26,
   "metadata": {
    "collapsed": false
   },
   "outputs": [],
   "source": [
    "list_zeros = [30, 34, 37, 57, 61, 83, 85, 86, 100, 107, 110, 117, 118, 142, 146, 168, 183, 190, 195, 206, 213, 220, 228, 237, 245, 251, 287, 333, 387, 402, 416, 455, 477, 487, 493, 494, 501, 504, 520, 540, 553, 574, 591, 600, 637, 644, 699, 743, 745, 760, 766, 771, 778, 814, 845, 863, 864, 878, 899, 908, 910, 922, 924, 926, 948, 973, 1018, 1022, 1033, 1040, 1049, 1054, 1062, 1071, 1073, 1079, 1103, 1121, 1142, 1163, 1187, 1192, 1197, 1198, 1205, 1206, 1222, 1248, 1250, 1252, 1265, 1266, 1270, 1273, 1286, 1296, 1327, 1345, 1348, 1357, 1358, 1399, 1407, 1422, 1423, 1429, 1435, 1436, 1454, 1455, 1466, 1481, 1500, 1565, 1573, 1595, 1608, 1633, 1644, 1646, 1652, 1694, 1695, 1704, 1719, 1725, 1744, 1749, 1756, 1785, 1808, 1827, 1829, 1844, 1858, 1866, 1873, 1876, 1906, 1921, 1944, 1952, 1966, 1968, 1972, 1974]\n",
    "\n",
    "for i in range(len(zeros)):\n",
    "    if i+1 in list_zeros:\n",
    "        zeros[i] = string.replace(zeros[i],'\\n', '')\n",
    "        zeros[i] = zeros[i]+\",0,0,0,0,0,0,0,0,0,0,0,0,0,0\\n\""
   ]
  },
  {
   "cell_type": "code",
   "execution_count": 27,
   "metadata": {
    "collapsed": false
   },
   "outputs": [],
   "source": [
    "z = ''.join(zeros)"
   ]
  },
  {
   "cell_type": "code",
   "execution_count": 28,
   "metadata": {
    "collapsed": false
   },
   "outputs": [],
   "source": [
    "filename2 = 'b'\n",
    "f = open(filename2+'.txt','w')\n",
    "f.write(z)"
   ]
  },
  {
   "cell_type": "code",
   "execution_count": null,
   "metadata": {
    "collapsed": true
   },
   "outputs": [],
   "source": []
  }
 ],
 "metadata": {
  "anaconda-cloud": {},
  "kernelspec": {
   "display_name": "Python 2",
   "language": "python",
   "name": "python2"
  },
  "language_info": {
   "codemirror_mode": {
    "name": "ipython",
    "version": 2
   },
   "file_extension": ".py",
   "mimetype": "text/x-python",
   "name": "python",
   "nbconvert_exporter": "python",
   "pygments_lexer": "ipython2",
   "version": "2.7.13"
  }
 },
 "nbformat": 4,
 "nbformat_minor": 0
}
