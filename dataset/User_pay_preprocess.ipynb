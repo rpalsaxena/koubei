{
 "cells": [
  {
   "cell_type": "code",
   "execution_count": 1,
   "metadata": {
    "collapsed": false
   },
   "outputs": [
    {
     "data": {
      "text/plain": [
       "'C1F8-C271-2792-131F-9B58-89C4-548B-7F25'"
      ]
     },
     "execution_count": 1,
     "metadata": {},
     "output_type": "execute_result"
    }
   ],
   "source": [
    "import graphlab\n",
    "graphlab.product_key.set_product_key('C1F8-C271-2792-131F-9B58-89C4-548B-7F25')\n",
    "\n",
    "# output active product key\n",
    "graphlab.product_key.get_product_key()"
   ]
  },
  {
   "cell_type": "code",
   "execution_count": 2,
   "metadata": {
    "collapsed": true
   },
   "outputs": [],
   "source": [
    "import graphlab as gl"
   ]
  },
  {
   "cell_type": "code",
   "execution_count": 4,
   "metadata": {
    "collapsed": false
   },
   "outputs": [
    {
     "data": {
      "text/html": [
       "<pre>Finished parsing file /home/ubuntu/koubei/dataset/user_pay.txt</pre>"
      ],
      "text/plain": [
       "Finished parsing file /home/ubuntu/koubei/dataset/user_pay.txt"
      ]
     },
     "metadata": {},
     "output_type": "display_data"
    },
    {
     "data": {
      "text/html": [
       "<pre>Parsing completed. Parsed 100 lines in 2.02038 secs.</pre>"
      ],
      "text/plain": [
       "Parsing completed. Parsed 100 lines in 2.02038 secs."
      ]
     },
     "metadata": {},
     "output_type": "display_data"
    },
    {
     "data": {
      "text/html": [
       "<pre>Read 1599316 lines. Lines per second: 759633</pre>"
      ],
      "text/plain": [
       "Read 1599316 lines. Lines per second: 759633"
      ]
     },
     "metadata": {},
     "output_type": "display_data"
    },
    {
     "data": {
      "text/html": [
       "<pre>Read 11128977 lines. Lines per second: 1.48712e+06</pre>"
      ],
      "text/plain": [
       "Read 11128977 lines. Lines per second: 1.48712e+06"
      ]
     },
     "metadata": {},
     "output_type": "display_data"
    },
    {
     "data": {
      "text/html": [
       "<pre>Read 19096497 lines. Lines per second: 1.51871e+06</pre>"
      ],
      "text/plain": [
       "Read 19096497 lines. Lines per second: 1.51871e+06"
      ]
     },
     "metadata": {},
     "output_type": "display_data"
    },
    {
     "data": {
      "text/html": [
       "<pre>Read 27060117 lines. Lines per second: 1.49123e+06</pre>"
      ],
      "text/plain": [
       "Read 27060117 lines. Lines per second: 1.49123e+06"
      ]
     },
     "metadata": {},
     "output_type": "display_data"
    },
    {
     "data": {
      "text/html": [
       "<pre>Read 34999443 lines. Lines per second: 1.49266e+06</pre>"
      ],
      "text/plain": [
       "Read 34999443 lines. Lines per second: 1.49266e+06"
      ]
     },
     "metadata": {},
     "output_type": "display_data"
    },
    {
     "data": {
      "text/html": [
       "<pre>Read 42930254 lines. Lines per second: 1.49064e+06</pre>"
      ],
      "text/plain": [
       "Read 42930254 lines. Lines per second: 1.49064e+06"
      ]
     },
     "metadata": {},
     "output_type": "display_data"
    },
    {
     "data": {
      "text/html": [
       "<pre>Read 50884235 lines. Lines per second: 1.48191e+06</pre>"
      ],
      "text/plain": [
       "Read 50884235 lines. Lines per second: 1.48191e+06"
      ]
     },
     "metadata": {},
     "output_type": "display_data"
    },
    {
     "data": {
      "text/html": [
       "<pre>Read 58854846 lines. Lines per second: 1.48118e+06</pre>"
      ],
      "text/plain": [
       "Read 58854846 lines. Lines per second: 1.48118e+06"
      ]
     },
     "metadata": {},
     "output_type": "display_data"
    },
    {
     "data": {
      "text/html": [
       "<pre>Read 66806935 lines. Lines per second: 1.47855e+06</pre>"
      ],
      "text/plain": [
       "Read 66806935 lines. Lines per second: 1.47855e+06"
      ]
     },
     "metadata": {},
     "output_type": "display_data"
    },
    {
     "data": {
      "text/html": [
       "<pre>Finished parsing file /home/ubuntu/koubei/dataset/user_pay.txt</pre>"
      ],
      "text/plain": [
       "Finished parsing file /home/ubuntu/koubei/dataset/user_pay.txt"
      ]
     },
     "metadata": {},
     "output_type": "display_data"
    },
    {
     "data": {
      "text/html": [
       "<pre>Parsing completed. Parsed 69674110 lines in 46.4722 secs.</pre>"
      ],
      "text/plain": [
       "Parsing completed. Parsed 69674110 lines in 46.4722 secs."
      ]
     },
     "metadata": {},
     "output_type": "display_data"
    },
    {
     "name": "stdout",
     "output_type": "stream",
     "text": [
      "------------------------------------------------------\n",
      "Inferred types from first 100 line(s) of file as \n",
      "column_type_hints=[int,int,str]\n",
      "If parsing fails due to incorrect types, you can correct\n",
      "the inferred type list above and pass it to read_csv in\n",
      "the column_type_hints argument\n",
      "------------------------------------------------------\n"
     ]
    }
   ],
   "source": [
    "user_pay = gl.SFrame.read_csv('user_pay.txt', header = None).rename({'X1':'user_id', 'X2': 'shop_id', 'X3': 'timestamp'})"
   ]
  },
  {
   "cell_type": "code",
   "execution_count": 13,
   "metadata": {
    "collapsed": false
   },
   "outputs": [
    {
     "data": {
      "text/html": [
       "<div style=\"max-height:1000px;max-width:1500px;overflow:auto;\"><table frame=\"box\" rules=\"cols\">\n",
       "    <tr>\n",
       "        <th style=\"padding-left: 1em; padding-right: 1em; text-align: center\">user_id</th>\n",
       "        <th style=\"padding-left: 1em; padding-right: 1em; text-align: center\">shop_id</th>\n",
       "        <th style=\"padding-left: 1em; padding-right: 1em; text-align: center\">timestamp</th>\n",
       "        <th style=\"padding-left: 1em; padding-right: 1em; text-align: center\">date</th>\n",
       "    </tr>\n",
       "    <tr>\n",
       "        <td style=\"padding-left: 1em; padding-right: 1em; text-align: center; vertical-align: top\">22127870</td>\n",
       "        <td style=\"padding-left: 1em; padding-right: 1em; text-align: center; vertical-align: top\">1862</td>\n",
       "        <td style=\"padding-left: 1em; padding-right: 1em; text-align: center; vertical-align: top\">2015-12-25 17:00:00</td>\n",
       "        <td style=\"padding-left: 1em; padding-right: 1em; text-align: center; vertical-align: top\">2015-12-25 00:00:00</td>\n",
       "    </tr>\n",
       "    <tr>\n",
       "        <td style=\"padding-left: 1em; padding-right: 1em; text-align: center; vertical-align: top\">3434231</td>\n",
       "        <td style=\"padding-left: 1em; padding-right: 1em; text-align: center; vertical-align: top\">1862</td>\n",
       "        <td style=\"padding-left: 1em; padding-right: 1em; text-align: center; vertical-align: top\">2016-10-05 11:00:00</td>\n",
       "        <td style=\"padding-left: 1em; padding-right: 1em; text-align: center; vertical-align: top\">2016-10-05 00:00:00</td>\n",
       "    </tr>\n",
       "    <tr>\n",
       "        <td style=\"padding-left: 1em; padding-right: 1em; text-align: center; vertical-align: top\">16955285</td>\n",
       "        <td style=\"padding-left: 1em; padding-right: 1em; text-align: center; vertical-align: top\">1862</td>\n",
       "        <td style=\"padding-left: 1em; padding-right: 1em; text-align: center; vertical-align: top\">2016-02-10 15:00:00</td>\n",
       "        <td style=\"padding-left: 1em; padding-right: 1em; text-align: center; vertical-align: top\">2016-02-10 00:00:00</td>\n",
       "    </tr>\n",
       "    <tr>\n",
       "        <td style=\"padding-left: 1em; padding-right: 1em; text-align: center; vertical-align: top\">13799128</td>\n",
       "        <td style=\"padding-left: 1em; padding-right: 1em; text-align: center; vertical-align: top\">1862</td>\n",
       "        <td style=\"padding-left: 1em; padding-right: 1em; text-align: center; vertical-align: top\">2016-01-13 14:00:00</td>\n",
       "        <td style=\"padding-left: 1em; padding-right: 1em; text-align: center; vertical-align: top\">2016-01-13 00:00:00</td>\n",
       "    </tr>\n",
       "    <tr>\n",
       "        <td style=\"padding-left: 1em; padding-right: 1em; text-align: center; vertical-align: top\">13799128</td>\n",
       "        <td style=\"padding-left: 1em; padding-right: 1em; text-align: center; vertical-align: top\">1862</td>\n",
       "        <td style=\"padding-left: 1em; padding-right: 1em; text-align: center; vertical-align: top\">2016-07-05 12:00:00</td>\n",
       "        <td style=\"padding-left: 1em; padding-right: 1em; text-align: center; vertical-align: top\">2016-07-05 00:00:00</td>\n",
       "    </tr>\n",
       "    <tr>\n",
       "        <td style=\"padding-left: 1em; padding-right: 1em; text-align: center; vertical-align: top\">20244878</td>\n",
       "        <td style=\"padding-left: 1em; padding-right: 1em; text-align: center; vertical-align: top\">1862</td>\n",
       "        <td style=\"padding-left: 1em; padding-right: 1em; text-align: center; vertical-align: top\">2016-09-17 15:00:00</td>\n",
       "        <td style=\"padding-left: 1em; padding-right: 1em; text-align: center; vertical-align: top\">2016-09-17 00:00:00</td>\n",
       "    </tr>\n",
       "    <tr>\n",
       "        <td style=\"padding-left: 1em; padding-right: 1em; text-align: center; vertical-align: top\">20244878</td>\n",
       "        <td style=\"padding-left: 1em; padding-right: 1em; text-align: center; vertical-align: top\">1862</td>\n",
       "        <td style=\"padding-left: 1em; padding-right: 1em; text-align: center; vertical-align: top\">2016-05-29 16:00:00</td>\n",
       "        <td style=\"padding-left: 1em; padding-right: 1em; text-align: center; vertical-align: top\">2016-05-29 00:00:00</td>\n",
       "    </tr>\n",
       "    <tr>\n",
       "        <td style=\"padding-left: 1em; padding-right: 1em; text-align: center; vertical-align: top\">438444</td>\n",
       "        <td style=\"padding-left: 1em; padding-right: 1em; text-align: center; vertical-align: top\">1862</td>\n",
       "        <td style=\"padding-left: 1em; padding-right: 1em; text-align: center; vertical-align: top\">2016-02-22 17:00:00</td>\n",
       "        <td style=\"padding-left: 1em; padding-right: 1em; text-align: center; vertical-align: top\">2016-02-22 00:00:00</td>\n",
       "    </tr>\n",
       "    <tr>\n",
       "        <td style=\"padding-left: 1em; padding-right: 1em; text-align: center; vertical-align: top\">22003193</td>\n",
       "        <td style=\"padding-left: 1em; padding-right: 1em; text-align: center; vertical-align: top\">1862</td>\n",
       "        <td style=\"padding-left: 1em; padding-right: 1em; text-align: center; vertical-align: top\">2016-08-07 15:00:00</td>\n",
       "        <td style=\"padding-left: 1em; padding-right: 1em; text-align: center; vertical-align: top\">2016-08-07 00:00:00</td>\n",
       "    </tr>\n",
       "    <tr>\n",
       "        <td style=\"padding-left: 1em; padding-right: 1em; text-align: center; vertical-align: top\">20244878</td>\n",
       "        <td style=\"padding-left: 1em; padding-right: 1em; text-align: center; vertical-align: top\">1862</td>\n",
       "        <td style=\"padding-left: 1em; padding-right: 1em; text-align: center; vertical-align: top\">2016-04-17 16:00:00</td>\n",
       "        <td style=\"padding-left: 1em; padding-right: 1em; text-align: center; vertical-align: top\">2016-04-17 00:00:00</td>\n",
       "    </tr>\n",
       "</table>\n",
       "[10 rows x 4 columns]<br/>\n",
       "</div>"
      ],
      "text/plain": [
       "Columns:\n",
       "\tuser_id\tint\n",
       "\tshop_id\tint\n",
       "\ttimestamp\tstr\n",
       "\tdate\tdatetime\n",
       "\n",
       "Rows: 10\n",
       "\n",
       "Data:\n",
       "+----------+---------+---------------------+---------------------+\n",
       "| user_id  | shop_id |      timestamp      |         date        |\n",
       "+----------+---------+---------------------+---------------------+\n",
       "| 22127870 |   1862  | 2015-12-25 17:00:00 | 2015-12-25 00:00:00 |\n",
       "| 3434231  |   1862  | 2016-10-05 11:00:00 | 2016-10-05 00:00:00 |\n",
       "| 16955285 |   1862  | 2016-02-10 15:00:00 | 2016-02-10 00:00:00 |\n",
       "| 13799128 |   1862  | 2016-01-13 14:00:00 | 2016-01-13 00:00:00 |\n",
       "| 13799128 |   1862  | 2016-07-05 12:00:00 | 2016-07-05 00:00:00 |\n",
       "| 20244878 |   1862  | 2016-09-17 15:00:00 | 2016-09-17 00:00:00 |\n",
       "| 20244878 |   1862  | 2016-05-29 16:00:00 | 2016-05-29 00:00:00 |\n",
       "|  438444  |   1862  | 2016-02-22 17:00:00 | 2016-02-22 00:00:00 |\n",
       "| 22003193 |   1862  | 2016-08-07 15:00:00 | 2016-08-07 00:00:00 |\n",
       "| 20244878 |   1862  | 2016-04-17 16:00:00 | 2016-04-17 00:00:00 |\n",
       "+----------+---------+---------------------+---------------------+\n",
       "[10 rows x 4 columns]"
      ]
     },
     "execution_count": 13,
     "metadata": {},
     "output_type": "execute_result"
    }
   ],
   "source": [
    "user_pay.head()"
   ]
  },
  {
   "cell_type": "code",
   "execution_count": 12,
   "metadata": {
    "collapsed": true
   },
   "outputs": [],
   "source": [
    "user_pay['date'] = user_pay['timestamp'].str_to_datetime('%Y-%m-%d')"
   ]
  },
  {
   "cell_type": "code",
   "execution_count": 18,
   "metadata": {
    "collapsed": false
   },
   "outputs": [],
   "source": [
    "a = user_pay['date'].split_datetime(column_name_prefix='date',limit=['day','year', 'month', 'isoweekday'])"
   ]
  },
  {
   "cell_type": "code",
   "execution_count": 21,
   "metadata": {
    "collapsed": false
   },
   "outputs": [
    {
     "data": {
      "text/html": [
       "<div style=\"max-height:1000px;max-width:1500px;overflow:auto;\"><table frame=\"box\" rules=\"cols\">\n",
       "    <tr>\n",
       "        <th style=\"padding-left: 1em; padding-right: 1em; text-align: center\">user_id</th>\n",
       "        <th style=\"padding-left: 1em; padding-right: 1em; text-align: center\">shop_id</th>\n",
       "        <th style=\"padding-left: 1em; padding-right: 1em; text-align: center\">timestamp</th>\n",
       "        <th style=\"padding-left: 1em; padding-right: 1em; text-align: center\">date</th>\n",
       "        <th style=\"padding-left: 1em; padding-right: 1em; text-align: center\">date.day</th>\n",
       "        <th style=\"padding-left: 1em; padding-right: 1em; text-align: center\">date.year</th>\n",
       "        <th style=\"padding-left: 1em; padding-right: 1em; text-align: center\">date.month</th>\n",
       "        <th style=\"padding-left: 1em; padding-right: 1em; text-align: center\">date.isoweekday</th>\n",
       "    </tr>\n",
       "    <tr>\n",
       "        <td style=\"padding-left: 1em; padding-right: 1em; text-align: center; vertical-align: top\">22127870</td>\n",
       "        <td style=\"padding-left: 1em; padding-right: 1em; text-align: center; vertical-align: top\">1862</td>\n",
       "        <td style=\"padding-left: 1em; padding-right: 1em; text-align: center; vertical-align: top\">2015-12-25 17:00:00</td>\n",
       "        <td style=\"padding-left: 1em; padding-right: 1em; text-align: center; vertical-align: top\">2015-12-25 00:00:00</td>\n",
       "        <td style=\"padding-left: 1em; padding-right: 1em; text-align: center; vertical-align: top\">25</td>\n",
       "        <td style=\"padding-left: 1em; padding-right: 1em; text-align: center; vertical-align: top\">2015</td>\n",
       "        <td style=\"padding-left: 1em; padding-right: 1em; text-align: center; vertical-align: top\">12</td>\n",
       "        <td style=\"padding-left: 1em; padding-right: 1em; text-align: center; vertical-align: top\">5</td>\n",
       "    </tr>\n",
       "    <tr>\n",
       "        <td style=\"padding-left: 1em; padding-right: 1em; text-align: center; vertical-align: top\">3434231</td>\n",
       "        <td style=\"padding-left: 1em; padding-right: 1em; text-align: center; vertical-align: top\">1862</td>\n",
       "        <td style=\"padding-left: 1em; padding-right: 1em; text-align: center; vertical-align: top\">2016-10-05 11:00:00</td>\n",
       "        <td style=\"padding-left: 1em; padding-right: 1em; text-align: center; vertical-align: top\">2016-10-05 00:00:00</td>\n",
       "        <td style=\"padding-left: 1em; padding-right: 1em; text-align: center; vertical-align: top\">5</td>\n",
       "        <td style=\"padding-left: 1em; padding-right: 1em; text-align: center; vertical-align: top\">2016</td>\n",
       "        <td style=\"padding-left: 1em; padding-right: 1em; text-align: center; vertical-align: top\">10</td>\n",
       "        <td style=\"padding-left: 1em; padding-right: 1em; text-align: center; vertical-align: top\">3</td>\n",
       "    </tr>\n",
       "    <tr>\n",
       "        <td style=\"padding-left: 1em; padding-right: 1em; text-align: center; vertical-align: top\">16955285</td>\n",
       "        <td style=\"padding-left: 1em; padding-right: 1em; text-align: center; vertical-align: top\">1862</td>\n",
       "        <td style=\"padding-left: 1em; padding-right: 1em; text-align: center; vertical-align: top\">2016-02-10 15:00:00</td>\n",
       "        <td style=\"padding-left: 1em; padding-right: 1em; text-align: center; vertical-align: top\">2016-02-10 00:00:00</td>\n",
       "        <td style=\"padding-left: 1em; padding-right: 1em; text-align: center; vertical-align: top\">10</td>\n",
       "        <td style=\"padding-left: 1em; padding-right: 1em; text-align: center; vertical-align: top\">2016</td>\n",
       "        <td style=\"padding-left: 1em; padding-right: 1em; text-align: center; vertical-align: top\">2</td>\n",
       "        <td style=\"padding-left: 1em; padding-right: 1em; text-align: center; vertical-align: top\">3</td>\n",
       "    </tr>\n",
       "    <tr>\n",
       "        <td style=\"padding-left: 1em; padding-right: 1em; text-align: center; vertical-align: top\">13799128</td>\n",
       "        <td style=\"padding-left: 1em; padding-right: 1em; text-align: center; vertical-align: top\">1862</td>\n",
       "        <td style=\"padding-left: 1em; padding-right: 1em; text-align: center; vertical-align: top\">2016-01-13 14:00:00</td>\n",
       "        <td style=\"padding-left: 1em; padding-right: 1em; text-align: center; vertical-align: top\">2016-01-13 00:00:00</td>\n",
       "        <td style=\"padding-left: 1em; padding-right: 1em; text-align: center; vertical-align: top\">13</td>\n",
       "        <td style=\"padding-left: 1em; padding-right: 1em; text-align: center; vertical-align: top\">2016</td>\n",
       "        <td style=\"padding-left: 1em; padding-right: 1em; text-align: center; vertical-align: top\">1</td>\n",
       "        <td style=\"padding-left: 1em; padding-right: 1em; text-align: center; vertical-align: top\">3</td>\n",
       "    </tr>\n",
       "    <tr>\n",
       "        <td style=\"padding-left: 1em; padding-right: 1em; text-align: center; vertical-align: top\">13799128</td>\n",
       "        <td style=\"padding-left: 1em; padding-right: 1em; text-align: center; vertical-align: top\">1862</td>\n",
       "        <td style=\"padding-left: 1em; padding-right: 1em; text-align: center; vertical-align: top\">2016-07-05 12:00:00</td>\n",
       "        <td style=\"padding-left: 1em; padding-right: 1em; text-align: center; vertical-align: top\">2016-07-05 00:00:00</td>\n",
       "        <td style=\"padding-left: 1em; padding-right: 1em; text-align: center; vertical-align: top\">5</td>\n",
       "        <td style=\"padding-left: 1em; padding-right: 1em; text-align: center; vertical-align: top\">2016</td>\n",
       "        <td style=\"padding-left: 1em; padding-right: 1em; text-align: center; vertical-align: top\">7</td>\n",
       "        <td style=\"padding-left: 1em; padding-right: 1em; text-align: center; vertical-align: top\">2</td>\n",
       "    </tr>\n",
       "    <tr>\n",
       "        <td style=\"padding-left: 1em; padding-right: 1em; text-align: center; vertical-align: top\">20244878</td>\n",
       "        <td style=\"padding-left: 1em; padding-right: 1em; text-align: center; vertical-align: top\">1862</td>\n",
       "        <td style=\"padding-left: 1em; padding-right: 1em; text-align: center; vertical-align: top\">2016-09-17 15:00:00</td>\n",
       "        <td style=\"padding-left: 1em; padding-right: 1em; text-align: center; vertical-align: top\">2016-09-17 00:00:00</td>\n",
       "        <td style=\"padding-left: 1em; padding-right: 1em; text-align: center; vertical-align: top\">17</td>\n",
       "        <td style=\"padding-left: 1em; padding-right: 1em; text-align: center; vertical-align: top\">2016</td>\n",
       "        <td style=\"padding-left: 1em; padding-right: 1em; text-align: center; vertical-align: top\">9</td>\n",
       "        <td style=\"padding-left: 1em; padding-right: 1em; text-align: center; vertical-align: top\">6</td>\n",
       "    </tr>\n",
       "    <tr>\n",
       "        <td style=\"padding-left: 1em; padding-right: 1em; text-align: center; vertical-align: top\">20244878</td>\n",
       "        <td style=\"padding-left: 1em; padding-right: 1em; text-align: center; vertical-align: top\">1862</td>\n",
       "        <td style=\"padding-left: 1em; padding-right: 1em; text-align: center; vertical-align: top\">2016-05-29 16:00:00</td>\n",
       "        <td style=\"padding-left: 1em; padding-right: 1em; text-align: center; vertical-align: top\">2016-05-29 00:00:00</td>\n",
       "        <td style=\"padding-left: 1em; padding-right: 1em; text-align: center; vertical-align: top\">29</td>\n",
       "        <td style=\"padding-left: 1em; padding-right: 1em; text-align: center; vertical-align: top\">2016</td>\n",
       "        <td style=\"padding-left: 1em; padding-right: 1em; text-align: center; vertical-align: top\">5</td>\n",
       "        <td style=\"padding-left: 1em; padding-right: 1em; text-align: center; vertical-align: top\">7</td>\n",
       "    </tr>\n",
       "    <tr>\n",
       "        <td style=\"padding-left: 1em; padding-right: 1em; text-align: center; vertical-align: top\">438444</td>\n",
       "        <td style=\"padding-left: 1em; padding-right: 1em; text-align: center; vertical-align: top\">1862</td>\n",
       "        <td style=\"padding-left: 1em; padding-right: 1em; text-align: center; vertical-align: top\">2016-02-22 17:00:00</td>\n",
       "        <td style=\"padding-left: 1em; padding-right: 1em; text-align: center; vertical-align: top\">2016-02-22 00:00:00</td>\n",
       "        <td style=\"padding-left: 1em; padding-right: 1em; text-align: center; vertical-align: top\">22</td>\n",
       "        <td style=\"padding-left: 1em; padding-right: 1em; text-align: center; vertical-align: top\">2016</td>\n",
       "        <td style=\"padding-left: 1em; padding-right: 1em; text-align: center; vertical-align: top\">2</td>\n",
       "        <td style=\"padding-left: 1em; padding-right: 1em; text-align: center; vertical-align: top\">1</td>\n",
       "    </tr>\n",
       "    <tr>\n",
       "        <td style=\"padding-left: 1em; padding-right: 1em; text-align: center; vertical-align: top\">22003193</td>\n",
       "        <td style=\"padding-left: 1em; padding-right: 1em; text-align: center; vertical-align: top\">1862</td>\n",
       "        <td style=\"padding-left: 1em; padding-right: 1em; text-align: center; vertical-align: top\">2016-08-07 15:00:00</td>\n",
       "        <td style=\"padding-left: 1em; padding-right: 1em; text-align: center; vertical-align: top\">2016-08-07 00:00:00</td>\n",
       "        <td style=\"padding-left: 1em; padding-right: 1em; text-align: center; vertical-align: top\">7</td>\n",
       "        <td style=\"padding-left: 1em; padding-right: 1em; text-align: center; vertical-align: top\">2016</td>\n",
       "        <td style=\"padding-left: 1em; padding-right: 1em; text-align: center; vertical-align: top\">8</td>\n",
       "        <td style=\"padding-left: 1em; padding-right: 1em; text-align: center; vertical-align: top\">7</td>\n",
       "    </tr>\n",
       "    <tr>\n",
       "        <td style=\"padding-left: 1em; padding-right: 1em; text-align: center; vertical-align: top\">20244878</td>\n",
       "        <td style=\"padding-left: 1em; padding-right: 1em; text-align: center; vertical-align: top\">1862</td>\n",
       "        <td style=\"padding-left: 1em; padding-right: 1em; text-align: center; vertical-align: top\">2016-04-17 16:00:00</td>\n",
       "        <td style=\"padding-left: 1em; padding-right: 1em; text-align: center; vertical-align: top\">2016-04-17 00:00:00</td>\n",
       "        <td style=\"padding-left: 1em; padding-right: 1em; text-align: center; vertical-align: top\">17</td>\n",
       "        <td style=\"padding-left: 1em; padding-right: 1em; text-align: center; vertical-align: top\">2016</td>\n",
       "        <td style=\"padding-left: 1em; padding-right: 1em; text-align: center; vertical-align: top\">4</td>\n",
       "        <td style=\"padding-left: 1em; padding-right: 1em; text-align: center; vertical-align: top\">7</td>\n",
       "    </tr>\n",
       "</table>\n",
       "[69674110 rows x 8 columns]<br/>Note: Only the head of the SFrame is printed.<br/>You can use print_rows(num_rows=m, num_columns=n) to print more rows and columns.\n",
       "</div>"
      ],
      "text/plain": [
       "Columns:\n",
       "\tuser_id\tint\n",
       "\tshop_id\tint\n",
       "\ttimestamp\tstr\n",
       "\tdate\tdatetime\n",
       "\tdate.day\tint\n",
       "\tdate.year\tint\n",
       "\tdate.month\tint\n",
       "\tdate.isoweekday\tint\n",
       "\n",
       "Rows: 69674110\n",
       "\n",
       "Data:\n",
       "+----------+---------+---------------------+---------------------+----------+\n",
       "| user_id  | shop_id |      timestamp      |         date        | date.day |\n",
       "+----------+---------+---------------------+---------------------+----------+\n",
       "| 22127870 |   1862  | 2015-12-25 17:00:00 | 2015-12-25 00:00:00 |    25    |\n",
       "| 3434231  |   1862  | 2016-10-05 11:00:00 | 2016-10-05 00:00:00 |    5     |\n",
       "| 16955285 |   1862  | 2016-02-10 15:00:00 | 2016-02-10 00:00:00 |    10    |\n",
       "| 13799128 |   1862  | 2016-01-13 14:00:00 | 2016-01-13 00:00:00 |    13    |\n",
       "| 13799128 |   1862  | 2016-07-05 12:00:00 | 2016-07-05 00:00:00 |    5     |\n",
       "| 20244878 |   1862  | 2016-09-17 15:00:00 | 2016-09-17 00:00:00 |    17    |\n",
       "| 20244878 |   1862  | 2016-05-29 16:00:00 | 2016-05-29 00:00:00 |    29    |\n",
       "|  438444  |   1862  | 2016-02-22 17:00:00 | 2016-02-22 00:00:00 |    22    |\n",
       "| 22003193 |   1862  | 2016-08-07 15:00:00 | 2016-08-07 00:00:00 |    7     |\n",
       "| 20244878 |   1862  | 2016-04-17 16:00:00 | 2016-04-17 00:00:00 |    17    |\n",
       "+----------+---------+---------------------+---------------------+----------+\n",
       "+-----------+------------+-----------------+\n",
       "| date.year | date.month | date.isoweekday |\n",
       "+-----------+------------+-----------------+\n",
       "|    2015   |     12     |        5        |\n",
       "|    2016   |     10     |        3        |\n",
       "|    2016   |     2      |        3        |\n",
       "|    2016   |     1      |        3        |\n",
       "|    2016   |     7      |        2        |\n",
       "|    2016   |     9      |        6        |\n",
       "|    2016   |     5      |        7        |\n",
       "|    2016   |     2      |        1        |\n",
       "|    2016   |     8      |        7        |\n",
       "|    2016   |     4      |        7        |\n",
       "+-----------+------------+-----------------+\n",
       "[69674110 rows x 8 columns]\n",
       "Note: Only the head of the SFrame is printed.\n",
       "You can use print_rows(num_rows=m, num_columns=n) to print more rows and columns."
      ]
     },
     "execution_count": 21,
     "metadata": {},
     "output_type": "execute_result"
    }
   ],
   "source": [
    "user_pay.add_columns(a)"
   ]
  },
  {
   "cell_type": "code",
   "execution_count": 23,
   "metadata": {
    "collapsed": false
   },
   "outputs": [
    {
     "data": {
      "text/html": [
       "<div style=\"max-height:1000px;max-width:1500px;overflow:auto;\"><table frame=\"box\" rules=\"cols\">\n",
       "    <tr>\n",
       "        <th style=\"padding-left: 1em; padding-right: 1em; text-align: center\">user_id</th>\n",
       "        <th style=\"padding-left: 1em; padding-right: 1em; text-align: center\">shop_id</th>\n",
       "        <th style=\"padding-left: 1em; padding-right: 1em; text-align: center\">date.day</th>\n",
       "        <th style=\"padding-left: 1em; padding-right: 1em; text-align: center\">date.year</th>\n",
       "        <th style=\"padding-left: 1em; padding-right: 1em; text-align: center\">date.month</th>\n",
       "        <th style=\"padding-left: 1em; padding-right: 1em; text-align: center\">date.isoweekday</th>\n",
       "    </tr>\n",
       "    <tr>\n",
       "        <td style=\"padding-left: 1em; padding-right: 1em; text-align: center; vertical-align: top\">22127870</td>\n",
       "        <td style=\"padding-left: 1em; padding-right: 1em; text-align: center; vertical-align: top\">1862</td>\n",
       "        <td style=\"padding-left: 1em; padding-right: 1em; text-align: center; vertical-align: top\">25</td>\n",
       "        <td style=\"padding-left: 1em; padding-right: 1em; text-align: center; vertical-align: top\">2015</td>\n",
       "        <td style=\"padding-left: 1em; padding-right: 1em; text-align: center; vertical-align: top\">12</td>\n",
       "        <td style=\"padding-left: 1em; padding-right: 1em; text-align: center; vertical-align: top\">5</td>\n",
       "    </tr>\n",
       "    <tr>\n",
       "        <td style=\"padding-left: 1em; padding-right: 1em; text-align: center; vertical-align: top\">3434231</td>\n",
       "        <td style=\"padding-left: 1em; padding-right: 1em; text-align: center; vertical-align: top\">1862</td>\n",
       "        <td style=\"padding-left: 1em; padding-right: 1em; text-align: center; vertical-align: top\">5</td>\n",
       "        <td style=\"padding-left: 1em; padding-right: 1em; text-align: center; vertical-align: top\">2016</td>\n",
       "        <td style=\"padding-left: 1em; padding-right: 1em; text-align: center; vertical-align: top\">10</td>\n",
       "        <td style=\"padding-left: 1em; padding-right: 1em; text-align: center; vertical-align: top\">3</td>\n",
       "    </tr>\n",
       "    <tr>\n",
       "        <td style=\"padding-left: 1em; padding-right: 1em; text-align: center; vertical-align: top\">16955285</td>\n",
       "        <td style=\"padding-left: 1em; padding-right: 1em; text-align: center; vertical-align: top\">1862</td>\n",
       "        <td style=\"padding-left: 1em; padding-right: 1em; text-align: center; vertical-align: top\">10</td>\n",
       "        <td style=\"padding-left: 1em; padding-right: 1em; text-align: center; vertical-align: top\">2016</td>\n",
       "        <td style=\"padding-left: 1em; padding-right: 1em; text-align: center; vertical-align: top\">2</td>\n",
       "        <td style=\"padding-left: 1em; padding-right: 1em; text-align: center; vertical-align: top\">3</td>\n",
       "    </tr>\n",
       "    <tr>\n",
       "        <td style=\"padding-left: 1em; padding-right: 1em; text-align: center; vertical-align: top\">13799128</td>\n",
       "        <td style=\"padding-left: 1em; padding-right: 1em; text-align: center; vertical-align: top\">1862</td>\n",
       "        <td style=\"padding-left: 1em; padding-right: 1em; text-align: center; vertical-align: top\">13</td>\n",
       "        <td style=\"padding-left: 1em; padding-right: 1em; text-align: center; vertical-align: top\">2016</td>\n",
       "        <td style=\"padding-left: 1em; padding-right: 1em; text-align: center; vertical-align: top\">1</td>\n",
       "        <td style=\"padding-left: 1em; padding-right: 1em; text-align: center; vertical-align: top\">3</td>\n",
       "    </tr>\n",
       "    <tr>\n",
       "        <td style=\"padding-left: 1em; padding-right: 1em; text-align: center; vertical-align: top\">13799128</td>\n",
       "        <td style=\"padding-left: 1em; padding-right: 1em; text-align: center; vertical-align: top\">1862</td>\n",
       "        <td style=\"padding-left: 1em; padding-right: 1em; text-align: center; vertical-align: top\">5</td>\n",
       "        <td style=\"padding-left: 1em; padding-right: 1em; text-align: center; vertical-align: top\">2016</td>\n",
       "        <td style=\"padding-left: 1em; padding-right: 1em; text-align: center; vertical-align: top\">7</td>\n",
       "        <td style=\"padding-left: 1em; padding-right: 1em; text-align: center; vertical-align: top\">2</td>\n",
       "    </tr>\n",
       "    <tr>\n",
       "        <td style=\"padding-left: 1em; padding-right: 1em; text-align: center; vertical-align: top\">20244878</td>\n",
       "        <td style=\"padding-left: 1em; padding-right: 1em; text-align: center; vertical-align: top\">1862</td>\n",
       "        <td style=\"padding-left: 1em; padding-right: 1em; text-align: center; vertical-align: top\">17</td>\n",
       "        <td style=\"padding-left: 1em; padding-right: 1em; text-align: center; vertical-align: top\">2016</td>\n",
       "        <td style=\"padding-left: 1em; padding-right: 1em; text-align: center; vertical-align: top\">9</td>\n",
       "        <td style=\"padding-left: 1em; padding-right: 1em; text-align: center; vertical-align: top\">6</td>\n",
       "    </tr>\n",
       "    <tr>\n",
       "        <td style=\"padding-left: 1em; padding-right: 1em; text-align: center; vertical-align: top\">20244878</td>\n",
       "        <td style=\"padding-left: 1em; padding-right: 1em; text-align: center; vertical-align: top\">1862</td>\n",
       "        <td style=\"padding-left: 1em; padding-right: 1em; text-align: center; vertical-align: top\">29</td>\n",
       "        <td style=\"padding-left: 1em; padding-right: 1em; text-align: center; vertical-align: top\">2016</td>\n",
       "        <td style=\"padding-left: 1em; padding-right: 1em; text-align: center; vertical-align: top\">5</td>\n",
       "        <td style=\"padding-left: 1em; padding-right: 1em; text-align: center; vertical-align: top\">7</td>\n",
       "    </tr>\n",
       "    <tr>\n",
       "        <td style=\"padding-left: 1em; padding-right: 1em; text-align: center; vertical-align: top\">438444</td>\n",
       "        <td style=\"padding-left: 1em; padding-right: 1em; text-align: center; vertical-align: top\">1862</td>\n",
       "        <td style=\"padding-left: 1em; padding-right: 1em; text-align: center; vertical-align: top\">22</td>\n",
       "        <td style=\"padding-left: 1em; padding-right: 1em; text-align: center; vertical-align: top\">2016</td>\n",
       "        <td style=\"padding-left: 1em; padding-right: 1em; text-align: center; vertical-align: top\">2</td>\n",
       "        <td style=\"padding-left: 1em; padding-right: 1em; text-align: center; vertical-align: top\">1</td>\n",
       "    </tr>\n",
       "    <tr>\n",
       "        <td style=\"padding-left: 1em; padding-right: 1em; text-align: center; vertical-align: top\">22003193</td>\n",
       "        <td style=\"padding-left: 1em; padding-right: 1em; text-align: center; vertical-align: top\">1862</td>\n",
       "        <td style=\"padding-left: 1em; padding-right: 1em; text-align: center; vertical-align: top\">7</td>\n",
       "        <td style=\"padding-left: 1em; padding-right: 1em; text-align: center; vertical-align: top\">2016</td>\n",
       "        <td style=\"padding-left: 1em; padding-right: 1em; text-align: center; vertical-align: top\">8</td>\n",
       "        <td style=\"padding-left: 1em; padding-right: 1em; text-align: center; vertical-align: top\">7</td>\n",
       "    </tr>\n",
       "    <tr>\n",
       "        <td style=\"padding-left: 1em; padding-right: 1em; text-align: center; vertical-align: top\">20244878</td>\n",
       "        <td style=\"padding-left: 1em; padding-right: 1em; text-align: center; vertical-align: top\">1862</td>\n",
       "        <td style=\"padding-left: 1em; padding-right: 1em; text-align: center; vertical-align: top\">17</td>\n",
       "        <td style=\"padding-left: 1em; padding-right: 1em; text-align: center; vertical-align: top\">2016</td>\n",
       "        <td style=\"padding-left: 1em; padding-right: 1em; text-align: center; vertical-align: top\">4</td>\n",
       "        <td style=\"padding-left: 1em; padding-right: 1em; text-align: center; vertical-align: top\">7</td>\n",
       "    </tr>\n",
       "</table>\n",
       "[69674110 rows x 6 columns]<br/>Note: Only the head of the SFrame is printed.<br/>You can use print_rows(num_rows=m, num_columns=n) to print more rows and columns.\n",
       "</div>"
      ],
      "text/plain": [
       "Columns:\n",
       "\tuser_id\tint\n",
       "\tshop_id\tint\n",
       "\tdate.day\tint\n",
       "\tdate.year\tint\n",
       "\tdate.month\tint\n",
       "\tdate.isoweekday\tint\n",
       "\n",
       "Rows: 69674110\n",
       "\n",
       "Data:\n",
       "+----------+---------+----------+-----------+------------+-----------------+\n",
       "| user_id  | shop_id | date.day | date.year | date.month | date.isoweekday |\n",
       "+----------+---------+----------+-----------+------------+-----------------+\n",
       "| 22127870 |   1862  |    25    |    2015   |     12     |        5        |\n",
       "| 3434231  |   1862  |    5     |    2016   |     10     |        3        |\n",
       "| 16955285 |   1862  |    10    |    2016   |     2      |        3        |\n",
       "| 13799128 |   1862  |    13    |    2016   |     1      |        3        |\n",
       "| 13799128 |   1862  |    5     |    2016   |     7      |        2        |\n",
       "| 20244878 |   1862  |    17    |    2016   |     9      |        6        |\n",
       "| 20244878 |   1862  |    29    |    2016   |     5      |        7        |\n",
       "|  438444  |   1862  |    22    |    2016   |     2      |        1        |\n",
       "| 22003193 |   1862  |    7     |    2016   |     8      |        7        |\n",
       "| 20244878 |   1862  |    17    |    2016   |     4      |        7        |\n",
       "+----------+---------+----------+-----------+------------+-----------------+\n",
       "[69674110 rows x 6 columns]\n",
       "Note: Only the head of the SFrame is printed.\n",
       "You can use print_rows(num_rows=m, num_columns=n) to print more rows and columns."
      ]
     },
     "execution_count": 23,
     "metadata": {},
     "output_type": "execute_result"
    }
   ],
   "source": [
    "user_pay.remove_columns(['timestamp', 'date'])"
   ]
  },
  {
   "cell_type": "code",
   "execution_count": 24,
   "metadata": {
    "collapsed": false
   },
   "outputs": [
    {
     "data": {
      "text/html": [
       "<div style=\"max-height:1000px;max-width:1500px;overflow:auto;\"><table frame=\"box\" rules=\"cols\">\n",
       "    <tr>\n",
       "        <th style=\"padding-left: 1em; padding-right: 1em; text-align: center\">shop_id</th>\n",
       "        <th style=\"padding-left: 1em; padding-right: 1em; text-align: center\">date.day</th>\n",
       "        <th style=\"padding-left: 1em; padding-right: 1em; text-align: center\">date.year</th>\n",
       "        <th style=\"padding-left: 1em; padding-right: 1em; text-align: center\">date.month</th>\n",
       "        <th style=\"padding-left: 1em; padding-right: 1em; text-align: center\">date.isoweekday</th>\n",
       "    </tr>\n",
       "    <tr>\n",
       "        <td style=\"padding-left: 1em; padding-right: 1em; text-align: center; vertical-align: top\">1862</td>\n",
       "        <td style=\"padding-left: 1em; padding-right: 1em; text-align: center; vertical-align: top\">25</td>\n",
       "        <td style=\"padding-left: 1em; padding-right: 1em; text-align: center; vertical-align: top\">2015</td>\n",
       "        <td style=\"padding-left: 1em; padding-right: 1em; text-align: center; vertical-align: top\">12</td>\n",
       "        <td style=\"padding-left: 1em; padding-right: 1em; text-align: center; vertical-align: top\">5</td>\n",
       "    </tr>\n",
       "    <tr>\n",
       "        <td style=\"padding-left: 1em; padding-right: 1em; text-align: center; vertical-align: top\">1862</td>\n",
       "        <td style=\"padding-left: 1em; padding-right: 1em; text-align: center; vertical-align: top\">5</td>\n",
       "        <td style=\"padding-left: 1em; padding-right: 1em; text-align: center; vertical-align: top\">2016</td>\n",
       "        <td style=\"padding-left: 1em; padding-right: 1em; text-align: center; vertical-align: top\">10</td>\n",
       "        <td style=\"padding-left: 1em; padding-right: 1em; text-align: center; vertical-align: top\">3</td>\n",
       "    </tr>\n",
       "    <tr>\n",
       "        <td style=\"padding-left: 1em; padding-right: 1em; text-align: center; vertical-align: top\">1862</td>\n",
       "        <td style=\"padding-left: 1em; padding-right: 1em; text-align: center; vertical-align: top\">10</td>\n",
       "        <td style=\"padding-left: 1em; padding-right: 1em; text-align: center; vertical-align: top\">2016</td>\n",
       "        <td style=\"padding-left: 1em; padding-right: 1em; text-align: center; vertical-align: top\">2</td>\n",
       "        <td style=\"padding-left: 1em; padding-right: 1em; text-align: center; vertical-align: top\">3</td>\n",
       "    </tr>\n",
       "    <tr>\n",
       "        <td style=\"padding-left: 1em; padding-right: 1em; text-align: center; vertical-align: top\">1862</td>\n",
       "        <td style=\"padding-left: 1em; padding-right: 1em; text-align: center; vertical-align: top\">13</td>\n",
       "        <td style=\"padding-left: 1em; padding-right: 1em; text-align: center; vertical-align: top\">2016</td>\n",
       "        <td style=\"padding-left: 1em; padding-right: 1em; text-align: center; vertical-align: top\">1</td>\n",
       "        <td style=\"padding-left: 1em; padding-right: 1em; text-align: center; vertical-align: top\">3</td>\n",
       "    </tr>\n",
       "    <tr>\n",
       "        <td style=\"padding-left: 1em; padding-right: 1em; text-align: center; vertical-align: top\">1862</td>\n",
       "        <td style=\"padding-left: 1em; padding-right: 1em; text-align: center; vertical-align: top\">5</td>\n",
       "        <td style=\"padding-left: 1em; padding-right: 1em; text-align: center; vertical-align: top\">2016</td>\n",
       "        <td style=\"padding-left: 1em; padding-right: 1em; text-align: center; vertical-align: top\">7</td>\n",
       "        <td style=\"padding-left: 1em; padding-right: 1em; text-align: center; vertical-align: top\">2</td>\n",
       "    </tr>\n",
       "    <tr>\n",
       "        <td style=\"padding-left: 1em; padding-right: 1em; text-align: center; vertical-align: top\">1862</td>\n",
       "        <td style=\"padding-left: 1em; padding-right: 1em; text-align: center; vertical-align: top\">17</td>\n",
       "        <td style=\"padding-left: 1em; padding-right: 1em; text-align: center; vertical-align: top\">2016</td>\n",
       "        <td style=\"padding-left: 1em; padding-right: 1em; text-align: center; vertical-align: top\">9</td>\n",
       "        <td style=\"padding-left: 1em; padding-right: 1em; text-align: center; vertical-align: top\">6</td>\n",
       "    </tr>\n",
       "    <tr>\n",
       "        <td style=\"padding-left: 1em; padding-right: 1em; text-align: center; vertical-align: top\">1862</td>\n",
       "        <td style=\"padding-left: 1em; padding-right: 1em; text-align: center; vertical-align: top\">29</td>\n",
       "        <td style=\"padding-left: 1em; padding-right: 1em; text-align: center; vertical-align: top\">2016</td>\n",
       "        <td style=\"padding-left: 1em; padding-right: 1em; text-align: center; vertical-align: top\">5</td>\n",
       "        <td style=\"padding-left: 1em; padding-right: 1em; text-align: center; vertical-align: top\">7</td>\n",
       "    </tr>\n",
       "    <tr>\n",
       "        <td style=\"padding-left: 1em; padding-right: 1em; text-align: center; vertical-align: top\">1862</td>\n",
       "        <td style=\"padding-left: 1em; padding-right: 1em; text-align: center; vertical-align: top\">22</td>\n",
       "        <td style=\"padding-left: 1em; padding-right: 1em; text-align: center; vertical-align: top\">2016</td>\n",
       "        <td style=\"padding-left: 1em; padding-right: 1em; text-align: center; vertical-align: top\">2</td>\n",
       "        <td style=\"padding-left: 1em; padding-right: 1em; text-align: center; vertical-align: top\">1</td>\n",
       "    </tr>\n",
       "    <tr>\n",
       "        <td style=\"padding-left: 1em; padding-right: 1em; text-align: center; vertical-align: top\">1862</td>\n",
       "        <td style=\"padding-left: 1em; padding-right: 1em; text-align: center; vertical-align: top\">7</td>\n",
       "        <td style=\"padding-left: 1em; padding-right: 1em; text-align: center; vertical-align: top\">2016</td>\n",
       "        <td style=\"padding-left: 1em; padding-right: 1em; text-align: center; vertical-align: top\">8</td>\n",
       "        <td style=\"padding-left: 1em; padding-right: 1em; text-align: center; vertical-align: top\">7</td>\n",
       "    </tr>\n",
       "    <tr>\n",
       "        <td style=\"padding-left: 1em; padding-right: 1em; text-align: center; vertical-align: top\">1862</td>\n",
       "        <td style=\"padding-left: 1em; padding-right: 1em; text-align: center; vertical-align: top\">17</td>\n",
       "        <td style=\"padding-left: 1em; padding-right: 1em; text-align: center; vertical-align: top\">2016</td>\n",
       "        <td style=\"padding-left: 1em; padding-right: 1em; text-align: center; vertical-align: top\">4</td>\n",
       "        <td style=\"padding-left: 1em; padding-right: 1em; text-align: center; vertical-align: top\">7</td>\n",
       "    </tr>\n",
       "</table>\n",
       "[69674110 rows x 5 columns]<br/>Note: Only the head of the SFrame is printed.<br/>You can use print_rows(num_rows=m, num_columns=n) to print more rows and columns.\n",
       "</div>"
      ],
      "text/plain": [
       "Columns:\n",
       "\tshop_id\tint\n",
       "\tdate.day\tint\n",
       "\tdate.year\tint\n",
       "\tdate.month\tint\n",
       "\tdate.isoweekday\tint\n",
       "\n",
       "Rows: 69674110\n",
       "\n",
       "Data:\n",
       "+---------+----------+-----------+------------+-----------------+\n",
       "| shop_id | date.day | date.year | date.month | date.isoweekday |\n",
       "+---------+----------+-----------+------------+-----------------+\n",
       "|   1862  |    25    |    2015   |     12     |        5        |\n",
       "|   1862  |    5     |    2016   |     10     |        3        |\n",
       "|   1862  |    10    |    2016   |     2      |        3        |\n",
       "|   1862  |    13    |    2016   |     1      |        3        |\n",
       "|   1862  |    5     |    2016   |     7      |        2        |\n",
       "|   1862  |    17    |    2016   |     9      |        6        |\n",
       "|   1862  |    29    |    2016   |     5      |        7        |\n",
       "|   1862  |    22    |    2016   |     2      |        1        |\n",
       "|   1862  |    7     |    2016   |     8      |        7        |\n",
       "|   1862  |    17    |    2016   |     4      |        7        |\n",
       "+---------+----------+-----------+------------+-----------------+\n",
       "[69674110 rows x 5 columns]\n",
       "Note: Only the head of the SFrame is printed.\n",
       "You can use print_rows(num_rows=m, num_columns=n) to print more rows and columns."
      ]
     },
     "execution_count": 24,
     "metadata": {},
     "output_type": "execute_result"
    }
   ],
   "source": [
    "user_pay.remove_columns(['user_id'])"
   ]
  },
  {
   "cell_type": "code",
   "execution_count": 26,
   "metadata": {
    "collapsed": true
   },
   "outputs": [],
   "source": [
    "import graphlab.aggregate as agg\n",
    "\n",
    "user_payg = user_pay.groupby(key_columns= ['shop_id','date.day','date.year', 'date.month', 'date.isoweekday'],\\\n",
    "                             operations={'count': agg.COUNT()})"
   ]
  },
  {
   "cell_type": "code",
   "execution_count": 34,
   "metadata": {
    "collapsed": false
   },
   "outputs": [
    {
     "data": {
      "text/html": [
       "<div style=\"max-height:1000px;max-width:1500px;overflow:auto;\"><table frame=\"box\" rules=\"cols\">\n",
       "    <tr>\n",
       "        <th style=\"padding-left: 1em; padding-right: 1em; text-align: center\">date.day</th>\n",
       "        <th style=\"padding-left: 1em; padding-right: 1em; text-align: center\">date.isoweekday</th>\n",
       "        <th style=\"padding-left: 1em; padding-right: 1em; text-align: center\">date.month</th>\n",
       "        <th style=\"padding-left: 1em; padding-right: 1em; text-align: center\">date.year</th>\n",
       "        <th style=\"padding-left: 1em; padding-right: 1em; text-align: center\">shop_id</th>\n",
       "        <th style=\"padding-left: 1em; padding-right: 1em; text-align: center\">count</th>\n",
       "    </tr>\n",
       "    <tr>\n",
       "        <td style=\"padding-left: 1em; padding-right: 1em; text-align: center; vertical-align: top\">25</td>\n",
       "        <td style=\"padding-left: 1em; padding-right: 1em; text-align: center; vertical-align: top\">7</td>\n",
       "        <td style=\"padding-left: 1em; padding-right: 1em; text-align: center; vertical-align: top\">9</td>\n",
       "        <td style=\"padding-left: 1em; padding-right: 1em; text-align: center; vertical-align: top\">2016</td>\n",
       "        <td style=\"padding-left: 1em; padding-right: 1em; text-align: center; vertical-align: top\">1230</td>\n",
       "        <td style=\"padding-left: 1em; padding-right: 1em; text-align: center; vertical-align: top\">81</td>\n",
       "    </tr>\n",
       "</table>\n",
       "[1 rows x 6 columns]<br/>\n",
       "</div>"
      ],
      "text/plain": [
       "Columns:\n",
       "\tdate.day\tint\n",
       "\tdate.isoweekday\tint\n",
       "\tdate.month\tint\n",
       "\tdate.year\tint\n",
       "\tshop_id\tint\n",
       "\tcount\tint\n",
       "\n",
       "Rows: 1\n",
       "\n",
       "Data:\n",
       "+----------+-----------------+------------+-----------+---------+-------+\n",
       "| date.day | date.isoweekday | date.month | date.year | shop_id | count |\n",
       "+----------+-----------------+------------+-----------+---------+-------+\n",
       "|    25    |        7        |     9      |    2016   |   1230  |   81  |\n",
       "+----------+-----------------+------------+-----------+---------+-------+\n",
       "[1 rows x 6 columns]"
      ]
     },
     "execution_count": 34,
     "metadata": {},
     "output_type": "execute_result"
    }
   ],
   "source": [
    "user_payg.head(1)"
   ]
  },
  {
   "cell_type": "code",
   "execution_count": 32,
   "metadata": {
    "collapsed": false,
    "scrolled": true
   },
   "outputs": [
    {
     "data": {
      "application/javascript": [
       "$(\"head\").append($(\"<link/>\").attr({\n",
       "  rel:  \"stylesheet\",\n",
       "  type: \"text/css\",\n",
       "  href: \"//cdnjs.cloudflare.com/ajax/libs/font-awesome/4.1.0/css/font-awesome.min.css\"\n",
       "}));\n",
       "$(\"head\").append($(\"<link/>\").attr({\n",
       "  rel:  \"stylesheet\",\n",
       "  type: \"text/css\",\n",
       "  href: \"https://static.turi.com/products/graphlab-create/2.1/canvas/css/canvas.css\"\n",
       "}));\n",
       "\n",
       "            (function(){\n",
       "\n",
       "                var e = null;\n",
       "                if (typeof element == 'undefined') {\n",
       "                    var scripts = document.getElementsByTagName('script');\n",
       "                    var thisScriptTag = scripts[scripts.length-1];\n",
       "                    var parentDiv = thisScriptTag.parentNode;\n",
       "                    e = document.createElement('div');\n",
       "                    parentDiv.appendChild(e);\n",
       "                } else {\n",
       "                    e = element[0];\n",
       "                }\n",
       "\n",
       "                if (typeof requirejs !== 'undefined') {\n",
       "                    // disable load timeout; ipython_app.js is large and can take a while to load.\n",
       "                    requirejs.config({waitSeconds: 0});\n",
       "                }\n",
       "\n",
       "                require(['https://static.turi.com/products/graphlab-create/2.1/canvas/js/ipython_app.js'], function(IPythonApp){\n",
       "                    var app = new IPythonApp();\n",
       "                    app.attachView('sframe','Summary', {\"ipython\": true, \"sketch\": {\"count\": {\"std\": 132.04405237913758, \"complete\": true, \"min\": 1.0, \"max\": 4704.0, \"quantile\": [1.0, 5.0, 9.0, 13.0, 17.0, 20.0, 22.0, 25.0, 27.0, 29.0, 31.0, 33.0, 34.0, 36.0, 37.0, 39.0, 40.0, 42.0, 43.0, 44.0, 46.0, 47.0, 48.0, 49.0, 50.0, 52.0, 53.0, 54.0, 55.0, 56.0, 57.0, 59.0, 60.0, 61.0, 62.0, 63.0, 64.0, 66.0, 67.0, 68.0, 69.0, 70.0, 72.0, 73.0, 74.0, 75.0, 77.0, 78.0, 79.0, 81.0, 82.0, 84.0, 85.0, 87.0, 88.0, 90.0, 91.0, 93.0, 95.0, 96.0, 98.0, 100.0, 102.0, 104.0, 106.0, 108.0, 110.0, 113.0, 115.0, 117.0, 120.0, 123.0, 126.0, 129.0, 132.0, 135.0, 139.0, 143.0, 147.0, 151.0, 156.0, 160.0, 165.0, 171.0, 177.0, 184.0, 192.0, 200.0, 208.0, 219.0, 231.0, 244.0, 259.0, 276.0, 296.0, 321.0, 355.0, 399.0, 461.0, 595.0, 4704.0], \"median\": 82.0, \"numeric\": true, \"num_unique\": 1894, \"num_undefined\": 0, \"var\": 17435.631768704432, \"progress\": 1.0, \"size\": 599275, \"frequent_items\": {\"1\": {\"frequency\": 2048, \"value\": 1}, \"2\": {\"frequency\": 1390, \"value\": 2}, \"3\": {\"frequency\": 1358, \"value\": 3}, \"4\": {\"frequency\": 1220, \"value\": 4}, \"5\": {\"frequency\": 1313, \"value\": 5}, \"6\": {\"frequency\": 1293, \"value\": 6}, \"7\": {\"frequency\": 1354, \"value\": 7}, \"8\": {\"frequency\": 1390, \"value\": 8}, \"9\": {\"frequency\": 1455, \"value\": 9}, \"10\": {\"frequency\": 1469, \"value\": 10}, \"11\": {\"frequency\": 1429, \"value\": 11}, \"12\": {\"frequency\": 1569, \"value\": 12}, \"13\": {\"frequency\": 1596, \"value\": 13}, \"14\": {\"frequency\": 1653, \"value\": 14}, \"15\": {\"frequency\": 1681, \"value\": 15}, \"16\": {\"frequency\": 1833, \"value\": 16}, \"17\": {\"frequency\": 1868, \"value\": 17}, \"18\": {\"frequency\": 1980, \"value\": 18}, \"19\": {\"frequency\": 2065, \"value\": 19}, \"20\": {\"frequency\": 2048, \"value\": 20}, \"21\": {\"frequency\": 2373, \"value\": 21}, \"22\": {\"frequency\": 2371, \"value\": 22}, \"23\": {\"frequency\": 2461, \"value\": 23}, \"24\": {\"frequency\": 2578, \"value\": 24}, \"25\": {\"frequency\": 2719, \"value\": 25}, \"26\": {\"frequency\": 2806, \"value\": 26}, \"27\": {\"frequency\": 2892, \"value\": 27}, \"28\": {\"frequency\": 2887, \"value\": 28}, \"29\": {\"frequency\": 3093, \"value\": 29}, \"30\": {\"frequency\": 3217, \"value\": 30}, \"31\": {\"frequency\": 3270, \"value\": 31}, \"32\": {\"frequency\": 3474, \"value\": 32}, \"33\": {\"frequency\": 3534, \"value\": 33}, \"34\": {\"frequency\": 3746, \"value\": 34}, \"35\": {\"frequency\": 3839, \"value\": 35}, \"36\": {\"frequency\": 3914, \"value\": 36}, \"37\": {\"frequency\": 4030, \"value\": 37}, \"38\": {\"frequency\": 4083, \"value\": 38}, \"39\": {\"frequency\": 4229, \"value\": 39}, \"40\": {\"frequency\": 4240, \"value\": 40}, \"41\": {\"frequency\": 4353, \"value\": 41}, \"42\": {\"frequency\": 4598, \"value\": 42}, \"43\": {\"frequency\": 4462, \"value\": 43}, \"44\": {\"frequency\": 4618, \"value\": 44}, \"45\": {\"frequency\": 4653, \"value\": 45}, \"46\": {\"frequency\": 4831, \"value\": 46}, \"47\": {\"frequency\": 4959, \"value\": 47}, \"48\": {\"frequency\": 4837, \"value\": 48}, \"49\": {\"frequency\": 4901, \"value\": 49}, \"50\": {\"frequency\": 4898, \"value\": 50}, \"51\": {\"frequency\": 5045, \"value\": 51}, \"52\": {\"frequency\": 5099, \"value\": 52}, \"53\": {\"frequency\": 5203, \"value\": 53}, \"54\": {\"frequency\": 5028, \"value\": 54}, \"55\": {\"frequency\": 5259, \"value\": 55}, \"56\": {\"frequency\": 5088, \"value\": 56}, \"57\": {\"frequency\": 5237, \"value\": 57}, \"58\": {\"frequency\": 5243, \"value\": 58}, \"59\": {\"frequency\": 5112, \"value\": 59}, \"60\": {\"frequency\": 5275, \"value\": 60}, \"61\": {\"frequency\": 5067, \"value\": 61}, \"62\": {\"frequency\": 5153, \"value\": 62}, \"63\": {\"frequency\": 5240, \"value\": 63}, \"64\": {\"frequency\": 5174, \"value\": 64}, \"65\": {\"frequency\": 5245, \"value\": 65}, \"66\": {\"frequency\": 4991, \"value\": 66}, \"67\": {\"frequency\": 5082, \"value\": 67}, \"68\": {\"frequency\": 4998, \"value\": 68}, \"69\": {\"frequency\": 5066, \"value\": 69}, \"70\": {\"frequency\": 4868, \"value\": 70}, \"71\": {\"frequency\": 4819, \"value\": 71}, \"72\": {\"frequency\": 4749, \"value\": 72}, \"73\": {\"frequency\": 4678, \"value\": 73}, \"74\": {\"frequency\": 4691, \"value\": 74}, \"75\": {\"frequency\": 4609, \"value\": 75}, \"76\": {\"frequency\": 4472, \"value\": 76}, \"77\": {\"frequency\": 4505, \"value\": 77}, \"78\": {\"frequency\": 4528, \"value\": 78}, \"79\": {\"frequency\": 4250, \"value\": 79}, \"80\": {\"frequency\": 4450, \"value\": 80}, \"81\": {\"frequency\": 4197, \"value\": 81}, \"82\": {\"frequency\": 4252, \"value\": 82}, \"83\": {\"frequency\": 4196, \"value\": 83}, \"84\": {\"frequency\": 4145, \"value\": 84}, \"85\": {\"frequency\": 4100, \"value\": 85}, \"86\": {\"frequency\": 3940, \"value\": 86}, \"87\": {\"frequency\": 3925, \"value\": 87}, \"88\": {\"frequency\": 3838, \"value\": 88}, \"89\": {\"frequency\": 3989, \"value\": 89}, \"90\": {\"frequency\": 3800, \"value\": 90}, \"91\": {\"frequency\": 3626, \"value\": 91}, \"92\": {\"frequency\": 3589, \"value\": 92}, \"93\": {\"frequency\": 3621, \"value\": 93}, \"94\": {\"frequency\": 3425, \"value\": 94}, \"95\": {\"frequency\": 3462, \"value\": 95}, \"96\": {\"frequency\": 3294, \"value\": 96}, \"97\": {\"frequency\": 3328, \"value\": 97}, \"98\": {\"frequency\": 3235, \"value\": 98}, \"99\": {\"frequency\": 3177, \"value\": 99}, \"100\": {\"frequency\": 3161, \"value\": 100}, \"101\": {\"frequency\": 3078, \"value\": 101}, \"102\": {\"frequency\": 3036, \"value\": 102}, \"103\": {\"frequency\": 3086, \"value\": 103}, \"104\": {\"frequency\": 2867, \"value\": 104}, \"105\": {\"frequency\": 2876, \"value\": 105}, \"106\": {\"frequency\": 2870, \"value\": 106}, \"107\": {\"frequency\": 2870, \"value\": 107}, \"108\": {\"frequency\": 2707, \"value\": 108}, \"109\": {\"frequency\": 2701, \"value\": 109}, \"110\": {\"frequency\": 2689, \"value\": 110}, \"111\": {\"frequency\": 2638, \"value\": 111}, \"112\": {\"frequency\": 2603, \"value\": 112}, \"113\": {\"frequency\": 2532, \"value\": 113}, \"114\": {\"frequency\": 2540, \"value\": 114}, \"115\": {\"frequency\": 2425, \"value\": 115}, \"116\": {\"frequency\": 2333, \"value\": 116}, \"117\": {\"frequency\": 2365, \"value\": 117}, \"118\": {\"frequency\": 2364, \"value\": 118}, \"119\": {\"frequency\": 2341, \"value\": 119}, \"120\": {\"frequency\": 2212, \"value\": 120}, \"121\": {\"frequency\": 2178, \"value\": 121}, \"122\": {\"frequency\": 2100, \"value\": 122}, \"123\": {\"frequency\": 2141, \"value\": 123}, \"124\": {\"frequency\": 2106, \"value\": 124}, \"125\": {\"frequency\": 2014, \"value\": 125}, \"126\": {\"frequency\": 1971, \"value\": 126}, \"127\": {\"frequency\": 1968, \"value\": 127}, \"128\": {\"frequency\": 1914, \"value\": 128}, \"129\": {\"frequency\": 1911, \"value\": 129}, \"130\": {\"frequency\": 1849, \"value\": 130}, \"131\": {\"frequency\": 1882, \"value\": 131}, \"132\": {\"frequency\": 1886, \"value\": 132}, \"133\": {\"frequency\": 1786, \"value\": 133}, \"134\": {\"frequency\": 1741, \"value\": 134}, \"135\": {\"frequency\": 1769, \"value\": 135}, \"136\": {\"frequency\": 1671, \"value\": 136}, \"137\": {\"frequency\": 1716, \"value\": 137}, \"138\": {\"frequency\": 1692, \"value\": 138}, \"139\": {\"frequency\": 1598, \"value\": 139}, \"140\": {\"frequency\": 1631, \"value\": 140}, \"141\": {\"frequency\": 1600, \"value\": 141}, \"142\": {\"frequency\": 1544, \"value\": 142}, \"143\": {\"frequency\": 1533, \"value\": 143}, \"144\": {\"frequency\": 1498, \"value\": 144}, \"145\": {\"frequency\": 1482, \"value\": 145}, \"146\": {\"frequency\": 1468, \"value\": 146}, \"147\": {\"frequency\": 1431, \"value\": 147}, \"148\": {\"frequency\": 1471, \"value\": 148}, \"149\": {\"frequency\": 1367, \"value\": 149}, \"150\": {\"frequency\": 1354, \"value\": 150}, \"151\": {\"frequency\": 1435, \"value\": 151}, \"152\": {\"frequency\": 1310, \"value\": 152}, \"153\": {\"frequency\": 1360, \"value\": 153}, \"154\": {\"frequency\": 1299, \"value\": 154}, \"155\": {\"frequency\": 1317, \"value\": 155}, \"156\": {\"frequency\": 1338, \"value\": 156}, \"157\": {\"frequency\": 1193, \"value\": 157}, \"158\": {\"frequency\": 1267, \"value\": 158}, \"159\": {\"frequency\": 1231, \"value\": 159}, \"160\": {\"frequency\": 1194, \"value\": 160}, \"161\": {\"frequency\": 1174, \"value\": 161}, \"162\": {\"frequency\": 1191, \"value\": 162}, \"163\": {\"frequency\": 1135, \"value\": 163}, \"164\": {\"frequency\": 1098, \"value\": 164}, \"165\": {\"frequency\": 1110, \"value\": 165}, \"166\": {\"frequency\": 1082, \"value\": 166}, \"167\": {\"frequency\": 1117, \"value\": 167}, \"168\": {\"frequency\": 1025, \"value\": 168}, \"169\": {\"frequency\": 1003, \"value\": 169}, \"170\": {\"frequency\": 1075, \"value\": 170}, \"171\": {\"frequency\": 1021, \"value\": 171}, \"172\": {\"frequency\": 1043, \"value\": 172}, \"173\": {\"frequency\": 1069, \"value\": 173}, \"174\": {\"frequency\": 940, \"value\": 174}, \"175\": {\"frequency\": 993, \"value\": 175}, \"176\": {\"frequency\": 986, \"value\": 176}, \"177\": {\"frequency\": 949, \"value\": 177}, \"178\": {\"frequency\": 931, \"value\": 178}, \"179\": {\"frequency\": 860, \"value\": 179}, \"180\": {\"frequency\": 949, \"value\": 180}, \"181\": {\"frequency\": 864, \"value\": 181}, \"182\": {\"frequency\": 894, \"value\": 182}, \"183\": {\"frequency\": 893, \"value\": 183}, \"184\": {\"frequency\": 899, \"value\": 184}, \"185\": {\"frequency\": 825, \"value\": 185}, \"186\": {\"frequency\": 778, \"value\": 186}, \"187\": {\"frequency\": 779, \"value\": 187}, \"188\": {\"frequency\": 859, \"value\": 188}, \"189\": {\"frequency\": 786, \"value\": 189}, \"190\": {\"frequency\": 779, \"value\": 190}, \"191\": {\"frequency\": 737, \"value\": 191}, \"192\": {\"frequency\": 740, \"value\": 192}, \"193\": {\"frequency\": 841, \"value\": 193}, \"194\": {\"frequency\": 784, \"value\": 194}, \"195\": {\"frequency\": 727, \"value\": 195}, \"196\": {\"frequency\": 726, \"value\": 196}, \"197\": {\"frequency\": 722, \"value\": 197}, \"198\": {\"frequency\": 705, \"value\": 198}, \"199\": {\"frequency\": 723, \"value\": 199}, \"200\": {\"frequency\": 716, \"value\": 200}, \"201\": {\"frequency\": 690, \"value\": 201}, \"202\": {\"frequency\": 699, \"value\": 202}, \"203\": {\"frequency\": 658, \"value\": 203}, \"204\": {\"frequency\": 660, \"value\": 204}, \"205\": {\"frequency\": 656, \"value\": 205}, \"206\": {\"frequency\": 636, \"value\": 206}, \"207\": {\"frequency\": 591, \"value\": 207}, \"208\": {\"frequency\": 637, \"value\": 208}, \"209\": {\"frequency\": 650, \"value\": 209}, \"210\": {\"frequency\": 598, \"value\": 210}, \"211\": {\"frequency\": 629, \"value\": 211}, \"212\": {\"frequency\": 612, \"value\": 212}, \"213\": {\"frequency\": 568, \"value\": 213}, \"214\": {\"frequency\": 616, \"value\": 214}, \"215\": {\"frequency\": 588, \"value\": 215}, \"216\": {\"frequency\": 548, \"value\": 216}, \"217\": {\"frequency\": 599, \"value\": 217}, \"218\": {\"frequency\": 570, \"value\": 218}, \"219\": {\"frequency\": 505, \"value\": 219}, \"220\": {\"frequency\": 574, \"value\": 220}, \"221\": {\"frequency\": 541, \"value\": 221}, \"222\": {\"frequency\": 555, \"value\": 222}, \"223\": {\"frequency\": 540, \"value\": 223}, \"224\": {\"frequency\": 535, \"value\": 224}, \"225\": {\"frequency\": 502, \"value\": 225}, \"226\": {\"frequency\": 505, \"value\": 226}, \"227\": {\"frequency\": 516, \"value\": 227}, \"228\": {\"frequency\": 537, \"value\": 228}, \"229\": {\"frequency\": 501, \"value\": 229}, \"230\": {\"frequency\": 451, \"value\": 230}, \"231\": {\"frequency\": 489, \"value\": 231}, \"232\": {\"frequency\": 433, \"value\": 232}, \"233\": {\"frequency\": 446, \"value\": 233}, \"234\": {\"frequency\": 474, \"value\": 234}, \"235\": {\"frequency\": 465, \"value\": 235}, \"236\": {\"frequency\": 482, \"value\": 236}, \"237\": {\"frequency\": 451, \"value\": 237}, \"238\": {\"frequency\": 474, \"value\": 238}, \"239\": {\"frequency\": 440, \"value\": 239}, \"240\": {\"frequency\": 449, \"value\": 240}, \"241\": {\"frequency\": 392, \"value\": 241}, \"242\": {\"frequency\": 422, \"value\": 242}, \"243\": {\"frequency\": 415, \"value\": 243}, \"244\": {\"frequency\": 418, \"value\": 244}, \"245\": {\"frequency\": 407, \"value\": 245}, \"246\": {\"frequency\": 433, \"value\": 246}, \"247\": {\"frequency\": 392, \"value\": 247}, \"248\": {\"frequency\": 402, \"value\": 248}, \"249\": {\"frequency\": 417, \"value\": 249}, \"250\": {\"frequency\": 409, \"value\": 250}, \"251\": {\"frequency\": 410, \"value\": 251}, \"252\": {\"frequency\": 371, \"value\": 252}, \"253\": {\"frequency\": 389, \"value\": 253}, \"254\": {\"frequency\": 410, \"value\": 254}, \"255\": {\"frequency\": 395, \"value\": 255}, \"256\": {\"frequency\": 373, \"value\": 256}, \"257\": {\"frequency\": 378, \"value\": 257}, \"258\": {\"frequency\": 354, \"value\": 258}, \"259\": {\"frequency\": 394, \"value\": 259}, \"260\": {\"frequency\": 378, \"value\": 260}, \"261\": {\"frequency\": 373, \"value\": 261}, \"262\": {\"frequency\": 381, \"value\": 262}, \"263\": {\"frequency\": 334, \"value\": 263}, \"264\": {\"frequency\": 350, \"value\": 264}, \"265\": {\"frequency\": 361, \"value\": 265}, \"266\": {\"frequency\": 338, \"value\": 266}, \"267\": {\"frequency\": 341, \"value\": 267}, \"268\": {\"frequency\": 375, \"value\": 268}, \"269\": {\"frequency\": 330, \"value\": 269}, \"270\": {\"frequency\": 336, \"value\": 270}, \"271\": {\"frequency\": 334, \"value\": 271}, \"272\": {\"frequency\": 305, \"value\": 272}, \"273\": {\"frequency\": 325, \"value\": 273}, \"274\": {\"frequency\": 311, \"value\": 274}, \"275\": {\"frequency\": 316, \"value\": 275}, \"276\": {\"frequency\": 318, \"value\": 276}, \"277\": {\"frequency\": 316, \"value\": 277}, \"278\": {\"frequency\": 279, \"value\": 278}, \"279\": {\"frequency\": 333, \"value\": 279}, \"280\": {\"frequency\": 310, \"value\": 280}, \"281\": {\"frequency\": 319, \"value\": 281}, \"282\": {\"frequency\": 287, \"value\": 282}, \"283\": {\"frequency\": 248, \"value\": 283}, \"284\": {\"frequency\": 314, \"value\": 284}, \"285\": {\"frequency\": 294, \"value\": 285}, \"286\": {\"frequency\": 309, \"value\": 286}, \"287\": {\"frequency\": 296, \"value\": 287}, \"288\": {\"frequency\": 295, \"value\": 288}, \"289\": {\"frequency\": 261, \"value\": 289}, \"290\": {\"frequency\": 280, \"value\": 290}, \"291\": {\"frequency\": 272, \"value\": 291}, \"292\": {\"frequency\": 289, \"value\": 292}, \"293\": {\"frequency\": 281, \"value\": 293}, \"294\": {\"frequency\": 251, \"value\": 294}, \"295\": {\"frequency\": 281, \"value\": 295}, \"296\": {\"frequency\": 253, \"value\": 296}, \"297\": {\"frequency\": 282, \"value\": 297}, \"298\": {\"frequency\": 288, \"value\": 298}, \"299\": {\"frequency\": 249, \"value\": 299}, \"300\": {\"frequency\": 225, \"value\": 300}, \"301\": {\"frequency\": 237, \"value\": 301}, \"302\": {\"frequency\": 237, \"value\": 302}, \"303\": {\"frequency\": 238, \"value\": 303}, \"304\": {\"frequency\": 281, \"value\": 304}, \"305\": {\"frequency\": 227, \"value\": 305}, \"306\": {\"frequency\": 226, \"value\": 306}, \"307\": {\"frequency\": 244, \"value\": 307}, \"308\": {\"frequency\": 240, \"value\": 308}, \"309\": {\"frequency\": 210, \"value\": 309}, \"310\": {\"frequency\": 259, \"value\": 310}, \"311\": {\"frequency\": 256, \"value\": 311}, \"312\": {\"frequency\": 225, \"value\": 312}, \"313\": {\"frequency\": 243, \"value\": 313}, \"314\": {\"frequency\": 237, \"value\": 314}, \"315\": {\"frequency\": 210, \"value\": 315}, \"316\": {\"frequency\": 217, \"value\": 316}, \"317\": {\"frequency\": 225, \"value\": 317}, \"318\": {\"frequency\": 214, \"value\": 318}, \"319\": {\"frequency\": 168, \"value\": 319}, \"320\": {\"frequency\": 209, \"value\": 320}, \"321\": {\"frequency\": 216, \"value\": 321}, \"322\": {\"frequency\": 211, \"value\": 322}, \"323\": {\"frequency\": 207, \"value\": 323}, \"324\": {\"frequency\": 199, \"value\": 324}, \"325\": {\"frequency\": 180, \"value\": 325}, \"326\": {\"frequency\": 224, \"value\": 326}, \"327\": {\"frequency\": 209, \"value\": 327}, \"328\": {\"frequency\": 225, \"value\": 328}, \"329\": {\"frequency\": 188, \"value\": 329}, \"330\": {\"frequency\": 178, \"value\": 330}, \"331\": {\"frequency\": 188, \"value\": 331}, \"332\": {\"frequency\": 195, \"value\": 332}, \"333\": {\"frequency\": 193, \"value\": 333}, \"334\": {\"frequency\": 200, \"value\": 334}, \"335\": {\"frequency\": 198, \"value\": 335}, \"336\": {\"frequency\": 173, \"value\": 336}, \"337\": {\"frequency\": 193, \"value\": 337}, \"338\": {\"frequency\": 187, \"value\": 338}, \"339\": {\"frequency\": 152, \"value\": 339}, \"340\": {\"frequency\": 190, \"value\": 340}, \"341\": {\"frequency\": 175, \"value\": 341}, \"342\": {\"frequency\": 175, \"value\": 342}, \"343\": {\"frequency\": 157, \"value\": 343}, \"344\": {\"frequency\": 178, \"value\": 344}, \"345\": {\"frequency\": 175, \"value\": 345}, \"346\": {\"frequency\": 174, \"value\": 346}, \"347\": {\"frequency\": 190, \"value\": 347}, \"348\": {\"frequency\": 154, \"value\": 348}, \"349\": {\"frequency\": 171, \"value\": 349}, \"350\": {\"frequency\": 159, \"value\": 350}, \"351\": {\"frequency\": 175, \"value\": 351}, \"352\": {\"frequency\": 183, \"value\": 352}, \"353\": {\"frequency\": 178, \"value\": 353}, \"354\": {\"frequency\": 164, \"value\": 354}, \"355\": {\"frequency\": 172, \"value\": 355}, \"356\": {\"frequency\": 176, \"value\": 356}, \"357\": {\"frequency\": 182, \"value\": 357}, \"358\": {\"frequency\": 161, \"value\": 358}, \"359\": {\"frequency\": 155, \"value\": 359}, \"360\": {\"frequency\": 140, \"value\": 360}, \"361\": {\"frequency\": 145, \"value\": 361}, \"362\": {\"frequency\": 167, \"value\": 362}, \"363\": {\"frequency\": 163, \"value\": 363}, \"364\": {\"frequency\": 142, \"value\": 364}, \"365\": {\"frequency\": 130, \"value\": 365}, \"366\": {\"frequency\": 157, \"value\": 366}, \"367\": {\"frequency\": 144, \"value\": 367}, \"368\": {\"frequency\": 140, \"value\": 368}, \"369\": {\"frequency\": 130, \"value\": 369}, \"370\": {\"frequency\": 150, \"value\": 370}, \"371\": {\"frequency\": 141, \"value\": 371}, \"372\": {\"frequency\": 146, \"value\": 372}, \"373\": {\"frequency\": 145, \"value\": 373}, \"374\": {\"frequency\": 151, \"value\": 374}, \"375\": {\"frequency\": 116, \"value\": 375}, \"376\": {\"frequency\": 145, \"value\": 376}, \"377\": {\"frequency\": 112, \"value\": 377}, \"378\": {\"frequency\": 129, \"value\": 378}, \"379\": {\"frequency\": 127, \"value\": 379}, \"380\": {\"frequency\": 132, \"value\": 380}, \"381\": {\"frequency\": 134, \"value\": 381}, \"382\": {\"frequency\": 132, \"value\": 382}, \"383\": {\"frequency\": 139, \"value\": 383}, \"384\": {\"frequency\": 119, \"value\": 384}, \"385\": {\"frequency\": 131, \"value\": 385}, \"386\": {\"frequency\": 123, \"value\": 386}, \"387\": {\"frequency\": 125, \"value\": 387}, \"388\": {\"frequency\": 116, \"value\": 388}, \"389\": {\"frequency\": 124, \"value\": 389}, \"390\": {\"frequency\": 128, \"value\": 390}, \"391\": {\"frequency\": 120, \"value\": 391}, \"392\": {\"frequency\": 131, \"value\": 392}, \"393\": {\"frequency\": 117, \"value\": 393}, \"394\": {\"frequency\": 106, \"value\": 394}, \"395\": {\"frequency\": 109, \"value\": 395}, \"396\": {\"frequency\": 99, \"value\": 396}, \"397\": {\"frequency\": 123, \"value\": 397}, \"398\": {\"frequency\": 114, \"value\": 398}, \"399\": {\"frequency\": 109, \"value\": 399}, \"400\": {\"frequency\": 120, \"value\": 400}, \"401\": {\"frequency\": 102, \"value\": 401}, \"402\": {\"frequency\": 117, \"value\": 402}, \"403\": {\"frequency\": 86, \"value\": 403}, \"404\": {\"frequency\": 114, \"value\": 404}, \"405\": {\"frequency\": 110, \"value\": 405}, \"406\": {\"frequency\": 113, \"value\": 406}, \"407\": {\"frequency\": 126, \"value\": 407}, \"408\": {\"frequency\": 108, \"value\": 408}, \"409\": {\"frequency\": 98, \"value\": 409}, \"410\": {\"frequency\": 86, \"value\": 410}, \"411\": {\"frequency\": 100, \"value\": 411}, \"412\": {\"frequency\": 109, \"value\": 412}, \"413\": {\"frequency\": 113, \"value\": 413}, \"414\": {\"frequency\": 123, \"value\": 414}, \"415\": {\"frequency\": 94, \"value\": 415}, \"416\": {\"frequency\": 91, \"value\": 416}, \"417\": {\"frequency\": 106, \"value\": 417}, \"418\": {\"frequency\": 82, \"value\": 418}, \"419\": {\"frequency\": 107, \"value\": 419}, \"420\": {\"frequency\": 101, \"value\": 420}, \"421\": {\"frequency\": 102, \"value\": 421}, \"422\": {\"frequency\": 94, \"value\": 422}, \"423\": {\"frequency\": 89, \"value\": 423}, \"424\": {\"frequency\": 73, \"value\": 424}, \"425\": {\"frequency\": 94, \"value\": 425}, \"426\": {\"frequency\": 77, \"value\": 426}, \"427\": {\"frequency\": 88, \"value\": 427}, \"428\": {\"frequency\": 81, \"value\": 428}, \"429\": {\"frequency\": 97, \"value\": 429}, \"430\": {\"frequency\": 91, \"value\": 430}, \"431\": {\"frequency\": 101, \"value\": 431}, \"432\": {\"frequency\": 86, \"value\": 432}, \"433\": {\"frequency\": 92, \"value\": 433}, \"434\": {\"frequency\": 81, \"value\": 434}, \"435\": {\"frequency\": 89, \"value\": 435}, \"436\": {\"frequency\": 93, \"value\": 436}, \"437\": {\"frequency\": 74, \"value\": 437}, \"438\": {\"frequency\": 97, \"value\": 438}, \"439\": {\"frequency\": 94, \"value\": 439}, \"440\": {\"frequency\": 94, \"value\": 440}, \"441\": {\"frequency\": 61, \"value\": 441}, \"442\": {\"frequency\": 63, \"value\": 442}, \"443\": {\"frequency\": 84, \"value\": 443}, \"444\": {\"frequency\": 90, \"value\": 444}, \"445\": {\"frequency\": 76, \"value\": 445}, \"446\": {\"frequency\": 70, \"value\": 446}, \"447\": {\"frequency\": 75, \"value\": 447}, \"448\": {\"frequency\": 78, \"value\": 448}, \"449\": {\"frequency\": 71, \"value\": 449}, \"450\": {\"frequency\": 74, \"value\": 450}, \"451\": {\"frequency\": 79, \"value\": 451}, \"452\": {\"frequency\": 72, \"value\": 452}, \"453\": {\"frequency\": 81, \"value\": 453}, \"454\": {\"frequency\": 70, \"value\": 454}, \"455\": {\"frequency\": 61, \"value\": 455}, \"456\": {\"frequency\": 82, \"value\": 456}, \"457\": {\"frequency\": 83, \"value\": 457}, \"458\": {\"frequency\": 82, \"value\": 458}, \"459\": {\"frequency\": 83, \"value\": 459}, \"460\": {\"frequency\": 65, \"value\": 460}, \"461\": {\"frequency\": 66, \"value\": 461}, \"462\": {\"frequency\": 74, \"value\": 462}, \"463\": {\"frequency\": 72, \"value\": 463}, \"464\": {\"frequency\": 66, \"value\": 464}, \"465\": {\"frequency\": 63, \"value\": 465}, \"466\": {\"frequency\": 80, \"value\": 466}, \"467\": {\"frequency\": 62, \"value\": 467}, \"468\": {\"frequency\": 66, \"value\": 468}, \"469\": {\"frequency\": 77, \"value\": 469}, \"470\": {\"frequency\": 59, \"value\": 470}, \"471\": {\"frequency\": 64, \"value\": 471}, \"472\": {\"frequency\": 73, \"value\": 472}, \"473\": {\"frequency\": 77, \"value\": 473}, \"474\": {\"frequency\": 68, \"value\": 474}, \"475\": {\"frequency\": 64, \"value\": 475}, \"476\": {\"frequency\": 78, \"value\": 476}, \"477\": {\"frequency\": 67, \"value\": 477}, \"478\": {\"frequency\": 58, \"value\": 478}, \"479\": {\"frequency\": 65, \"value\": 479}, \"480\": {\"frequency\": 65, \"value\": 480}, \"481\": {\"frequency\": 62, \"value\": 481}, \"482\": {\"frequency\": 63, \"value\": 482}, \"483\": {\"frequency\": 61, \"value\": 483}, \"484\": {\"frequency\": 66, \"value\": 484}, \"485\": {\"frequency\": 55, \"value\": 485}, \"486\": {\"frequency\": 56, \"value\": 486}, \"487\": {\"frequency\": 59, \"value\": 487}, \"488\": {\"frequency\": 48, \"value\": 488}, \"489\": {\"frequency\": 58, \"value\": 489}, \"490\": {\"frequency\": 60, \"value\": 490}, \"491\": {\"frequency\": 50, \"value\": 491}, \"492\": {\"frequency\": 56, \"value\": 492}, \"493\": {\"frequency\": 62, \"value\": 493}, \"494\": {\"frequency\": 59, \"value\": 494}, \"495\": {\"frequency\": 68, \"value\": 495}, \"496\": {\"frequency\": 60, \"value\": 496}, \"497\": {\"frequency\": 53, \"value\": 497}, \"498\": {\"frequency\": 61, \"value\": 498}, \"499\": {\"frequency\": 50, \"value\": 499}, \"500\": {\"frequency\": 58, \"value\": 500}, \"501\": {\"frequency\": 59, \"value\": 501}, \"502\": {\"frequency\": 51, \"value\": 502}, \"503\": {\"frequency\": 56, \"value\": 503}, \"504\": {\"frequency\": 42, \"value\": 504}, \"505\": {\"frequency\": 55, \"value\": 505}, \"506\": {\"frequency\": 47, \"value\": 506}, \"507\": {\"frequency\": 40, \"value\": 507}, \"508\": {\"frequency\": 50, \"value\": 508}, \"509\": {\"frequency\": 50, \"value\": 509}, \"510\": {\"frequency\": 63, \"value\": 510}, \"511\": {\"frequency\": 50, \"value\": 511}, \"512\": {\"frequency\": 48, \"value\": 512}, \"513\": {\"frequency\": 43, \"value\": 513}, \"514\": {\"frequency\": 58, \"value\": 514}, \"515\": {\"frequency\": 49, \"value\": 515}, \"516\": {\"frequency\": 37, \"value\": 516}, \"517\": {\"frequency\": 38, \"value\": 517}, \"518\": {\"frequency\": 47, \"value\": 518}, \"519\": {\"frequency\": 35, \"value\": 519}, \"520\": {\"frequency\": 55, \"value\": 520}, \"521\": {\"frequency\": 36, \"value\": 521}, \"522\": {\"frequency\": 54, \"value\": 522}, \"523\": {\"frequency\": 48, \"value\": 523}, \"524\": {\"frequency\": 45, \"value\": 524}, \"525\": {\"frequency\": 49, \"value\": 525}, \"526\": {\"frequency\": 44, \"value\": 526}, \"527\": {\"frequency\": 38, \"value\": 527}, \"528\": {\"frequency\": 38, \"value\": 528}, \"529\": {\"frequency\": 45, \"value\": 529}, \"530\": {\"frequency\": 41, \"value\": 530}, \"531\": {\"frequency\": 40, \"value\": 531}, \"532\": {\"frequency\": 45, \"value\": 532}, \"533\": {\"frequency\": 39, \"value\": 533}, \"534\": {\"frequency\": 39, \"value\": 534}, \"535\": {\"frequency\": 43, \"value\": 535}, \"536\": {\"frequency\": 46, \"value\": 536}, \"537\": {\"frequency\": 44, \"value\": 537}, \"538\": {\"frequency\": 47, \"value\": 538}, \"539\": {\"frequency\": 48, \"value\": 539}, \"540\": {\"frequency\": 43, \"value\": 540}, \"541\": {\"frequency\": 42, \"value\": 541}, \"542\": {\"frequency\": 32, \"value\": 542}, \"543\": {\"frequency\": 35, \"value\": 543}, \"544\": {\"frequency\": 36, \"value\": 544}, \"545\": {\"frequency\": 37, \"value\": 545}, \"546\": {\"frequency\": 35, \"value\": 546}, \"547\": {\"frequency\": 43, \"value\": 547}, \"548\": {\"frequency\": 43, \"value\": 548}, \"549\": {\"frequency\": 39, \"value\": 549}, \"550\": {\"frequency\": 31, \"value\": 550}, \"551\": {\"frequency\": 31, \"value\": 551}, \"552\": {\"frequency\": 38, \"value\": 552}, \"553\": {\"frequency\": 27, \"value\": 553}, \"554\": {\"frequency\": 36, \"value\": 554}, \"555\": {\"frequency\": 43, \"value\": 555}, \"556\": {\"frequency\": 37, \"value\": 556}, \"557\": {\"frequency\": 30, \"value\": 557}, \"558\": {\"frequency\": 41, \"value\": 558}, \"559\": {\"frequency\": 36, \"value\": 559}, \"560\": {\"frequency\": 35, \"value\": 560}, \"561\": {\"frequency\": 30, \"value\": 561}, \"562\": {\"frequency\": 34, \"value\": 562}, \"563\": {\"frequency\": 38, \"value\": 563}, \"564\": {\"frequency\": 23, \"value\": 564}, \"565\": {\"frequency\": 37, \"value\": 565}, \"566\": {\"frequency\": 46, \"value\": 566}, \"567\": {\"frequency\": 33, \"value\": 567}, \"568\": {\"frequency\": 29, \"value\": 568}, \"569\": {\"frequency\": 34, \"value\": 569}, \"570\": {\"frequency\": 28, \"value\": 570}, \"571\": {\"frequency\": 34, \"value\": 571}, \"572\": {\"frequency\": 25, \"value\": 572}, \"573\": {\"frequency\": 32, \"value\": 573}, \"574\": {\"frequency\": 22, \"value\": 574}, \"575\": {\"frequency\": 42, \"value\": 575}, \"576\": {\"frequency\": 37, \"value\": 576}, \"577\": {\"frequency\": 32, \"value\": 577}, \"578\": {\"frequency\": 29, \"value\": 578}, \"579\": {\"frequency\": 32, \"value\": 579}, \"580\": {\"frequency\": 24, \"value\": 580}, \"581\": {\"frequency\": 27, \"value\": 581}, \"582\": {\"frequency\": 33, \"value\": 582}, \"583\": {\"frequency\": 32, \"value\": 583}, \"584\": {\"frequency\": 26, \"value\": 584}, \"585\": {\"frequency\": 34, \"value\": 585}, \"586\": {\"frequency\": 35, \"value\": 586}, \"587\": {\"frequency\": 44, \"value\": 587}, \"588\": {\"frequency\": 39, \"value\": 588}, \"589\": {\"frequency\": 24, \"value\": 589}, \"590\": {\"frequency\": 23, \"value\": 590}, \"591\": {\"frequency\": 26, \"value\": 591}, \"592\": {\"frequency\": 28, \"value\": 592}, \"593\": {\"frequency\": 40, \"value\": 593}, \"594\": {\"frequency\": 25, \"value\": 594}, \"595\": {\"frequency\": 34, \"value\": 595}, \"596\": {\"frequency\": 25, \"value\": 596}, \"597\": {\"frequency\": 26, \"value\": 597}, \"598\": {\"frequency\": 28, \"value\": 598}, \"599\": {\"frequency\": 30, \"value\": 599}, \"600\": {\"frequency\": 28, \"value\": 600}, \"601\": {\"frequency\": 26, \"value\": 601}, \"602\": {\"frequency\": 23, \"value\": 602}, \"603\": {\"frequency\": 39, \"value\": 603}, \"604\": {\"frequency\": 28, \"value\": 604}, \"605\": {\"frequency\": 22, \"value\": 605}, \"606\": {\"frequency\": 33, \"value\": 606}, \"607\": {\"frequency\": 36, \"value\": 607}, \"608\": {\"frequency\": 33, \"value\": 608}, \"609\": {\"frequency\": 22, \"value\": 609}, \"610\": {\"frequency\": 15, \"value\": 610}, \"611\": {\"frequency\": 24, \"value\": 611}, \"612\": {\"frequency\": 23, \"value\": 612}, \"613\": {\"frequency\": 21, \"value\": 613}, \"614\": {\"frequency\": 27, \"value\": 614}, \"615\": {\"frequency\": 28, \"value\": 615}, \"616\": {\"frequency\": 28, \"value\": 616}, \"617\": {\"frequency\": 33, \"value\": 617}, \"618\": {\"frequency\": 22, \"value\": 618}, \"619\": {\"frequency\": 28, \"value\": 619}, \"620\": {\"frequency\": 21, \"value\": 620}, \"621\": {\"frequency\": 23, \"value\": 621}, \"622\": {\"frequency\": 34, \"value\": 622}, \"623\": {\"frequency\": 24, \"value\": 623}, \"624\": {\"frequency\": 12, \"value\": 624}, \"625\": {\"frequency\": 17, \"value\": 625}, \"626\": {\"frequency\": 28, \"value\": 626}, \"627\": {\"frequency\": 19, \"value\": 627}, \"628\": {\"frequency\": 13, \"value\": 628}, \"629\": {\"frequency\": 26, \"value\": 629}, \"630\": {\"frequency\": 22, \"value\": 630}, \"631\": {\"frequency\": 24, \"value\": 631}, \"632\": {\"frequency\": 19, \"value\": 632}, \"633\": {\"frequency\": 26, \"value\": 633}, \"634\": {\"frequency\": 23, \"value\": 634}, \"635\": {\"frequency\": 16, \"value\": 635}, \"636\": {\"frequency\": 15, \"value\": 636}, \"637\": {\"frequency\": 21, \"value\": 637}, \"638\": {\"frequency\": 17, \"value\": 638}, \"639\": {\"frequency\": 25, \"value\": 639}, \"640\": {\"frequency\": 27, \"value\": 640}, \"641\": {\"frequency\": 17, \"value\": 641}, \"642\": {\"frequency\": 18, \"value\": 642}, \"643\": {\"frequency\": 23, \"value\": 643}, \"644\": {\"frequency\": 26, \"value\": 644}, \"645\": {\"frequency\": 20, \"value\": 645}, \"646\": {\"frequency\": 17, \"value\": 646}, \"647\": {\"frequency\": 16, \"value\": 647}, \"648\": {\"frequency\": 21, \"value\": 648}, \"649\": {\"frequency\": 21, \"value\": 649}, \"650\": {\"frequency\": 26, \"value\": 650}, \"651\": {\"frequency\": 24, \"value\": 651}, \"652\": {\"frequency\": 21, \"value\": 652}, \"653\": {\"frequency\": 21, \"value\": 653}, \"654\": {\"frequency\": 14, \"value\": 654}, \"655\": {\"frequency\": 22, \"value\": 655}, \"656\": {\"frequency\": 17, \"value\": 656}, \"657\": {\"frequency\": 21, \"value\": 657}, \"658\": {\"frequency\": 17, \"value\": 658}, \"659\": {\"frequency\": 16, \"value\": 659}, \"660\": {\"frequency\": 22, \"value\": 660}, \"661\": {\"frequency\": 18, \"value\": 661}, \"662\": {\"frequency\": 20, \"value\": 662}, \"663\": {\"frequency\": 17, \"value\": 663}, \"664\": {\"frequency\": 17, \"value\": 664}, \"665\": {\"frequency\": 18, \"value\": 665}, \"666\": {\"frequency\": 18, \"value\": 666}, \"667\": {\"frequency\": 21, \"value\": 667}, \"668\": {\"frequency\": 20, \"value\": 668}, \"669\": {\"frequency\": 24, \"value\": 669}, \"670\": {\"frequency\": 24, \"value\": 670}, \"671\": {\"frequency\": 24, \"value\": 671}, \"672\": {\"frequency\": 20, \"value\": 672}, \"673\": {\"frequency\": 15, \"value\": 673}, \"674\": {\"frequency\": 20, \"value\": 674}, \"675\": {\"frequency\": 17, \"value\": 675}, \"676\": {\"frequency\": 19, \"value\": 676}, \"677\": {\"frequency\": 19, \"value\": 677}, \"678\": {\"frequency\": 22, \"value\": 678}, \"679\": {\"frequency\": 8, \"value\": 679}, \"680\": {\"frequency\": 16, \"value\": 680}, \"681\": {\"frequency\": 23, \"value\": 681}, \"682\": {\"frequency\": 17, \"value\": 682}, \"683\": {\"frequency\": 14, \"value\": 683}, \"684\": {\"frequency\": 10, \"value\": 684}, \"685\": {\"frequency\": 8, \"value\": 685}, \"686\": {\"frequency\": 5, \"value\": 686}, \"687\": {\"frequency\": 20, \"value\": 687}, \"688\": {\"frequency\": 17, \"value\": 688}, \"689\": {\"frequency\": 18, \"value\": 689}, \"690\": {\"frequency\": 18, \"value\": 690}, \"691\": {\"frequency\": 22, \"value\": 691}, \"692\": {\"frequency\": 14, \"value\": 692}, \"693\": {\"frequency\": 16, \"value\": 693}, \"694\": {\"frequency\": 15, \"value\": 694}, \"695\": {\"frequency\": 11, \"value\": 695}, \"696\": {\"frequency\": 22, \"value\": 696}, \"697\": {\"frequency\": 13, \"value\": 697}, \"698\": {\"frequency\": 21, \"value\": 698}, \"699\": {\"frequency\": 12, \"value\": 699}, \"700\": {\"frequency\": 9, \"value\": 700}, \"701\": {\"frequency\": 12, \"value\": 701}, \"702\": {\"frequency\": 15, \"value\": 702}, \"703\": {\"frequency\": 14, \"value\": 703}, \"704\": {\"frequency\": 15, \"value\": 704}, \"705\": {\"frequency\": 23, \"value\": 705}, \"706\": {\"frequency\": 12, \"value\": 706}, \"707\": {\"frequency\": 17, \"value\": 707}, \"708\": {\"frequency\": 9, \"value\": 708}, \"709\": {\"frequency\": 18, \"value\": 709}, \"710\": {\"frequency\": 16, \"value\": 710}, \"711\": {\"frequency\": 8, \"value\": 711}, \"712\": {\"frequency\": 15, \"value\": 712}, \"713\": {\"frequency\": 18, \"value\": 713}, \"714\": {\"frequency\": 16, \"value\": 714}, \"715\": {\"frequency\": 10, \"value\": 715}, \"716\": {\"frequency\": 14, \"value\": 716}, \"717\": {\"frequency\": 11, \"value\": 717}, \"718\": {\"frequency\": 16, \"value\": 718}, \"719\": {\"frequency\": 10, \"value\": 719}, \"720\": {\"frequency\": 18, \"value\": 720}, \"721\": {\"frequency\": 13, \"value\": 721}, \"722\": {\"frequency\": 6, \"value\": 722}, \"723\": {\"frequency\": 14, \"value\": 723}, \"724\": {\"frequency\": 20, \"value\": 724}, \"725\": {\"frequency\": 11, \"value\": 725}, \"726\": {\"frequency\": 10, \"value\": 726}, \"727\": {\"frequency\": 7, \"value\": 727}, \"728\": {\"frequency\": 13, \"value\": 728}, \"729\": {\"frequency\": 16, \"value\": 729}, \"730\": {\"frequency\": 12, \"value\": 730}, \"731\": {\"frequency\": 8, \"value\": 731}, \"732\": {\"frequency\": 7, \"value\": 732}, \"733\": {\"frequency\": 16, \"value\": 733}, \"734\": {\"frequency\": 10, \"value\": 734}, \"735\": {\"frequency\": 9, \"value\": 735}, \"736\": {\"frequency\": 10, \"value\": 736}, \"737\": {\"frequency\": 11, \"value\": 737}, \"738\": {\"frequency\": 15, \"value\": 738}, \"739\": {\"frequency\": 15, \"value\": 739}, \"740\": {\"frequency\": 13, \"value\": 740}, \"741\": {\"frequency\": 19, \"value\": 741}, \"742\": {\"frequency\": 8, \"value\": 742}, \"743\": {\"frequency\": 7, \"value\": 743}, \"744\": {\"frequency\": 5, \"value\": 744}, \"745\": {\"frequency\": 10, \"value\": 745}, \"746\": {\"frequency\": 11, \"value\": 746}, \"747\": {\"frequency\": 12, \"value\": 747}, \"748\": {\"frequency\": 10, \"value\": 748}, \"749\": {\"frequency\": 11, \"value\": 749}, \"750\": {\"frequency\": 10, \"value\": 750}, \"751\": {\"frequency\": 14, \"value\": 751}, \"752\": {\"frequency\": 5, \"value\": 752}, \"753\": {\"frequency\": 13, \"value\": 753}, \"754\": {\"frequency\": 11, \"value\": 754}, \"755\": {\"frequency\": 7, \"value\": 755}, \"756\": {\"frequency\": 7, \"value\": 756}, \"757\": {\"frequency\": 11, \"value\": 757}, \"758\": {\"frequency\": 10, \"value\": 758}, \"759\": {\"frequency\": 4, \"value\": 759}, \"760\": {\"frequency\": 12, \"value\": 760}, \"761\": {\"frequency\": 10, \"value\": 761}, \"762\": {\"frequency\": 11, \"value\": 762}, \"763\": {\"frequency\": 12, \"value\": 763}, \"764\": {\"frequency\": 12, \"value\": 764}, \"765\": {\"frequency\": 10, \"value\": 765}, \"766\": {\"frequency\": 10, \"value\": 766}, \"767\": {\"frequency\": 7, \"value\": 767}, \"768\": {\"frequency\": 10, \"value\": 768}, \"769\": {\"frequency\": 14, \"value\": 769}, \"770\": {\"frequency\": 5, \"value\": 770}, \"771\": {\"frequency\": 5, \"value\": 771}, \"772\": {\"frequency\": 13, \"value\": 772}, \"773\": {\"frequency\": 9, \"value\": 773}, \"774\": {\"frequency\": 5, \"value\": 774}, \"775\": {\"frequency\": 9, \"value\": 775}, \"776\": {\"frequency\": 11, \"value\": 776}, \"777\": {\"frequency\": 14, \"value\": 777}, \"778\": {\"frequency\": 7, \"value\": 778}, \"779\": {\"frequency\": 8, \"value\": 779}, \"780\": {\"frequency\": 8, \"value\": 780}, \"781\": {\"frequency\": 9, \"value\": 781}, \"782\": {\"frequency\": 9, \"value\": 782}, \"783\": {\"frequency\": 4, \"value\": 783}, \"784\": {\"frequency\": 9, \"value\": 784}, \"785\": {\"frequency\": 10, \"value\": 785}, \"786\": {\"frequency\": 11, \"value\": 786}, \"787\": {\"frequency\": 6, \"value\": 787}, \"788\": {\"frequency\": 17, \"value\": 788}, \"789\": {\"frequency\": 6, \"value\": 789}, \"790\": {\"frequency\": 9, \"value\": 790}, \"791\": {\"frequency\": 6, \"value\": 791}, \"792\": {\"frequency\": 7, \"value\": 792}, \"793\": {\"frequency\": 9, \"value\": 793}, \"794\": {\"frequency\": 6, \"value\": 794}, \"795\": {\"frequency\": 8, \"value\": 795}, \"796\": {\"frequency\": 7, \"value\": 796}, \"797\": {\"frequency\": 4, \"value\": 797}, \"798\": {\"frequency\": 11, \"value\": 798}, \"799\": {\"frequency\": 10, \"value\": 799}, \"800\": {\"frequency\": 2, \"value\": 800}, \"801\": {\"frequency\": 6, \"value\": 801}, \"802\": {\"frequency\": 9, \"value\": 802}, \"803\": {\"frequency\": 6, \"value\": 803}, \"804\": {\"frequency\": 12, \"value\": 804}, \"805\": {\"frequency\": 7, \"value\": 805}, \"806\": {\"frequency\": 7, \"value\": 806}, \"807\": {\"frequency\": 9, \"value\": 807}, \"808\": {\"frequency\": 5, \"value\": 808}, \"809\": {\"frequency\": 9, \"value\": 809}, \"810\": {\"frequency\": 12, \"value\": 810}, \"811\": {\"frequency\": 13, \"value\": 811}, \"812\": {\"frequency\": 6, \"value\": 812}, \"813\": {\"frequency\": 9, \"value\": 813}, \"814\": {\"frequency\": 11, \"value\": 814}, \"815\": {\"frequency\": 5, \"value\": 815}, \"816\": {\"frequency\": 5, \"value\": 816}, \"817\": {\"frequency\": 12, \"value\": 817}, \"818\": {\"frequency\": 6, \"value\": 818}, \"819\": {\"frequency\": 2, \"value\": 819}, \"820\": {\"frequency\": 11, \"value\": 820}, \"821\": {\"frequency\": 9, \"value\": 821}, \"822\": {\"frequency\": 6, \"value\": 822}, \"823\": {\"frequency\": 6, \"value\": 823}, \"824\": {\"frequency\": 8, \"value\": 824}, \"825\": {\"frequency\": 10, \"value\": 825}, \"826\": {\"frequency\": 5, \"value\": 826}, \"827\": {\"frequency\": 11, \"value\": 827}, \"828\": {\"frequency\": 6, \"value\": 828}, \"829\": {\"frequency\": 7, \"value\": 829}, \"830\": {\"frequency\": 2, \"value\": 830}, \"831\": {\"frequency\": 8, \"value\": 831}, \"832\": {\"frequency\": 3, \"value\": 832}, \"833\": {\"frequency\": 12, \"value\": 833}, \"834\": {\"frequency\": 5, \"value\": 834}, \"835\": {\"frequency\": 3, \"value\": 835}, \"836\": {\"frequency\": 4, \"value\": 836}, \"837\": {\"frequency\": 6, \"value\": 837}, \"838\": {\"frequency\": 4, \"value\": 838}, \"839\": {\"frequency\": 6, \"value\": 839}, \"840\": {\"frequency\": 5, \"value\": 840}, \"841\": {\"frequency\": 7, \"value\": 841}, \"842\": {\"frequency\": 9, \"value\": 842}, \"843\": {\"frequency\": 8, \"value\": 843}, \"844\": {\"frequency\": 6, \"value\": 844}, \"845\": {\"frequency\": 8, \"value\": 845}, \"846\": {\"frequency\": 7, \"value\": 846}, \"847\": {\"frequency\": 8, \"value\": 847}, \"848\": {\"frequency\": 2, \"value\": 848}, \"849\": {\"frequency\": 4, \"value\": 849}, \"850\": {\"frequency\": 5, \"value\": 850}, \"851\": {\"frequency\": 7, \"value\": 851}, \"852\": {\"frequency\": 6, \"value\": 852}, \"853\": {\"frequency\": 1, \"value\": 853}, \"854\": {\"frequency\": 7, \"value\": 854}, \"855\": {\"frequency\": 4, \"value\": 855}, \"856\": {\"frequency\": 8, \"value\": 856}, \"857\": {\"frequency\": 7, \"value\": 857}, \"858\": {\"frequency\": 13, \"value\": 858}, \"859\": {\"frequency\": 6, \"value\": 859}, \"860\": {\"frequency\": 7, \"value\": 860}, \"861\": {\"frequency\": 3, \"value\": 861}, \"862\": {\"frequency\": 8, \"value\": 862}, \"863\": {\"frequency\": 6, \"value\": 863}, \"864\": {\"frequency\": 4, \"value\": 864}, \"865\": {\"frequency\": 8, \"value\": 865}, \"866\": {\"frequency\": 3, \"value\": 866}, \"867\": {\"frequency\": 13, \"value\": 867}, \"868\": {\"frequency\": 9, \"value\": 868}, \"869\": {\"frequency\": 6, \"value\": 869}, \"870\": {\"frequency\": 7, \"value\": 870}, \"871\": {\"frequency\": 6, \"value\": 871}, \"872\": {\"frequency\": 8, \"value\": 872}, \"873\": {\"frequency\": 7, \"value\": 873}, \"874\": {\"frequency\": 6, \"value\": 874}, \"875\": {\"frequency\": 6, \"value\": 875}, \"876\": {\"frequency\": 10, \"value\": 876}, \"877\": {\"frequency\": 5, \"value\": 877}, \"878\": {\"frequency\": 11, \"value\": 878}, \"879\": {\"frequency\": 5, \"value\": 879}, \"880\": {\"frequency\": 6, \"value\": 880}, \"881\": {\"frequency\": 7, \"value\": 881}, \"882\": {\"frequency\": 7, \"value\": 882}, \"883\": {\"frequency\": 7, \"value\": 883}, \"884\": {\"frequency\": 4, \"value\": 884}, \"885\": {\"frequency\": 6, \"value\": 885}, \"886\": {\"frequency\": 6, \"value\": 886}, \"887\": {\"frequency\": 9, \"value\": 887}, \"888\": {\"frequency\": 3, \"value\": 888}, \"889\": {\"frequency\": 6, \"value\": 889}, \"890\": {\"frequency\": 4, \"value\": 890}, \"891\": {\"frequency\": 9, \"value\": 891}, \"892\": {\"frequency\": 6, \"value\": 892}, \"893\": {\"frequency\": 6, \"value\": 893}, \"894\": {\"frequency\": 3, \"value\": 894}, \"895\": {\"frequency\": 6, \"value\": 895}, \"896\": {\"frequency\": 3, \"value\": 896}, \"897\": {\"frequency\": 3, \"value\": 897}, \"898\": {\"frequency\": 5, \"value\": 898}, \"899\": {\"frequency\": 5, \"value\": 899}, \"900\": {\"frequency\": 6, \"value\": 900}, \"901\": {\"frequency\": 10, \"value\": 901}, \"902\": {\"frequency\": 3, \"value\": 902}, \"903\": {\"frequency\": 2, \"value\": 903}, \"904\": {\"frequency\": 9, \"value\": 904}, \"905\": {\"frequency\": 7, \"value\": 905}, \"906\": {\"frequency\": 3, \"value\": 906}, \"907\": {\"frequency\": 9, \"value\": 907}, \"908\": {\"frequency\": 6, \"value\": 908}, \"909\": {\"frequency\": 2, \"value\": 909}, \"910\": {\"frequency\": 3, \"value\": 910}, \"911\": {\"frequency\": 5, \"value\": 911}, \"912\": {\"frequency\": 5, \"value\": 912}, \"913\": {\"frequency\": 5, \"value\": 913}, \"914\": {\"frequency\": 7, \"value\": 914}, \"915\": {\"frequency\": 6, \"value\": 915}, \"916\": {\"frequency\": 6, \"value\": 916}, \"917\": {\"frequency\": 4, \"value\": 917}, \"918\": {\"frequency\": 7, \"value\": 918}, \"919\": {\"frequency\": 5, \"value\": 919}, \"920\": {\"frequency\": 3, \"value\": 920}, \"921\": {\"frequency\": 4, \"value\": 921}, \"922\": {\"frequency\": 9, \"value\": 922}, \"923\": {\"frequency\": 9, \"value\": 923}, \"924\": {\"frequency\": 1, \"value\": 924}, \"925\": {\"frequency\": 3, \"value\": 925}, \"926\": {\"frequency\": 7, \"value\": 926}, \"927\": {\"frequency\": 9, \"value\": 927}, \"928\": {\"frequency\": 5, \"value\": 928}, \"929\": {\"frequency\": 1, \"value\": 929}, \"930\": {\"frequency\": 11, \"value\": 930}, \"931\": {\"frequency\": 6, \"value\": 931}, \"932\": {\"frequency\": 2, \"value\": 932}, \"933\": {\"frequency\": 9, \"value\": 933}, \"934\": {\"frequency\": 5, \"value\": 934}, \"935\": {\"frequency\": 5, \"value\": 935}, \"936\": {\"frequency\": 2, \"value\": 936}, \"937\": {\"frequency\": 5, \"value\": 937}, \"938\": {\"frequency\": 1, \"value\": 938}, \"939\": {\"frequency\": 4, \"value\": 939}, \"940\": {\"frequency\": 4, \"value\": 940}, \"941\": {\"frequency\": 2, \"value\": 941}, \"942\": {\"frequency\": 8, \"value\": 942}, \"943\": {\"frequency\": 6, \"value\": 943}, \"944\": {\"frequency\": 8, \"value\": 944}, \"945\": {\"frequency\": 5, \"value\": 945}, \"946\": {\"frequency\": 7, \"value\": 946}, \"947\": {\"frequency\": 5, \"value\": 947}, \"948\": {\"frequency\": 5, \"value\": 948}, \"949\": {\"frequency\": 4, \"value\": 949}, \"950\": {\"frequency\": 6, \"value\": 950}, \"951\": {\"frequency\": 5, \"value\": 951}, \"952\": {\"frequency\": 5, \"value\": 952}, \"953\": {\"frequency\": 4, \"value\": 953}, \"954\": {\"frequency\": 5, \"value\": 954}, \"955\": {\"frequency\": 6, \"value\": 955}, \"956\": {\"frequency\": 4, \"value\": 956}, \"957\": {\"frequency\": 2, \"value\": 957}, \"958\": {\"frequency\": 7, \"value\": 958}, \"959\": {\"frequency\": 6, \"value\": 959}, \"960\": {\"frequency\": 3, \"value\": 960}, \"961\": {\"frequency\": 6, \"value\": 961}, \"962\": {\"frequency\": 11, \"value\": 962}, \"963\": {\"frequency\": 10, \"value\": 963}, \"964\": {\"frequency\": 6, \"value\": 964}, \"965\": {\"frequency\": 5, \"value\": 965}, \"966\": {\"frequency\": 4, \"value\": 966}, \"967\": {\"frequency\": 2, \"value\": 967}, \"968\": {\"frequency\": 7, \"value\": 968}, \"969\": {\"frequency\": 4, \"value\": 969}, \"970\": {\"frequency\": 8, \"value\": 970}, \"971\": {\"frequency\": 5, \"value\": 971}, \"972\": {\"frequency\": 9, \"value\": 972}, \"973\": {\"frequency\": 7, \"value\": 973}, \"974\": {\"frequency\": 5, \"value\": 974}, \"975\": {\"frequency\": 3, \"value\": 975}, \"976\": {\"frequency\": 3, \"value\": 976}, \"977\": {\"frequency\": 6, \"value\": 977}, \"978\": {\"frequency\": 3, \"value\": 978}, \"979\": {\"frequency\": 5, \"value\": 979}, \"980\": {\"frequency\": 7, \"value\": 980}, \"981\": {\"frequency\": 6, \"value\": 981}, \"982\": {\"frequency\": 1, \"value\": 982}, \"983\": {\"frequency\": 3, \"value\": 983}, \"984\": {\"frequency\": 6, \"value\": 984}, \"985\": {\"frequency\": 6, \"value\": 985}, \"986\": {\"frequency\": 5, \"value\": 986}, \"987\": {\"frequency\": 6, \"value\": 987}, \"988\": {\"frequency\": 8, \"value\": 988}, \"989\": {\"frequency\": 6, \"value\": 989}, \"990\": {\"frequency\": 7, \"value\": 990}, \"991\": {\"frequency\": 4, \"value\": 991}, \"992\": {\"frequency\": 9, \"value\": 992}, \"993\": {\"frequency\": 2, \"value\": 993}, \"994\": {\"frequency\": 4, \"value\": 994}, \"995\": {\"frequency\": 6, \"value\": 995}, \"996\": {\"frequency\": 1, \"value\": 996}, \"997\": {\"frequency\": 3, \"value\": 997}, \"998\": {\"frequency\": 1, \"value\": 998}, \"999\": {\"frequency\": 4, \"value\": 999}, \"1000\": {\"frequency\": 5, \"value\": 1000}, \"1001\": {\"frequency\": 3, \"value\": 1001}, \"1002\": {\"frequency\": 2, \"value\": 1002}, \"1003\": {\"frequency\": 3, \"value\": 1003}, \"1004\": {\"frequency\": 2, \"value\": 1004}, \"1005\": {\"frequency\": 8, \"value\": 1005}, \"1006\": {\"frequency\": 4, \"value\": 1006}, \"1007\": {\"frequency\": 5, \"value\": 1007}, \"1008\": {\"frequency\": 4, \"value\": 1008}, \"1009\": {\"frequency\": 6, \"value\": 1009}, \"1010\": {\"frequency\": 4, \"value\": 1010}, \"1011\": {\"frequency\": 4, \"value\": 1011}, \"1012\": {\"frequency\": 3, \"value\": 1012}, \"1013\": {\"frequency\": 4, \"value\": 1013}, \"1014\": {\"frequency\": 5, \"value\": 1014}, \"1015\": {\"frequency\": 3, \"value\": 1015}, \"1016\": {\"frequency\": 4, \"value\": 1016}, \"1017\": {\"frequency\": 5, \"value\": 1017}, \"1018\": {\"frequency\": 5, \"value\": 1018}, \"1019\": {\"frequency\": 8, \"value\": 1019}, \"1020\": {\"frequency\": 4, \"value\": 1020}, \"1021\": {\"frequency\": 4, \"value\": 1021}, \"1022\": {\"frequency\": 7, \"value\": 1022}, \"1023\": {\"frequency\": 3, \"value\": 1023}, \"1024\": {\"frequency\": 8, \"value\": 1024}, \"1025\": {\"frequency\": 3, \"value\": 1025}, \"1026\": {\"frequency\": 1, \"value\": 1026}, \"1027\": {\"frequency\": 6, \"value\": 1027}, \"1028\": {\"frequency\": 7, \"value\": 1028}, \"1029\": {\"frequency\": 2, \"value\": 1029}, \"1030\": {\"frequency\": 1, \"value\": 1030}, \"1031\": {\"frequency\": 5, \"value\": 1031}, \"1032\": {\"frequency\": 2, \"value\": 1032}, \"1033\": {\"frequency\": 4, \"value\": 1033}, \"1034\": {\"frequency\": 1, \"value\": 1034}, \"1035\": {\"frequency\": 6, \"value\": 1035}, \"1036\": {\"frequency\": 3, \"value\": 1036}, \"1037\": {\"frequency\": 5, \"value\": 1037}, \"1038\": {\"frequency\": 3, \"value\": 1038}, \"1039\": {\"frequency\": 6, \"value\": 1039}, \"1040\": {\"frequency\": 5, \"value\": 1040}, \"1041\": {\"frequency\": 1, \"value\": 1041}, \"1042\": {\"frequency\": 3, \"value\": 1042}, \"1043\": {\"frequency\": 4, \"value\": 1043}, \"1044\": {\"frequency\": 3, \"value\": 1044}, \"1045\": {\"frequency\": 5, \"value\": 1045}, \"1046\": {\"frequency\": 2, \"value\": 1046}, \"1047\": {\"frequency\": 2, \"value\": 1047}, \"1049\": {\"frequency\": 2, \"value\": 1049}, \"1050\": {\"frequency\": 3, \"value\": 1050}, \"1051\": {\"frequency\": 3, \"value\": 1051}, \"1052\": {\"frequency\": 3, \"value\": 1052}, \"1053\": {\"frequency\": 3, \"value\": 1053}, \"1054\": {\"frequency\": 3, \"value\": 1054}, \"1055\": {\"frequency\": 2, \"value\": 1055}, \"1056\": {\"frequency\": 3, \"value\": 1056}, \"1057\": {\"frequency\": 2, \"value\": 1057}, \"1058\": {\"frequency\": 1, \"value\": 1058}, \"1059\": {\"frequency\": 7, \"value\": 1059}, \"1060\": {\"frequency\": 3, \"value\": 1060}, \"1061\": {\"frequency\": 6, \"value\": 1061}, \"1062\": {\"frequency\": 2, \"value\": 1062}, \"1063\": {\"frequency\": 3, \"value\": 1063}, \"1064\": {\"frequency\": 3, \"value\": 1064}, \"1065\": {\"frequency\": 4, \"value\": 1065}, \"1066\": {\"frequency\": 6, \"value\": 1066}, \"1067\": {\"frequency\": 2, \"value\": 1067}, \"1068\": {\"frequency\": 3, \"value\": 1068}, \"1069\": {\"frequency\": 1, \"value\": 1069}, \"1070\": {\"frequency\": 5, \"value\": 1070}, \"1071\": {\"frequency\": 3, \"value\": 1071}, \"1072\": {\"frequency\": 2, \"value\": 1072}, \"1073\": {\"frequency\": 2, \"value\": 1073}, \"1076\": {\"frequency\": 3, \"value\": 1076}, \"1077\": {\"frequency\": 1, \"value\": 1077}, \"1078\": {\"frequency\": 6, \"value\": 1078}, \"1079\": {\"frequency\": 4, \"value\": 1079}, \"1080\": {\"frequency\": 6, \"value\": 1080}, \"1081\": {\"frequency\": 2, \"value\": 1081}, \"1082\": {\"frequency\": 1, \"value\": 1082}, \"1083\": {\"frequency\": 4, \"value\": 1083}, \"1085\": {\"frequency\": 2, \"value\": 1085}, \"1086\": {\"frequency\": 1, \"value\": 1086}, \"1087\": {\"frequency\": 1, \"value\": 1087}, \"1088\": {\"frequency\": 2, \"value\": 1088}, \"1089\": {\"frequency\": 2, \"value\": 1089}, \"1090\": {\"frequency\": 2, \"value\": 1090}, \"1091\": {\"frequency\": 6, \"value\": 1091}, \"1092\": {\"frequency\": 3, \"value\": 1092}, \"1093\": {\"frequency\": 2, \"value\": 1093}, \"1094\": {\"frequency\": 3, \"value\": 1094}, \"1095\": {\"frequency\": 3, \"value\": 1095}, \"1096\": {\"frequency\": 1, \"value\": 1096}, \"1097\": {\"frequency\": 2, \"value\": 1097}, \"1098\": {\"frequency\": 2, \"value\": 1098}, \"1100\": {\"frequency\": 4, \"value\": 1100}, \"1101\": {\"frequency\": 2, \"value\": 1101}, \"1102\": {\"frequency\": 4, \"value\": 1102}, \"1103\": {\"frequency\": 1, \"value\": 1103}, \"1104\": {\"frequency\": 2, \"value\": 1104}, \"1105\": {\"frequency\": 3, \"value\": 1105}, \"1106\": {\"frequency\": 2, \"value\": 1106}, \"1107\": {\"frequency\": 4, \"value\": 1107}, \"1108\": {\"frequency\": 3, \"value\": 1108}, \"1109\": {\"frequency\": 4, \"value\": 1109}, \"1110\": {\"frequency\": 1, \"value\": 1110}, \"1111\": {\"frequency\": 3, \"value\": 1111}, \"1112\": {\"frequency\": 4, \"value\": 1112}, \"1113\": {\"frequency\": 4, \"value\": 1113}, \"1114\": {\"frequency\": 3, \"value\": 1114}, \"1116\": {\"frequency\": 2, \"value\": 1116}, \"1117\": {\"frequency\": 2, \"value\": 1117}, \"1118\": {\"frequency\": 3, \"value\": 1118}, \"1119\": {\"frequency\": 1, \"value\": 1119}, \"1120\": {\"frequency\": 3, \"value\": 1120}, \"1121\": {\"frequency\": 5, \"value\": 1121}, \"1122\": {\"frequency\": 2, \"value\": 1122}, \"1123\": {\"frequency\": 2, \"value\": 1123}, \"1124\": {\"frequency\": 1, \"value\": 1124}, \"1125\": {\"frequency\": 4, \"value\": 1125}, \"1126\": {\"frequency\": 4, \"value\": 1126}, \"1127\": {\"frequency\": 3, \"value\": 1127}, \"1128\": {\"frequency\": 1, \"value\": 1128}, \"1129\": {\"frequency\": 3, \"value\": 1129}, \"1130\": {\"frequency\": 2, \"value\": 1130}, \"1131\": {\"frequency\": 1, \"value\": 1131}, \"1132\": {\"frequency\": 1, \"value\": 1132}, \"1133\": {\"frequency\": 5, \"value\": 1133}, \"1134\": {\"frequency\": 3, \"value\": 1134}, \"1135\": {\"frequency\": 2, \"value\": 1135}, \"1136\": {\"frequency\": 2, \"value\": 1136}, \"1137\": {\"frequency\": 2, \"value\": 1137}, \"1138\": {\"frequency\": 2, \"value\": 1138}, \"1139\": {\"frequency\": 4, \"value\": 1139}, \"1140\": {\"frequency\": 1, \"value\": 1140}, \"1141\": {\"frequency\": 5, \"value\": 1141}, \"1142\": {\"frequency\": 3, \"value\": 1142}, \"1143\": {\"frequency\": 1, \"value\": 1143}, \"1144\": {\"frequency\": 3, \"value\": 1144}, \"1145\": {\"frequency\": 1, \"value\": 1145}, \"1146\": {\"frequency\": 3, \"value\": 1146}, \"1147\": {\"frequency\": 2, \"value\": 1147}, \"1148\": {\"frequency\": 2, \"value\": 1148}, \"1149\": {\"frequency\": 4, \"value\": 1149}, \"1151\": {\"frequency\": 1, \"value\": 1151}, \"1152\": {\"frequency\": 2, \"value\": 1152}, \"1154\": {\"frequency\": 2, \"value\": 1154}, \"1155\": {\"frequency\": 6, \"value\": 1155}, \"1156\": {\"frequency\": 1, \"value\": 1156}, \"1157\": {\"frequency\": 1, \"value\": 1157}, \"1160\": {\"frequency\": 5, \"value\": 1160}, \"1161\": {\"frequency\": 5, \"value\": 1161}, \"1162\": {\"frequency\": 2, \"value\": 1162}, \"1164\": {\"frequency\": 1, \"value\": 1164}, \"1165\": {\"frequency\": 4, \"value\": 1165}, \"1166\": {\"frequency\": 1, \"value\": 1166}, \"1167\": {\"frequency\": 4, \"value\": 1167}, \"1168\": {\"frequency\": 2, \"value\": 1168}, \"1169\": {\"frequency\": 2, \"value\": 1169}, \"1171\": {\"frequency\": 2, \"value\": 1171}, \"1172\": {\"frequency\": 3, \"value\": 1172}, \"1173\": {\"frequency\": 1, \"value\": 1173}, \"1174\": {\"frequency\": 2, \"value\": 1174}, \"1175\": {\"frequency\": 2, \"value\": 1175}, \"1176\": {\"frequency\": 1, \"value\": 1176}, \"1177\": {\"frequency\": 3, \"value\": 1177}, \"1178\": {\"frequency\": 2, \"value\": 1178}, \"1179\": {\"frequency\": 2, \"value\": 1179}, \"1180\": {\"frequency\": 2, \"value\": 1180}, \"1181\": {\"frequency\": 1, \"value\": 1181}, \"1182\": {\"frequency\": 4, \"value\": 1182}, \"1183\": {\"frequency\": 3, \"value\": 1183}, \"1184\": {\"frequency\": 4, \"value\": 1184}, \"1185\": {\"frequency\": 3, \"value\": 1185}, \"1186\": {\"frequency\": 1, \"value\": 1186}, \"1187\": {\"frequency\": 2, \"value\": 1187}, \"1188\": {\"frequency\": 1, \"value\": 1188}, \"1189\": {\"frequency\": 3, \"value\": 1189}, \"1190\": {\"frequency\": 1, \"value\": 1190}, \"1191\": {\"frequency\": 2, \"value\": 1191}, \"1192\": {\"frequency\": 1, \"value\": 1192}, \"1193\": {\"frequency\": 4, \"value\": 1193}, \"1194\": {\"frequency\": 3, \"value\": 1194}, \"1195\": {\"frequency\": 1, \"value\": 1195}, \"1196\": {\"frequency\": 1, \"value\": 1196}, \"1197\": {\"frequency\": 2, \"value\": 1197}, \"1199\": {\"frequency\": 1, \"value\": 1199}, \"1200\": {\"frequency\": 2, \"value\": 1200}, \"1202\": {\"frequency\": 3, \"value\": 1202}, \"1203\": {\"frequency\": 1, \"value\": 1203}, \"1204\": {\"frequency\": 4, \"value\": 1204}, \"1205\": {\"frequency\": 3, \"value\": 1205}, \"1206\": {\"frequency\": 1, \"value\": 1206}, \"1207\": {\"frequency\": 4, \"value\": 1207}, \"1208\": {\"frequency\": 2, \"value\": 1208}, \"1209\": {\"frequency\": 3, \"value\": 1209}, \"1210\": {\"frequency\": 1, \"value\": 1210}, \"1212\": {\"frequency\": 1, \"value\": 1212}, \"1213\": {\"frequency\": 2, \"value\": 1213}, \"1214\": {\"frequency\": 1, \"value\": 1214}, \"1215\": {\"frequency\": 3, \"value\": 1215}, \"1217\": {\"frequency\": 2, \"value\": 1217}, \"1218\": {\"frequency\": 1, \"value\": 1218}, \"1219\": {\"frequency\": 4, \"value\": 1219}, \"1220\": {\"frequency\": 2, \"value\": 1220}, \"1221\": {\"frequency\": 1, \"value\": 1221}, \"1222\": {\"frequency\": 1, \"value\": 1222}, \"1223\": {\"frequency\": 2, \"value\": 1223}, \"1224\": {\"frequency\": 2, \"value\": 1224}, \"1225\": {\"frequency\": 1, \"value\": 1225}, \"1227\": {\"frequency\": 2, \"value\": 1227}, \"1228\": {\"frequency\": 3, \"value\": 1228}, \"1229\": {\"frequency\": 1, \"value\": 1229}, \"1230\": {\"frequency\": 1, \"value\": 1230}, \"1231\": {\"frequency\": 3, \"value\": 1231}, \"1232\": {\"frequency\": 3, \"value\": 1232}, \"1233\": {\"frequency\": 2, \"value\": 1233}, \"1234\": {\"frequency\": 1, \"value\": 1234}, \"1236\": {\"frequency\": 2, \"value\": 1236}, \"1238\": {\"frequency\": 1, \"value\": 1238}, \"1239\": {\"frequency\": 2, \"value\": 1239}, \"1240\": {\"frequency\": 2, \"value\": 1240}, \"1241\": {\"frequency\": 3, \"value\": 1241}, \"1242\": {\"frequency\": 1, \"value\": 1242}, \"1245\": {\"frequency\": 2, \"value\": 1245}, \"1246\": {\"frequency\": 3, \"value\": 1246}, \"1248\": {\"frequency\": 4, \"value\": 1248}, \"1249\": {\"frequency\": 1, \"value\": 1249}, \"1250\": {\"frequency\": 1, \"value\": 1250}, \"1251\": {\"frequency\": 3, \"value\": 1251}, \"1252\": {\"frequency\": 3, \"value\": 1252}, \"1253\": {\"frequency\": 1, \"value\": 1253}, \"1254\": {\"frequency\": 1, \"value\": 1254}, \"1255\": {\"frequency\": 1, \"value\": 1255}, \"1256\": {\"frequency\": 4, \"value\": 1256}, \"1257\": {\"frequency\": 5, \"value\": 1257}, \"1259\": {\"frequency\": 1, \"value\": 1259}, \"1260\": {\"frequency\": 2, \"value\": 1260}, \"1261\": {\"frequency\": 1, \"value\": 1261}, \"1262\": {\"frequency\": 1, \"value\": 1262}, \"1263\": {\"frequency\": 2, \"value\": 1263}, \"1265\": {\"frequency\": 3, \"value\": 1265}, \"1266\": {\"frequency\": 5, \"value\": 1266}, \"1267\": {\"frequency\": 1, \"value\": 1267}, \"1269\": {\"frequency\": 2, \"value\": 1269}, \"1271\": {\"frequency\": 4, \"value\": 1271}, \"1272\": {\"frequency\": 1, \"value\": 1272}, \"1274\": {\"frequency\": 3, \"value\": 1274}, \"1275\": {\"frequency\": 2, \"value\": 1275}, \"1276\": {\"frequency\": 1, \"value\": 1276}, \"1277\": {\"frequency\": 2, \"value\": 1277}, \"1279\": {\"frequency\": 3, \"value\": 1279}, \"1280\": {\"frequency\": 2, \"value\": 1280}, \"1281\": {\"frequency\": 2, \"value\": 1281}, \"1282\": {\"frequency\": 3, \"value\": 1282}, \"1283\": {\"frequency\": 2, \"value\": 1283}, \"1285\": {\"frequency\": 1, \"value\": 1285}, \"1286\": {\"frequency\": 1, \"value\": 1286}, \"1287\": {\"frequency\": 5, \"value\": 1287}, \"1288\": {\"frequency\": 2, \"value\": 1288}, \"1289\": {\"frequency\": 2, \"value\": 1289}, \"1291\": {\"frequency\": 1, \"value\": 1291}, \"1292\": {\"frequency\": 1, \"value\": 1292}, \"1293\": {\"frequency\": 1, \"value\": 1293}, \"1294\": {\"frequency\": 1, \"value\": 1294}, \"1295\": {\"frequency\": 2, \"value\": 1295}, \"1296\": {\"frequency\": 8, \"value\": 1296}, \"1299\": {\"frequency\": 1, \"value\": 1299}, \"1300\": {\"frequency\": 1, \"value\": 1300}, \"1302\": {\"frequency\": 2, \"value\": 1302}, \"1303\": {\"frequency\": 1, \"value\": 1303}, \"1304\": {\"frequency\": 1, \"value\": 1304}, \"1305\": {\"frequency\": 2, \"value\": 1305}, \"1307\": {\"frequency\": 2, \"value\": 1307}, \"1308\": {\"frequency\": 1, \"value\": 1308}, \"1309\": {\"frequency\": 1, \"value\": 1309}, \"1312\": {\"frequency\": 1, \"value\": 1312}, \"1313\": {\"frequency\": 1, \"value\": 1313}, \"1314\": {\"frequency\": 2, \"value\": 1314}, \"1316\": {\"frequency\": 1, \"value\": 1316}, \"1317\": {\"frequency\": 1, \"value\": 1317}, \"1318\": {\"frequency\": 3, \"value\": 1318}, \"1319\": {\"frequency\": 2, \"value\": 1319}, \"1320\": {\"frequency\": 2, \"value\": 1320}, \"1324\": {\"frequency\": 2, \"value\": 1324}, \"1326\": {\"frequency\": 1, \"value\": 1326}, \"1327\": {\"frequency\": 2, \"value\": 1327}, \"1328\": {\"frequency\": 1, \"value\": 1328}, \"1330\": {\"frequency\": 1, \"value\": 1330}, \"1331\": {\"frequency\": 2, \"value\": 1331}, \"1332\": {\"frequency\": 1, \"value\": 1332}, \"1333\": {\"frequency\": 3, \"value\": 1333}, \"1335\": {\"frequency\": 1, \"value\": 1335}, \"1336\": {\"frequency\": 3, \"value\": 1336}, \"1340\": {\"frequency\": 1, \"value\": 1340}, \"1342\": {\"frequency\": 2, \"value\": 1342}, \"1343\": {\"frequency\": 1, \"value\": 1343}, \"1345\": {\"frequency\": 2, \"value\": 1345}, \"1348\": {\"frequency\": 1, \"value\": 1348}, \"1349\": {\"frequency\": 1, \"value\": 1349}, \"1351\": {\"frequency\": 2, \"value\": 1351}, \"1352\": {\"frequency\": 2, \"value\": 1352}, \"1353\": {\"frequency\": 1, \"value\": 1353}, \"1354\": {\"frequency\": 4, \"value\": 1354}, \"1355\": {\"frequency\": 1, \"value\": 1355}, \"1357\": {\"frequency\": 1, \"value\": 1357}, \"1358\": {\"frequency\": 2, \"value\": 1358}, \"1360\": {\"frequency\": 2, \"value\": 1360}, \"1361\": {\"frequency\": 3, \"value\": 1361}, \"1365\": {\"frequency\": 1, \"value\": 1365}, \"1366\": {\"frequency\": 1, \"value\": 1366}, \"1368\": {\"frequency\": 1, \"value\": 1368}, \"1369\": {\"frequency\": 1, \"value\": 1369}, \"1370\": {\"frequency\": 2, \"value\": 1370}, \"1371\": {\"frequency\": 1, \"value\": 1371}, \"1373\": {\"frequency\": 1, \"value\": 1373}, \"1374\": {\"frequency\": 2, \"value\": 1374}, \"1375\": {\"frequency\": 1, \"value\": 1375}, \"1376\": {\"frequency\": 2, \"value\": 1376}, \"1377\": {\"frequency\": 3, \"value\": 1377}, \"1378\": {\"frequency\": 3, \"value\": 1378}, \"1379\": {\"frequency\": 2, \"value\": 1379}, \"1381\": {\"frequency\": 2, \"value\": 1381}, \"1382\": {\"frequency\": 1, \"value\": 1382}, \"1383\": {\"frequency\": 1, \"value\": 1383}, \"1384\": {\"frequency\": 1, \"value\": 1384}, \"1385\": {\"frequency\": 3, \"value\": 1385}, \"1387\": {\"frequency\": 1, \"value\": 1387}, \"1389\": {\"frequency\": 1, \"value\": 1389}, \"1390\": {\"frequency\": 1, \"value\": 1390}, \"1391\": {\"frequency\": 1, \"value\": 1391}, \"1392\": {\"frequency\": 1, \"value\": 1392}, \"1394\": {\"frequency\": 1, \"value\": 1394}, \"1395\": {\"frequency\": 1, \"value\": 1395}, \"1397\": {\"frequency\": 2, \"value\": 1397}, \"1398\": {\"frequency\": 1, \"value\": 1398}, \"1399\": {\"frequency\": 1, \"value\": 1399}, \"1400\": {\"frequency\": 1, \"value\": 1400}, \"1401\": {\"frequency\": 3, \"value\": 1401}, \"1405\": {\"frequency\": 1, \"value\": 1405}, \"1406\": {\"frequency\": 2, \"value\": 1406}, \"1407\": {\"frequency\": 1, \"value\": 1407}, \"1408\": {\"frequency\": 1, \"value\": 1408}, \"1409\": {\"frequency\": 1, \"value\": 1409}, \"1410\": {\"frequency\": 2, \"value\": 1410}, \"1412\": {\"frequency\": 1, \"value\": 1412}, \"1413\": {\"frequency\": 2, \"value\": 1413}, \"1414\": {\"frequency\": 1, \"value\": 1414}, \"1415\": {\"frequency\": 1, \"value\": 1415}, \"1416\": {\"frequency\": 2, \"value\": 1416}, \"1418\": {\"frequency\": 4, \"value\": 1418}, \"1419\": {\"frequency\": 1, \"value\": 1419}, \"1420\": {\"frequency\": 2, \"value\": 1420}, \"1421\": {\"frequency\": 1, \"value\": 1421}, \"1423\": {\"frequency\": 1, \"value\": 1423}, \"1425\": {\"frequency\": 2, \"value\": 1425}, \"1429\": {\"frequency\": 1, \"value\": 1429}, \"1430\": {\"frequency\": 3, \"value\": 1430}, \"1431\": {\"frequency\": 1, \"value\": 1431}, \"1432\": {\"frequency\": 1, \"value\": 1432}, \"1434\": {\"frequency\": 3, \"value\": 1434}, \"1435\": {\"frequency\": 2, \"value\": 1435}, \"1436\": {\"frequency\": 1, \"value\": 1436}, \"1437\": {\"frequency\": 2, \"value\": 1437}, \"1438\": {\"frequency\": 1, \"value\": 1438}, \"1439\": {\"frequency\": 1, \"value\": 1439}, \"1441\": {\"frequency\": 1, \"value\": 1441}, \"1443\": {\"frequency\": 3, \"value\": 1443}, \"1444\": {\"frequency\": 2, \"value\": 1444}, \"1446\": {\"frequency\": 1, \"value\": 1446}, \"1447\": {\"frequency\": 2, \"value\": 1447}, \"1448\": {\"frequency\": 1, \"value\": 1448}, \"1449\": {\"frequency\": 1, \"value\": 1449}, \"1451\": {\"frequency\": 2, \"value\": 1451}, \"1454\": {\"frequency\": 3, \"value\": 1454}, \"1456\": {\"frequency\": 2, \"value\": 1456}, \"1460\": {\"frequency\": 1, \"value\": 1460}, \"1461\": {\"frequency\": 4, \"value\": 1461}, \"1463\": {\"frequency\": 1, \"value\": 1463}, \"1465\": {\"frequency\": 3, \"value\": 1465}, \"1467\": {\"frequency\": 2, \"value\": 1467}, \"1471\": {\"frequency\": 1, \"value\": 1471}, \"1475\": {\"frequency\": 1, \"value\": 1475}, \"1476\": {\"frequency\": 2, \"value\": 1476}, \"1477\": {\"frequency\": 2, \"value\": 1477}, \"1478\": {\"frequency\": 1, \"value\": 1478}, \"1479\": {\"frequency\": 1, \"value\": 1479}, \"1482\": {\"frequency\": 2, \"value\": 1482}, \"1484\": {\"frequency\": 1, \"value\": 1484}, \"1485\": {\"frequency\": 2, \"value\": 1485}, \"1487\": {\"frequency\": 2, \"value\": 1487}, \"1488\": {\"frequency\": 2, \"value\": 1488}, \"1489\": {\"frequency\": 2, \"value\": 1489}, \"1490\": {\"frequency\": 1, \"value\": 1490}, \"1491\": {\"frequency\": 1, \"value\": 1491}, \"1493\": {\"frequency\": 1, \"value\": 1493}, \"1496\": {\"frequency\": 1, \"value\": 1496}, \"1497\": {\"frequency\": 1, \"value\": 1497}, \"1498\": {\"frequency\": 2, \"value\": 1498}, \"1503\": {\"frequency\": 1, \"value\": 1503}, \"1504\": {\"frequency\": 2, \"value\": 1504}, \"1505\": {\"frequency\": 1, \"value\": 1505}, \"1507\": {\"frequency\": 1, \"value\": 1507}, \"1508\": {\"frequency\": 4, \"value\": 1508}, \"1509\": {\"frequency\": 1, \"value\": 1509}, \"1510\": {\"frequency\": 2, \"value\": 1510}, \"1512\": {\"frequency\": 1, \"value\": 1512}, \"1514\": {\"frequency\": 1, \"value\": 1514}, \"1515\": {\"frequency\": 1, \"value\": 1515}, \"1516\": {\"frequency\": 1, \"value\": 1516}, \"1518\": {\"frequency\": 1, \"value\": 1518}, \"1520\": {\"frequency\": 1, \"value\": 1520}, \"1523\": {\"frequency\": 1, \"value\": 1523}, \"1525\": {\"frequency\": 2, \"value\": 1525}, \"1527\": {\"frequency\": 2, \"value\": 1527}, \"1529\": {\"frequency\": 1, \"value\": 1529}, \"1530\": {\"frequency\": 1, \"value\": 1530}, \"1533\": {\"frequency\": 2, \"value\": 1533}, \"1535\": {\"frequency\": 2, \"value\": 1535}, \"1536\": {\"frequency\": 1, \"value\": 1536}, \"1538\": {\"frequency\": 1, \"value\": 1538}, \"1539\": {\"frequency\": 3, \"value\": 1539}, \"1540\": {\"frequency\": 1, \"value\": 1540}, \"1542\": {\"frequency\": 2, \"value\": 1542}, \"1543\": {\"frequency\": 2, \"value\": 1543}, \"1544\": {\"frequency\": 1, \"value\": 1544}, \"1546\": {\"frequency\": 3, \"value\": 1546}, \"1547\": {\"frequency\": 3, \"value\": 1547}, \"1550\": {\"frequency\": 2, \"value\": 1550}, \"1551\": {\"frequency\": 3, \"value\": 1551}, \"1552\": {\"frequency\": 1, \"value\": 1552}, \"1553\": {\"frequency\": 2, \"value\": 1553}, \"1555\": {\"frequency\": 1, \"value\": 1555}, \"1558\": {\"frequency\": 4, \"value\": 1558}, \"1559\": {\"frequency\": 2, \"value\": 1559}, \"1560\": {\"frequency\": 3, \"value\": 1560}, \"1562\": {\"frequency\": 1, \"value\": 1562}, \"1563\": {\"frequency\": 1, \"value\": 1563}, \"1566\": {\"frequency\": 2, \"value\": 1566}, \"1568\": {\"frequency\": 1, \"value\": 1568}, \"1573\": {\"frequency\": 2, \"value\": 1573}, \"1574\": {\"frequency\": 1, \"value\": 1574}, \"1576\": {\"frequency\": 2, \"value\": 1576}, \"1577\": {\"frequency\": 1, \"value\": 1577}, \"1579\": {\"frequency\": 1, \"value\": 1579}, \"1580\": {\"frequency\": 1, \"value\": 1580}, \"1581\": {\"frequency\": 1, \"value\": 1581}, \"1582\": {\"frequency\": 1, \"value\": 1582}, \"1583\": {\"frequency\": 2, \"value\": 1583}, \"1584\": {\"frequency\": 2, \"value\": 1584}, \"1585\": {\"frequency\": 2, \"value\": 1585}, \"1586\": {\"frequency\": 3, \"value\": 1586}, \"1587\": {\"frequency\": 2, \"value\": 1587}, \"1588\": {\"frequency\": 1, \"value\": 1588}, \"1589\": {\"frequency\": 2, \"value\": 1589}, \"1590\": {\"frequency\": 3, \"value\": 1590}, \"1591\": {\"frequency\": 2, \"value\": 1591}, \"1592\": {\"frequency\": 1, \"value\": 1592}, \"1593\": {\"frequency\": 2, \"value\": 1593}, \"1596\": {\"frequency\": 1, \"value\": 1596}, \"1597\": {\"frequency\": 3, \"value\": 1597}, \"1598\": {\"frequency\": 1, \"value\": 1598}, \"1599\": {\"frequency\": 1, \"value\": 1599}, \"1600\": {\"frequency\": 2, \"value\": 1600}, \"1601\": {\"frequency\": 2, \"value\": 1601}, \"1602\": {\"frequency\": 3, \"value\": 1602}, \"1607\": {\"frequency\": 1, \"value\": 1607}, \"1609\": {\"frequency\": 1, \"value\": 1609}, \"1610\": {\"frequency\": 2, \"value\": 1610}, \"1612\": {\"frequency\": 1, \"value\": 1612}, \"1613\": {\"frequency\": 1, \"value\": 1613}, \"1614\": {\"frequency\": 1, \"value\": 1614}, \"1615\": {\"frequency\": 1, \"value\": 1615}, \"1616\": {\"frequency\": 1, \"value\": 1616}, \"1617\": {\"frequency\": 1, \"value\": 1617}, \"1619\": {\"frequency\": 1, \"value\": 1619}, \"1625\": {\"frequency\": 1, \"value\": 1625}, \"1626\": {\"frequency\": 2, \"value\": 1626}, \"1627\": {\"frequency\": 1, \"value\": 1627}, \"1628\": {\"frequency\": 1, \"value\": 1628}, \"1629\": {\"frequency\": 1, \"value\": 1629}, \"1630\": {\"frequency\": 1, \"value\": 1630}, \"1631\": {\"frequency\": 2, \"value\": 1631}, \"1634\": {\"frequency\": 2, \"value\": 1634}, \"1636\": {\"frequency\": 3, \"value\": 1636}, \"1638\": {\"frequency\": 1, \"value\": 1638}, \"1641\": {\"frequency\": 3, \"value\": 1641}, \"1643\": {\"frequency\": 1, \"value\": 1643}, \"1644\": {\"frequency\": 3, \"value\": 1644}, \"1645\": {\"frequency\": 3, \"value\": 1645}, \"1648\": {\"frequency\": 1, \"value\": 1648}, \"1650\": {\"frequency\": 2, \"value\": 1650}, \"1651\": {\"frequency\": 1, \"value\": 1651}, \"1652\": {\"frequency\": 1, \"value\": 1652}, \"1653\": {\"frequency\": 2, \"value\": 1653}, \"1656\": {\"frequency\": 1, \"value\": 1656}, \"1660\": {\"frequency\": 2, \"value\": 1660}, \"1662\": {\"frequency\": 1, \"value\": 1662}, \"1664\": {\"frequency\": 1, \"value\": 1664}, \"1668\": {\"frequency\": 1, \"value\": 1668}, \"1670\": {\"frequency\": 1, \"value\": 1670}, \"1671\": {\"frequency\": 1, \"value\": 1671}, \"1672\": {\"frequency\": 1, \"value\": 1672}, \"1673\": {\"frequency\": 1, \"value\": 1673}, \"1675\": {\"frequency\": 1, \"value\": 1675}, \"1676\": {\"frequency\": 1, \"value\": 1676}, \"1677\": {\"frequency\": 1, \"value\": 1677}, \"1680\": {\"frequency\": 1, \"value\": 1680}, \"1684\": {\"frequency\": 2, \"value\": 1684}, \"1685\": {\"frequency\": 2, \"value\": 1685}, \"1687\": {\"frequency\": 1, \"value\": 1687}, \"1692\": {\"frequency\": 1, \"value\": 1692}, \"1693\": {\"frequency\": 2, \"value\": 1693}, \"1695\": {\"frequency\": 2, \"value\": 1695}, \"1698\": {\"frequency\": 2, \"value\": 1698}, \"1701\": {\"frequency\": 1, \"value\": 1701}, \"1703\": {\"frequency\": 3, \"value\": 1703}, \"1705\": {\"frequency\": 1, \"value\": 1705}, \"1707\": {\"frequency\": 2, \"value\": 1707}, \"1708\": {\"frequency\": 1, \"value\": 1708}, \"1709\": {\"frequency\": 1, \"value\": 1709}, \"1710\": {\"frequency\": 2, \"value\": 1710}, \"1714\": {\"frequency\": 3, \"value\": 1714}, \"1716\": {\"frequency\": 1, \"value\": 1716}, \"1718\": {\"frequency\": 1, \"value\": 1718}, \"1721\": {\"frequency\": 1, \"value\": 1721}, \"1722\": {\"frequency\": 1, \"value\": 1722}, \"1723\": {\"frequency\": 1, \"value\": 1723}, \"1724\": {\"frequency\": 2, \"value\": 1724}, \"1725\": {\"frequency\": 1, \"value\": 1725}, \"1728\": {\"frequency\": 2, \"value\": 1728}, \"1736\": {\"frequency\": 1, \"value\": 1736}, \"1738\": {\"frequency\": 1, \"value\": 1738}, \"1741\": {\"frequency\": 2, \"value\": 1741}, \"1743\": {\"frequency\": 1, \"value\": 1743}, \"1745\": {\"frequency\": 1, \"value\": 1745}, \"1746\": {\"frequency\": 1, \"value\": 1746}, \"1748\": {\"frequency\": 1, \"value\": 1748}, \"1750\": {\"frequency\": 1, \"value\": 1750}, \"1751\": {\"frequency\": 2, \"value\": 1751}, \"1752\": {\"frequency\": 1, \"value\": 1752}, \"1754\": {\"frequency\": 1, \"value\": 1754}, \"1758\": {\"frequency\": 2, \"value\": 1758}, \"1760\": {\"frequency\": 1, \"value\": 1760}, \"1761\": {\"frequency\": 1, \"value\": 1761}, \"1764\": {\"frequency\": 2, \"value\": 1764}, \"1765\": {\"frequency\": 1, \"value\": 1765}, \"1767\": {\"frequency\": 2, \"value\": 1767}, \"1771\": {\"frequency\": 2, \"value\": 1771}, \"1774\": {\"frequency\": 1, \"value\": 1774}, \"1777\": {\"frequency\": 1, \"value\": 1777}, \"1779\": {\"frequency\": 1, \"value\": 1779}, \"1787\": {\"frequency\": 1, \"value\": 1787}, \"1789\": {\"frequency\": 1, \"value\": 1789}, \"1790\": {\"frequency\": 1, \"value\": 1790}, \"1792\": {\"frequency\": 1, \"value\": 1792}, \"1793\": {\"frequency\": 2, \"value\": 1793}, \"1794\": {\"frequency\": 2, \"value\": 1794}, \"1795\": {\"frequency\": 2, \"value\": 1795}, \"1799\": {\"frequency\": 3, \"value\": 1799}, \"1800\": {\"frequency\": 3, \"value\": 1800}, \"1801\": {\"frequency\": 1, \"value\": 1801}, \"1806\": {\"frequency\": 1, \"value\": 1806}, \"1808\": {\"frequency\": 1, \"value\": 1808}, \"1809\": {\"frequency\": 3, \"value\": 1809}, \"1810\": {\"frequency\": 1, \"value\": 1810}, \"1811\": {\"frequency\": 1, \"value\": 1811}, \"1812\": {\"frequency\": 1, \"value\": 1812}, \"1818\": {\"frequency\": 1, \"value\": 1818}, \"1819\": {\"frequency\": 1, \"value\": 1819}, \"1820\": {\"frequency\": 1, \"value\": 1820}, \"1822\": {\"frequency\": 1, \"value\": 1822}, \"1826\": {\"frequency\": 2, \"value\": 1826}, \"1831\": {\"frequency\": 2, \"value\": 1831}, \"1832\": {\"frequency\": 1, \"value\": 1832}, \"1835\": {\"frequency\": 1, \"value\": 1835}, \"1836\": {\"frequency\": 1, \"value\": 1836}, \"1841\": {\"frequency\": 2, \"value\": 1841}, \"1842\": {\"frequency\": 1, \"value\": 1842}, \"1843\": {\"frequency\": 1, \"value\": 1843}, \"1845\": {\"frequency\": 2, \"value\": 1845}, \"1846\": {\"frequency\": 2, \"value\": 1846}, \"1848\": {\"frequency\": 2, \"value\": 1848}, \"1851\": {\"frequency\": 1, \"value\": 1851}, \"1852\": {\"frequency\": 2, \"value\": 1852}, \"1853\": {\"frequency\": 1, \"value\": 1853}, \"1854\": {\"frequency\": 1, \"value\": 1854}, \"1855\": {\"frequency\": 1, \"value\": 1855}, \"1856\": {\"frequency\": 1, \"value\": 1856}, \"1860\": {\"frequency\": 2, \"value\": 1860}, \"1861\": {\"frequency\": 2, \"value\": 1861}, \"1862\": {\"frequency\": 1, \"value\": 1862}, \"1863\": {\"frequency\": 3, \"value\": 1863}, \"1864\": {\"frequency\": 1, \"value\": 1864}, \"1866\": {\"frequency\": 1, \"value\": 1866}, \"1871\": {\"frequency\": 1, \"value\": 1871}, \"1872\": {\"frequency\": 1, \"value\": 1872}, \"1874\": {\"frequency\": 2, \"value\": 1874}, \"1878\": {\"frequency\": 1, \"value\": 1878}, \"1880\": {\"frequency\": 1, \"value\": 1880}, \"1881\": {\"frequency\": 1, \"value\": 1881}, \"1882\": {\"frequency\": 1, \"value\": 1882}, \"1885\": {\"frequency\": 1, \"value\": 1885}, \"1886\": {\"frequency\": 1, \"value\": 1886}, \"1889\": {\"frequency\": 1, \"value\": 1889}, \"1894\": {\"frequency\": 1, \"value\": 1894}, \"1896\": {\"frequency\": 1, \"value\": 1896}, \"1897\": {\"frequency\": 1, \"value\": 1897}, \"1899\": {\"frequency\": 1, \"value\": 1899}, \"1900\": {\"frequency\": 1, \"value\": 1900}, \"1901\": {\"frequency\": 2, \"value\": 1901}, \"1905\": {\"frequency\": 1, \"value\": 1905}, \"1906\": {\"frequency\": 1, \"value\": 1906}, \"1908\": {\"frequency\": 1, \"value\": 1908}, \"1912\": {\"frequency\": 2, \"value\": 1912}, \"1919\": {\"frequency\": 1, \"value\": 1919}, \"1922\": {\"frequency\": 1, \"value\": 1922}, \"1927\": {\"frequency\": 1, \"value\": 1927}, \"1928\": {\"frequency\": 1, \"value\": 1928}, \"1929\": {\"frequency\": 1, \"value\": 1929}, \"1930\": {\"frequency\": 2, \"value\": 1930}, \"1932\": {\"frequency\": 1, \"value\": 1932}, \"1935\": {\"frequency\": 1, \"value\": 1935}, \"1936\": {\"frequency\": 2, \"value\": 1936}, \"1941\": {\"frequency\": 1, \"value\": 1941}, \"1943\": {\"frequency\": 1, \"value\": 1943}, \"1945\": {\"frequency\": 1, \"value\": 1945}, \"1946\": {\"frequency\": 1, \"value\": 1946}, \"1955\": {\"frequency\": 1, \"value\": 1955}, \"1958\": {\"frequency\": 1, \"value\": 1958}, \"1960\": {\"frequency\": 1, \"value\": 1960}, \"1964\": {\"frequency\": 1, \"value\": 1964}, \"1965\": {\"frequency\": 1, \"value\": 1965}, \"1966\": {\"frequency\": 1, \"value\": 1966}, \"1970\": {\"frequency\": 1, \"value\": 1970}, \"1973\": {\"frequency\": 1, \"value\": 1973}, \"1976\": {\"frequency\": 1, \"value\": 1976}, \"1978\": {\"frequency\": 1, \"value\": 1978}, \"1979\": {\"frequency\": 1, \"value\": 1979}, \"1984\": {\"frequency\": 1, \"value\": 1984}, \"1985\": {\"frequency\": 1, \"value\": 1985}, \"1988\": {\"frequency\": 2, \"value\": 1988}, \"1991\": {\"frequency\": 1, \"value\": 1991}, \"1992\": {\"frequency\": 2, \"value\": 1992}, \"1997\": {\"frequency\": 2, \"value\": 1997}, \"1998\": {\"frequency\": 1, \"value\": 1998}, \"2002\": {\"frequency\": 2, \"value\": 2002}, \"2003\": {\"frequency\": 1, \"value\": 2003}, \"2005\": {\"frequency\": 2, \"value\": 2005}, \"2007\": {\"frequency\": 1, \"value\": 2007}, \"2008\": {\"frequency\": 1, \"value\": 2008}, \"2013\": {\"frequency\": 2, \"value\": 2013}, \"2019\": {\"frequency\": 2, \"value\": 2019}, \"2024\": {\"frequency\": 1, \"value\": 2024}, \"2026\": {\"frequency\": 1, \"value\": 2026}, \"2028\": {\"frequency\": 1, \"value\": 2028}, \"2032\": {\"frequency\": 1, \"value\": 2032}, \"2033\": {\"frequency\": 3, \"value\": 2033}, \"2039\": {\"frequency\": 1, \"value\": 2039}, \"2047\": {\"frequency\": 1, \"value\": 2047}, \"2049\": {\"frequency\": 1, \"value\": 2049}, \"2051\": {\"frequency\": 1, \"value\": 2051}, \"2055\": {\"frequency\": 1, \"value\": 2055}, \"2060\": {\"frequency\": 1, \"value\": 2060}, \"2062\": {\"frequency\": 1, \"value\": 2062}, \"2067\": {\"frequency\": 1, \"value\": 2067}, \"2068\": {\"frequency\": 1, \"value\": 2068}, \"2069\": {\"frequency\": 1, \"value\": 2069}, \"2070\": {\"frequency\": 1, \"value\": 2070}, \"2076\": {\"frequency\": 2, \"value\": 2076}, \"2077\": {\"frequency\": 1, \"value\": 2077}, \"2078\": {\"frequency\": 2, \"value\": 2078}, \"2079\": {\"frequency\": 1, \"value\": 2079}, \"2080\": {\"frequency\": 1, \"value\": 2080}, \"2085\": {\"frequency\": 1, \"value\": 2085}, \"2086\": {\"frequency\": 1, \"value\": 2086}, \"2087\": {\"frequency\": 1, \"value\": 2087}, \"2089\": {\"frequency\": 1, \"value\": 2089}, \"2103\": {\"frequency\": 1, \"value\": 2103}, \"2104\": {\"frequency\": 1, \"value\": 2104}, \"2106\": {\"frequency\": 1, \"value\": 2106}, \"2109\": {\"frequency\": 1, \"value\": 2109}, \"2117\": {\"frequency\": 1, \"value\": 2117}, \"2121\": {\"frequency\": 2, \"value\": 2121}, \"2123\": {\"frequency\": 3, \"value\": 2123}, \"2133\": {\"frequency\": 2, \"value\": 2133}, \"2138\": {\"frequency\": 1, \"value\": 2138}, \"2139\": {\"frequency\": 1, \"value\": 2139}, \"2146\": {\"frequency\": 1, \"value\": 2146}, \"2147\": {\"frequency\": 2, \"value\": 2147}, \"2150\": {\"frequency\": 1, \"value\": 2150}, \"2154\": {\"frequency\": 1, \"value\": 2154}, \"2157\": {\"frequency\": 1, \"value\": 2157}, \"2161\": {\"frequency\": 1, \"value\": 2161}, \"2176\": {\"frequency\": 2, \"value\": 2176}, \"2180\": {\"frequency\": 1, \"value\": 2180}, \"2184\": {\"frequency\": 1, \"value\": 2184}, \"2188\": {\"frequency\": 1, \"value\": 2188}, \"2189\": {\"frequency\": 1, \"value\": 2189}, \"2191\": {\"frequency\": 2, \"value\": 2191}, \"2192\": {\"frequency\": 1, \"value\": 2192}, \"2194\": {\"frequency\": 1, \"value\": 2194}, \"2195\": {\"frequency\": 2, \"value\": 2195}, \"2196\": {\"frequency\": 1, \"value\": 2196}, \"2202\": {\"frequency\": 1, \"value\": 2202}, \"2211\": {\"frequency\": 1, \"value\": 2211}, \"2214\": {\"frequency\": 1, \"value\": 2214}, \"2219\": {\"frequency\": 1, \"value\": 2219}, \"2223\": {\"frequency\": 1, \"value\": 2223}, \"2224\": {\"frequency\": 1, \"value\": 2224}, \"2228\": {\"frequency\": 2, \"value\": 2228}, \"2231\": {\"frequency\": 1, \"value\": 2231}, \"2238\": {\"frequency\": 1, \"value\": 2238}, \"2242\": {\"frequency\": 1, \"value\": 2242}, \"2246\": {\"frequency\": 1, \"value\": 2246}, \"2250\": {\"frequency\": 1, \"value\": 2250}, \"2253\": {\"frequency\": 2, \"value\": 2253}, \"2256\": {\"frequency\": 1, \"value\": 2256}, \"2259\": {\"frequency\": 1, \"value\": 2259}, \"2267\": {\"frequency\": 2, \"value\": 2267}, \"2269\": {\"frequency\": 1, \"value\": 2269}, \"2274\": {\"frequency\": 1, \"value\": 2274}, \"2275\": {\"frequency\": 1, \"value\": 2275}, \"2278\": {\"frequency\": 1, \"value\": 2278}, \"2280\": {\"frequency\": 1, \"value\": 2280}, \"2300\": {\"frequency\": 1, \"value\": 2300}, \"2301\": {\"frequency\": 1, \"value\": 2301}, \"2302\": {\"frequency\": 1, \"value\": 2302}, \"2303\": {\"frequency\": 1, \"value\": 2303}, \"2309\": {\"frequency\": 1, \"value\": 2309}, \"2312\": {\"frequency\": 1, \"value\": 2312}, \"2313\": {\"frequency\": 1, \"value\": 2313}, \"2316\": {\"frequency\": 1, \"value\": 2316}, \"2319\": {\"frequency\": 2, \"value\": 2319}, \"2322\": {\"frequency\": 1, \"value\": 2322}, \"2324\": {\"frequency\": 1, \"value\": 2324}, \"2330\": {\"frequency\": 1, \"value\": 2330}, \"2333\": {\"frequency\": 1, \"value\": 2333}, \"2338\": {\"frequency\": 1, \"value\": 2338}, \"2343\": {\"frequency\": 1, \"value\": 2343}, \"2345\": {\"frequency\": 1, \"value\": 2345}, \"2364\": {\"frequency\": 1, \"value\": 2364}, \"2369\": {\"frequency\": 1, \"value\": 2369}, \"2373\": {\"frequency\": 1, \"value\": 2373}, \"2377\": {\"frequency\": 1, \"value\": 2377}, \"2379\": {\"frequency\": 1, \"value\": 2379}, \"2383\": {\"frequency\": 1, \"value\": 2383}, \"2384\": {\"frequency\": 2, \"value\": 2384}, \"2385\": {\"frequency\": 1, \"value\": 2385}, \"2391\": {\"frequency\": 1, \"value\": 2391}, \"2392\": {\"frequency\": 1, \"value\": 2392}, \"2395\": {\"frequency\": 1, \"value\": 2395}, \"2398\": {\"frequency\": 1, \"value\": 2398}, \"2400\": {\"frequency\": 3, \"value\": 2400}, \"2405\": {\"frequency\": 1, \"value\": 2405}, \"2411\": {\"frequency\": 1, \"value\": 2411}, \"2414\": {\"frequency\": 1, \"value\": 2414}, \"2419\": {\"frequency\": 1, \"value\": 2419}, \"2423\": {\"frequency\": 1, \"value\": 2423}, \"2426\": {\"frequency\": 1, \"value\": 2426}, \"2427\": {\"frequency\": 1, \"value\": 2427}, \"2429\": {\"frequency\": 1, \"value\": 2429}, \"2432\": {\"frequency\": 1, \"value\": 2432}, \"2433\": {\"frequency\": 1, \"value\": 2433}, \"2435\": {\"frequency\": 1, \"value\": 2435}, \"2436\": {\"frequency\": 1, \"value\": 2436}, \"2439\": {\"frequency\": 1, \"value\": 2439}, \"2441\": {\"frequency\": 1, \"value\": 2441}, \"2443\": {\"frequency\": 1, \"value\": 2443}, \"2446\": {\"frequency\": 1, \"value\": 2446}, \"2449\": {\"frequency\": 2, \"value\": 2449}, \"2450\": {\"frequency\": 1, \"value\": 2450}, \"2459\": {\"frequency\": 1, \"value\": 2459}, \"2468\": {\"frequency\": 1, \"value\": 2468}, \"2475\": {\"frequency\": 1, \"value\": 2475}, \"2479\": {\"frequency\": 1, \"value\": 2479}, \"2480\": {\"frequency\": 1, \"value\": 2480}, \"2486\": {\"frequency\": 1, \"value\": 2486}, \"2488\": {\"frequency\": 1, \"value\": 2488}, \"2490\": {\"frequency\": 1, \"value\": 2490}, \"2494\": {\"frequency\": 1, \"value\": 2494}, \"2498\": {\"frequency\": 1, \"value\": 2498}, \"2499\": {\"frequency\": 1, \"value\": 2499}, \"2504\": {\"frequency\": 1, \"value\": 2504}, \"2515\": {\"frequency\": 2, \"value\": 2515}, \"2516\": {\"frequency\": 1, \"value\": 2516}, \"2524\": {\"frequency\": 1, \"value\": 2524}, \"2548\": {\"frequency\": 1, \"value\": 2548}, \"2551\": {\"frequency\": 1, \"value\": 2551}, \"2564\": {\"frequency\": 1, \"value\": 2564}, \"2577\": {\"frequency\": 1, \"value\": 2577}, \"2580\": {\"frequency\": 1, \"value\": 2580}, \"2583\": {\"frequency\": 1, \"value\": 2583}, \"2593\": {\"frequency\": 1, \"value\": 2593}, \"2616\": {\"frequency\": 1, \"value\": 2616}, \"2623\": {\"frequency\": 1, \"value\": 2623}, \"2625\": {\"frequency\": 1, \"value\": 2625}, \"2628\": {\"frequency\": 1, \"value\": 2628}, \"2634\": {\"frequency\": 1, \"value\": 2634}, \"2635\": {\"frequency\": 1, \"value\": 2635}, \"2642\": {\"frequency\": 1, \"value\": 2642}, \"2652\": {\"frequency\": 1, \"value\": 2652}, \"2660\": {\"frequency\": 1, \"value\": 2660}, \"2663\": {\"frequency\": 1, \"value\": 2663}, \"2668\": {\"frequency\": 1, \"value\": 2668}, \"2673\": {\"frequency\": 1, \"value\": 2673}, \"2674\": {\"frequency\": 1, \"value\": 2674}, \"2676\": {\"frequency\": 1, \"value\": 2676}, \"2682\": {\"frequency\": 1, \"value\": 2682}, \"2692\": {\"frequency\": 1, \"value\": 2692}, \"2693\": {\"frequency\": 1, \"value\": 2693}, \"2701\": {\"frequency\": 1, \"value\": 2701}, \"2715\": {\"frequency\": 1, \"value\": 2715}, \"2723\": {\"frequency\": 1, \"value\": 2723}, \"2728\": {\"frequency\": 1, \"value\": 2728}, \"2762\": {\"frequency\": 1, \"value\": 2762}, \"2765\": {\"frequency\": 1, \"value\": 2765}, \"2768\": {\"frequency\": 1, \"value\": 2768}, \"2770\": {\"frequency\": 1, \"value\": 2770}, \"2775\": {\"frequency\": 1, \"value\": 2775}, \"2788\": {\"frequency\": 1, \"value\": 2788}, \"2791\": {\"frequency\": 1, \"value\": 2791}, \"2807\": {\"frequency\": 1, \"value\": 2807}, \"2809\": {\"frequency\": 1, \"value\": 2809}, \"2813\": {\"frequency\": 1, \"value\": 2813}, \"2816\": {\"frequency\": 1, \"value\": 2816}, \"2824\": {\"frequency\": 1, \"value\": 2824}, \"2827\": {\"frequency\": 1, \"value\": 2827}, \"2828\": {\"frequency\": 1, \"value\": 2828}, \"2847\": {\"frequency\": 1, \"value\": 2847}, \"2850\": {\"frequency\": 1, \"value\": 2850}, \"2864\": {\"frequency\": 1, \"value\": 2864}, \"2887\": {\"frequency\": 1, \"value\": 2887}, \"2898\": {\"frequency\": 1, \"value\": 2898}, \"2900\": {\"frequency\": 1, \"value\": 2900}, \"2959\": {\"frequency\": 1, \"value\": 2959}, \"2963\": {\"frequency\": 1, \"value\": 2963}, \"2965\": {\"frequency\": 1, \"value\": 2965}, \"2987\": {\"frequency\": 1, \"value\": 2987}, \"2996\": {\"frequency\": 1, \"value\": 2996}, \"3008\": {\"frequency\": 1, \"value\": 3008}, \"3030\": {\"frequency\": 1, \"value\": 3030}, \"3032\": {\"frequency\": 1, \"value\": 3032}, \"3058\": {\"frequency\": 1, \"value\": 3058}, \"3064\": {\"frequency\": 1, \"value\": 3064}, \"3073\": {\"frequency\": 1, \"value\": 3073}, \"3081\": {\"frequency\": 1, \"value\": 3081}, \"3088\": {\"frequency\": 1, \"value\": 3088}, \"3091\": {\"frequency\": 1, \"value\": 3091}, \"3129\": {\"frequency\": 1, \"value\": 3129}, \"3154\": {\"frequency\": 1, \"value\": 3154}, \"3170\": {\"frequency\": 1, \"value\": 3170}, \"3174\": {\"frequency\": 1, \"value\": 3174}, \"3185\": {\"frequency\": 1, \"value\": 3185}, \"3197\": {\"frequency\": 1, \"value\": 3197}, \"3212\": {\"frequency\": 1, \"value\": 3212}, \"3225\": {\"frequency\": 1, \"value\": 3225}, \"3252\": {\"frequency\": 1, \"value\": 3252}, \"3258\": {\"frequency\": 1, \"value\": 3258}, \"3263\": {\"frequency\": 1, \"value\": 3263}, \"3267\": {\"frequency\": 1, \"value\": 3267}, \"3284\": {\"frequency\": 1, \"value\": 3284}, \"3293\": {\"frequency\": 1, \"value\": 3293}, \"3296\": {\"frequency\": 1, \"value\": 3296}, \"3317\": {\"frequency\": 1, \"value\": 3317}, \"3327\": {\"frequency\": 1, \"value\": 3327}, \"3328\": {\"frequency\": 1, \"value\": 3328}, \"3330\": {\"frequency\": 2, \"value\": 3330}, \"3349\": {\"frequency\": 1, \"value\": 3349}, \"3356\": {\"frequency\": 1, \"value\": 3356}, \"3365\": {\"frequency\": 1, \"value\": 3365}, \"3392\": {\"frequency\": 1, \"value\": 3392}, \"3402\": {\"frequency\": 1, \"value\": 3402}, \"3435\": {\"frequency\": 1, \"value\": 3435}, \"3438\": {\"frequency\": 1, \"value\": 3438}, \"3484\": {\"frequency\": 1, \"value\": 3484}, \"3508\": {\"frequency\": 1, \"value\": 3508}, \"3518\": {\"frequency\": 1, \"value\": 3518}, \"3520\": {\"frequency\": 1, \"value\": 3520}, \"3525\": {\"frequency\": 1, \"value\": 3525}, \"3538\": {\"frequency\": 1, \"value\": 3538}, \"3554\": {\"frequency\": 1, \"value\": 3554}, \"3560\": {\"frequency\": 1, \"value\": 3560}, \"3611\": {\"frequency\": 1, \"value\": 3611}, \"3638\": {\"frequency\": 1, \"value\": 3638}, \"3645\": {\"frequency\": 1, \"value\": 3645}, \"3666\": {\"frequency\": 1, \"value\": 3666}, \"3687\": {\"frequency\": 1, \"value\": 3687}, \"3727\": {\"frequency\": 1, \"value\": 3727}, \"3841\": {\"frequency\": 1, \"value\": 3841}, \"3842\": {\"frequency\": 1, \"value\": 3842}, \"3863\": {\"frequency\": 1, \"value\": 3863}, \"3865\": {\"frequency\": 1, \"value\": 3865}, \"3921\": {\"frequency\": 1, \"value\": 3921}, \"3922\": {\"frequency\": 1, \"value\": 3922}, \"3942\": {\"frequency\": 1, \"value\": 3942}, \"3944\": {\"frequency\": 1, \"value\": 3944}, \"4000\": {\"frequency\": 1, \"value\": 4000}, \"4008\": {\"frequency\": 1, \"value\": 4008}, \"4068\": {\"frequency\": 1, \"value\": 4068}, \"4076\": {\"frequency\": 1, \"value\": 4076}, \"4673\": {\"frequency\": 1, \"value\": 4673}, \"4704\": {\"frequency\": 1, \"value\": 4704}}, \"mean\": 116.26400233615601}, \"date.month\": {\"std\": 3.1066072448321553, \"complete\": true, \"min\": 1.0, \"max\": 12.0, \"quantile\": [1.0, 1.0, 1.0, 1.0, 1.0, 1.0, 1.0, 2.0, 2.0, 2.0, 2.0, 2.0, 3.0, 3.0, 3.0, 3.0, 3.0, 3.0, 3.0, 4.0, 4.0, 4.0, 4.0, 4.0, 4.0, 4.0, 4.0, 5.0, 5.0, 5.0, 5.0, 5.0, 5.0, 5.0, 5.0, 6.0, 6.0, 6.0, 6.0, 6.0, 6.0, 6.0, 6.0, 7.0, 7.0, 7.0, 7.0, 7.0, 7.0, 7.0, 7.0, 7.0, 7.0, 7.0, 8.0, 8.0, 8.0, 8.0, 8.0, 8.0, 8.0, 8.0, 8.0, 8.0, 8.0, 9.0, 9.0, 9.0, 9.0, 9.0, 9.0, 9.0, 9.0, 9.0, 9.0, 9.0, 9.0, 10.0, 10.0, 10.0, 10.0, 10.0, 10.0, 10.0, 10.0, 10.0, 10.0, 10.0, 10.0, 10.0, 10.0, 11.0, 11.0, 11.0, 11.0, 12.0, 12.0, 12.0, 12.0, 12.0, 12.0], \"median\": 7.0, \"numeric\": true, \"num_unique\": 12, \"num_undefined\": 0, \"var\": 9.651008573643635, \"progress\": 1.0, \"size\": 599275, \"frequent_items\": {\"1\": {\"frequency\": 36835, \"value\": 1}, \"2\": {\"frequency\": 33104, \"value\": 2}, \"3\": {\"frequency\": 42959, \"value\": 3}, \"4\": {\"frequency\": 44135, \"value\": 4}, \"5\": {\"frequency\": 48787, \"value\": 5}, \"6\": {\"frequency\": 51478, \"value\": 6}, \"7\": {\"frequency\": 63029, \"value\": 7}, \"8\": {\"frequency\": 68627, \"value\": 8}, \"9\": {\"frequency\": 71852, \"value\": 9}, \"10\": {\"frequency\": 79627, \"value\": 10}, \"11\": {\"frequency\": 24593, \"value\": 11}, \"12\": {\"frequency\": 34249, \"value\": 12}}, \"mean\": 6.801436736056081}, \"date.isoweekday\": {\"std\": 2.002597324238529, \"complete\": true, \"min\": 1.0, \"max\": 7.0, \"quantile\": [1.0, 1.0, 1.0, 1.0, 1.0, 1.0, 1.0, 1.0, 1.0, 1.0, 1.0, 1.0, 1.0, 1.0, 1.0, 2.0, 2.0, 2.0, 2.0, 2.0, 2.0, 2.0, 2.0, 2.0, 2.0, 2.0, 2.0, 2.0, 2.0, 3.0, 3.0, 3.0, 3.0, 3.0, 3.0, 3.0, 3.0, 3.0, 3.0, 3.0, 3.0, 3.0, 3.0, 4.0, 4.0, 4.0, 4.0, 4.0, 4.0, 4.0, 4.0, 4.0, 4.0, 4.0, 4.0, 4.0, 4.0, 4.0, 5.0, 5.0, 5.0, 5.0, 5.0, 5.0, 5.0, 5.0, 5.0, 5.0, 5.0, 5.0, 5.0, 5.0, 6.0, 6.0, 6.0, 6.0, 6.0, 6.0, 6.0, 6.0, 6.0, 6.0, 6.0, 6.0, 6.0, 6.0, 7.0, 7.0, 7.0, 7.0, 7.0, 7.0, 7.0, 7.0, 7.0, 7.0, 7.0, 7.0, 7.0, 7.0, 7.0], \"median\": 4.0, \"numeric\": true, \"num_unique\": 7, \"num_undefined\": 0, \"var\": 4.010396043047317, \"progress\": 1.0, \"size\": 599275, \"frequent_items\": {\"1\": {\"frequency\": 86544, \"value\": 1}, \"2\": {\"frequency\": 84851, \"value\": 2}, \"3\": {\"frequency\": 85283, \"value\": 3}, \"4\": {\"frequency\": 85643, \"value\": 4}, \"5\": {\"frequency\": 86041, \"value\": 5}, \"6\": {\"frequency\": 84902, \"value\": 6}, \"7\": {\"frequency\": 86011, \"value\": 7}}, \"mean\": 3.9987668432689882}, \"date.day\": {\"std\": 8.820568068656568, \"complete\": true, \"min\": 1.0, \"max\": 31.0, \"quantile\": [1.0, 1.0, 1.0, 1.0, 2.0, 2.0, 2.0, 3.0, 3.0, 3.0, 4.0, 4.0, 4.0, 5.0, 5.0, 5.0, 6.0, 6.0, 6.0, 7.0, 7.0, 7.0, 8.0, 8.0, 8.0, 8.0, 9.0, 9.0, 9.0, 10.0, 10.0, 10.0, 11.0, 11.0, 11.0, 12.0, 12.0, 12.0, 13.0, 13.0, 13.0, 14.0, 14.0, 14.0, 14.0, 15.0, 15.0, 15.0, 16.0, 16.0, 16.0, 17.0, 17.0, 17.0, 17.0, 18.0, 18.0, 18.0, 19.0, 19.0, 19.0, 20.0, 20.0, 20.0, 20.0, 21.0, 21.0, 21.0, 22.0, 22.0, 22.0, 23.0, 23.0, 23.0, 23.0, 24.0, 24.0, 24.0, 25.0, 25.0, 25.0, 26.0, 26.0, 26.0, 26.0, 27.0, 27.0, 27.0, 28.0, 28.0, 28.0, 28.0, 29.0, 29.0, 29.0, 30.0, 30.0, 30.0, 31.0, 31.0, 31.0], \"median\": 16.0, \"numeric\": true, \"num_unique\": 31, \"num_undefined\": 0, \"var\": 77.80242105380387, \"progress\": 1.0, \"size\": 599275, \"frequent_items\": {\"1\": {\"frequency\": 18587, \"value\": 1}, \"2\": {\"frequency\": 18620, \"value\": 2}, \"3\": {\"frequency\": 18696, \"value\": 3}, \"4\": {\"frequency\": 18755, \"value\": 4}, \"5\": {\"frequency\": 18831, \"value\": 5}, \"6\": {\"frequency\": 18900, \"value\": 6}, \"7\": {\"frequency\": 18965, \"value\": 7}, \"8\": {\"frequency\": 19060, \"value\": 8}, \"9\": {\"frequency\": 19108, \"value\": 9}, \"10\": {\"frequency\": 19196, \"value\": 10}, \"11\": {\"frequency\": 19286, \"value\": 11}, \"12\": {\"frequency\": 18230, \"value\": 12}, \"13\": {\"frequency\": 19490, \"value\": 13}, \"14\": {\"frequency\": 19577, \"value\": 14}, \"15\": {\"frequency\": 19593, \"value\": 15}, \"16\": {\"frequency\": 19710, \"value\": 16}, \"17\": {\"frequency\": 19780, \"value\": 17}, \"18\": {\"frequency\": 19903, \"value\": 18}, \"19\": {\"frequency\": 19989, \"value\": 19}, \"20\": {\"frequency\": 20004, \"value\": 20}, \"21\": {\"frequency\": 20092, \"value\": 21}, \"22\": {\"frequency\": 20142, \"value\": 22}, \"23\": {\"frequency\": 20184, \"value\": 23}, \"24\": {\"frequency\": 20239, \"value\": 24}, \"25\": {\"frequency\": 20358, \"value\": 25}, \"26\": {\"frequency\": 20421, \"value\": 26}, \"27\": {\"frequency\": 20498, \"value\": 27}, \"28\": {\"frequency\": 20577, \"value\": 28}, \"29\": {\"frequency\": 20628, \"value\": 29}, \"30\": {\"frequency\": 19356, \"value\": 30}, \"31\": {\"frequency\": 12500, \"value\": 31}}, \"mean\": 16.08037211630726}, \"shop_id\": {\"std\": 577.8832520020557, \"complete\": true, \"min\": 1.0, \"max\": 2000.0, \"quantile\": [1.0, 23.0, 41.0, 63.0, 87.0, 106.0, 128.0, 153.0, 171.0, 188.0, 205.0, 226.0, 247.0, 266.0, 285.0, 303.0, 323.0, 342.0, 362.0, 381.0, 398.0, 417.0, 441.0, 462.0, 483.0, 505.0, 526.0, 545.0, 565.0, 582.0, 605.0, 627.0, 648.0, 667.0, 682.0, 704.0, 726.0, 744.0, 767.0, 786.0, 806.0, 827.0, 848.0, 866.0, 887.0, 908.0, 929.0, 950.0, 972.0, 994.0, 1018.0, 1040.0, 1062.0, 1083.0, 1104.0, 1120.0, 1136.0, 1156.0, 1177.0, 1197.0, 1221.0, 1242.0, 1260.0, 1281.0, 1302.0, 1320.0, 1340.0, 1357.0, 1376.0, 1396.0, 1415.0, 1433.0, 1453.0, 1473.0, 1493.0, 1512.0, 1531.0, 1549.0, 1568.0, 1586.0, 1603.0, 1623.0, 1640.0, 1662.0, 1681.0, 1702.0, 1723.0, 1741.0, 1763.0, 1783.0, 1802.0, 1821.0, 1841.0, 1860.0, 1881.0, 1900.0, 1922.0, 1941.0, 1960.0, 1980.0, 2000.0], \"median\": 1018.0, \"numeric\": true, \"num_unique\": 1990, \"num_undefined\": 0, \"var\": 333949.0529444714, \"progress\": 1.0, \"size\": 599275, \"frequent_items\": {\"1\": {\"frequency\": 387, \"value\": 1}, \"2\": {\"frequency\": 329, \"value\": 2}, \"3\": {\"frequency\": 136, \"value\": 3}, \"4\": {\"frequency\": 105, \"value\": 4}, \"5\": {\"frequency\": 202, \"value\": 5}, \"6\": {\"frequency\": 272, \"value\": 6}, \"7\": {\"frequency\": 483, \"value\": 7}, \"8\": {\"frequency\": 92, \"value\": 8}, \"9\": {\"frequency\": 367, \"value\": 9}, \"10\": {\"frequency\": 123, \"value\": 10}, \"11\": {\"frequency\": 413, \"value\": 11}, \"12\": {\"frequency\": 262, \"value\": 12}, \"13\": {\"frequency\": 205, \"value\": 13}, \"14\": {\"frequency\": 441, \"value\": 14}, \"15\": {\"frequency\": 111, \"value\": 15}, \"16\": {\"frequency\": 486, \"value\": 16}, \"17\": {\"frequency\": 475, \"value\": 17}, \"18\": {\"frequency\": 88, \"value\": 18}, \"19\": {\"frequency\": 387, \"value\": 19}, \"20\": {\"frequency\": 214, \"value\": 20}, \"21\": {\"frequency\": 290, \"value\": 21}, \"22\": {\"frequency\": 418, \"value\": 22}, \"23\": {\"frequency\": 350, \"value\": 23}, \"24\": {\"frequency\": 252, \"value\": 24}, \"25\": {\"frequency\": 476, \"value\": 25}, \"26\": {\"frequency\": 387, \"value\": 26}, \"27\": {\"frequency\": 389, \"value\": 27}, \"28\": {\"frequency\": 435, \"value\": 28}, \"29\": {\"frequency\": 302, \"value\": 29}, \"30\": {\"frequency\": 242, \"value\": 30}, \"31\": {\"frequency\": 105, \"value\": 31}, \"32\": {\"frequency\": 341, \"value\": 32}, \"33\": {\"frequency\": 89, \"value\": 33}, \"34\": {\"frequency\": 286, \"value\": 34}, \"35\": {\"frequency\": 353, \"value\": 35}, \"36\": {\"frequency\": 349, \"value\": 36}, \"37\": {\"frequency\": 404, \"value\": 37}, \"38\": {\"frequency\": 350, \"value\": 38}, \"39\": {\"frequency\": 360, \"value\": 39}, \"40\": {\"frequency\": 135, \"value\": 40}, \"41\": {\"frequency\": 404, \"value\": 41}, \"42\": {\"frequency\": 181, \"value\": 42}, \"43\": {\"frequency\": 243, \"value\": 43}, \"44\": {\"frequency\": 251, \"value\": 44}, \"45\": {\"frequency\": 91, \"value\": 45}, \"46\": {\"frequency\": 348, \"value\": 46}, \"47\": {\"frequency\": 104, \"value\": 47}, \"48\": {\"frequency\": 96, \"value\": 48}, \"49\": {\"frequency\": 325, \"value\": 49}, \"50\": {\"frequency\": 100, \"value\": 50}, \"51\": {\"frequency\": 395, \"value\": 51}, \"52\": {\"frequency\": 246, \"value\": 52}, \"53\": {\"frequency\": 137, \"value\": 53}, \"54\": {\"frequency\": 343, \"value\": 54}, \"55\": {\"frequency\": 277, \"value\": 55}, \"56\": {\"frequency\": 475, \"value\": 56}, \"57\": {\"frequency\": 403, \"value\": 57}, \"58\": {\"frequency\": 367, \"value\": 58}, \"59\": {\"frequency\": 137, \"value\": 59}, \"60\": {\"frequency\": 395, \"value\": 60}, \"61\": {\"frequency\": 173, \"value\": 61}, \"62\": {\"frequency\": 450, \"value\": 62}, \"63\": {\"frequency\": 151, \"value\": 63}, \"64\": {\"frequency\": 252, \"value\": 64}, \"65\": {\"frequency\": 318, \"value\": 65}, \"66\": {\"frequency\": 346, \"value\": 66}, \"67\": {\"frequency\": 218, \"value\": 67}, \"68\": {\"frequency\": 106, \"value\": 68}, \"69\": {\"frequency\": 183, \"value\": 69}, \"70\": {\"frequency\": 123, \"value\": 70}, \"71\": {\"frequency\": 269, \"value\": 71}, \"72\": {\"frequency\": 332, \"value\": 72}, \"73\": {\"frequency\": 87, \"value\": 73}, \"74\": {\"frequency\": 283, \"value\": 74}, \"75\": {\"frequency\": 99, \"value\": 75}, \"76\": {\"frequency\": 237, \"value\": 76}, \"77\": {\"frequency\": 162, \"value\": 77}, \"78\": {\"frequency\": 181, \"value\": 78}, \"79\": {\"frequency\": 423, \"value\": 79}, \"80\": {\"frequency\": 154, \"value\": 80}, \"81\": {\"frequency\": 320, \"value\": 81}, \"82\": {\"frequency\": 473, \"value\": 82}, \"83\": {\"frequency\": 472, \"value\": 83}, \"84\": {\"frequency\": 254, \"value\": 84}, \"85\": {\"frequency\": 481, \"value\": 85}, \"86\": {\"frequency\": 374, \"value\": 86}, \"87\": {\"frequency\": 323, \"value\": 87}, \"88\": {\"frequency\": 490, \"value\": 88}, \"89\": {\"frequency\": 350, \"value\": 89}, \"90\": {\"frequency\": 483, \"value\": 90}, \"91\": {\"frequency\": 119, \"value\": 91}, \"92\": {\"frequency\": 342, \"value\": 92}, \"93\": {\"frequency\": 142, \"value\": 93}, \"94\": {\"frequency\": 172, \"value\": 94}, \"95\": {\"frequency\": 202, \"value\": 95}, \"96\": {\"frequency\": 119, \"value\": 96}, \"97\": {\"frequency\": 125, \"value\": 97}, \"98\": {\"frequency\": 224, \"value\": 98}, \"99\": {\"frequency\": 280, \"value\": 99}, \"100\": {\"frequency\": 341, \"value\": 100}, \"101\": {\"frequency\": 418, \"value\": 101}, \"102\": {\"frequency\": 92, \"value\": 102}, \"103\": {\"frequency\": 151, \"value\": 103}, \"104\": {\"frequency\": 475, \"value\": 104}, \"105\": {\"frequency\": 483, \"value\": 105}, \"106\": {\"frequency\": 350, \"value\": 106}, \"107\": {\"frequency\": 439, \"value\": 107}, \"108\": {\"frequency\": 404, \"value\": 108}, \"109\": {\"frequency\": 155, \"value\": 109}, \"110\": {\"frequency\": 171, \"value\": 110}, \"111\": {\"frequency\": 387, \"value\": 111}, \"112\": {\"frequency\": 354, \"value\": 112}, \"113\": {\"frequency\": 171, \"value\": 113}, \"114\": {\"frequency\": 404, \"value\": 114}, \"115\": {\"frequency\": 133, \"value\": 115}, \"116\": {\"frequency\": 99, \"value\": 116}, \"117\": {\"frequency\": 347, \"value\": 117}, \"118\": {\"frequency\": 155, \"value\": 118}, \"119\": {\"frequency\": 243, \"value\": 119}, \"120\": {\"frequency\": 96, \"value\": 120}, \"121\": {\"frequency\": 478, \"value\": 121}, \"122\": {\"frequency\": 246, \"value\": 122}, \"123\": {\"frequency\": 375, \"value\": 123}, \"124\": {\"frequency\": 367, \"value\": 124}, \"125\": {\"frequency\": 243, \"value\": 125}, \"126\": {\"frequency\": 176, \"value\": 126}, \"127\": {\"frequency\": 316, \"value\": 127}, \"128\": {\"frequency\": 304, \"value\": 128}, \"129\": {\"frequency\": 348, \"value\": 129}, \"130\": {\"frequency\": 343, \"value\": 130}, \"131\": {\"frequency\": 448, \"value\": 131}, \"132\": {\"frequency\": 166, \"value\": 132}, \"133\": {\"frequency\": 285, \"value\": 133}, \"134\": {\"frequency\": 177, \"value\": 134}, \"135\": {\"frequency\": 201, \"value\": 135}, \"136\": {\"frequency\": 469, \"value\": 136}, \"137\": {\"frequency\": 235, \"value\": 137}, \"138\": {\"frequency\": 308, \"value\": 138}, \"139\": {\"frequency\": 470, \"value\": 139}, \"140\": {\"frequency\": 171, \"value\": 140}, \"141\": {\"frequency\": 178, \"value\": 141}, \"142\": {\"frequency\": 122, \"value\": 142}, \"143\": {\"frequency\": 224, \"value\": 143}, \"144\": {\"frequency\": 132, \"value\": 144}, \"145\": {\"frequency\": 490, \"value\": 145}, \"146\": {\"frequency\": 339, \"value\": 146}, \"147\": {\"frequency\": 345, \"value\": 147}, \"148\": {\"frequency\": 91, \"value\": 148}, \"149\": {\"frequency\": 169, \"value\": 149}, \"150\": {\"frequency\": 105, \"value\": 150}, \"151\": {\"frequency\": 397, \"value\": 151}, \"152\": {\"frequency\": 234, \"value\": 152}, \"153\": {\"frequency\": 293, \"value\": 153}, \"154\": {\"frequency\": 344, \"value\": 154}, \"155\": {\"frequency\": 243, \"value\": 155}, \"156\": {\"frequency\": 102, \"value\": 156}, \"157\": {\"frequency\": 476, \"value\": 157}, \"158\": {\"frequency\": 476, \"value\": 158}, \"159\": {\"frequency\": 475, \"value\": 159}, \"160\": {\"frequency\": 337, \"value\": 160}, \"161\": {\"frequency\": 377, \"value\": 161}, \"162\": {\"frequency\": 350, \"value\": 162}, \"163\": {\"frequency\": 293, \"value\": 163}, \"164\": {\"frequency\": 350, \"value\": 164}, \"165\": {\"frequency\": 96, \"value\": 165}, \"166\": {\"frequency\": 317, \"value\": 166}, \"167\": {\"frequency\": 297, \"value\": 167}, \"168\": {\"frequency\": 171, \"value\": 168}, \"169\": {\"frequency\": 399, \"value\": 169}, \"170\": {\"frequency\": 293, \"value\": 170}, \"171\": {\"frequency\": 403, \"value\": 171}, \"172\": {\"frequency\": 341, \"value\": 172}, \"173\": {\"frequency\": 342, \"value\": 173}, \"174\": {\"frequency\": 328, \"value\": 174}, \"175\": {\"frequency\": 352, \"value\": 175}, \"176\": {\"frequency\": 327, \"value\": 176}, \"177\": {\"frequency\": 479, \"value\": 177}, \"178\": {\"frequency\": 119, \"value\": 178}, \"179\": {\"frequency\": 481, \"value\": 179}, \"180\": {\"frequency\": 154, \"value\": 180}, \"181\": {\"frequency\": 477, \"value\": 181}, \"182\": {\"frequency\": 241, \"value\": 182}, \"183\": {\"frequency\": 476, \"value\": 183}, \"184\": {\"frequency\": 210, \"value\": 184}, \"185\": {\"frequency\": 402, \"value\": 185}, \"186\": {\"frequency\": 480, \"value\": 186}, \"187\": {\"frequency\": 243, \"value\": 187}, \"188\": {\"frequency\": 387, \"value\": 188}, \"189\": {\"frequency\": 339, \"value\": 189}, \"190\": {\"frequency\": 469, \"value\": 190}, \"191\": {\"frequency\": 464, \"value\": 191}, \"192\": {\"frequency\": 479, \"value\": 192}, \"193\": {\"frequency\": 452, \"value\": 193}, \"194\": {\"frequency\": 433, \"value\": 194}, \"195\": {\"frequency\": 468, \"value\": 195}, \"196\": {\"frequency\": 340, \"value\": 196}, \"197\": {\"frequency\": 358, \"value\": 197}, \"198\": {\"frequency\": 146, \"value\": 198}, \"199\": {\"frequency\": 151, \"value\": 199}, \"200\": {\"frequency\": 490, \"value\": 200}, \"201\": {\"frequency\": 96, \"value\": 201}, \"202\": {\"frequency\": 276, \"value\": 202}, \"203\": {\"frequency\": 245, \"value\": 203}, \"204\": {\"frequency\": 338, \"value\": 204}, \"205\": {\"frequency\": 399, \"value\": 205}, \"206\": {\"frequency\": 137, \"value\": 206}, \"207\": {\"frequency\": 400, \"value\": 207}, \"208\": {\"frequency\": 132, \"value\": 208}, \"209\": {\"frequency\": 318, \"value\": 209}, \"210\": {\"frequency\": 483, \"value\": 210}, \"211\": {\"frequency\": 478, \"value\": 211}, \"212\": {\"frequency\": 154, \"value\": 212}, \"213\": {\"frequency\": 302, \"value\": 213}, \"214\": {\"frequency\": 168, \"value\": 214}, \"215\": {\"frequency\": 337, \"value\": 215}, \"216\": {\"frequency\": 453, \"value\": 216}, \"217\": {\"frequency\": 491, \"value\": 217}, \"218\": {\"frequency\": 106, \"value\": 218}, \"219\": {\"frequency\": 201, \"value\": 219}, \"220\": {\"frequency\": 290, \"value\": 220}, \"221\": {\"frequency\": 180, \"value\": 221}, \"222\": {\"frequency\": 96, \"value\": 222}, \"223\": {\"frequency\": 297, \"value\": 223}, \"224\": {\"frequency\": 342, \"value\": 224}, \"225\": {\"frequency\": 179, \"value\": 225}, \"226\": {\"frequency\": 336, \"value\": 226}, \"227\": {\"frequency\": 320, \"value\": 227}, \"228\": {\"frequency\": 348, \"value\": 228}, \"229\": {\"frequency\": 341, \"value\": 229}, \"230\": {\"frequency\": 115, \"value\": 230}, \"231\": {\"frequency\": 348, \"value\": 231}, \"232\": {\"frequency\": 350, \"value\": 232}, \"233\": {\"frequency\": 331, \"value\": 233}, \"234\": {\"frequency\": 139, \"value\": 234}, \"235\": {\"frequency\": 238, \"value\": 235}, \"236\": {\"frequency\": 321, \"value\": 236}, \"237\": {\"frequency\": 314, \"value\": 237}, \"238\": {\"frequency\": 288, \"value\": 238}, \"239\": {\"frequency\": 446, \"value\": 239}, \"240\": {\"frequency\": 404, \"value\": 240}, \"241\": {\"frequency\": 401, \"value\": 241}, \"242\": {\"frequency\": 469, \"value\": 242}, \"243\": {\"frequency\": 339, \"value\": 243}, \"244\": {\"frequency\": 190, \"value\": 244}, \"245\": {\"frequency\": 319, \"value\": 245}, \"246\": {\"frequency\": 152, \"value\": 246}, \"247\": {\"frequency\": 104, \"value\": 247}, \"248\": {\"frequency\": 125, \"value\": 248}, \"249\": {\"frequency\": 167, \"value\": 249}, \"250\": {\"frequency\": 210, \"value\": 250}, \"251\": {\"frequency\": 294, \"value\": 251}, \"252\": {\"frequency\": 341, \"value\": 252}, \"253\": {\"frequency\": 156, \"value\": 253}, \"254\": {\"frequency\": 304, \"value\": 254}, \"255\": {\"frequency\": 258, \"value\": 255}, \"256\": {\"frequency\": 360, \"value\": 256}, \"257\": {\"frequency\": 142, \"value\": 257}, \"258\": {\"frequency\": 480, \"value\": 258}, \"259\": {\"frequency\": 354, \"value\": 259}, \"260\": {\"frequency\": 476, \"value\": 260}, \"261\": {\"frequency\": 478, \"value\": 261}, \"262\": {\"frequency\": 425, \"value\": 262}, \"263\": {\"frequency\": 325, \"value\": 263}, \"264\": {\"frequency\": 452, \"value\": 264}, \"265\": {\"frequency\": 224, \"value\": 265}, \"266\": {\"frequency\": 477, \"value\": 266}, \"267\": {\"frequency\": 182, \"value\": 267}, \"268\": {\"frequency\": 350, \"value\": 268}, \"269\": {\"frequency\": 146, \"value\": 269}, \"270\": {\"frequency\": 481, \"value\": 270}, \"271\": {\"frequency\": 375, \"value\": 271}, \"272\": {\"frequency\": 218, \"value\": 272}, \"273\": {\"frequency\": 476, \"value\": 273}, \"274\": {\"frequency\": 447, \"value\": 274}, \"275\": {\"frequency\": 127, \"value\": 275}, \"276\": {\"frequency\": 245, \"value\": 276}, \"277\": {\"frequency\": 184, \"value\": 277}, \"278\": {\"frequency\": 340, \"value\": 278}, \"279\": {\"frequency\": 333, \"value\": 279}, \"280\": {\"frequency\": 192, \"value\": 280}, \"281\": {\"frequency\": 483, \"value\": 281}, \"282\": {\"frequency\": 350, \"value\": 282}, \"283\": {\"frequency\": 337, \"value\": 283}, \"284\": {\"frequency\": 262, \"value\": 284}, \"285\": {\"frequency\": 452, \"value\": 285}, \"286\": {\"frequency\": 248, \"value\": 286}, \"287\": {\"frequency\": 483, \"value\": 287}, \"288\": {\"frequency\": 468, \"value\": 288}, \"289\": {\"frequency\": 367, \"value\": 289}, \"290\": {\"frequency\": 350, \"value\": 290}, \"291\": {\"frequency\": 246, \"value\": 291}, \"292\": {\"frequency\": 350, \"value\": 292}, \"293\": {\"frequency\": 347, \"value\": 293}, \"294\": {\"frequency\": 366, \"value\": 294}, \"295\": {\"frequency\": 386, \"value\": 295}, \"296\": {\"frequency\": 339, \"value\": 296}, \"297\": {\"frequency\": 109, \"value\": 297}, \"298\": {\"frequency\": 299, \"value\": 298}, \"299\": {\"frequency\": 325, \"value\": 299}, \"300\": {\"frequency\": 117, \"value\": 300}, \"301\": {\"frequency\": 353, \"value\": 301}, \"302\": {\"frequency\": 220, \"value\": 302}, \"303\": {\"frequency\": 476, \"value\": 303}, \"304\": {\"frequency\": 461, \"value\": 304}, \"305\": {\"frequency\": 340, \"value\": 305}, \"306\": {\"frequency\": 94, \"value\": 306}, \"307\": {\"frequency\": 219, \"value\": 307}, \"308\": {\"frequency\": 95, \"value\": 308}, \"309\": {\"frequency\": 195, \"value\": 309}, \"310\": {\"frequency\": 133, \"value\": 310}, \"311\": {\"frequency\": 431, \"value\": 311}, \"312\": {\"frequency\": 482, \"value\": 312}, \"313\": {\"frequency\": 135, \"value\": 313}, \"314\": {\"frequency\": 352, \"value\": 314}, \"315\": {\"frequency\": 491, \"value\": 315}, \"316\": {\"frequency\": 304, \"value\": 316}, \"317\": {\"frequency\": 167, \"value\": 317}, \"318\": {\"frequency\": 349, \"value\": 318}, \"319\": {\"frequency\": 335, \"value\": 319}, \"320\": {\"frequency\": 481, \"value\": 320}, \"321\": {\"frequency\": 98, \"value\": 321}, \"322\": {\"frequency\": 349, \"value\": 322}, \"323\": {\"frequency\": 482, \"value\": 323}, \"324\": {\"frequency\": 354, \"value\": 324}, \"325\": {\"frequency\": 243, \"value\": 325}, \"326\": {\"frequency\": 145, \"value\": 326}, \"327\": {\"frequency\": 230, \"value\": 327}, \"328\": {\"frequency\": 455, \"value\": 328}, \"329\": {\"frequency\": 359, \"value\": 329}, \"330\": {\"frequency\": 159, \"value\": 330}, \"331\": {\"frequency\": 261, \"value\": 331}, \"332\": {\"frequency\": 468, \"value\": 332}, \"333\": {\"frequency\": 326, \"value\": 333}, \"334\": {\"frequency\": 301, \"value\": 334}, \"335\": {\"frequency\": 450, \"value\": 335}, \"336\": {\"frequency\": 97, \"value\": 336}, \"337\": {\"frequency\": 482, \"value\": 337}, \"338\": {\"frequency\": 324, \"value\": 338}, \"339\": {\"frequency\": 179, \"value\": 339}, \"340\": {\"frequency\": 378, \"value\": 340}, \"341\": {\"frequency\": 488, \"value\": 341}, \"342\": {\"frequency\": 395, \"value\": 342}, \"343\": {\"frequency\": 341, \"value\": 343}, \"344\": {\"frequency\": 341, \"value\": 344}, \"345\": {\"frequency\": 488, \"value\": 345}, \"346\": {\"frequency\": 349, \"value\": 346}, \"347\": {\"frequency\": 240, \"value\": 347}, \"348\": {\"frequency\": 341, \"value\": 348}, \"349\": {\"frequency\": 130, \"value\": 349}, \"350\": {\"frequency\": 171, \"value\": 350}, \"351\": {\"frequency\": 401, \"value\": 351}, \"352\": {\"frequency\": 124, \"value\": 352}, \"353\": {\"frequency\": 131, \"value\": 353}, \"354\": {\"frequency\": 176, \"value\": 354}, \"355\": {\"frequency\": 410, \"value\": 355}, \"356\": {\"frequency\": 481, \"value\": 356}, \"357\": {\"frequency\": 137, \"value\": 357}, \"358\": {\"frequency\": 460, \"value\": 358}, \"359\": {\"frequency\": 440, \"value\": 359}, \"360\": {\"frequency\": 360, \"value\": 360}, \"361\": {\"frequency\": 249, \"value\": 361}, \"362\": {\"frequency\": 389, \"value\": 362}, \"363\": {\"frequency\": 341, \"value\": 363}, \"364\": {\"frequency\": 162, \"value\": 364}, \"365\": {\"frequency\": 435, \"value\": 365}, \"366\": {\"frequency\": 283, \"value\": 366}, \"367\": {\"frequency\": 89, \"value\": 367}, \"368\": {\"frequency\": 210, \"value\": 368}, \"369\": {\"frequency\": 243, \"value\": 369}, \"370\": {\"frequency\": 387, \"value\": 370}, \"371\": {\"frequency\": 123, \"value\": 371}, \"372\": {\"frequency\": 120, \"value\": 372}, \"373\": {\"frequency\": 243, \"value\": 373}, \"374\": {\"frequency\": 372, \"value\": 374}, \"375\": {\"frequency\": 489, \"value\": 375}, \"376\": {\"frequency\": 380, \"value\": 376}, \"377\": {\"frequency\": 357, \"value\": 377}, \"378\": {\"frequency\": 183, \"value\": 378}, \"379\": {\"frequency\": 295, \"value\": 379}, \"380\": {\"frequency\": 491, \"value\": 380}, \"381\": {\"frequency\": 425, \"value\": 381}, \"382\": {\"frequency\": 487, \"value\": 382}, \"383\": {\"frequency\": 304, \"value\": 383}, \"384\": {\"frequency\": 239, \"value\": 384}, \"385\": {\"frequency\": 315, \"value\": 385}, \"386\": {\"frequency\": 421, \"value\": 386}, \"387\": {\"frequency\": 357, \"value\": 387}, \"388\": {\"frequency\": 378, \"value\": 388}, \"389\": {\"frequency\": 292, \"value\": 389}, \"390\": {\"frequency\": 338, \"value\": 390}, \"391\": {\"frequency\": 489, \"value\": 391}, \"392\": {\"frequency\": 171, \"value\": 392}, \"393\": {\"frequency\": 354, \"value\": 393}, \"394\": {\"frequency\": 335, \"value\": 394}, \"395\": {\"frequency\": 404, \"value\": 395}, \"396\": {\"frequency\": 370, \"value\": 396}, \"397\": {\"frequency\": 426, \"value\": 397}, \"398\": {\"frequency\": 341, \"value\": 398}, \"399\": {\"frequency\": 482, \"value\": 399}, \"400\": {\"frequency\": 104, \"value\": 400}, \"401\": {\"frequency\": 174, \"value\": 401}, \"402\": {\"frequency\": 387, \"value\": 402}, \"403\": {\"frequency\": 346, \"value\": 403}, \"404\": {\"frequency\": 458, \"value\": 404}, \"405\": {\"frequency\": 343, \"value\": 405}, \"406\": {\"frequency\": 141, \"value\": 406}, \"407\": {\"frequency\": 478, \"value\": 407}, \"408\": {\"frequency\": 339, \"value\": 408}, \"409\": {\"frequency\": 345, \"value\": 409}, \"410\": {\"frequency\": 284, \"value\": 410}, \"411\": {\"frequency\": 181, \"value\": 411}, \"412\": {\"frequency\": 263, \"value\": 412}, \"413\": {\"frequency\": 338, \"value\": 413}, \"414\": {\"frequency\": 334, \"value\": 414}, \"415\": {\"frequency\": 113, \"value\": 415}, \"416\": {\"frequency\": 413, \"value\": 416}, \"417\": {\"frequency\": 442, \"value\": 417}, \"418\": {\"frequency\": 419, \"value\": 418}, \"419\": {\"frequency\": 339, \"value\": 419}, \"420\": {\"frequency\": 350, \"value\": 420}, \"421\": {\"frequency\": 323, \"value\": 421}, \"422\": {\"frequency\": 437, \"value\": 422}, \"423\": {\"frequency\": 225, \"value\": 423}, \"424\": {\"frequency\": 354, \"value\": 424}, \"425\": {\"frequency\": 284, \"value\": 425}, \"426\": {\"frequency\": 89, \"value\": 426}, \"427\": {\"frequency\": 152, \"value\": 427}, \"428\": {\"frequency\": 268, \"value\": 428}, \"429\": {\"frequency\": 477, \"value\": 429}, \"430\": {\"frequency\": 96, \"value\": 430}, \"431\": {\"frequency\": 243, \"value\": 431}, \"432\": {\"frequency\": 275, \"value\": 432}, \"433\": {\"frequency\": 354, \"value\": 433}, \"434\": {\"frequency\": 116, \"value\": 434}, \"435\": {\"frequency\": 228, \"value\": 435}, \"436\": {\"frequency\": 243, \"value\": 436}, \"437\": {\"frequency\": 228, \"value\": 437}, \"438\": {\"frequency\": 94, \"value\": 438}, \"439\": {\"frequency\": 143, \"value\": 439}, \"440\": {\"frequency\": 120, \"value\": 440}, \"441\": {\"frequency\": 339, \"value\": 441}, \"442\": {\"frequency\": 472, \"value\": 442}, \"443\": {\"frequency\": 111, \"value\": 443}, \"444\": {\"frequency\": 186, \"value\": 444}, \"445\": {\"frequency\": 332, \"value\": 445}, \"446\": {\"frequency\": 344, \"value\": 446}, \"447\": {\"frequency\": 450, \"value\": 447}, \"448\": {\"frequency\": 171, \"value\": 448}, \"449\": {\"frequency\": 186, \"value\": 449}, \"450\": {\"frequency\": 117, \"value\": 450}, \"451\": {\"frequency\": 404, \"value\": 451}, \"452\": {\"frequency\": 91, \"value\": 452}, \"453\": {\"frequency\": 247, \"value\": 453}, \"454\": {\"frequency\": 336, \"value\": 454}, \"455\": {\"frequency\": 466, \"value\": 455}, \"456\": {\"frequency\": 341, \"value\": 456}, \"457\": {\"frequency\": 229, \"value\": 457}, \"458\": {\"frequency\": 476, \"value\": 458}, \"459\": {\"frequency\": 376, \"value\": 459}, \"460\": {\"frequency\": 186, \"value\": 460}, \"461\": {\"frequency\": 98, \"value\": 461}, \"462\": {\"frequency\": 243, \"value\": 462}, \"463\": {\"frequency\": 210, \"value\": 463}, \"464\": {\"frequency\": 341, \"value\": 464}, \"465\": {\"frequency\": 300, \"value\": 465}, \"466\": {\"frequency\": 222, \"value\": 466}, \"467\": {\"frequency\": 339, \"value\": 467}, \"468\": {\"frequency\": 481, \"value\": 468}, \"469\": {\"frequency\": 124, \"value\": 469}, \"470\": {\"frequency\": 184, \"value\": 470}, \"471\": {\"frequency\": 101, \"value\": 471}, \"472\": {\"frequency\": 341, \"value\": 472}, \"473\": {\"frequency\": 270, \"value\": 473}, \"474\": {\"frequency\": 105, \"value\": 474}, \"475\": {\"frequency\": 353, \"value\": 475}, \"476\": {\"frequency\": 408, \"value\": 476}, \"477\": {\"frequency\": 129, \"value\": 477}, \"478\": {\"frequency\": 450, \"value\": 478}, \"479\": {\"frequency\": 178, \"value\": 479}, \"480\": {\"frequency\": 450, \"value\": 480}, \"481\": {\"frequency\": 341, \"value\": 481}, \"482\": {\"frequency\": 477, \"value\": 482}, \"483\": {\"frequency\": 345, \"value\": 483}, \"484\": {\"frequency\": 132, \"value\": 484}, \"485\": {\"frequency\": 215, \"value\": 485}, \"486\": {\"frequency\": 126, \"value\": 486}, \"487\": {\"frequency\": 434, \"value\": 487}, \"488\": {\"frequency\": 151, \"value\": 488}, \"489\": {\"frequency\": 349, \"value\": 489}, \"490\": {\"frequency\": 114, \"value\": 490}, \"491\": {\"frequency\": 332, \"value\": 491}, \"492\": {\"frequency\": 345, \"value\": 492}, \"493\": {\"frequency\": 166, \"value\": 493}, \"494\": {\"frequency\": 120, \"value\": 494}, \"495\": {\"frequency\": 230, \"value\": 495}, \"496\": {\"frequency\": 128, \"value\": 496}, \"497\": {\"frequency\": 155, \"value\": 497}, \"498\": {\"frequency\": 406, \"value\": 498}, \"499\": {\"frequency\": 477, \"value\": 499}, \"500\": {\"frequency\": 300, \"value\": 500}, \"501\": {\"frequency\": 95, \"value\": 501}, \"502\": {\"frequency\": 475, \"value\": 502}, \"503\": {\"frequency\": 433, \"value\": 503}, \"504\": {\"frequency\": 352, \"value\": 504}, \"505\": {\"frequency\": 321, \"value\": 505}, \"506\": {\"frequency\": 98, \"value\": 506}, \"507\": {\"frequency\": 305, \"value\": 507}, \"508\": {\"frequency\": 171, \"value\": 508}, \"509\": {\"frequency\": 389, \"value\": 509}, \"510\": {\"frequency\": 350, \"value\": 510}, \"511\": {\"frequency\": 482, \"value\": 511}, \"512\": {\"frequency\": 182, \"value\": 512}, \"513\": {\"frequency\": 312, \"value\": 513}, \"514\": {\"frequency\": 334, \"value\": 514}, \"515\": {\"frequency\": 350, \"value\": 515}, \"516\": {\"frequency\": 98, \"value\": 516}, \"517\": {\"frequency\": 188, \"value\": 517}, \"518\": {\"frequency\": 219, \"value\": 518}, \"519\": {\"frequency\": 403, \"value\": 519}, \"520\": {\"frequency\": 286, \"value\": 520}, \"521\": {\"frequency\": 400, \"value\": 521}, \"522\": {\"frequency\": 372, \"value\": 522}, \"523\": {\"frequency\": 250, \"value\": 523}, \"524\": {\"frequency\": 117, \"value\": 524}, \"525\": {\"frequency\": 451, \"value\": 525}, \"526\": {\"frequency\": 476, \"value\": 526}, \"527\": {\"frequency\": 343, \"value\": 527}, \"528\": {\"frequency\": 348, \"value\": 528}, \"529\": {\"frequency\": 149, \"value\": 529}, \"530\": {\"frequency\": 227, \"value\": 530}, \"531\": {\"frequency\": 490, \"value\": 531}, \"532\": {\"frequency\": 100, \"value\": 532}, \"533\": {\"frequency\": 323, \"value\": 533}, \"534\": {\"frequency\": 487, \"value\": 534}, \"535\": {\"frequency\": 328, \"value\": 535}, \"536\": {\"frequency\": 161, \"value\": 536}, \"537\": {\"frequency\": 285, \"value\": 537}, \"538\": {\"frequency\": 140, \"value\": 538}, \"539\": {\"frequency\": 243, \"value\": 539}, \"540\": {\"frequency\": 353, \"value\": 540}, \"541\": {\"frequency\": 350, \"value\": 541}, \"542\": {\"frequency\": 236, \"value\": 542}, \"543\": {\"frequency\": 363, \"value\": 543}, \"544\": {\"frequency\": 414, \"value\": 544}, \"545\": {\"frequency\": 268, \"value\": 545}, \"546\": {\"frequency\": 341, \"value\": 546}, \"547\": {\"frequency\": 126, \"value\": 547}, \"548\": {\"frequency\": 489, \"value\": 548}, \"549\": {\"frequency\": 417, \"value\": 549}, \"550\": {\"frequency\": 120, \"value\": 550}, \"551\": {\"frequency\": 427, \"value\": 551}, \"552\": {\"frequency\": 314, \"value\": 552}, \"553\": {\"frequency\": 105, \"value\": 553}, \"554\": {\"frequency\": 109, \"value\": 554}, \"555\": {\"frequency\": 326, \"value\": 555}, \"556\": {\"frequency\": 350, \"value\": 556}, \"557\": {\"frequency\": 487, \"value\": 557}, \"558\": {\"frequency\": 406, \"value\": 558}, \"559\": {\"frequency\": 352, \"value\": 559}, \"560\": {\"frequency\": 489, \"value\": 560}, \"561\": {\"frequency\": 89, \"value\": 561}, \"562\": {\"frequency\": 123, \"value\": 562}, \"563\": {\"frequency\": 243, \"value\": 563}, \"564\": {\"frequency\": 346, \"value\": 564}, \"565\": {\"frequency\": 404, \"value\": 565}, \"566\": {\"frequency\": 468, \"value\": 566}, \"567\": {\"frequency\": 141, \"value\": 567}, \"568\": {\"frequency\": 489, \"value\": 568}, \"569\": {\"frequency\": 328, \"value\": 569}, \"570\": {\"frequency\": 341, \"value\": 570}, \"571\": {\"frequency\": 410, \"value\": 571}, \"572\": {\"frequency\": 119, \"value\": 572}, \"573\": {\"frequency\": 477, \"value\": 573}, \"574\": {\"frequency\": 329, \"value\": 574}, \"575\": {\"frequency\": 156, \"value\": 575}, \"576\": {\"frequency\": 479, \"value\": 576}, \"577\": {\"frequency\": 336, \"value\": 577}, \"578\": {\"frequency\": 350, \"value\": 578}, \"579\": {\"frequency\": 247, \"value\": 579}, \"580\": {\"frequency\": 325, \"value\": 580}, \"581\": {\"frequency\": 348, \"value\": 581}, \"582\": {\"frequency\": 221, \"value\": 582}, \"583\": {\"frequency\": 471, \"value\": 583}, \"584\": {\"frequency\": 344, \"value\": 584}, \"585\": {\"frequency\": 385, \"value\": 585}, \"586\": {\"frequency\": 379, \"value\": 586}, \"587\": {\"frequency\": 299, \"value\": 587}, \"588\": {\"frequency\": 219, \"value\": 588}, \"589\": {\"frequency\": 472, \"value\": 589}, \"590\": {\"frequency\": 90, \"value\": 590}, \"591\": {\"frequency\": 477, \"value\": 591}, \"592\": {\"frequency\": 131, \"value\": 592}, \"593\": {\"frequency\": 478, \"value\": 593}, \"594\": {\"frequency\": 333, \"value\": 594}, \"595\": {\"frequency\": 284, \"value\": 595}, \"596\": {\"frequency\": 315, \"value\": 596}, \"597\": {\"frequency\": 286, \"value\": 597}, \"598\": {\"frequency\": 104, \"value\": 598}, \"599\": {\"frequency\": 201, \"value\": 599}, \"600\": {\"frequency\": 249, \"value\": 600}, \"601\": {\"frequency\": 95, \"value\": 601}, \"602\": {\"frequency\": 342, \"value\": 602}, \"603\": {\"frequency\": 122, \"value\": 603}, \"604\": {\"frequency\": 91, \"value\": 604}, \"605\": {\"frequency\": 292, \"value\": 605}, \"606\": {\"frequency\": 331, \"value\": 606}, \"607\": {\"frequency\": 428, \"value\": 607}, \"608\": {\"frequency\": 152, \"value\": 608}, \"609\": {\"frequency\": 118, \"value\": 609}, \"610\": {\"frequency\": 475, \"value\": 610}, \"611\": {\"frequency\": 137, \"value\": 611}, \"612\": {\"frequency\": 103, \"value\": 612}, \"613\": {\"frequency\": 353, \"value\": 613}, \"614\": {\"frequency\": 329, \"value\": 614}, \"615\": {\"frequency\": 116, \"value\": 615}, \"616\": {\"frequency\": 234, \"value\": 616}, \"617\": {\"frequency\": 298, \"value\": 617}, \"618\": {\"frequency\": 350, \"value\": 618}, \"619\": {\"frequency\": 410, \"value\": 619}, \"620\": {\"frequency\": 357, \"value\": 620}, \"621\": {\"frequency\": 150, \"value\": 621}, \"622\": {\"frequency\": 479, \"value\": 622}, \"623\": {\"frequency\": 332, \"value\": 623}, \"624\": {\"frequency\": 342, \"value\": 624}, \"625\": {\"frequency\": 339, \"value\": 625}, \"626\": {\"frequency\": 94, \"value\": 626}, \"627\": {\"frequency\": 167, \"value\": 627}, \"628\": {\"frequency\": 341, \"value\": 628}, \"629\": {\"frequency\": 354, \"value\": 629}, \"630\": {\"frequency\": 155, \"value\": 630}, \"631\": {\"frequency\": 332, \"value\": 631}, \"632\": {\"frequency\": 372, \"value\": 632}, \"633\": {\"frequency\": 88, \"value\": 633}, \"634\": {\"frequency\": 274, \"value\": 634}, \"635\": {\"frequency\": 140, \"value\": 635}, \"636\": {\"frequency\": 321, \"value\": 636}, \"637\": {\"frequency\": 343, \"value\": 637}, \"638\": {\"frequency\": 224, \"value\": 638}, \"639\": {\"frequency\": 386, \"value\": 639}, \"640\": {\"frequency\": 195, \"value\": 640}, \"641\": {\"frequency\": 106, \"value\": 641}, \"642\": {\"frequency\": 176, \"value\": 642}, \"643\": {\"frequency\": 350, \"value\": 643}, \"644\": {\"frequency\": 106, \"value\": 644}, \"645\": {\"frequency\": 350, \"value\": 645}, \"646\": {\"frequency\": 116, \"value\": 646}, \"647\": {\"frequency\": 329, \"value\": 647}, \"648\": {\"frequency\": 250, \"value\": 648}, \"649\": {\"frequency\": 343, \"value\": 649}, \"650\": {\"frequency\": 354, \"value\": 650}, \"651\": {\"frequency\": 444, \"value\": 651}, \"652\": {\"frequency\": 360, \"value\": 652}, \"653\": {\"frequency\": 350, \"value\": 653}, \"654\": {\"frequency\": 345, \"value\": 654}, \"655\": {\"frequency\": 344, \"value\": 655}, \"656\": {\"frequency\": 275, \"value\": 656}, \"657\": {\"frequency\": 236, \"value\": 657}, \"658\": {\"frequency\": 313, \"value\": 658}, \"659\": {\"frequency\": 404, \"value\": 659}, \"660\": {\"frequency\": 451, \"value\": 660}, \"661\": {\"frequency\": 188, \"value\": 661}, \"662\": {\"frequency\": 353, \"value\": 662}, \"663\": {\"frequency\": 478, \"value\": 663}, \"664\": {\"frequency\": 469, \"value\": 664}, \"665\": {\"frequency\": 429, \"value\": 665}, \"666\": {\"frequency\": 389, \"value\": 666}, \"667\": {\"frequency\": 341, \"value\": 667}, \"668\": {\"frequency\": 467, \"value\": 668}, \"669\": {\"frequency\": 214, \"value\": 669}, \"670\": {\"frequency\": 482, \"value\": 670}, \"671\": {\"frequency\": 342, \"value\": 671}, \"672\": {\"frequency\": 375, \"value\": 672}, \"673\": {\"frequency\": 293, \"value\": 673}, \"674\": {\"frequency\": 382, \"value\": 674}, \"675\": {\"frequency\": 243, \"value\": 675}, \"676\": {\"frequency\": 490, \"value\": 676}, \"677\": {\"frequency\": 307, \"value\": 677}, \"678\": {\"frequency\": 350, \"value\": 678}, \"679\": {\"frequency\": 339, \"value\": 679}, \"680\": {\"frequency\": 242, \"value\": 680}, \"681\": {\"frequency\": 441, \"value\": 681}, \"682\": {\"frequency\": 360, \"value\": 682}, \"683\": {\"frequency\": 110, \"value\": 683}, \"684\": {\"frequency\": 243, \"value\": 684}, \"685\": {\"frequency\": 174, \"value\": 685}, \"686\": {\"frequency\": 387, \"value\": 686}, \"687\": {\"frequency\": 349, \"value\": 687}, \"688\": {\"frequency\": 140, \"value\": 688}, \"689\": {\"frequency\": 479, \"value\": 689}, \"690\": {\"frequency\": 295, \"value\": 690}, \"691\": {\"frequency\": 105, \"value\": 691}, \"692\": {\"frequency\": 476, \"value\": 692}, \"693\": {\"frequency\": 183, \"value\": 693}, \"694\": {\"frequency\": 113, \"value\": 694}, \"695\": {\"frequency\": 332, \"value\": 695}, \"696\": {\"frequency\": 183, \"value\": 696}, \"697\": {\"frequency\": 301, \"value\": 697}, \"698\": {\"frequency\": 109, \"value\": 698}, \"699\": {\"frequency\": 333, \"value\": 699}, \"700\": {\"frequency\": 156, \"value\": 700}, \"701\": {\"frequency\": 223, \"value\": 701}, \"702\": {\"frequency\": 446, \"value\": 702}, \"703\": {\"frequency\": 443, \"value\": 703}, \"704\": {\"frequency\": 384, \"value\": 704}, \"705\": {\"frequency\": 334, \"value\": 705}, \"706\": {\"frequency\": 94, \"value\": 706}, \"707\": {\"frequency\": 163, \"value\": 707}, \"708\": {\"frequency\": 481, \"value\": 708}, \"709\": {\"frequency\": 474, \"value\": 709}, \"710\": {\"frequency\": 481, \"value\": 710}, \"711\": {\"frequency\": 187, \"value\": 711}, \"712\": {\"frequency\": 88, \"value\": 712}, \"713\": {\"frequency\": 443, \"value\": 713}, \"714\": {\"frequency\": 89, \"value\": 714}, \"715\": {\"frequency\": 482, \"value\": 715}, \"716\": {\"frequency\": 485, \"value\": 716}, \"717\": {\"frequency\": 283, \"value\": 717}, \"718\": {\"frequency\": 290, \"value\": 718}, \"719\": {\"frequency\": 344, \"value\": 719}, \"720\": {\"frequency\": 337, \"value\": 720}, \"721\": {\"frequency\": 152, \"value\": 721}, \"722\": {\"frequency\": 352, \"value\": 722}, \"723\": {\"frequency\": 368, \"value\": 723}, \"724\": {\"frequency\": 243, \"value\": 724}, \"725\": {\"frequency\": 99, \"value\": 725}, \"726\": {\"frequency\": 402, \"value\": 726}, \"727\": {\"frequency\": 407, \"value\": 727}, \"728\": {\"frequency\": 99, \"value\": 728}, \"729\": {\"frequency\": 482, \"value\": 729}, \"730\": {\"frequency\": 353, \"value\": 730}, \"731\": {\"frequency\": 321, \"value\": 731}, \"732\": {\"frequency\": 115, \"value\": 732}, \"733\": {\"frequency\": 292, \"value\": 733}, \"734\": {\"frequency\": 317, \"value\": 734}, \"735\": {\"frequency\": 95, \"value\": 735}, \"736\": {\"frequency\": 354, \"value\": 736}, \"737\": {\"frequency\": 341, \"value\": 737}, \"738\": {\"frequency\": 387, \"value\": 738}, \"739\": {\"frequency\": 333, \"value\": 739}, \"740\": {\"frequency\": 269, \"value\": 740}, \"741\": {\"frequency\": 356, \"value\": 741}, \"742\": {\"frequency\": 323, \"value\": 742}, \"743\": {\"frequency\": 272, \"value\": 743}, \"744\": {\"frequency\": 334, \"value\": 744}, \"745\": {\"frequency\": 147, \"value\": 745}, \"746\": {\"frequency\": 340, \"value\": 746}, \"747\": {\"frequency\": 339, \"value\": 747}, \"748\": {\"frequency\": 336, \"value\": 748}, \"749\": {\"frequency\": 124, \"value\": 749}, \"750\": {\"frequency\": 487, \"value\": 750}, \"751\": {\"frequency\": 276, \"value\": 751}, \"752\": {\"frequency\": 109, \"value\": 752}, \"753\": {\"frequency\": 476, \"value\": 753}, \"754\": {\"frequency\": 156, \"value\": 754}, \"755\": {\"frequency\": 133, \"value\": 755}, \"756\": {\"frequency\": 287, \"value\": 756}, \"757\": {\"frequency\": 339, \"value\": 757}, \"758\": {\"frequency\": 187, \"value\": 758}, \"759\": {\"frequency\": 150, \"value\": 759}, \"760\": {\"frequency\": 404, \"value\": 760}, \"761\": {\"frequency\": 111, \"value\": 761}, \"762\": {\"frequency\": 339, \"value\": 762}, \"763\": {\"frequency\": 365, \"value\": 763}, \"764\": {\"frequency\": 333, \"value\": 764}, \"765\": {\"frequency\": 386, \"value\": 765}, \"766\": {\"frequency\": 112, \"value\": 766}, \"767\": {\"frequency\": 461, \"value\": 767}, \"768\": {\"frequency\": 202, \"value\": 768}, \"769\": {\"frequency\": 341, \"value\": 769}, \"770\": {\"frequency\": 235, \"value\": 770}, \"771\": {\"frequency\": 243, \"value\": 771}, \"772\": {\"frequency\": 461, \"value\": 772}, \"773\": {\"frequency\": 482, \"value\": 773}, \"774\": {\"frequency\": 331, \"value\": 774}, \"775\": {\"frequency\": 341, \"value\": 775}, \"776\": {\"frequency\": 339, \"value\": 776}, \"777\": {\"frequency\": 332, \"value\": 777}, \"778\": {\"frequency\": 88, \"value\": 778}, \"779\": {\"frequency\": 162, \"value\": 779}, \"780\": {\"frequency\": 350, \"value\": 780}, \"781\": {\"frequency\": 475, \"value\": 781}, \"782\": {\"frequency\": 340, \"value\": 782}, \"783\": {\"frequency\": 119, \"value\": 783}, \"784\": {\"frequency\": 478, \"value\": 784}, \"785\": {\"frequency\": 343, \"value\": 785}, \"786\": {\"frequency\": 476, \"value\": 786}, \"787\": {\"frequency\": 339, \"value\": 787}, \"788\": {\"frequency\": 314, \"value\": 788}, \"789\": {\"frequency\": 472, \"value\": 789}, \"790\": {\"frequency\": 147, \"value\": 790}, \"791\": {\"frequency\": 474, \"value\": 791}, \"792\": {\"frequency\": 348, \"value\": 792}, \"793\": {\"frequency\": 96, \"value\": 793}, \"794\": {\"frequency\": 129, \"value\": 794}, \"795\": {\"frequency\": 245, \"value\": 795}, \"796\": {\"frequency\": 110, \"value\": 796}, \"797\": {\"frequency\": 476, \"value\": 797}, \"798\": {\"frequency\": 350, \"value\": 798}, \"799\": {\"frequency\": 405, \"value\": 799}, \"800\": {\"frequency\": 342, \"value\": 800}, \"801\": {\"frequency\": 220, \"value\": 801}, \"802\": {\"frequency\": 310, \"value\": 802}, \"803\": {\"frequency\": 148, \"value\": 803}, \"804\": {\"frequency\": 139, \"value\": 804}, \"805\": {\"frequency\": 265, \"value\": 805}, \"806\": {\"frequency\": 293, \"value\": 806}, \"807\": {\"frequency\": 340, \"value\": 807}, \"808\": {\"frequency\": 451, \"value\": 808}, \"809\": {\"frequency\": 109, \"value\": 809}, \"810\": {\"frequency\": 274, \"value\": 810}, \"811\": {\"frequency\": 352, \"value\": 811}, \"812\": {\"frequency\": 350, \"value\": 812}, \"813\": {\"frequency\": 387, \"value\": 813}, \"814\": {\"frequency\": 345, \"value\": 814}, \"815\": {\"frequency\": 351, \"value\": 815}, \"816\": {\"frequency\": 339, \"value\": 816}, \"817\": {\"frequency\": 356, \"value\": 817}, \"818\": {\"frequency\": 181, \"value\": 818}, \"819\": {\"frequency\": 169, \"value\": 819}, \"820\": {\"frequency\": 293, \"value\": 820}, \"821\": {\"frequency\": 158, \"value\": 821}, \"822\": {\"frequency\": 242, \"value\": 822}, \"823\": {\"frequency\": 344, \"value\": 823}, \"824\": {\"frequency\": 287, \"value\": 824}, \"825\": {\"frequency\": 87, \"value\": 825}, \"826\": {\"frequency\": 288, \"value\": 826}, \"827\": {\"frequency\": 141, \"value\": 827}, \"828\": {\"frequency\": 441, \"value\": 828}, \"829\": {\"frequency\": 448, \"value\": 829}, \"830\": {\"frequency\": 475, \"value\": 830}, \"831\": {\"frequency\": 185, \"value\": 831}, \"832\": {\"frequency\": 96, \"value\": 832}, \"833\": {\"frequency\": 323, \"value\": 833}, \"834\": {\"frequency\": 366, \"value\": 834}, \"835\": {\"frequency\": 163, \"value\": 835}, \"836\": {\"frequency\": 339, \"value\": 836}, \"837\": {\"frequency\": 126, \"value\": 837}, \"838\": {\"frequency\": 142, \"value\": 838}, \"839\": {\"frequency\": 344, \"value\": 839}, \"840\": {\"frequency\": 243, \"value\": 840}, \"841\": {\"frequency\": 434, \"value\": 841}, \"842\": {\"frequency\": 96, \"value\": 842}, \"843\": {\"frequency\": 354, \"value\": 843}, \"844\": {\"frequency\": 464, \"value\": 844}, \"845\": {\"frequency\": 343, \"value\": 845}, \"846\": {\"frequency\": 344, \"value\": 846}, \"847\": {\"frequency\": 201, \"value\": 847}, \"848\": {\"frequency\": 481, \"value\": 848}, \"849\": {\"frequency\": 367, \"value\": 849}, \"850\": {\"frequency\": 467, \"value\": 850}, \"851\": {\"frequency\": 90, \"value\": 851}, \"852\": {\"frequency\": 460, \"value\": 852}, \"853\": {\"frequency\": 476, \"value\": 853}, \"854\": {\"frequency\": 367, \"value\": 854}, \"855\": {\"frequency\": 288, \"value\": 855}, \"856\": {\"frequency\": 140, \"value\": 856}, \"857\": {\"frequency\": 93, \"value\": 857}, \"858\": {\"frequency\": 128, \"value\": 858}, \"859\": {\"frequency\": 476, \"value\": 859}, \"860\": {\"frequency\": 120, \"value\": 860}, \"861\": {\"frequency\": 455, \"value\": 861}, \"862\": {\"frequency\": 387, \"value\": 862}, \"863\": {\"frequency\": 189, \"value\": 863}, \"864\": {\"frequency\": 348, \"value\": 864}, \"865\": {\"frequency\": 293, \"value\": 865}, \"866\": {\"frequency\": 348, \"value\": 866}, \"867\": {\"frequency\": 183, \"value\": 867}, \"868\": {\"frequency\": 305, \"value\": 868}, \"869\": {\"frequency\": 193, \"value\": 869}, \"870\": {\"frequency\": 290, \"value\": 870}, \"871\": {\"frequency\": 154, \"value\": 871}, \"872\": {\"frequency\": 164, \"value\": 872}, \"873\": {\"frequency\": 274, \"value\": 873}, \"874\": {\"frequency\": 171, \"value\": 874}, \"875\": {\"frequency\": 350, \"value\": 875}, \"876\": {\"frequency\": 328, \"value\": 876}, \"877\": {\"frequency\": 477, \"value\": 877}, \"878\": {\"frequency\": 339, \"value\": 878}, \"879\": {\"frequency\": 300, \"value\": 879}, \"880\": {\"frequency\": 348, \"value\": 880}, \"881\": {\"frequency\": 387, \"value\": 881}, \"882\": {\"frequency\": 199, \"value\": 882}, \"883\": {\"frequency\": 359, \"value\": 883}, \"884\": {\"frequency\": 123, \"value\": 884}, \"885\": {\"frequency\": 366, \"value\": 885}, \"886\": {\"frequency\": 412, \"value\": 886}, \"887\": {\"frequency\": 461, \"value\": 887}, \"888\": {\"frequency\": 316, \"value\": 888}, \"889\": {\"frequency\": 339, \"value\": 889}, \"890\": {\"frequency\": 435, \"value\": 890}, \"891\": {\"frequency\": 339, \"value\": 891}, \"892\": {\"frequency\": 224, \"value\": 892}, \"893\": {\"frequency\": 430, \"value\": 893}, \"894\": {\"frequency\": 327, \"value\": 894}, \"895\": {\"frequency\": 285, \"value\": 895}, \"896\": {\"frequency\": 350, \"value\": 896}, \"897\": {\"frequency\": 493, \"value\": 897}, \"898\": {\"frequency\": 183, \"value\": 898}, \"899\": {\"frequency\": 123, \"value\": 899}, \"900\": {\"frequency\": 307, \"value\": 900}, \"901\": {\"frequency\": 154, \"value\": 901}, \"902\": {\"frequency\": 384, \"value\": 902}, \"903\": {\"frequency\": 332, \"value\": 903}, \"904\": {\"frequency\": 206, \"value\": 904}, \"905\": {\"frequency\": 197, \"value\": 905}, \"906\": {\"frequency\": 90, \"value\": 906}, \"907\": {\"frequency\": 412, \"value\": 907}, \"908\": {\"frequency\": 347, \"value\": 908}, \"909\": {\"frequency\": 483, \"value\": 909}, \"910\": {\"frequency\": 375, \"value\": 910}, \"911\": {\"frequency\": 475, \"value\": 911}, \"912\": {\"frequency\": 324, \"value\": 912}, \"913\": {\"frequency\": 325, \"value\": 913}, \"914\": {\"frequency\": 87, \"value\": 914}, \"915\": {\"frequency\": 348, \"value\": 915}, \"916\": {\"frequency\": 239, \"value\": 916}, \"917\": {\"frequency\": 347, \"value\": 917}, \"918\": {\"frequency\": 117, \"value\": 918}, \"919\": {\"frequency\": 168, \"value\": 919}, \"920\": {\"frequency\": 117, \"value\": 920}, \"921\": {\"frequency\": 204, \"value\": 921}, \"922\": {\"frequency\": 302, \"value\": 922}, \"923\": {\"frequency\": 188, \"value\": 923}, \"924\": {\"frequency\": 146, \"value\": 924}, \"925\": {\"frequency\": 208, \"value\": 925}, \"926\": {\"frequency\": 477, \"value\": 926}, \"927\": {\"frequency\": 346, \"value\": 927}, \"928\": {\"frequency\": 183, \"value\": 928}, \"929\": {\"frequency\": 476, \"value\": 929}, \"930\": {\"frequency\": 136, \"value\": 930}, \"931\": {\"frequency\": 355, \"value\": 931}, \"932\": {\"frequency\": 430, \"value\": 932}, \"933\": {\"frequency\": 460, \"value\": 933}, \"934\": {\"frequency\": 367, \"value\": 934}, \"935\": {\"frequency\": 183, \"value\": 935}, \"936\": {\"frequency\": 137, \"value\": 936}, \"937\": {\"frequency\": 440, \"value\": 937}, \"938\": {\"frequency\": 134, \"value\": 938}, \"939\": {\"frequency\": 290, \"value\": 939}, \"940\": {\"frequency\": 102, \"value\": 940}, \"941\": {\"frequency\": 339, \"value\": 941}, \"942\": {\"frequency\": 187, \"value\": 942}, \"943\": {\"frequency\": 431, \"value\": 943}, \"944\": {\"frequency\": 120, \"value\": 944}, \"945\": {\"frequency\": 199, \"value\": 945}, \"946\": {\"frequency\": 343, \"value\": 946}, \"947\": {\"frequency\": 350, \"value\": 947}, \"948\": {\"frequency\": 160, \"value\": 948}, \"949\": {\"frequency\": 222, \"value\": 949}, \"950\": {\"frequency\": 162, \"value\": 950}, \"951\": {\"frequency\": 287, \"value\": 951}, \"952\": {\"frequency\": 285, \"value\": 952}, \"953\": {\"frequency\": 331, \"value\": 953}, \"954\": {\"frequency\": 314, \"value\": 954}, \"955\": {\"frequency\": 93, \"value\": 955}, \"956\": {\"frequency\": 210, \"value\": 956}, \"957\": {\"frequency\": 134, \"value\": 957}, \"958\": {\"frequency\": 214, \"value\": 958}, \"959\": {\"frequency\": 313, \"value\": 959}, \"960\": {\"frequency\": 303, \"value\": 960}, \"961\": {\"frequency\": 480, \"value\": 961}, \"962\": {\"frequency\": 342, \"value\": 962}, \"963\": {\"frequency\": 152, \"value\": 963}, \"964\": {\"frequency\": 399, \"value\": 964}, \"965\": {\"frequency\": 342, \"value\": 965}, \"966\": {\"frequency\": 431, \"value\": 966}, \"967\": {\"frequency\": 435, \"value\": 967}, \"968\": {\"frequency\": 350, \"value\": 968}, \"969\": {\"frequency\": 137, \"value\": 969}, \"970\": {\"frequency\": 171, \"value\": 970}, \"971\": {\"frequency\": 345, \"value\": 971}, \"972\": {\"frequency\": 488, \"value\": 972}, \"973\": {\"frequency\": 162, \"value\": 973}, \"974\": {\"frequency\": 98, \"value\": 974}, \"975\": {\"frequency\": 431, \"value\": 975}, \"976\": {\"frequency\": 350, \"value\": 976}, \"977\": {\"frequency\": 336, \"value\": 977}, \"978\": {\"frequency\": 329, \"value\": 978}, \"979\": {\"frequency\": 339, \"value\": 979}, \"980\": {\"frequency\": 243, \"value\": 980}, \"981\": {\"frequency\": 368, \"value\": 981}, \"982\": {\"frequency\": 321, \"value\": 982}, \"983\": {\"frequency\": 175, \"value\": 983}, \"984\": {\"frequency\": 387, \"value\": 984}, \"985\": {\"frequency\": 171, \"value\": 985}, \"986\": {\"frequency\": 153, \"value\": 986}, \"987\": {\"frequency\": 177, \"value\": 987}, \"988\": {\"frequency\": 332, \"value\": 988}, \"989\": {\"frequency\": 366, \"value\": 989}, \"990\": {\"frequency\": 481, \"value\": 990}, \"991\": {\"frequency\": 126, \"value\": 991}, \"992\": {\"frequency\": 138, \"value\": 992}, \"993\": {\"frequency\": 113, \"value\": 993}, \"994\": {\"frequency\": 103, \"value\": 994}, \"995\": {\"frequency\": 176, \"value\": 995}, \"996\": {\"frequency\": 365, \"value\": 996}, \"997\": {\"frequency\": 360, \"value\": 997}, \"998\": {\"frequency\": 353, \"value\": 998}, \"999\": {\"frequency\": 340, \"value\": 999}, \"1000\": {\"frequency\": 284, \"value\": 1000}, \"1001\": {\"frequency\": 167, \"value\": 1001}, \"1002\": {\"frequency\": 139, \"value\": 1002}, \"1003\": {\"frequency\": 110, \"value\": 1003}, \"1004\": {\"frequency\": 324, \"value\": 1004}, \"1005\": {\"frequency\": 147, \"value\": 1005}, \"1006\": {\"frequency\": 344, \"value\": 1006}, \"1007\": {\"frequency\": 134, \"value\": 1007}, \"1008\": {\"frequency\": 96, \"value\": 1008}, \"1009\": {\"frequency\": 383, \"value\": 1009}, \"1010\": {\"frequency\": 88, \"value\": 1010}, \"1011\": {\"frequency\": 350, \"value\": 1011}, \"1012\": {\"frequency\": 188, \"value\": 1012}, \"1013\": {\"frequency\": 262, \"value\": 1013}, \"1014\": {\"frequency\": 139, \"value\": 1014}, \"1015\": {\"frequency\": 132, \"value\": 1015}, \"1016\": {\"frequency\": 204, \"value\": 1016}, \"1017\": {\"frequency\": 329, \"value\": 1017}, \"1018\": {\"frequency\": 354, \"value\": 1018}, \"1019\": {\"frequency\": 154, \"value\": 1019}, \"1020\": {\"frequency\": 358, \"value\": 1020}, \"1021\": {\"frequency\": 153, \"value\": 1021}, \"1022\": {\"frequency\": 324, \"value\": 1022}, \"1023\": {\"frequency\": 478, \"value\": 1023}, \"1024\": {\"frequency\": 353, \"value\": 1024}, \"1025\": {\"frequency\": 89, \"value\": 1025}, \"1026\": {\"frequency\": 103, \"value\": 1026}, \"1027\": {\"frequency\": 153, \"value\": 1027}, \"1028\": {\"frequency\": 343, \"value\": 1028}, \"1029\": {\"frequency\": 399, \"value\": 1029}, \"1030\": {\"frequency\": 473, \"value\": 1030}, \"1031\": {\"frequency\": 188, \"value\": 1031}, \"1032\": {\"frequency\": 464, \"value\": 1032}, \"1033\": {\"frequency\": 269, \"value\": 1033}, \"1034\": {\"frequency\": 228, \"value\": 1034}, \"1035\": {\"frequency\": 482, \"value\": 1035}, \"1036\": {\"frequency\": 126, \"value\": 1036}, \"1037\": {\"frequency\": 340, \"value\": 1037}, \"1038\": {\"frequency\": 348, \"value\": 1038}, \"1039\": {\"frequency\": 334, \"value\": 1039}, \"1040\": {\"frequency\": 215, \"value\": 1040}, \"1041\": {\"frequency\": 339, \"value\": 1041}, \"1042\": {\"frequency\": 89, \"value\": 1042}, \"1043\": {\"frequency\": 243, \"value\": 1043}, \"1044\": {\"frequency\": 369, \"value\": 1044}, \"1045\": {\"frequency\": 151, \"value\": 1045}, \"1046\": {\"frequency\": 87, \"value\": 1046}, \"1047\": {\"frequency\": 96, \"value\": 1047}, \"1048\": {\"frequency\": 137, \"value\": 1048}, \"1049\": {\"frequency\": 340, \"value\": 1049}, \"1050\": {\"frequency\": 296, \"value\": 1050}, \"1051\": {\"frequency\": 451, \"value\": 1051}, \"1052\": {\"frequency\": 293, \"value\": 1052}, \"1053\": {\"frequency\": 144, \"value\": 1053}, \"1054\": {\"frequency\": 183, \"value\": 1054}, \"1055\": {\"frequency\": 277, \"value\": 1055}, \"1056\": {\"frequency\": 470, \"value\": 1056}, \"1057\": {\"frequency\": 95, \"value\": 1057}, \"1058\": {\"frequency\": 307, \"value\": 1058}, \"1059\": {\"frequency\": 189, \"value\": 1059}, \"1060\": {\"frequency\": 222, \"value\": 1060}, \"1061\": {\"frequency\": 478, \"value\": 1061}, \"1062\": {\"frequency\": 243, \"value\": 1062}, \"1063\": {\"frequency\": 105, \"value\": 1063}, \"1064\": {\"frequency\": 350, \"value\": 1064}, \"1065\": {\"frequency\": 114, \"value\": 1065}, \"1066\": {\"frequency\": 339, \"value\": 1066}, \"1067\": {\"frequency\": 285, \"value\": 1067}, \"1068\": {\"frequency\": 430, \"value\": 1068}, \"1069\": {\"frequency\": 339, \"value\": 1069}, \"1070\": {\"frequency\": 175, \"value\": 1070}, \"1071\": {\"frequency\": 284, \"value\": 1071}, \"1072\": {\"frequency\": 287, \"value\": 1072}, \"1073\": {\"frequency\": 223, \"value\": 1073}, \"1074\": {\"frequency\": 308, \"value\": 1074}, \"1075\": {\"frequency\": 430, \"value\": 1075}, \"1076\": {\"frequency\": 245, \"value\": 1076}, \"1077\": {\"frequency\": 304, \"value\": 1077}, \"1078\": {\"frequency\": 299, \"value\": 1078}, \"1079\": {\"frequency\": 476, \"value\": 1079}, \"1080\": {\"frequency\": 346, \"value\": 1080}, \"1081\": {\"frequency\": 350, \"value\": 1081}, \"1082\": {\"frequency\": 124, \"value\": 1082}, \"1083\": {\"frequency\": 366, \"value\": 1083}, \"1084\": {\"frequency\": 481, \"value\": 1084}, \"1085\": {\"frequency\": 243, \"value\": 1085}, \"1086\": {\"frequency\": 479, \"value\": 1086}, \"1087\": {\"frequency\": 291, \"value\": 1087}, \"1088\": {\"frequency\": 124, \"value\": 1088}, \"1089\": {\"frequency\": 297, \"value\": 1089}, \"1090\": {\"frequency\": 124, \"value\": 1090}, \"1091\": {\"frequency\": 293, \"value\": 1091}, \"1092\": {\"frequency\": 489, \"value\": 1092}, \"1093\": {\"frequency\": 346, \"value\": 1093}, \"1094\": {\"frequency\": 456, \"value\": 1094}, \"1095\": {\"frequency\": 243, \"value\": 1095}, \"1096\": {\"frequency\": 256, \"value\": 1096}, \"1097\": {\"frequency\": 459, \"value\": 1097}, \"1098\": {\"frequency\": 202, \"value\": 1098}, \"1099\": {\"frequency\": 325, \"value\": 1099}, \"1100\": {\"frequency\": 186, \"value\": 1100}, \"1101\": {\"frequency\": 479, \"value\": 1101}, \"1102\": {\"frequency\": 340, \"value\": 1102}, \"1103\": {\"frequency\": 306, \"value\": 1103}, \"1104\": {\"frequency\": 339, \"value\": 1104}, \"1105\": {\"frequency\": 348, \"value\": 1105}, \"1106\": {\"frequency\": 239, \"value\": 1106}, \"1107\": {\"frequency\": 196, \"value\": 1107}, \"1108\": {\"frequency\": 412, \"value\": 1108}, \"1109\": {\"frequency\": 472, \"value\": 1109}, \"1110\": {\"frequency\": 424, \"value\": 1110}, \"1111\": {\"frequency\": 347, \"value\": 1111}, \"1112\": {\"frequency\": 474, \"value\": 1112}, \"1113\": {\"frequency\": 350, \"value\": 1113}, \"1114\": {\"frequency\": 216, \"value\": 1114}, \"1115\": {\"frequency\": 419, \"value\": 1115}, \"1116\": {\"frequency\": 274, \"value\": 1116}, \"1117\": {\"frequency\": 341, \"value\": 1117}, \"1118\": {\"frequency\": 471, \"value\": 1118}, \"1119\": {\"frequency\": 158, \"value\": 1119}, \"1120\": {\"frequency\": 455, \"value\": 1120}, \"1121\": {\"frequency\": 477, \"value\": 1121}, \"1122\": {\"frequency\": 349, \"value\": 1122}, \"1123\": {\"frequency\": 332, \"value\": 1123}, \"1124\": {\"frequency\": 486, \"value\": 1124}, \"1125\": {\"frequency\": 482, \"value\": 1125}, \"1126\": {\"frequency\": 475, \"value\": 1126}, \"1127\": {\"frequency\": 244, \"value\": 1127}, \"1128\": {\"frequency\": 485, \"value\": 1128}, \"1129\": {\"frequency\": 476, \"value\": 1129}, \"1130\": {\"frequency\": 173, \"value\": 1130}, \"1131\": {\"frequency\": 136, \"value\": 1131}, \"1132\": {\"frequency\": 288, \"value\": 1132}, \"1133\": {\"frequency\": 131, \"value\": 1133}, \"1134\": {\"frequency\": 473, \"value\": 1134}, \"1135\": {\"frequency\": 453, \"value\": 1135}, \"1136\": {\"frequency\": 133, \"value\": 1136}, \"1137\": {\"frequency\": 103, \"value\": 1137}, \"1138\": {\"frequency\": 375, \"value\": 1138}, \"1139\": {\"frequency\": 459, \"value\": 1139}, \"1140\": {\"frequency\": 325, \"value\": 1140}, \"1141\": {\"frequency\": 405, \"value\": 1141}, \"1142\": {\"frequency\": 282, \"value\": 1142}, \"1143\": {\"frequency\": 134, \"value\": 1143}, \"1144\": {\"frequency\": 243, \"value\": 1144}, \"1145\": {\"frequency\": 139, \"value\": 1145}, \"1146\": {\"frequency\": 344, \"value\": 1146}, \"1147\": {\"frequency\": 409, \"value\": 1147}, \"1148\": {\"frequency\": 164, \"value\": 1148}, \"1149\": {\"frequency\": 295, \"value\": 1149}, \"1150\": {\"frequency\": 339, \"value\": 1150}, \"1151\": {\"frequency\": 480, \"value\": 1151}, \"1152\": {\"frequency\": 255, \"value\": 1152}, \"1153\": {\"frequency\": 403, \"value\": 1153}, \"1154\": {\"frequency\": 372, \"value\": 1154}, \"1155\": {\"frequency\": 431, \"value\": 1155}, \"1156\": {\"frequency\": 329, \"value\": 1156}, \"1157\": {\"frequency\": 133, \"value\": 1157}, \"1158\": {\"frequency\": 149, \"value\": 1158}, \"1159\": {\"frequency\": 365, \"value\": 1159}, \"1160\": {\"frequency\": 120, \"value\": 1160}, \"1161\": {\"frequency\": 234, \"value\": 1161}, \"1162\": {\"frequency\": 306, \"value\": 1162}, \"1163\": {\"frequency\": 164, \"value\": 1163}, \"1164\": {\"frequency\": 381, \"value\": 1164}, \"1165\": {\"frequency\": 480, \"value\": 1165}, \"1166\": {\"frequency\": 470, \"value\": 1166}, \"1167\": {\"frequency\": 339, \"value\": 1167}, \"1168\": {\"frequency\": 240, \"value\": 1168}, \"1169\": {\"frequency\": 226, \"value\": 1169}, \"1170\": {\"frequency\": 186, \"value\": 1170}, \"1171\": {\"frequency\": 481, \"value\": 1171}, \"1172\": {\"frequency\": 305, \"value\": 1172}, \"1173\": {\"frequency\": 207, \"value\": 1173}, \"1174\": {\"frequency\": 136, \"value\": 1174}, \"1175\": {\"frequency\": 319, \"value\": 1175}, \"1176\": {\"frequency\": 348, \"value\": 1176}, \"1177\": {\"frequency\": 472, \"value\": 1177}, \"1178\": {\"frequency\": 347, \"value\": 1178}, \"1179\": {\"frequency\": 276, \"value\": 1179}, \"1180\": {\"frequency\": 331, \"value\": 1180}, \"1181\": {\"frequency\": 489, \"value\": 1181}, \"1182\": {\"frequency\": 203, \"value\": 1182}, \"1183\": {\"frequency\": 119, \"value\": 1183}, \"1184\": {\"frequency\": 227, \"value\": 1184}, \"1185\": {\"frequency\": 165, \"value\": 1185}, \"1186\": {\"frequency\": 152, \"value\": 1186}, \"1187\": {\"frequency\": 477, \"value\": 1187}, \"1188\": {\"frequency\": 289, \"value\": 1188}, \"1189\": {\"frequency\": 291, \"value\": 1189}, \"1190\": {\"frequency\": 482, \"value\": 1190}, \"1191\": {\"frequency\": 110, \"value\": 1191}, \"1192\": {\"frequency\": 298, \"value\": 1192}, \"1193\": {\"frequency\": 161, \"value\": 1193}, \"1194\": {\"frequency\": 116, \"value\": 1194}, \"1195\": {\"frequency\": 490, \"value\": 1195}, \"1196\": {\"frequency\": 339, \"value\": 1196}, \"1197\": {\"frequency\": 481, \"value\": 1197}, \"1198\": {\"frequency\": 451, \"value\": 1198}, \"1199\": {\"frequency\": 171, \"value\": 1199}, \"1200\": {\"frequency\": 350, \"value\": 1200}, \"1201\": {\"frequency\": 346, \"value\": 1201}, \"1202\": {\"frequency\": 242, \"value\": 1202}, \"1203\": {\"frequency\": 363, \"value\": 1203}, \"1204\": {\"frequency\": 354, \"value\": 1204}, \"1205\": {\"frequency\": 356, \"value\": 1205}, \"1206\": {\"frequency\": 151, \"value\": 1206}, \"1207\": {\"frequency\": 165, \"value\": 1207}, \"1208\": {\"frequency\": 151, \"value\": 1208}, \"1209\": {\"frequency\": 165, \"value\": 1209}, \"1210\": {\"frequency\": 328, \"value\": 1210}, \"1211\": {\"frequency\": 341, \"value\": 1211}, \"1212\": {\"frequency\": 115, \"value\": 1212}, \"1213\": {\"frequency\": 469, \"value\": 1213}, \"1214\": {\"frequency\": 118, \"value\": 1214}, \"1215\": {\"frequency\": 137, \"value\": 1215}, \"1216\": {\"frequency\": 156, \"value\": 1216}, \"1217\": {\"frequency\": 473, \"value\": 1217}, \"1218\": {\"frequency\": 113, \"value\": 1218}, \"1219\": {\"frequency\": 243, \"value\": 1219}, \"1220\": {\"frequency\": 102, \"value\": 1220}, \"1221\": {\"frequency\": 234, \"value\": 1221}, \"1222\": {\"frequency\": 139, \"value\": 1222}, \"1223\": {\"frequency\": 165, \"value\": 1223}, \"1224\": {\"frequency\": 478, \"value\": 1224}, \"1225\": {\"frequency\": 196, \"value\": 1225}, \"1226\": {\"frequency\": 367, \"value\": 1226}, \"1227\": {\"frequency\": 353, \"value\": 1227}, \"1228\": {\"frequency\": 348, \"value\": 1228}, \"1229\": {\"frequency\": 332, \"value\": 1229}, \"1230\": {\"frequency\": 275, \"value\": 1230}, \"1231\": {\"frequency\": 329, \"value\": 1231}, \"1232\": {\"frequency\": 121, \"value\": 1232}, \"1233\": {\"frequency\": 243, \"value\": 1233}, \"1234\": {\"frequency\": 243, \"value\": 1234}, \"1235\": {\"frequency\": 223, \"value\": 1235}, \"1236\": {\"frequency\": 348, \"value\": 1236}, \"1237\": {\"frequency\": 478, \"value\": 1237}, \"1238\": {\"frequency\": 350, \"value\": 1238}, \"1239\": {\"frequency\": 350, \"value\": 1239}, \"1240\": {\"frequency\": 204, \"value\": 1240}, \"1241\": {\"frequency\": 138, \"value\": 1241}, \"1242\": {\"frequency\": 427, \"value\": 1242}, \"1243\": {\"frequency\": 104, \"value\": 1243}, \"1244\": {\"frequency\": 477, \"value\": 1244}, \"1245\": {\"frequency\": 347, \"value\": 1245}, \"1246\": {\"frequency\": 427, \"value\": 1246}, \"1247\": {\"frequency\": 361, \"value\": 1247}, \"1248\": {\"frequency\": 152, \"value\": 1248}, \"1249\": {\"frequency\": 338, \"value\": 1249}, \"1250\": {\"frequency\": 350, \"value\": 1250}, \"1251\": {\"frequency\": 444, \"value\": 1251}, \"1252\": {\"frequency\": 298, \"value\": 1252}, \"1253\": {\"frequency\": 120, \"value\": 1253}, \"1254\": {\"frequency\": 354, \"value\": 1254}, \"1255\": {\"frequency\": 473, \"value\": 1255}, \"1256\": {\"frequency\": 142, \"value\": 1256}, \"1257\": {\"frequency\": 298, \"value\": 1257}, \"1258\": {\"frequency\": 317, \"value\": 1258}, \"1259\": {\"frequency\": 218, \"value\": 1259}, \"1260\": {\"frequency\": 188, \"value\": 1260}, \"1261\": {\"frequency\": 331, \"value\": 1261}, \"1262\": {\"frequency\": 455, \"value\": 1262}, \"1263\": {\"frequency\": 348, \"value\": 1263}, \"1264\": {\"frequency\": 299, \"value\": 1264}, \"1265\": {\"frequency\": 276, \"value\": 1265}, \"1266\": {\"frequency\": 350, \"value\": 1266}, \"1267\": {\"frequency\": 120, \"value\": 1267}, \"1268\": {\"frequency\": 348, \"value\": 1268}, \"1269\": {\"frequency\": 241, \"value\": 1269}, \"1270\": {\"frequency\": 299, \"value\": 1270}, \"1271\": {\"frequency\": 367, \"value\": 1271}, \"1272\": {\"frequency\": 294, \"value\": 1272}, \"1273\": {\"frequency\": 482, \"value\": 1273}, \"1274\": {\"frequency\": 127, \"value\": 1274}, \"1275\": {\"frequency\": 445, \"value\": 1275}, \"1276\": {\"frequency\": 256, \"value\": 1276}, \"1277\": {\"frequency\": 477, \"value\": 1277}, \"1278\": {\"frequency\": 132, \"value\": 1278}, \"1279\": {\"frequency\": 360, \"value\": 1279}, \"1280\": {\"frequency\": 221, \"value\": 1280}, \"1281\": {\"frequency\": 476, \"value\": 1281}, \"1282\": {\"frequency\": 183, \"value\": 1282}, \"1283\": {\"frequency\": 348, \"value\": 1283}, \"1284\": {\"frequency\": 243, \"value\": 1284}, \"1285\": {\"frequency\": 284, \"value\": 1285}, \"1286\": {\"frequency\": 121, \"value\": 1286}, \"1287\": {\"frequency\": 152, \"value\": 1287}, \"1288\": {\"frequency\": 167, \"value\": 1288}, \"1289\": {\"frequency\": 188, \"value\": 1289}, \"1290\": {\"frequency\": 342, \"value\": 1290}, \"1291\": {\"frequency\": 457, \"value\": 1291}, \"1292\": {\"frequency\": 341, \"value\": 1292}, \"1293\": {\"frequency\": 455, \"value\": 1293}, \"1294\": {\"frequency\": 239, \"value\": 1294}, \"1295\": {\"frequency\": 325, \"value\": 1295}, \"1296\": {\"frequency\": 310, \"value\": 1296}, \"1297\": {\"frequency\": 341, \"value\": 1297}, \"1298\": {\"frequency\": 93, \"value\": 1298}, \"1299\": {\"frequency\": 472, \"value\": 1299}, \"1300\": {\"frequency\": 389, \"value\": 1300}, \"1301\": {\"frequency\": 387, \"value\": 1301}, \"1302\": {\"frequency\": 339, \"value\": 1302}, \"1303\": {\"frequency\": 348, \"value\": 1303}, \"1304\": {\"frequency\": 293, \"value\": 1304}, \"1305\": {\"frequency\": 122, \"value\": 1305}, \"1306\": {\"frequency\": 105, \"value\": 1306}, \"1307\": {\"frequency\": 266, \"value\": 1307}, \"1308\": {\"frequency\": 449, \"value\": 1308}, \"1309\": {\"frequency\": 483, \"value\": 1309}, \"1310\": {\"frequency\": 133, \"value\": 1310}, \"1311\": {\"frequency\": 304, \"value\": 1311}, \"1312\": {\"frequency\": 243, \"value\": 1312}, \"1313\": {\"frequency\": 467, \"value\": 1313}, \"1314\": {\"frequency\": 341, \"value\": 1314}, \"1315\": {\"frequency\": 477, \"value\": 1315}, \"1316\": {\"frequency\": 329, \"value\": 1316}, \"1317\": {\"frequency\": 125, \"value\": 1317}, \"1318\": {\"frequency\": 352, \"value\": 1318}, \"1319\": {\"frequency\": 444, \"value\": 1319}, \"1320\": {\"frequency\": 225, \"value\": 1320}, \"1321\": {\"frequency\": 197, \"value\": 1321}, \"1322\": {\"frequency\": 395, \"value\": 1322}, \"1323\": {\"frequency\": 167, \"value\": 1323}, \"1324\": {\"frequency\": 481, \"value\": 1324}, \"1325\": {\"frequency\": 334, \"value\": 1325}, \"1326\": {\"frequency\": 199, \"value\": 1326}, \"1327\": {\"frequency\": 367, \"value\": 1327}, \"1328\": {\"frequency\": 179, \"value\": 1328}, \"1329\": {\"frequency\": 345, \"value\": 1329}, \"1330\": {\"frequency\": 243, \"value\": 1330}, \"1331\": {\"frequency\": 95, \"value\": 1331}, \"1332\": {\"frequency\": 460, \"value\": 1332}, \"1333\": {\"frequency\": 339, \"value\": 1333}, \"1334\": {\"frequency\": 136, \"value\": 1334}, \"1335\": {\"frequency\": 336, \"value\": 1335}, \"1336\": {\"frequency\": 96, \"value\": 1336}, \"1337\": {\"frequency\": 355, \"value\": 1337}, \"1338\": {\"frequency\": 285, \"value\": 1338}, \"1339\": {\"frequency\": 477, \"value\": 1339}, \"1340\": {\"frequency\": 200, \"value\": 1340}, \"1341\": {\"frequency\": 392, \"value\": 1341}, \"1342\": {\"frequency\": 229, \"value\": 1342}, \"1343\": {\"frequency\": 409, \"value\": 1343}, \"1344\": {\"frequency\": 126, \"value\": 1344}, \"1345\": {\"frequency\": 121, \"value\": 1345}, \"1346\": {\"frequency\": 133, \"value\": 1346}, \"1347\": {\"frequency\": 482, \"value\": 1347}, \"1348\": {\"frequency\": 404, \"value\": 1348}, \"1349\": {\"frequency\": 455, \"value\": 1349}, \"1350\": {\"frequency\": 491, \"value\": 1350}, \"1351\": {\"frequency\": 380, \"value\": 1351}, \"1352\": {\"frequency\": 480, \"value\": 1352}, \"1353\": {\"frequency\": 299, \"value\": 1353}, \"1354\": {\"frequency\": 367, \"value\": 1354}, \"1355\": {\"frequency\": 481, \"value\": 1355}, \"1356\": {\"frequency\": 490, \"value\": 1356}, \"1357\": {\"frequency\": 339, \"value\": 1357}, \"1358\": {\"frequency\": 238, \"value\": 1358}, \"1359\": {\"frequency\": 477, \"value\": 1359}, \"1360\": {\"frequency\": 349, \"value\": 1360}, \"1361\": {\"frequency\": 348, \"value\": 1361}, \"1362\": {\"frequency\": 475, \"value\": 1362}, \"1363\": {\"frequency\": 455, \"value\": 1363}, \"1364\": {\"frequency\": 137, \"value\": 1364}, \"1365\": {\"frequency\": 471, \"value\": 1365}, \"1366\": {\"frequency\": 359, \"value\": 1366}, \"1367\": {\"frequency\": 110, \"value\": 1367}, \"1368\": {\"frequency\": 349, \"value\": 1368}, \"1369\": {\"frequency\": 487, \"value\": 1369}, \"1370\": {\"frequency\": 224, \"value\": 1370}, \"1371\": {\"frequency\": 358, \"value\": 1371}, \"1372\": {\"frequency\": 225, \"value\": 1372}, \"1373\": {\"frequency\": 332, \"value\": 1373}, \"1374\": {\"frequency\": 314, \"value\": 1374}, \"1375\": {\"frequency\": 126, \"value\": 1375}, \"1376\": {\"frequency\": 368, \"value\": 1376}, \"1377\": {\"frequency\": 476, \"value\": 1377}, \"1378\": {\"frequency\": 336, \"value\": 1378}, \"1379\": {\"frequency\": 345, \"value\": 1379}, \"1380\": {\"frequency\": 285, \"value\": 1380}, \"1381\": {\"frequency\": 352, \"value\": 1381}, \"1382\": {\"frequency\": 360, \"value\": 1382}, \"1383\": {\"frequency\": 163, \"value\": 1383}, \"1384\": {\"frequency\": 107, \"value\": 1384}, \"1385\": {\"frequency\": 171, \"value\": 1385}, \"1386\": {\"frequency\": 216, \"value\": 1386}, \"1387\": {\"frequency\": 335, \"value\": 1387}, \"1388\": {\"frequency\": 437, \"value\": 1388}, \"1389\": {\"frequency\": 477, \"value\": 1389}, \"1390\": {\"frequency\": 146, \"value\": 1390}, \"1391\": {\"frequency\": 186, \"value\": 1391}, \"1392\": {\"frequency\": 319, \"value\": 1392}, \"1393\": {\"frequency\": 490, \"value\": 1393}, \"1394\": {\"frequency\": 277, \"value\": 1394}, \"1395\": {\"frequency\": 481, \"value\": 1395}, \"1396\": {\"frequency\": 354, \"value\": 1396}, \"1397\": {\"frequency\": 328, \"value\": 1397}, \"1398\": {\"frequency\": 342, \"value\": 1398}, \"1399\": {\"frequency\": 471, \"value\": 1399}, \"1400\": {\"frequency\": 264, \"value\": 1400}, \"1401\": {\"frequency\": 341, \"value\": 1401}, \"1402\": {\"frequency\": 308, \"value\": 1402}, \"1403\": {\"frequency\": 354, \"value\": 1403}, \"1404\": {\"frequency\": 223, \"value\": 1404}, \"1405\": {\"frequency\": 210, \"value\": 1405}, \"1406\": {\"frequency\": 348, \"value\": 1406}, \"1407\": {\"frequency\": 260, \"value\": 1407}, \"1408\": {\"frequency\": 139, \"value\": 1408}, \"1409\": {\"frequency\": 230, \"value\": 1409}, \"1410\": {\"frequency\": 489, \"value\": 1410}, \"1411\": {\"frequency\": 460, \"value\": 1411}, \"1412\": {\"frequency\": 478, \"value\": 1412}, \"1413\": {\"frequency\": 320, \"value\": 1413}, \"1414\": {\"frequency\": 126, \"value\": 1414}, \"1415\": {\"frequency\": 118, \"value\": 1415}, \"1416\": {\"frequency\": 443, \"value\": 1416}, \"1417\": {\"frequency\": 320, \"value\": 1417}, \"1418\": {\"frequency\": 285, \"value\": 1418}, \"1419\": {\"frequency\": 153, \"value\": 1419}, \"1420\": {\"frequency\": 378, \"value\": 1420}, \"1421\": {\"frequency\": 482, \"value\": 1421}, \"1422\": {\"frequency\": 317, \"value\": 1422}, \"1423\": {\"frequency\": 339, \"value\": 1423}, \"1424\": {\"frequency\": 404, \"value\": 1424}, \"1425\": {\"frequency\": 350, \"value\": 1425}, \"1426\": {\"frequency\": 137, \"value\": 1426}, \"1427\": {\"frequency\": 184, \"value\": 1427}, \"1428\": {\"frequency\": 287, \"value\": 1428}, \"1429\": {\"frequency\": 487, \"value\": 1429}, \"1430\": {\"frequency\": 155, \"value\": 1430}, \"1431\": {\"frequency\": 286, \"value\": 1431}, \"1432\": {\"frequency\": 341, \"value\": 1432}, \"1433\": {\"frequency\": 324, \"value\": 1433}, \"1434\": {\"frequency\": 102, \"value\": 1434}, \"1435\": {\"frequency\": 473, \"value\": 1435}, \"1436\": {\"frequency\": 329, \"value\": 1436}, \"1437\": {\"frequency\": 338, \"value\": 1437}, \"1438\": {\"frequency\": 474, \"value\": 1438}, \"1439\": {\"frequency\": 102, \"value\": 1439}, \"1440\": {\"frequency\": 339, \"value\": 1440}, \"1441\": {\"frequency\": 343, \"value\": 1441}, \"1442\": {\"frequency\": 236, \"value\": 1442}, \"1443\": {\"frequency\": 320, \"value\": 1443}, \"1444\": {\"frequency\": 322, \"value\": 1444}, \"1445\": {\"frequency\": 367, \"value\": 1445}, \"1446\": {\"frequency\": 124, \"value\": 1446}, \"1447\": {\"frequency\": 109, \"value\": 1447}, \"1448\": {\"frequency\": 130, \"value\": 1448}, \"1449\": {\"frequency\": 470, \"value\": 1449}, \"1450\": {\"frequency\": 476, \"value\": 1450}, \"1451\": {\"frequency\": 156, \"value\": 1451}, \"1452\": {\"frequency\": 479, \"value\": 1452}, \"1453\": {\"frequency\": 482, \"value\": 1453}, \"1454\": {\"frequency\": 350, \"value\": 1454}, \"1455\": {\"frequency\": 319, \"value\": 1455}, \"1456\": {\"frequency\": 281, \"value\": 1456}, \"1457\": {\"frequency\": 144, \"value\": 1457}, \"1458\": {\"frequency\": 158, \"value\": 1458}, \"1459\": {\"frequency\": 326, \"value\": 1459}, \"1460\": {\"frequency\": 364, \"value\": 1460}, \"1461\": {\"frequency\": 341, \"value\": 1461}, \"1462\": {\"frequency\": 302, \"value\": 1462}, \"1463\": {\"frequency\": 306, \"value\": 1463}, \"1464\": {\"frequency\": 168, \"value\": 1464}, \"1465\": {\"frequency\": 334, \"value\": 1465}, \"1466\": {\"frequency\": 339, \"value\": 1466}, \"1467\": {\"frequency\": 472, \"value\": 1467}, \"1468\": {\"frequency\": 168, \"value\": 1468}, \"1469\": {\"frequency\": 484, \"value\": 1469}, \"1470\": {\"frequency\": 256, \"value\": 1470}, \"1471\": {\"frequency\": 477, \"value\": 1471}, \"1472\": {\"frequency\": 132, \"value\": 1472}, \"1473\": {\"frequency\": 405, \"value\": 1473}, \"1474\": {\"frequency\": 339, \"value\": 1474}, \"1475\": {\"frequency\": 478, \"value\": 1475}, \"1476\": {\"frequency\": 125, \"value\": 1476}, \"1477\": {\"frequency\": 341, \"value\": 1477}, \"1478\": {\"frequency\": 307, \"value\": 1478}, \"1479\": {\"frequency\": 158, \"value\": 1479}, \"1480\": {\"frequency\": 416, \"value\": 1480}, \"1481\": {\"frequency\": 160, \"value\": 1481}, \"1482\": {\"frequency\": 339, \"value\": 1482}, \"1483\": {\"frequency\": 242, \"value\": 1483}, \"1484\": {\"frequency\": 345, \"value\": 1484}, \"1485\": {\"frequency\": 489, \"value\": 1485}, \"1486\": {\"frequency\": 129, \"value\": 1486}, \"1487\": {\"frequency\": 340, \"value\": 1487}, \"1488\": {\"frequency\": 347, \"value\": 1488}, \"1489\": {\"frequency\": 403, \"value\": 1489}, \"1490\": {\"frequency\": 329, \"value\": 1490}, \"1491\": {\"frequency\": 126, \"value\": 1491}, \"1492\": {\"frequency\": 104, \"value\": 1492}, \"1493\": {\"frequency\": 281, \"value\": 1493}, \"1494\": {\"frequency\": 168, \"value\": 1494}, \"1495\": {\"frequency\": 117, \"value\": 1495}, \"1496\": {\"frequency\": 348, \"value\": 1496}, \"1497\": {\"frequency\": 350, \"value\": 1497}, \"1498\": {\"frequency\": 344, \"value\": 1498}, \"1499\": {\"frequency\": 124, \"value\": 1499}, \"1500\": {\"frequency\": 181, \"value\": 1500}, \"1501\": {\"frequency\": 350, \"value\": 1501}, \"1502\": {\"frequency\": 322, \"value\": 1502}, \"1503\": {\"frequency\": 273, \"value\": 1503}, \"1504\": {\"frequency\": 190, \"value\": 1504}, \"1505\": {\"frequency\": 346, \"value\": 1505}, \"1506\": {\"frequency\": 348, \"value\": 1506}, \"1507\": {\"frequency\": 405, \"value\": 1507}, \"1508\": {\"frequency\": 354, \"value\": 1508}, \"1509\": {\"frequency\": 474, \"value\": 1509}, \"1510\": {\"frequency\": 451, \"value\": 1510}, \"1511\": {\"frequency\": 379, \"value\": 1511}, \"1512\": {\"frequency\": 486, \"value\": 1512}, \"1513\": {\"frequency\": 430, \"value\": 1513}, \"1514\": {\"frequency\": 190, \"value\": 1514}, \"1515\": {\"frequency\": 105, \"value\": 1515}, \"1516\": {\"frequency\": 350, \"value\": 1516}, \"1517\": {\"frequency\": 481, \"value\": 1517}, \"1518\": {\"frequency\": 328, \"value\": 1518}, \"1519\": {\"frequency\": 487, \"value\": 1519}, \"1520\": {\"frequency\": 347, \"value\": 1520}, \"1521\": {\"frequency\": 145, \"value\": 1521}, \"1522\": {\"frequency\": 228, \"value\": 1522}, \"1523\": {\"frequency\": 266, \"value\": 1523}, \"1524\": {\"frequency\": 478, \"value\": 1524}, \"1525\": {\"frequency\": 333, \"value\": 1525}, \"1526\": {\"frequency\": 155, \"value\": 1526}, \"1527\": {\"frequency\": 472, \"value\": 1527}, \"1528\": {\"frequency\": 259, \"value\": 1528}, \"1529\": {\"frequency\": 286, \"value\": 1529}, \"1530\": {\"frequency\": 474, \"value\": 1530}, \"1531\": {\"frequency\": 360, \"value\": 1531}, \"1532\": {\"frequency\": 306, \"value\": 1532}, \"1533\": {\"frequency\": 478, \"value\": 1533}, \"1534\": {\"frequency\": 350, \"value\": 1534}, \"1535\": {\"frequency\": 331, \"value\": 1535}, \"1536\": {\"frequency\": 345, \"value\": 1536}, \"1537\": {\"frequency\": 477, \"value\": 1537}, \"1538\": {\"frequency\": 354, \"value\": 1538}, \"1539\": {\"frequency\": 403, \"value\": 1539}, \"1540\": {\"frequency\": 478, \"value\": 1540}, \"1541\": {\"frequency\": 478, \"value\": 1541}, \"1542\": {\"frequency\": 242, \"value\": 1542}, \"1543\": {\"frequency\": 138, \"value\": 1543}, \"1544\": {\"frequency\": 339, \"value\": 1544}, \"1545\": {\"frequency\": 344, \"value\": 1545}, \"1546\": {\"frequency\": 195, \"value\": 1546}, \"1547\": {\"frequency\": 329, \"value\": 1547}, \"1548\": {\"frequency\": 187, \"value\": 1548}, \"1549\": {\"frequency\": 329, \"value\": 1549}, \"1550\": {\"frequency\": 150, \"value\": 1550}, \"1551\": {\"frequency\": 329, \"value\": 1551}, \"1552\": {\"frequency\": 243, \"value\": 1552}, \"1553\": {\"frequency\": 472, \"value\": 1553}, \"1554\": {\"frequency\": 358, \"value\": 1554}, \"1555\": {\"frequency\": 480, \"value\": 1555}, \"1556\": {\"frequency\": 150, \"value\": 1556}, \"1557\": {\"frequency\": 491, \"value\": 1557}, \"1558\": {\"frequency\": 197, \"value\": 1558}, \"1559\": {\"frequency\": 485, \"value\": 1559}, \"1560\": {\"frequency\": 487, \"value\": 1560}, \"1561\": {\"frequency\": 118, \"value\": 1561}, \"1562\": {\"frequency\": 102, \"value\": 1562}, \"1563\": {\"frequency\": 120, \"value\": 1563}, \"1564\": {\"frequency\": 488, \"value\": 1564}, \"1565\": {\"frequency\": 458, \"value\": 1565}, \"1566\": {\"frequency\": 133, \"value\": 1566}, \"1567\": {\"frequency\": 320, \"value\": 1567}, \"1568\": {\"frequency\": 436, \"value\": 1568}, \"1569\": {\"frequency\": 300, \"value\": 1569}, \"1570\": {\"frequency\": 378, \"value\": 1570}, \"1571\": {\"frequency\": 177, \"value\": 1571}, \"1572\": {\"frequency\": 331, \"value\": 1572}, \"1573\": {\"frequency\": 348, \"value\": 1573}, \"1574\": {\"frequency\": 479, \"value\": 1574}, \"1575\": {\"frequency\": 341, \"value\": 1575}, \"1576\": {\"frequency\": 341, \"value\": 1576}, \"1577\": {\"frequency\": 243, \"value\": 1577}, \"1578\": {\"frequency\": 283, \"value\": 1578}, \"1579\": {\"frequency\": 164, \"value\": 1579}, \"1580\": {\"frequency\": 355, \"value\": 1580}, \"1581\": {\"frequency\": 383, \"value\": 1581}, \"1582\": {\"frequency\": 482, \"value\": 1582}, \"1583\": {\"frequency\": 488, \"value\": 1583}, \"1584\": {\"frequency\": 119, \"value\": 1584}, \"1585\": {\"frequency\": 217, \"value\": 1585}, \"1586\": {\"frequency\": 478, \"value\": 1586}, \"1587\": {\"frequency\": 172, \"value\": 1587}, \"1588\": {\"frequency\": 341, \"value\": 1588}, \"1589\": {\"frequency\": 337, \"value\": 1589}, \"1590\": {\"frequency\": 244, \"value\": 1590}, \"1591\": {\"frequency\": 312, \"value\": 1591}, \"1592\": {\"frequency\": 476, \"value\": 1592}, \"1593\": {\"frequency\": 477, \"value\": 1593}, \"1594\": {\"frequency\": 444, \"value\": 1594}, \"1595\": {\"frequency\": 168, \"value\": 1595}, \"1596\": {\"frequency\": 365, \"value\": 1596}, \"1597\": {\"frequency\": 214, \"value\": 1597}, \"1598\": {\"frequency\": 359, \"value\": 1598}, \"1599\": {\"frequency\": 239, \"value\": 1599}, \"1600\": {\"frequency\": 319, \"value\": 1600}, \"1601\": {\"frequency\": 318, \"value\": 1601}, \"1602\": {\"frequency\": 471, \"value\": 1602}, \"1603\": {\"frequency\": 332, \"value\": 1603}, \"1604\": {\"frequency\": 235, \"value\": 1604}, \"1605\": {\"frequency\": 367, \"value\": 1605}, \"1606\": {\"frequency\": 441, \"value\": 1606}, \"1607\": {\"frequency\": 223, \"value\": 1607}, \"1608\": {\"frequency\": 309, \"value\": 1608}, \"1609\": {\"frequency\": 468, \"value\": 1609}, \"1610\": {\"frequency\": 147, \"value\": 1610}, \"1611\": {\"frequency\": 331, \"value\": 1611}, \"1612\": {\"frequency\": 91, \"value\": 1612}, \"1613\": {\"frequency\": 131, \"value\": 1613}, \"1614\": {\"frequency\": 353, \"value\": 1614}, \"1615\": {\"frequency\": 347, \"value\": 1615}, \"1616\": {\"frequency\": 332, \"value\": 1616}, \"1617\": {\"frequency\": 350, \"value\": 1617}, \"1618\": {\"frequency\": 482, \"value\": 1618}, \"1619\": {\"frequency\": 341, \"value\": 1619}, \"1620\": {\"frequency\": 293, \"value\": 1620}, \"1621\": {\"frequency\": 361, \"value\": 1621}, \"1622\": {\"frequency\": 341, \"value\": 1622}, \"1623\": {\"frequency\": 483, \"value\": 1623}, \"1624\": {\"frequency\": 483, \"value\": 1624}, \"1625\": {\"frequency\": 239, \"value\": 1625}, \"1626\": {\"frequency\": 188, \"value\": 1626}, \"1627\": {\"frequency\": 341, \"value\": 1627}, \"1628\": {\"frequency\": 438, \"value\": 1628}, \"1629\": {\"frequency\": 325, \"value\": 1629}, \"1630\": {\"frequency\": 362, \"value\": 1630}, \"1631\": {\"frequency\": 379, \"value\": 1631}, \"1632\": {\"frequency\": 121, \"value\": 1632}, \"1633\": {\"frequency\": 420, \"value\": 1633}, \"1634\": {\"frequency\": 378, \"value\": 1634}, \"1635\": {\"frequency\": 214, \"value\": 1635}, \"1636\": {\"frequency\": 243, \"value\": 1636}, \"1637\": {\"frequency\": 371, \"value\": 1637}, \"1638\": {\"frequency\": 292, \"value\": 1638}, \"1639\": {\"frequency\": 425, \"value\": 1639}, \"1640\": {\"frequency\": 335, \"value\": 1640}, \"1641\": {\"frequency\": 253, \"value\": 1641}, \"1642\": {\"frequency\": 242, \"value\": 1642}, \"1643\": {\"frequency\": 242, \"value\": 1643}, \"1644\": {\"frequency\": 409, \"value\": 1644}, \"1645\": {\"frequency\": 98, \"value\": 1645}, \"1646\": {\"frequency\": 478, \"value\": 1646}, \"1647\": {\"frequency\": 490, \"value\": 1647}, \"1648\": {\"frequency\": 186, \"value\": 1648}, \"1649\": {\"frequency\": 478, \"value\": 1649}, \"1650\": {\"frequency\": 318, \"value\": 1650}, \"1651\": {\"frequency\": 451, \"value\": 1651}, \"1652\": {\"frequency\": 255, \"value\": 1652}, \"1653\": {\"frequency\": 119, \"value\": 1653}, \"1654\": {\"frequency\": 293, \"value\": 1654}, \"1655\": {\"frequency\": 229, \"value\": 1655}, \"1656\": {\"frequency\": 95, \"value\": 1656}, \"1657\": {\"frequency\": 165, \"value\": 1657}, \"1658\": {\"frequency\": 387, \"value\": 1658}, \"1659\": {\"frequency\": 428, \"value\": 1659}, \"1660\": {\"frequency\": 476, \"value\": 1660}, \"1661\": {\"frequency\": 128, \"value\": 1661}, \"1662\": {\"frequency\": 453, \"value\": 1662}, \"1663\": {\"frequency\": 354, \"value\": 1663}, \"1664\": {\"frequency\": 483, \"value\": 1664}, \"1665\": {\"frequency\": 149, \"value\": 1665}, \"1666\": {\"frequency\": 328, \"value\": 1666}, \"1667\": {\"frequency\": 387, \"value\": 1667}, \"1668\": {\"frequency\": 397, \"value\": 1668}, \"1669\": {\"frequency\": 103, \"value\": 1669}, \"1670\": {\"frequency\": 410, \"value\": 1670}, \"1671\": {\"frequency\": 101, \"value\": 1671}, \"1672\": {\"frequency\": 484, \"value\": 1672}, \"1673\": {\"frequency\": 225, \"value\": 1673}, \"1674\": {\"frequency\": 169, \"value\": 1674}, \"1675\": {\"frequency\": 334, \"value\": 1675}, \"1676\": {\"frequency\": 378, \"value\": 1676}, \"1677\": {\"frequency\": 407, \"value\": 1677}, \"1678\": {\"frequency\": 192, \"value\": 1678}, \"1679\": {\"frequency\": 124, \"value\": 1679}, \"1680\": {\"frequency\": 105, \"value\": 1680}, \"1681\": {\"frequency\": 157, \"value\": 1681}, \"1682\": {\"frequency\": 243, \"value\": 1682}, \"1683\": {\"frequency\": 335, \"value\": 1683}, \"1684\": {\"frequency\": 469, \"value\": 1684}, \"1685\": {\"frequency\": 261, \"value\": 1685}, \"1686\": {\"frequency\": 342, \"value\": 1686}, \"1687\": {\"frequency\": 331, \"value\": 1687}, \"1688\": {\"frequency\": 301, \"value\": 1688}, \"1689\": {\"frequency\": 478, \"value\": 1689}, \"1690\": {\"frequency\": 243, \"value\": 1690}, \"1691\": {\"frequency\": 120, \"value\": 1691}, \"1692\": {\"frequency\": 331, \"value\": 1692}, \"1693\": {\"frequency\": 281, \"value\": 1693}, \"1694\": {\"frequency\": 96, \"value\": 1694}, \"1695\": {\"frequency\": 350, \"value\": 1695}, \"1696\": {\"frequency\": 350, \"value\": 1696}, \"1697\": {\"frequency\": 272, \"value\": 1697}, \"1698\": {\"frequency\": 188, \"value\": 1698}, \"1699\": {\"frequency\": 194, \"value\": 1699}, \"1700\": {\"frequency\": 383, \"value\": 1700}, \"1701\": {\"frequency\": 409, \"value\": 1701}, \"1702\": {\"frequency\": 313, \"value\": 1702}, \"1703\": {\"frequency\": 416, \"value\": 1703}, \"1704\": {\"frequency\": 446, \"value\": 1704}, \"1705\": {\"frequency\": 280, \"value\": 1705}, \"1706\": {\"frequency\": 195, \"value\": 1706}, \"1707\": {\"frequency\": 135, \"value\": 1707}, \"1708\": {\"frequency\": 350, \"value\": 1708}, \"1709\": {\"frequency\": 145, \"value\": 1709}, \"1710\": {\"frequency\": 343, \"value\": 1710}, \"1711\": {\"frequency\": 350, \"value\": 1711}, \"1712\": {\"frequency\": 341, \"value\": 1712}, \"1713\": {\"frequency\": 226, \"value\": 1713}, \"1714\": {\"frequency\": 224, \"value\": 1714}, \"1715\": {\"frequency\": 89, \"value\": 1715}, \"1716\": {\"frequency\": 409, \"value\": 1716}, \"1717\": {\"frequency\": 331, \"value\": 1717}, \"1718\": {\"frequency\": 322, \"value\": 1718}, \"1719\": {\"frequency\": 336, \"value\": 1719}, \"1720\": {\"frequency\": 474, \"value\": 1720}, \"1721\": {\"frequency\": 362, \"value\": 1721}, \"1722\": {\"frequency\": 119, \"value\": 1722}, \"1723\": {\"frequency\": 341, \"value\": 1723}, \"1724\": {\"frequency\": 96, \"value\": 1724}, \"1725\": {\"frequency\": 255, \"value\": 1725}, \"1726\": {\"frequency\": 339, \"value\": 1726}, \"1727\": {\"frequency\": 339, \"value\": 1727}, \"1728\": {\"frequency\": 346, \"value\": 1728}, \"1729\": {\"frequency\": 352, \"value\": 1729}, \"1730\": {\"frequency\": 305, \"value\": 1730}, \"1731\": {\"frequency\": 320, \"value\": 1731}, \"1732\": {\"frequency\": 398, \"value\": 1732}, \"1733\": {\"frequency\": 209, \"value\": 1733}, \"1734\": {\"frequency\": 350, \"value\": 1734}, \"1735\": {\"frequency\": 479, \"value\": 1735}, \"1736\": {\"frequency\": 450, \"value\": 1736}, \"1737\": {\"frequency\": 124, \"value\": 1737}, \"1738\": {\"frequency\": 139, \"value\": 1738}, \"1739\": {\"frequency\": 407, \"value\": 1739}, \"1740\": {\"frequency\": 339, \"value\": 1740}, \"1741\": {\"frequency\": 172, \"value\": 1741}, \"1742\": {\"frequency\": 105, \"value\": 1742}, \"1743\": {\"frequency\": 337, \"value\": 1743}, \"1744\": {\"frequency\": 439, \"value\": 1744}, \"1745\": {\"frequency\": 491, \"value\": 1745}, \"1746\": {\"frequency\": 301, \"value\": 1746}, \"1747\": {\"frequency\": 146, \"value\": 1747}, \"1748\": {\"frequency\": 399, \"value\": 1748}, \"1749\": {\"frequency\": 151, \"value\": 1749}, \"1750\": {\"frequency\": 467, \"value\": 1750}, \"1751\": {\"frequency\": 344, \"value\": 1751}, \"1752\": {\"frequency\": 284, \"value\": 1752}, \"1753\": {\"frequency\": 332, \"value\": 1753}, \"1754\": {\"frequency\": 102, \"value\": 1754}, \"1755\": {\"frequency\": 221, \"value\": 1755}, \"1756\": {\"frequency\": 362, \"value\": 1756}, \"1757\": {\"frequency\": 89, \"value\": 1757}, \"1758\": {\"frequency\": 477, \"value\": 1758}, \"1759\": {\"frequency\": 179, \"value\": 1759}, \"1760\": {\"frequency\": 387, \"value\": 1760}, \"1761\": {\"frequency\": 305, \"value\": 1761}, \"1762\": {\"frequency\": 102, \"value\": 1762}, \"1763\": {\"frequency\": 481, \"value\": 1763}, \"1764\": {\"frequency\": 173, \"value\": 1764}, \"1765\": {\"frequency\": 174, \"value\": 1765}, \"1766\": {\"frequency\": 350, \"value\": 1766}, \"1767\": {\"frequency\": 288, \"value\": 1767}, \"1768\": {\"frequency\": 344, \"value\": 1768}, \"1769\": {\"frequency\": 331, \"value\": 1769}, \"1770\": {\"frequency\": 299, \"value\": 1770}, \"1771\": {\"frequency\": 97, \"value\": 1771}, \"1772\": {\"frequency\": 128, \"value\": 1772}, \"1773\": {\"frequency\": 342, \"value\": 1773}, \"1774\": {\"frequency\": 326, \"value\": 1774}, \"1775\": {\"frequency\": 490, \"value\": 1775}, \"1776\": {\"frequency\": 491, \"value\": 1776}, \"1777\": {\"frequency\": 172, \"value\": 1777}, \"1778\": {\"frequency\": 208, \"value\": 1778}, \"1779\": {\"frequency\": 479, \"value\": 1779}, \"1780\": {\"frequency\": 359, \"value\": 1780}, \"1781\": {\"frequency\": 238, \"value\": 1781}, \"1782\": {\"frequency\": 106, \"value\": 1782}, \"1783\": {\"frequency\": 339, \"value\": 1783}, \"1784\": {\"frequency\": 341, \"value\": 1784}, \"1785\": {\"frequency\": 350, \"value\": 1785}, \"1786\": {\"frequency\": 267, \"value\": 1786}, \"1787\": {\"frequency\": 265, \"value\": 1787}, \"1788\": {\"frequency\": 296, \"value\": 1788}, \"1789\": {\"frequency\": 230, \"value\": 1789}, \"1790\": {\"frequency\": 341, \"value\": 1790}, \"1791\": {\"frequency\": 477, \"value\": 1791}, \"1792\": {\"frequency\": 211, \"value\": 1792}, \"1793\": {\"frequency\": 278, \"value\": 1793}, \"1794\": {\"frequency\": 299, \"value\": 1794}, \"1795\": {\"frequency\": 378, \"value\": 1795}, \"1796\": {\"frequency\": 341, \"value\": 1796}, \"1797\": {\"frequency\": 447, \"value\": 1797}, \"1798\": {\"frequency\": 175, \"value\": 1798}, \"1799\": {\"frequency\": 217, \"value\": 1799}, \"1800\": {\"frequency\": 458, \"value\": 1800}, \"1801\": {\"frequency\": 416, \"value\": 1801}, \"1802\": {\"frequency\": 339, \"value\": 1802}, \"1803\": {\"frequency\": 340, \"value\": 1803}, \"1804\": {\"frequency\": 482, \"value\": 1804}, \"1805\": {\"frequency\": 478, \"value\": 1805}, \"1806\": {\"frequency\": 272, \"value\": 1806}, \"1807\": {\"frequency\": 486, \"value\": 1807}, \"1808\": {\"frequency\": 91, \"value\": 1808}, \"1809\": {\"frequency\": 479, \"value\": 1809}, \"1810\": {\"frequency\": 260, \"value\": 1810}, \"1811\": {\"frequency\": 350, \"value\": 1811}, \"1812\": {\"frequency\": 141, \"value\": 1812}, \"1813\": {\"frequency\": 224, \"value\": 1813}, \"1814\": {\"frequency\": 146, \"value\": 1814}, \"1815\": {\"frequency\": 350, \"value\": 1815}, \"1816\": {\"frequency\": 88, \"value\": 1816}, \"1817\": {\"frequency\": 477, \"value\": 1817}, \"1818\": {\"frequency\": 244, \"value\": 1818}, \"1819\": {\"frequency\": 418, \"value\": 1819}, \"1820\": {\"frequency\": 490, \"value\": 1820}, \"1821\": {\"frequency\": 325, \"value\": 1821}, \"1822\": {\"frequency\": 156, \"value\": 1822}, \"1823\": {\"frequency\": 409, \"value\": 1823}, \"1824\": {\"frequency\": 191, \"value\": 1824}, \"1825\": {\"frequency\": 255, \"value\": 1825}, \"1826\": {\"frequency\": 331, \"value\": 1826}, \"1827\": {\"frequency\": 164, \"value\": 1827}, \"1828\": {\"frequency\": 168, \"value\": 1828}, \"1829\": {\"frequency\": 476, \"value\": 1829}, \"1830\": {\"frequency\": 477, \"value\": 1830}, \"1831\": {\"frequency\": 202, \"value\": 1831}, \"1832\": {\"frequency\": 158, \"value\": 1832}, \"1833\": {\"frequency\": 353, \"value\": 1833}, \"1834\": {\"frequency\": 353, \"value\": 1834}, \"1835\": {\"frequency\": 245, \"value\": 1835}, \"1836\": {\"frequency\": 216, \"value\": 1836}, \"1837\": {\"frequency\": 466, \"value\": 1837}, \"1838\": {\"frequency\": 187, \"value\": 1838}, \"1839\": {\"frequency\": 349, \"value\": 1839}, \"1840\": {\"frequency\": 482, \"value\": 1840}, \"1841\": {\"frequency\": 329, \"value\": 1841}, \"1842\": {\"frequency\": 316, \"value\": 1842}, \"1843\": {\"frequency\": 120, \"value\": 1843}, \"1844\": {\"frequency\": 341, \"value\": 1844}, \"1845\": {\"frequency\": 127, \"value\": 1845}, \"1846\": {\"frequency\": 329, \"value\": 1846}, \"1847\": {\"frequency\": 310, \"value\": 1847}, \"1848\": {\"frequency\": 329, \"value\": 1848}, \"1849\": {\"frequency\": 349, \"value\": 1849}, \"1850\": {\"frequency\": 344, \"value\": 1850}, \"1851\": {\"frequency\": 110, \"value\": 1851}, \"1852\": {\"frequency\": 348, \"value\": 1852}, \"1853\": {\"frequency\": 340, \"value\": 1853}, \"1854\": {\"frequency\": 176, \"value\": 1854}, \"1855\": {\"frequency\": 166, \"value\": 1855}, \"1856\": {\"frequency\": 373, \"value\": 1856}, \"1857\": {\"frequency\": 352, \"value\": 1857}, \"1858\": {\"frequency\": 214, \"value\": 1858}, \"1859\": {\"frequency\": 458, \"value\": 1859}, \"1860\": {\"frequency\": 473, \"value\": 1860}, \"1861\": {\"frequency\": 131, \"value\": 1861}, \"1862\": {\"frequency\": 481, \"value\": 1862}, \"1863\": {\"frequency\": 214, \"value\": 1863}, \"1864\": {\"frequency\": 344, \"value\": 1864}, \"1865\": {\"frequency\": 304, \"value\": 1865}, \"1866\": {\"frequency\": 208, \"value\": 1866}, \"1867\": {\"frequency\": 114, \"value\": 1867}, \"1868\": {\"frequency\": 387, \"value\": 1868}, \"1869\": {\"frequency\": 91, \"value\": 1869}, \"1870\": {\"frequency\": 437, \"value\": 1870}, \"1871\": {\"frequency\": 475, \"value\": 1871}, \"1872\": {\"frequency\": 328, \"value\": 1872}, \"1873\": {\"frequency\": 93, \"value\": 1873}, \"1874\": {\"frequency\": 481, \"value\": 1874}, \"1875\": {\"frequency\": 341, \"value\": 1875}, \"1876\": {\"frequency\": 243, \"value\": 1876}, \"1877\": {\"frequency\": 313, \"value\": 1877}, \"1878\": {\"frequency\": 353, \"value\": 1878}, \"1879\": {\"frequency\": 348, \"value\": 1879}, \"1880\": {\"frequency\": 343, \"value\": 1880}, \"1881\": {\"frequency\": 218, \"value\": 1881}, \"1882\": {\"frequency\": 473, \"value\": 1882}, \"1883\": {\"frequency\": 252, \"value\": 1883}, \"1884\": {\"frequency\": 446, \"value\": 1884}, \"1885\": {\"frequency\": 469, \"value\": 1885}, \"1886\": {\"frequency\": 342, \"value\": 1886}, \"1887\": {\"frequency\": 465, \"value\": 1887}, \"1888\": {\"frequency\": 350, \"value\": 1888}, \"1889\": {\"frequency\": 269, \"value\": 1889}, \"1890\": {\"frequency\": 145, \"value\": 1890}, \"1891\": {\"frequency\": 338, \"value\": 1891}, \"1892\": {\"frequency\": 167, \"value\": 1892}, \"1893\": {\"frequency\": 140, \"value\": 1893}, \"1894\": {\"frequency\": 264, \"value\": 1894}, \"1895\": {\"frequency\": 175, \"value\": 1895}, \"1896\": {\"frequency\": 297, \"value\": 1896}, \"1897\": {\"frequency\": 254, \"value\": 1897}, \"1898\": {\"frequency\": 341, \"value\": 1898}, \"1899\": {\"frequency\": 321, \"value\": 1899}, \"1900\": {\"frequency\": 279, \"value\": 1900}, \"1901\": {\"frequency\": 96, \"value\": 1901}, \"1902\": {\"frequency\": 324, \"value\": 1902}, \"1903\": {\"frequency\": 489, \"value\": 1903}, \"1904\": {\"frequency\": 213, \"value\": 1904}, \"1905\": {\"frequency\": 88, \"value\": 1905}, \"1906\": {\"frequency\": 339, \"value\": 1906}, \"1907\": {\"frequency\": 350, \"value\": 1907}, \"1908\": {\"frequency\": 98, \"value\": 1908}, \"1909\": {\"frequency\": 127, \"value\": 1909}, \"1910\": {\"frequency\": 105, \"value\": 1910}, \"1911\": {\"frequency\": 407, \"value\": 1911}, \"1912\": {\"frequency\": 469, \"value\": 1912}, \"1913\": {\"frequency\": 383, \"value\": 1913}, \"1914\": {\"frequency\": 148, \"value\": 1914}, \"1915\": {\"frequency\": 465, \"value\": 1915}, \"1916\": {\"frequency\": 137, \"value\": 1916}, \"1917\": {\"frequency\": 246, \"value\": 1917}, \"1918\": {\"frequency\": 298, \"value\": 1918}, \"1919\": {\"frequency\": 243, \"value\": 1919}, \"1920\": {\"frequency\": 346, \"value\": 1920}, \"1921\": {\"frequency\": 345, \"value\": 1921}, \"1922\": {\"frequency\": 354, \"value\": 1922}, \"1923\": {\"frequency\": 427, \"value\": 1923}, \"1924\": {\"frequency\": 481, \"value\": 1924}, \"1925\": {\"frequency\": 320, \"value\": 1925}, \"1926\": {\"frequency\": 433, \"value\": 1926}, \"1927\": {\"frequency\": 150, \"value\": 1927}, \"1928\": {\"frequency\": 490, \"value\": 1928}, \"1929\": {\"frequency\": 153, \"value\": 1929}, \"1930\": {\"frequency\": 196, \"value\": 1930}, \"1931\": {\"frequency\": 304, \"value\": 1931}, \"1932\": {\"frequency\": 98, \"value\": 1932}, \"1933\": {\"frequency\": 360, \"value\": 1933}, \"1934\": {\"frequency\": 485, \"value\": 1934}, \"1935\": {\"frequency\": 227, \"value\": 1935}, \"1936\": {\"frequency\": 468, \"value\": 1936}, \"1937\": {\"frequency\": 210, \"value\": 1937}, \"1938\": {\"frequency\": 351, \"value\": 1938}, \"1939\": {\"frequency\": 105, \"value\": 1939}, \"1940\": {\"frequency\": 429, \"value\": 1940}, \"1941\": {\"frequency\": 448, \"value\": 1941}, \"1942\": {\"frequency\": 479, \"value\": 1942}, \"1943\": {\"frequency\": 298, \"value\": 1943}, \"1944\": {\"frequency\": 339, \"value\": 1944}, \"1945\": {\"frequency\": 380, \"value\": 1945}, \"1946\": {\"frequency\": 148, \"value\": 1946}, \"1947\": {\"frequency\": 358, \"value\": 1947}, \"1948\": {\"frequency\": 339, \"value\": 1948}, \"1949\": {\"frequency\": 89, \"value\": 1949}, \"1950\": {\"frequency\": 331, \"value\": 1950}, \"1951\": {\"frequency\": 490, \"value\": 1951}, \"1952\": {\"frequency\": 319, \"value\": 1952}, \"1953\": {\"frequency\": 109, \"value\": 1953}, \"1954\": {\"frequency\": 332, \"value\": 1954}, \"1955\": {\"frequency\": 490, \"value\": 1955}, \"1956\": {\"frequency\": 347, \"value\": 1956}, \"1957\": {\"frequency\": 347, \"value\": 1957}, \"1958\": {\"frequency\": 225, \"value\": 1958}, \"1959\": {\"frequency\": 252, \"value\": 1959}, \"1960\": {\"frequency\": 387, \"value\": 1960}, \"1961\": {\"frequency\": 131, \"value\": 1961}, \"1962\": {\"frequency\": 225, \"value\": 1962}, \"1963\": {\"frequency\": 350, \"value\": 1963}, \"1964\": {\"frequency\": 135, \"value\": 1964}, \"1965\": {\"frequency\": 409, \"value\": 1965}, \"1966\": {\"frequency\": 88, \"value\": 1966}, \"1967\": {\"frequency\": 353, \"value\": 1967}, \"1968\": {\"frequency\": 187, \"value\": 1968}, \"1969\": {\"frequency\": 352, \"value\": 1969}, \"1970\": {\"frequency\": 352, \"value\": 1970}, \"1971\": {\"frequency\": 329, \"value\": 1971}, \"1972\": {\"frequency\": 358, \"value\": 1972}, \"1973\": {\"frequency\": 345, \"value\": 1973}, \"1974\": {\"frequency\": 332, \"value\": 1974}, \"1975\": {\"frequency\": 477, \"value\": 1975}, \"1976\": {\"frequency\": 416, \"value\": 1976}, \"1977\": {\"frequency\": 467, \"value\": 1977}, \"1978\": {\"frequency\": 179, \"value\": 1978}, \"1979\": {\"frequency\": 145, \"value\": 1979}, \"1980\": {\"frequency\": 375, \"value\": 1980}, \"1981\": {\"frequency\": 210, \"value\": 1981}, \"1982\": {\"frequency\": 130, \"value\": 1982}, \"1983\": {\"frequency\": 103, \"value\": 1983}, \"1984\": {\"frequency\": 126, \"value\": 1984}, \"1985\": {\"frequency\": 486, \"value\": 1985}, \"1986\": {\"frequency\": 439, \"value\": 1986}, \"1987\": {\"frequency\": 384, \"value\": 1987}, \"1988\": {\"frequency\": 327, \"value\": 1988}, \"1989\": {\"frequency\": 341, \"value\": 1989}, \"1990\": {\"frequency\": 476, \"value\": 1990}, \"1991\": {\"frequency\": 347, \"value\": 1991}, \"1992\": {\"frequency\": 299, \"value\": 1992}, \"1993\": {\"frequency\": 127, \"value\": 1993}, \"1994\": {\"frequency\": 483, \"value\": 1994}, \"1995\": {\"frequency\": 102, \"value\": 1995}, \"1996\": {\"frequency\": 104, \"value\": 1996}, \"1997\": {\"frequency\": 330, \"value\": 1997}, \"1998\": {\"frequency\": 266, \"value\": 1998}, \"1999\": {\"frequency\": 331, \"value\": 1999}, \"2000\": {\"frequency\": 175, \"value\": 2000}}, \"mean\": 1007.5833515497935}, \"date.year\": {\"std\": 0.38686978226022295, \"complete\": true, \"min\": 2015.0, \"max\": 2016.0, \"quantile\": [2015.0, 2015.0, 2015.0, 2015.0, 2015.0, 2015.0, 2015.0, 2015.0, 2015.0, 2015.0, 2015.0, 2015.0, 2015.0, 2015.0, 2015.0, 2015.0, 2015.0, 2015.0, 2015.0, 2016.0, 2016.0, 2016.0, 2016.0, 2016.0, 2016.0, 2016.0, 2016.0, 2016.0, 2016.0, 2016.0, 2016.0, 2016.0, 2016.0, 2016.0, 2016.0, 2016.0, 2016.0, 2016.0, 2016.0, 2016.0, 2016.0, 2016.0, 2016.0, 2016.0, 2016.0, 2016.0, 2016.0, 2016.0, 2016.0, 2016.0, 2016.0, 2016.0, 2016.0, 2016.0, 2016.0, 2016.0, 2016.0, 2016.0, 2016.0, 2016.0, 2016.0, 2016.0, 2016.0, 2016.0, 2016.0, 2016.0, 2016.0, 2016.0, 2016.0, 2016.0, 2016.0, 2016.0, 2016.0, 2016.0, 2016.0, 2016.0, 2016.0, 2016.0, 2016.0, 2016.0, 2016.0, 2016.0, 2016.0, 2016.0, 2016.0, 2016.0, 2016.0, 2016.0, 2016.0, 2016.0, 2016.0, 2016.0, 2016.0, 2016.0, 2016.0, 2016.0, 2016.0, 2016.0, 2016.0, 2016.0, 2016.0], \"median\": 2016.0, \"numeric\": true, \"num_unique\": 2, \"num_undefined\": 0, \"var\": 0.1496682284260723, \"progress\": 1.0, \"size\": 599275, \"frequent_items\": {\"2016\": {\"frequency\": 489459, \"value\": 2016}, \"2015\": {\"frequency\": 109816, \"value\": 2015}}, \"mean\": 2015.8167519085443}}, \"selected_variable\": {\"name\": [\"user_payg\"], \"descriptives\": {\"rows\": 599275, \"columns\": 6}, \"view_component\": \"Summary\", \"view_file\": \"sframe\", \"view_params\": {\"y\": null, \"x\": null, \"columns\": [\"date.day\", \"date.isoweekday\", \"date.month\", \"date.year\", \"shop_id\", \"count\"], \"view\": null}, \"view_components\": [\"Summary\", \"Table\", \"Bar Chart\", \"BoxWhisker Plot\", \"Line Chart\", \"Scatter Plot\", \"Heat Map\", \"Plots\"], \"type\": \"SFrame\", \"columns\": [{\"dtype\": \"int\", \"name\": \"date.day\"}, {\"dtype\": \"int\", \"name\": \"date.isoweekday\"}, {\"dtype\": \"int\", \"name\": \"date.month\"}, {\"dtype\": \"int\", \"name\": \"date.year\"}, {\"dtype\": \"int\", \"name\": \"shop_id\"}, {\"dtype\": \"int\", \"name\": \"count\"}], \"column_identifiers\": [\"count\", \"date.month\", \"date.isoweekday\", \"date.day\", \"shop_id\", \"date.year\"]}, \"columns\": [{\"dtype\": \"int\", \"name\": \"date.day\"}, {\"dtype\": \"int\", \"name\": \"date.isoweekday\"}, {\"dtype\": \"int\", \"name\": \"date.month\"}, {\"dtype\": \"int\", \"name\": \"date.year\"}, {\"dtype\": \"int\", \"name\": \"shop_id\"}, {\"dtype\": \"int\", \"name\": \"count\"}]}, e);\n",
       "                });\n",
       "            })();\n",
       "        "
      ]
     },
     "metadata": {},
     "output_type": "display_data"
    }
   ],
   "source": [
    "#gl.canvas.set_target('headless', port=5000)\n",
    "gl.canvas.set_target('ipynb')\n",
    "user_payg.show()"
   ]
  },
  {
   "cell_type": "code",
   "execution_count": 33,
   "metadata": {
    "collapsed": true
   },
   "outputs": [],
   "source": [
    "from graphlab.toolkits.feature_engineering import OneHotEncoder"
   ]
  },
  {
   "cell_type": "code",
   "execution_count": 35,
   "metadata": {
    "collapsed": true
   },
   "outputs": [],
   "source": [
    "encoder = graphlab.feature_engineering.create(user_payg,\n",
    "                    OneHotEncoder(features = ['date.day', 'date.isoweekday', 'date.month',\n",
    "                                             'date.year']))\n",
    "transformed_sf = encoder.transform(user_payg)"
   ]
  },
  {
   "cell_type": "code",
   "execution_count": 39,
   "metadata": {
    "collapsed": true
   },
   "outputs": [
    {
     "data": {
      "text/plain": [
       "<bound method SArray.dtype of dtype: dict\n",
       "Rows: 599275\n",
       "[{48: 1, 51: 1, 26: 1, 35: 1}, {48: 1, 33: 1, 51: 1, 29: 1}, {33: 1, 51: 1, 6: 1, 49: 1}, {34: 1, 51: 1, 13: 1, 45: 1}, {48: 1, 2: 1, 50: 1, 31: 1}, {32: 1, 40: 1, 50: 1, 6: 1}, {18: 1, 50: 1, 38: 1, 31: 1}, {35: 1, 11: 1, 46: 1, 51: 1}, {49: 1, 50: 1, 37: 1, 6: 1}, {43: 1, 35: 1, 4: 1, 51: 1}, {33: 1, 51: 1, 14: 1, 41: 1}, {41: 1, 51: 1, 12: 1, 37: 1}, {25: 1, 35: 1, 51: 1, 41: 1}, {51: 1, 47: 1, 13: 1, 31: 1}, {33: 1, 51: 1, 45: 1, 23: 1}, {51: 1, 35: 1, 22: 1, 47: 1}, {36: 1, 42: 1, 51: 1, 12: 1}, {41: 1, 34: 1, 51: 1, 15: 1}, {49: 1, 35: 1, 13: 1, 51: 1}, {40: 1, 17: 1, 50: 1, 33: 1}, {33: 1, 26: 1, 51: 1, 44: 1}, {9: 1, 51: 1, 45: 1, 33: 1}, {2: 1, 51: 1, 36: 1, 46: 1}, {51: 1, 47: 1, 13: 1, 31: 1}, {49: 1, 10: 1, 36: 1, 50: 1}, {41: 1, 26: 1, 51: 1, 37: 1}, {16: 1, 32: 1, 51: 1, 49: 1}, {49: 1, 18: 1, 51: 1, 37: 1}, {48: 1, 51: 1, 27: 1, 37: 1}, {48: 1, 10: 1, 51: 1, 36: 1}, {51: 1, 42: 1, 35: 1, 28: 1}, {33: 1, 51: 1, 14: 1, 41: 1}, {36: 1, 51: 1, 20: 1, 39: 1}, {25: 1, 35: 1, 51: 1, 41: 1}, {49: 1, 50: 1, 37: 1, 6: 1}, {33: 1, 51: 1, 46: 1, 14: 1}, {10: 1, 51: 1, 34: 1, 45: 1}, {32: 1, 43: 1, 3: 1, 51: 1}, {16: 1, 48: 1, 50: 1, 31: 1}, {49: 1, 50: 1, 31: 1, 7: 1}, {32: 1, 49: 1, 50: 1, 11: 1}, {48: 1, 51: 1, 31: 1, 7: 1}, {8: 1, 51: 1, 35: 1, 39: 1}, {51: 1, 37: 1, 30: 1, 39: 1}, {16: 1, 41: 1, 51: 1, 36: 1}, {45: 1, 51: 1, 21: 1, 37: 1}, {33: 1, 51: 1, 4: 1, 47: 1}, {48: 1, 51: 1, 26: 1, 35: 1}, {35: 1, 11: 1, 43: 1, 51: 1}, {24: 1, 32: 1, 51: 1, 41: 1}, {51: 1, 5: 1, 46: 1, 37: 1}, {8: 1, 50: 1, 36: 1, 47: 1}, {24: 1, 51: 1, 44: 1, 37: 1}, {17: 1, 47: 1, 51: 1, 31: 1}, {44: 1, 51: 1, 4: 1, 31: 1}, {48: 1, 51: 1, 31: 1, 7: 1}, {40: 1, 25: 1, 34: 1, 50: 1}, {49: 1, 51: 1, 36: 1, 15: 1}, {33: 1, 51: 1, 45: 1, 23: 1}, {45: 1, 51: 1, 29: 1, 31: 1}, {24: 1, 49: 1, 50: 1, 36: 1}, {16: 1, 42: 1, 51: 1, 31: 1}, {33: 1, 51: 1, 45: 1, 23: 1}, {48: 1, 51: 1, 31: 1, 7: 1}, {48: 1, 51: 1, 14: 1, 31: 1}, {33: 1, 51: 1, 12: 1, 44: 1}, {32: 1, 49: 1, 18: 1, 50: 1}, {48: 1, 51: 1, 14: 1, 31: 1}, {51: 1, 42: 1, 35: 1, 14: 1}, {1: 1, 43: 1, 51: 1, 31: 1}, {51: 1, 43: 1, 12: 1, 37: 1}, {34: 1, 51: 1, 29: 1, 46: 1}, {49: 1, 34: 1, 51: 1, 14: 1}, {50: 1, 36: 1, 29: 1, 47: 1}, {51: 1, 3: 1, 44: 1, 37: 1}, {51: 1, 2: 1, 43: 1, 36: 1}, {33: 1, 26: 1, 51: 1, 44: 1}, {33: 1, 42: 1, 51: 1, 13: 1}, {33: 1, 43: 1, 21: 1, 51: 1}, {49: 1, 34: 1, 51: 1, 21: 1}, {32: 1, 40: 1, 50: 1, 20: 1}, {51: 1, 2: 1, 43: 1, 36: 1}, {45: 1, 51: 1, 21: 1, 37: 1}, {24: 1, 51: 1, 44: 1, 37: 1}, {18: 1, 51: 1, 44: 1, 31: 1}, {25: 1, 50: 1, 36: 1, 46: 1}, {51: 1, 45: 1, 22: 1, 31: 1}, {49: 1, 51: 1, 36: 1, 22: 1}, {8: 1, 49: 1, 51: 1, 36: 1}, {48: 1, 34: 1, 51: 1, 23: 1}, {33: 1, 51: 1, 45: 1, 23: 1}, {32: 1, 48: 1, 11: 1, 51: 1}, {41: 1, 27: 1, 51: 1, 31: 1}, {33: 1, 51: 1, 20: 1, 49: 1}, {25: 1, 47: 1, 51: 1, 33: 1}, {48: 1, 33: 1, 51: 1, 29: 1}, {42: 1, 51: 1, 29: 1, 37: 1}, {25: 1, 51: 1, 36: 1, 45: 1}, {34: 1, 51: 1, 4: 1, 42: 1}, {24: 1, 32: 1, 51: 1, 41: 1}, ... ]>"
      ]
     },
     "execution_count": 39,
     "metadata": {},
     "output_type": "execute_result"
    }
   ],
   "source": [
    "transformed_sf['encoded_features'].dtype"
   ]
  },
  {
   "cell_type": "code",
   "execution_count": 42,
   "metadata": {
    "collapsed": false
   },
   "outputs": [
    {
     "data": {
      "text/plain": [
       "(599275, 6)"
      ]
     },
     "execution_count": 42,
     "metadata": {},
     "output_type": "execute_result"
    }
   ],
   "source": [
    "user_payg.shape"
   ]
  },
  {
   "cell_type": "code",
   "execution_count": 44,
   "metadata": {
    "collapsed": false
   },
   "outputs": [
    {
     "data": {
      "text/html": [
       "<pre>Finished parsing file /home/ubuntu/koubei/dataset/shop_info.txt</pre>"
      ],
      "text/plain": [
       "Finished parsing file /home/ubuntu/koubei/dataset/shop_info.txt"
      ]
     },
     "metadata": {},
     "output_type": "display_data"
    },
    {
     "data": {
      "text/html": [
       "<pre>Parsing completed. Parsed 100 lines in 0.021244 secs.</pre>"
      ],
      "text/plain": [
       "Parsing completed. Parsed 100 lines in 0.021244 secs."
      ]
     },
     "metadata": {},
     "output_type": "display_data"
    },
    {
     "data": {
      "text/html": [
       "<pre>Finished parsing file /home/ubuntu/koubei/dataset/shop_info.txt</pre>"
      ],
      "text/plain": [
       "Finished parsing file /home/ubuntu/koubei/dataset/shop_info.txt"
      ]
     },
     "metadata": {},
     "output_type": "display_data"
    },
    {
     "data": {
      "text/html": [
       "<pre>Parsing completed. Parsed 2000 lines in 0.017463 secs.</pre>"
      ],
      "text/plain": [
       "Parsing completed. Parsed 2000 lines in 0.017463 secs."
      ]
     },
     "metadata": {},
     "output_type": "display_data"
    },
    {
     "name": "stdout",
     "output_type": "stream",
     "text": [
      "------------------------------------------------------\n",
      "Inferred types from first 100 line(s) of file as \n",
      "column_type_hints=[int,str,int,int,int,int,int,str,str,str]\n",
      "If parsing fails due to incorrect types, you can correct\n",
      "the inferred type list above and pass it to read_csv in\n",
      "the column_type_hints argument\n",
      "------------------------------------------------------\n"
     ]
    }
   ],
   "source": [
    "shop_sf = gl.SFrame.read_csv('shop_info.txt',header=None).\\\n",
    "rename({'X1':'shop_id', 'X2': 'city_name', 'X3': 'location_id',\\\n",
    "       'X4':'per_pay', 'X5':'score', 'X6':'comment_cnt',\\\n",
    "       'X7':'shop_level', 'X8':'cate_1_name',\\\n",
    "        'X9':'cate_2_name', 'X10':'cate_3_name'})"
   ]
  },
  {
   "cell_type": "code",
   "execution_count": null,
   "metadata": {
    "collapsed": true
   },
   "outputs": [],
   "source": [
    "shop_sf['location_id'].unique()"
   ]
  },
  {
   "cell_type": "code",
   "execution_count": null,
   "metadata": {
    "collapsed": true
   },
   "outputs": [],
   "source": [
    "user_payg.add_columns([])"
   ]
  },
  {
   "cell_type": "code",
   "execution_count": 61,
   "metadata": {
    "collapsed": true
   },
   "outputs": [
    {
     "data": {
      "text/html": [
       "<div style=\"max-height:1000px;max-width:1500px;overflow:auto;\"><table frame=\"box\" rules=\"cols\">\n",
       "    <tr>\n",
       "        <th style=\"padding-left: 1em; padding-right: 1em; text-align: center\">shop_id</th>\n",
       "        <th style=\"padding-left: 1em; padding-right: 1em; text-align: center\">city_name</th>\n",
       "        <th style=\"padding-left: 1em; padding-right: 1em; text-align: center\">location_id</th>\n",
       "        <th style=\"padding-left: 1em; padding-right: 1em; text-align: center\">per_pay</th>\n",
       "        <th style=\"padding-left: 1em; padding-right: 1em; text-align: center\">score</th>\n",
       "        <th style=\"padding-left: 1em; padding-right: 1em; text-align: center\">comment_cnt</th>\n",
       "        <th style=\"padding-left: 1em; padding-right: 1em; text-align: center\">shop_level</th>\n",
       "        <th style=\"padding-left: 1em; padding-right: 1em; text-align: center\">cate_1_name</th>\n",
       "        <th style=\"padding-left: 1em; padding-right: 1em; text-align: center\">cate_2_name</th>\n",
       "    </tr>\n",
       "    <tr>\n",
       "        <td style=\"padding-left: 1em; padding-right: 1em; text-align: center; vertical-align: top\">1</td>\n",
       "        <td style=\"padding-left: 1em; padding-right: 1em; text-align: center; vertical-align: top\">湖州</td>\n",
       "        <td style=\"padding-left: 1em; padding-right: 1em; text-align: center; vertical-align: top\">885</td>\n",
       "        <td style=\"padding-left: 1em; padding-right: 1em; text-align: center; vertical-align: top\">8</td>\n",
       "        <td style=\"padding-left: 1em; padding-right: 1em; text-align: center; vertical-align: top\">4</td>\n",
       "        <td style=\"padding-left: 1em; padding-right: 1em; text-align: center; vertical-align: top\">12</td>\n",
       "        <td style=\"padding-left: 1em; padding-right: 1em; text-align: center; vertical-align: top\">2</td>\n",
       "        <td style=\"padding-left: 1em; padding-right: 1em; text-align: center; vertical-align: top\">美食</td>\n",
       "        <td style=\"padding-left: 1em; padding-right: 1em; text-align: center; vertical-align: top\">休闲茶饮</td>\n",
       "    </tr>\n",
       "    <tr>\n",
       "        <td style=\"padding-left: 1em; padding-right: 1em; text-align: center; vertical-align: top\">2</td>\n",
       "        <td style=\"padding-left: 1em; padding-right: 1em; text-align: center; vertical-align: top\">哈尔滨</td>\n",
       "        <td style=\"padding-left: 1em; padding-right: 1em; text-align: center; vertical-align: top\">64</td>\n",
       "        <td style=\"padding-left: 1em; padding-right: 1em; text-align: center; vertical-align: top\">19</td>\n",
       "        <td style=\"padding-left: 1em; padding-right: 1em; text-align: center; vertical-align: top\">None</td>\n",
       "        <td style=\"padding-left: 1em; padding-right: 1em; text-align: center; vertical-align: top\">None</td>\n",
       "        <td style=\"padding-left: 1em; padding-right: 1em; text-align: center; vertical-align: top\">1</td>\n",
       "        <td style=\"padding-left: 1em; padding-right: 1em; text-align: center; vertical-align: top\">超市便利店</td>\n",
       "        <td style=\"padding-left: 1em; padding-right: 1em; text-align: center; vertical-align: top\">超市</td>\n",
       "    </tr>\n",
       "    <tr>\n",
       "        <td style=\"padding-left: 1em; padding-right: 1em; text-align: center; vertical-align: top\">3</td>\n",
       "        <td style=\"padding-left: 1em; padding-right: 1em; text-align: center; vertical-align: top\">南昌</td>\n",
       "        <td style=\"padding-left: 1em; padding-right: 1em; text-align: center; vertical-align: top\">774</td>\n",
       "        <td style=\"padding-left: 1em; padding-right: 1em; text-align: center; vertical-align: top\">5</td>\n",
       "        <td style=\"padding-left: 1em; padding-right: 1em; text-align: center; vertical-align: top\">3</td>\n",
       "        <td style=\"padding-left: 1em; padding-right: 1em; text-align: center; vertical-align: top\">2</td>\n",
       "        <td style=\"padding-left: 1em; padding-right: 1em; text-align: center; vertical-align: top\">0</td>\n",
       "        <td style=\"padding-left: 1em; padding-right: 1em; text-align: center; vertical-align: top\">美食</td>\n",
       "        <td style=\"padding-left: 1em; padding-right: 1em; text-align: center; vertical-align: top\">休闲茶饮</td>\n",
       "    </tr>\n",
       "    <tr>\n",
       "        <td style=\"padding-left: 1em; padding-right: 1em; text-align: center; vertical-align: top\">4</td>\n",
       "        <td style=\"padding-left: 1em; padding-right: 1em; text-align: center; vertical-align: top\">天津</td>\n",
       "        <td style=\"padding-left: 1em; padding-right: 1em; text-align: center; vertical-align: top\">380</td>\n",
       "        <td style=\"padding-left: 1em; padding-right: 1em; text-align: center; vertical-align: top\">18</td>\n",
       "        <td style=\"padding-left: 1em; padding-right: 1em; text-align: center; vertical-align: top\">None</td>\n",
       "        <td style=\"padding-left: 1em; padding-right: 1em; text-align: center; vertical-align: top\">None</td>\n",
       "        <td style=\"padding-left: 1em; padding-right: 1em; text-align: center; vertical-align: top\">1</td>\n",
       "        <td style=\"padding-left: 1em; padding-right: 1em; text-align: center; vertical-align: top\">超市便利店</td>\n",
       "        <td style=\"padding-left: 1em; padding-right: 1em; text-align: center; vertical-align: top\">超市</td>\n",
       "    </tr>\n",
       "    <tr>\n",
       "        <td style=\"padding-left: 1em; padding-right: 1em; text-align: center; vertical-align: top\">5</td>\n",
       "        <td style=\"padding-left: 1em; padding-right: 1em; text-align: center; vertical-align: top\">杭州</td>\n",
       "        <td style=\"padding-left: 1em; padding-right: 1em; text-align: center; vertical-align: top\">263</td>\n",
       "        <td style=\"padding-left: 1em; padding-right: 1em; text-align: center; vertical-align: top\">2</td>\n",
       "        <td style=\"padding-left: 1em; padding-right: 1em; text-align: center; vertical-align: top\">2</td>\n",
       "        <td style=\"padding-left: 1em; padding-right: 1em; text-align: center; vertical-align: top\">2</td>\n",
       "        <td style=\"padding-left: 1em; padding-right: 1em; text-align: center; vertical-align: top\">0</td>\n",
       "        <td style=\"padding-left: 1em; padding-right: 1em; text-align: center; vertical-align: top\">美食</td>\n",
       "        <td style=\"padding-left: 1em; padding-right: 1em; text-align: center; vertical-align: top\">休闲食品</td>\n",
       "    </tr>\n",
       "    <tr>\n",
       "        <td style=\"padding-left: 1em; padding-right: 1em; text-align: center; vertical-align: top\">6</td>\n",
       "        <td style=\"padding-left: 1em; padding-right: 1em; text-align: center; vertical-align: top\">大连</td>\n",
       "        <td style=\"padding-left: 1em; padding-right: 1em; text-align: center; vertical-align: top\">1139</td>\n",
       "        <td style=\"padding-left: 1em; padding-right: 1em; text-align: center; vertical-align: top\">13</td>\n",
       "        <td style=\"padding-left: 1em; padding-right: 1em; text-align: center; vertical-align: top\">3</td>\n",
       "        <td style=\"padding-left: 1em; padding-right: 1em; text-align: center; vertical-align: top\">1</td>\n",
       "        <td style=\"padding-left: 1em; padding-right: 1em; text-align: center; vertical-align: top\">0</td>\n",
       "        <td style=\"padding-left: 1em; padding-right: 1em; text-align: center; vertical-align: top\">美食</td>\n",
       "        <td style=\"padding-left: 1em; padding-right: 1em; text-align: center; vertical-align: top\">烘焙糕点</td>\n",
       "    </tr>\n",
       "    <tr>\n",
       "        <td style=\"padding-left: 1em; padding-right: 1em; text-align: center; vertical-align: top\">7</td>\n",
       "        <td style=\"padding-left: 1em; padding-right: 1em; text-align: center; vertical-align: top\">绍兴</td>\n",
       "        <td style=\"padding-left: 1em; padding-right: 1em; text-align: center; vertical-align: top\">145</td>\n",
       "        <td style=\"padding-left: 1em; padding-right: 1em; text-align: center; vertical-align: top\">13</td>\n",
       "        <td style=\"padding-left: 1em; padding-right: 1em; text-align: center; vertical-align: top\">3</td>\n",
       "        <td style=\"padding-left: 1em; padding-right: 1em; text-align: center; vertical-align: top\">9</td>\n",
       "        <td style=\"padding-left: 1em; padding-right: 1em; text-align: center; vertical-align: top\">2</td>\n",
       "        <td style=\"padding-left: 1em; padding-right: 1em; text-align: center; vertical-align: top\">美食</td>\n",
       "        <td style=\"padding-left: 1em; padding-right: 1em; text-align: center; vertical-align: top\">快餐</td>\n",
       "    </tr>\n",
       "    <tr>\n",
       "        <td style=\"padding-left: 1em; padding-right: 1em; text-align: center; vertical-align: top\">8</td>\n",
       "        <td style=\"padding-left: 1em; padding-right: 1em; text-align: center; vertical-align: top\">杭州</td>\n",
       "        <td style=\"padding-left: 1em; padding-right: 1em; text-align: center; vertical-align: top\">234</td>\n",
       "        <td style=\"padding-left: 1em; padding-right: 1em; text-align: center; vertical-align: top\">16</td>\n",
       "        <td style=\"padding-left: 1em; padding-right: 1em; text-align: center; vertical-align: top\">3</td>\n",
       "        <td style=\"padding-left: 1em; padding-right: 1em; text-align: center; vertical-align: top\">1</td>\n",
       "        <td style=\"padding-left: 1em; padding-right: 1em; text-align: center; vertical-align: top\">0</td>\n",
       "        <td style=\"padding-left: 1em; padding-right: 1em; text-align: center; vertical-align: top\">美食</td>\n",
       "        <td style=\"padding-left: 1em; padding-right: 1em; text-align: center; vertical-align: top\">休闲食品</td>\n",
       "    </tr>\n",
       "    <tr>\n",
       "        <td style=\"padding-left: 1em; padding-right: 1em; text-align: center; vertical-align: top\">9</td>\n",
       "        <td style=\"padding-left: 1em; padding-right: 1em; text-align: center; vertical-align: top\">杭州</td>\n",
       "        <td style=\"padding-left: 1em; padding-right: 1em; text-align: center; vertical-align: top\">1120</td>\n",
       "        <td style=\"padding-left: 1em; padding-right: 1em; text-align: center; vertical-align: top\">15</td>\n",
       "        <td style=\"padding-left: 1em; padding-right: 1em; text-align: center; vertical-align: top\">4</td>\n",
       "        <td style=\"padding-left: 1em; padding-right: 1em; text-align: center; vertical-align: top\">0</td>\n",
       "        <td style=\"padding-left: 1em; padding-right: 1em; text-align: center; vertical-align: top\">1</td>\n",
       "        <td style=\"padding-left: 1em; padding-right: 1em; text-align: center; vertical-align: top\">超市便利店</td>\n",
       "        <td style=\"padding-left: 1em; padding-right: 1em; text-align: center; vertical-align: top\">超市</td>\n",
       "    </tr>\n",
       "    <tr>\n",
       "        <td style=\"padding-left: 1em; padding-right: 1em; text-align: center; vertical-align: top\">10</td>\n",
       "        <td style=\"padding-left: 1em; padding-right: 1em; text-align: center; vertical-align: top\">孝感</td>\n",
       "        <td style=\"padding-left: 1em; padding-right: 1em; text-align: center; vertical-align: top\">98</td>\n",
       "        <td style=\"padding-left: 1em; padding-right: 1em; text-align: center; vertical-align: top\">10</td>\n",
       "        <td style=\"padding-left: 1em; padding-right: 1em; text-align: center; vertical-align: top\">None</td>\n",
       "        <td style=\"padding-left: 1em; padding-right: 1em; text-align: center; vertical-align: top\">None</td>\n",
       "        <td style=\"padding-left: 1em; padding-right: 1em; text-align: center; vertical-align: top\">0</td>\n",
       "        <td style=\"padding-left: 1em; padding-right: 1em; text-align: center; vertical-align: top\">超市便利店</td>\n",
       "        <td style=\"padding-left: 1em; padding-right: 1em; text-align: center; vertical-align: top\">超市</td>\n",
       "    </tr>\n",
       "</table>\n",
       "<table frame=\"box\" rules=\"cols\">\n",
       "    <tr>\n",
       "        <th style=\"padding-left: 1em; padding-right: 1em; text-align: center\">cate_3_name</th>\n",
       "    </tr>\n",
       "    <tr>\n",
       "        <td style=\"padding-left: 1em; padding-right: 1em; text-align: center; vertical-align: top\">饮品/甜点</td>\n",
       "    </tr>\n",
       "    <tr>\n",
       "        <td style=\"padding-left: 1em; padding-right: 1em; text-align: center; vertical-align: top\"></td>\n",
       "    </tr>\n",
       "    <tr>\n",
       "        <td style=\"padding-left: 1em; padding-right: 1em; text-align: center; vertical-align: top\">奶茶</td>\n",
       "    </tr>\n",
       "    <tr>\n",
       "        <td style=\"padding-left: 1em; padding-right: 1em; text-align: center; vertical-align: top\"></td>\n",
       "    </tr>\n",
       "    <tr>\n",
       "        <td style=\"padding-left: 1em; padding-right: 1em; text-align: center; vertical-align: top\">生鲜水果</td>\n",
       "    </tr>\n",
       "    <tr>\n",
       "        <td style=\"padding-left: 1em; padding-right: 1em; text-align: center; vertical-align: top\">面包</td>\n",
       "    </tr>\n",
       "    <tr>\n",
       "        <td style=\"padding-left: 1em; padding-right: 1em; text-align: center; vertical-align: top\">西式快餐</td>\n",
       "    </tr>\n",
       "    <tr>\n",
       "        <td style=\"padding-left: 1em; padding-right: 1em; text-align: center; vertical-align: top\">生鲜水果</td>\n",
       "    </tr>\n",
       "    <tr>\n",
       "        <td style=\"padding-left: 1em; padding-right: 1em; text-align: center; vertical-align: top\"></td>\n",
       "    </tr>\n",
       "    <tr>\n",
       "        <td style=\"padding-left: 1em; padding-right: 1em; text-align: center; vertical-align: top\"></td>\n",
       "    </tr>\n",
       "</table>\n",
       "[10 rows x 10 columns]<br/>\n",
       "</div>"
      ],
      "text/plain": [
       "Columns:\n",
       "\tshop_id\tint\n",
       "\tcity_name\tstr\n",
       "\tlocation_id\tint\n",
       "\tper_pay\tint\n",
       "\tscore\tint\n",
       "\tcomment_cnt\tint\n",
       "\tshop_level\tint\n",
       "\tcate_1_name\tstr\n",
       "\tcate_2_name\tstr\n",
       "\tcate_3_name\tstr\n",
       "\n",
       "Rows: 10\n",
       "\n",
       "Data:\n",
       "+---------+-----------+-------------+---------+-------+-------------+------------+\n",
       "| shop_id | city_name | location_id | per_pay | score | comment_cnt | shop_level |\n",
       "+---------+-----------+-------------+---------+-------+-------------+------------+\n",
       "|    1    |    湖州   |     885     |    8    |   4   |      12     |     2      |\n",
       "|    2    |   哈尔滨  |      64     |    19   |  None |     None    |     1      |\n",
       "|    3    |    南昌   |     774     |    5    |   3   |      2      |     0      |\n",
       "|    4    |    天津   |     380     |    18   |  None |     None    |     1      |\n",
       "|    5    |    杭州   |     263     |    2    |   2   |      2      |     0      |\n",
       "|    6    |    大连   |     1139    |    13   |   3   |      1      |     0      |\n",
       "|    7    |    绍兴   |     145     |    13   |   3   |      9      |     2      |\n",
       "|    8    |    杭州   |     234     |    16   |   3   |      1      |     0      |\n",
       "|    9    |    杭州   |     1120    |    15   |   4   |      0      |     1      |\n",
       "|    10   |    孝感   |      98     |    10   |  None |     None    |     0      |\n",
       "+---------+-----------+-------------+---------+-------+-------------+------------+\n",
       "+-------------+-------------+-------------+\n",
       "| cate_1_name | cate_2_name | cate_3_name |\n",
       "+-------------+-------------+-------------+\n",
       "|     美食    |   休闲茶饮  |  饮品/甜点  |\n",
       "|  超市便利店 |     超市    |             |\n",
       "|     美食    |   休闲茶饮  |     奶茶    |\n",
       "|  超市便利店 |     超市    |             |\n",
       "|     美食    |   休闲食品  |   生鲜水果  |\n",
       "|     美食    |   烘焙糕点  |     面包    |\n",
       "|     美食    |     快餐    |   西式快餐  |\n",
       "|     美食    |   休闲食品  |   生鲜水果  |\n",
       "|  超市便利店 |     超市    |             |\n",
       "|  超市便利店 |     超市    |             |\n",
       "+-------------+-------------+-------------+\n",
       "[10 rows x 10 columns]"
      ]
     },
     "execution_count": 61,
     "metadata": {},
     "output_type": "execute_result"
    }
   ],
   "source": [
    "shop_sf.head()"
   ]
  },
  {
   "cell_type": "code",
   "execution_count": 59,
   "metadata": {
    "collapsed": true
   },
   "outputs": [
    {
     "ename": "KeyboardInterrupt",
     "evalue": "",
     "output_type": "error",
     "traceback": [
      "\u001b[1;31m---------------------------------------------------------------------------\u001b[0m",
      "\u001b[1;31mKeyboardInterrupt\u001b[0m                         Traceback (most recent call last)",
      "\u001b[1;32m<ipython-input-59-f508ade7ca87>\u001b[0m in \u001b[0;36m<module>\u001b[1;34m()\u001b[0m\n\u001b[0;32m      1\u001b[0m \u001b[1;32mfor\u001b[0m \u001b[0mi\u001b[0m \u001b[1;32min\u001b[0m \u001b[0mrange\u001b[0m\u001b[1;33m(\u001b[0m\u001b[0mlen\u001b[0m\u001b[1;33m(\u001b[0m\u001b[0muser_payg\u001b[0m\u001b[1;33m)\u001b[0m\u001b[1;33m)\u001b[0m\u001b[1;33m:\u001b[0m\u001b[1;33m\u001b[0m\u001b[0m\n\u001b[1;32m----> 2\u001b[1;33m                \u001b[0mcity_user_payg\u001b[0m \u001b[1;33m=\u001b[0m \u001b[0mshop_sf\u001b[0m\u001b[1;33m[\u001b[0m\u001b[0mshop_sf\u001b[0m\u001b[1;33m[\u001b[0m\u001b[1;34m'shop_id'\u001b[0m\u001b[1;33m]\u001b[0m\u001b[1;33m==\u001b[0m\u001b[0muser_payg\u001b[0m\u001b[1;33m[\u001b[0m\u001b[1;34m'shop_id'\u001b[0m\u001b[1;33m]\u001b[0m\u001b[1;33m[\u001b[0m\u001b[0mi\u001b[0m\u001b[1;33m]\u001b[0m\u001b[1;33m]\u001b[0m\u001b[1;33m[\u001b[0m\u001b[1;34m'city_name'\u001b[0m\u001b[1;33m]\u001b[0m\u001b[1;33m\u001b[0m\u001b[0m\n\u001b[0m",
      "\u001b[1;32m/opt/anaconda/anaconda2/lib/python2.7/site-packages/graphlab/data_structures/sarray.pyc\u001b[0m in \u001b[0;36m__getitem__\u001b[1;34m(self, other)\u001b[0m\n\u001b[0;32m   1235\u001b[0m             \u001b[0mub\u001b[0m \u001b[1;33m=\u001b[0m \u001b[0mmin\u001b[0m\u001b[1;33m(\u001b[0m\u001b[0msa_len\u001b[0m\u001b[1;33m,\u001b[0m \u001b[0mlb\u001b[0m \u001b[1;33m+\u001b[0m \u001b[0mblock_size\u001b[0m\u001b[1;33m)\u001b[0m\u001b[1;33m\u001b[0m\u001b[0m\n\u001b[0;32m   1236\u001b[0m \u001b[1;33m\u001b[0m\u001b[0m\n\u001b[1;32m-> 1237\u001b[1;33m             \u001b[0mval_list\u001b[0m \u001b[1;33m=\u001b[0m \u001b[0mlist\u001b[0m\u001b[1;33m(\u001b[0m\u001b[0mSArray\u001b[0m\u001b[1;33m(\u001b[0m\u001b[0m_proxy\u001b[0m \u001b[1;33m=\u001b[0m \u001b[0mself\u001b[0m\u001b[1;33m.\u001b[0m\u001b[0m__proxy__\u001b[0m\u001b[1;33m.\u001b[0m\u001b[0mcopy_range\u001b[0m\u001b[1;33m(\u001b[0m\u001b[0mlb\u001b[0m\u001b[1;33m,\u001b[0m \u001b[1;36m1\u001b[0m\u001b[1;33m,\u001b[0m \u001b[0mub\u001b[0m\u001b[1;33m)\u001b[0m\u001b[1;33m)\u001b[0m\u001b[1;33m)\u001b[0m\u001b[1;33m\u001b[0m\u001b[0m\n\u001b[0m\u001b[0;32m   1238\u001b[0m             \u001b[0mself\u001b[0m\u001b[1;33m.\u001b[0m\u001b[0m_getitem_cache\u001b[0m \u001b[1;33m=\u001b[0m \u001b[1;33m(\u001b[0m\u001b[0mlb\u001b[0m\u001b[1;33m,\u001b[0m \u001b[0mub\u001b[0m\u001b[1;33m,\u001b[0m \u001b[0mval_list\u001b[0m\u001b[1;33m)\u001b[0m\u001b[1;33m\u001b[0m\u001b[0m\n\u001b[0;32m   1239\u001b[0m             \u001b[1;32mreturn\u001b[0m \u001b[0mval_list\u001b[0m\u001b[1;33m[\u001b[0m\u001b[0mother\u001b[0m \u001b[1;33m-\u001b[0m \u001b[0mlb\u001b[0m\u001b[1;33m]\u001b[0m\u001b[1;33m\u001b[0m\u001b[0m\n",
      "\u001b[1;32m/opt/anaconda/anaconda2/lib/python2.7/site-packages/graphlab/data_structures/sarray.pyc\u001b[0m in \u001b[0;36mgenerator\u001b[1;34m()\u001b[0m\n\u001b[0;32m    775\u001b[0m             \u001b[0melems_at_a_time\u001b[0m \u001b[1;33m=\u001b[0m \u001b[1;36m262144\u001b[0m\u001b[1;33m\u001b[0m\u001b[0m\n\u001b[0;32m    776\u001b[0m             \u001b[0mself\u001b[0m\u001b[1;33m.\u001b[0m\u001b[0m__proxy__\u001b[0m\u001b[1;33m.\u001b[0m\u001b[0mbegin_iterator\u001b[0m\u001b[1;33m(\u001b[0m\u001b[1;33m)\u001b[0m\u001b[1;33m\u001b[0m\u001b[0m\n\u001b[1;32m--> 777\u001b[1;33m             \u001b[0mret\u001b[0m \u001b[1;33m=\u001b[0m \u001b[0mself\u001b[0m\u001b[1;33m.\u001b[0m\u001b[0m__proxy__\u001b[0m\u001b[1;33m.\u001b[0m\u001b[0miterator_get_next\u001b[0m\u001b[1;33m(\u001b[0m\u001b[0melems_at_a_time\u001b[0m\u001b[1;33m)\u001b[0m\u001b[1;33m\u001b[0m\u001b[0m\n\u001b[0m\u001b[0;32m    778\u001b[0m             \u001b[1;32mwhile\u001b[0m\u001b[1;33m(\u001b[0m\u001b[0mTrue\u001b[0m\u001b[1;33m)\u001b[0m\u001b[1;33m:\u001b[0m\u001b[1;33m\u001b[0m\u001b[0m\n\u001b[0;32m    779\u001b[0m                 \u001b[1;32mfor\u001b[0m \u001b[0mj\u001b[0m \u001b[1;32min\u001b[0m \u001b[0mret\u001b[0m\u001b[1;33m:\u001b[0m\u001b[1;33m\u001b[0m\u001b[0m\n",
      "\u001b[1;31mKeyboardInterrupt\u001b[0m: "
     ]
    }
   ],
   "source": [
    "for i in range(len(user_payg)):\n",
    "               city_user_payg = shop_sf[shop_sf['shop_id']==user_payg['shop_id'][i]]['city_name']"
   ]
  },
  {
   "cell_type": "code",
   "execution_count": 68,
   "metadata": {
    "collapsed": false
   },
   "outputs": [
    {
     "data": {
      "text/html": [
       "<div style=\"max-height:1000px;max-width:1500px;overflow:auto;\"><table frame=\"box\" rules=\"cols\">\n",
       "    <tr>\n",
       "        <th style=\"padding-left: 1em; padding-right: 1em; text-align: center\">date.day</th>\n",
       "        <th style=\"padding-left: 1em; padding-right: 1em; text-align: center\">date.isoweekday</th>\n",
       "        <th style=\"padding-left: 1em; padding-right: 1em; text-align: center\">date.month</th>\n",
       "        <th style=\"padding-left: 1em; padding-right: 1em; text-align: center\">date.year</th>\n",
       "        <th style=\"padding-left: 1em; padding-right: 1em; text-align: center\">shop_id</th>\n",
       "        <th style=\"padding-left: 1em; padding-right: 1em; text-align: center\">count</th>\n",
       "    </tr>\n",
       "    <tr>\n",
       "        <td style=\"padding-left: 1em; padding-right: 1em; text-align: center; vertical-align: top\">25</td>\n",
       "        <td style=\"padding-left: 1em; padding-right: 1em; text-align: center; vertical-align: top\">7</td>\n",
       "        <td style=\"padding-left: 1em; padding-right: 1em; text-align: center; vertical-align: top\">9</td>\n",
       "        <td style=\"padding-left: 1em; padding-right: 1em; text-align: center; vertical-align: top\">2016</td>\n",
       "        <td style=\"padding-left: 1em; padding-right: 1em; text-align: center; vertical-align: top\">1230</td>\n",
       "        <td style=\"padding-left: 1em; padding-right: 1em; text-align: center; vertical-align: top\">81</td>\n",
       "    </tr>\n",
       "    <tr>\n",
       "        <td style=\"padding-left: 1em; padding-right: 1em; text-align: center; vertical-align: top\">28</td>\n",
       "        <td style=\"padding-left: 1em; padding-right: 1em; text-align: center; vertical-align: top\">3</td>\n",
       "        <td style=\"padding-left: 1em; padding-right: 1em; text-align: center; vertical-align: top\">9</td>\n",
       "        <td style=\"padding-left: 1em; padding-right: 1em; text-align: center; vertical-align: top\">2016</td>\n",
       "        <td style=\"padding-left: 1em; padding-right: 1em; text-align: center; vertical-align: top\">1989</td>\n",
       "        <td style=\"padding-left: 1em; padding-right: 1em; text-align: center; vertical-align: top\">76</td>\n",
       "    </tr>\n",
       "    <tr>\n",
       "        <td style=\"padding-left: 1em; padding-right: 1em; text-align: center; vertical-align: top\">5</td>\n",
       "        <td style=\"padding-left: 1em; padding-right: 1em; text-align: center; vertical-align: top\">3</td>\n",
       "        <td style=\"padding-left: 1em; padding-right: 1em; text-align: center; vertical-align: top\">10</td>\n",
       "        <td style=\"padding-left: 1em; padding-right: 1em; text-align: center; vertical-align: top\">2016</td>\n",
       "        <td style=\"padding-left: 1em; padding-right: 1em; text-align: center; vertical-align: top\">1712</td>\n",
       "        <td style=\"padding-left: 1em; padding-right: 1em; text-align: center; vertical-align: top\">63</td>\n",
       "    </tr>\n",
       "    <tr>\n",
       "        <td style=\"padding-left: 1em; padding-right: 1em; text-align: center; vertical-align: top\">30</td>\n",
       "        <td style=\"padding-left: 1em; padding-right: 1em; text-align: center; vertical-align: top\">4</td>\n",
       "        <td style=\"padding-left: 1em; padding-right: 1em; text-align: center; vertical-align: top\">6</td>\n",
       "        <td style=\"padding-left: 1em; padding-right: 1em; text-align: center; vertical-align: top\">2016</td>\n",
       "        <td style=\"padding-left: 1em; padding-right: 1em; text-align: center; vertical-align: top\">349</td>\n",
       "        <td style=\"padding-left: 1em; padding-right: 1em; text-align: center; vertical-align: top\">48</td>\n",
       "    </tr>\n",
       "    <tr>\n",
       "        <td style=\"padding-left: 1em; padding-right: 1em; text-align: center; vertical-align: top\">1</td>\n",
       "        <td style=\"padding-left: 1em; padding-right: 1em; text-align: center; vertical-align: top\">2</td>\n",
       "        <td style=\"padding-left: 1em; padding-right: 1em; text-align: center; vertical-align: top\">9</td>\n",
       "        <td style=\"padding-left: 1em; padding-right: 1em; text-align: center; vertical-align: top\">2015</td>\n",
       "        <td style=\"padding-left: 1em; padding-right: 1em; text-align: center; vertical-align: top\">1291</td>\n",
       "        <td style=\"padding-left: 1em; padding-right: 1em; text-align: center; vertical-align: top\">29</td>\n",
       "    </tr>\n",
       "    <tr>\n",
       "        <td style=\"padding-left: 1em; padding-right: 1em; text-align: center; vertical-align: top\">5</td>\n",
       "        <td style=\"padding-left: 1em; padding-right: 1em; text-align: center; vertical-align: top\">6</td>\n",
       "        <td style=\"padding-left: 1em; padding-right: 1em; text-align: center; vertical-align: top\">12</td>\n",
       "        <td style=\"padding-left: 1em; padding-right: 1em; text-align: center; vertical-align: top\">2015</td>\n",
       "        <td style=\"padding-left: 1em; padding-right: 1em; text-align: center; vertical-align: top\">241</td>\n",
       "        <td style=\"padding-left: 1em; padding-right: 1em; text-align: center; vertical-align: top\">52</td>\n",
       "    </tr>\n",
       "    <tr>\n",
       "        <td style=\"padding-left: 1em; padding-right: 1em; text-align: center; vertical-align: top\">17</td>\n",
       "        <td style=\"padding-left: 1em; padding-right: 1em; text-align: center; vertical-align: top\">2</td>\n",
       "        <td style=\"padding-left: 1em; padding-right: 1em; text-align: center; vertical-align: top\">11</td>\n",
       "        <td style=\"padding-left: 1em; padding-right: 1em; text-align: center; vertical-align: top\">2015</td>\n",
       "        <td style=\"padding-left: 1em; padding-right: 1em; text-align: center; vertical-align: top\">1748</td>\n",
       "        <td style=\"padding-left: 1em; padding-right: 1em; text-align: center; vertical-align: top\">57</td>\n",
       "    </tr>\n",
       "    <tr>\n",
       "        <td style=\"padding-left: 1em; padding-right: 1em; text-align: center; vertical-align: top\">10</td>\n",
       "        <td style=\"padding-left: 1em; padding-right: 1em; text-align: center; vertical-align: top\">7</td>\n",
       "        <td style=\"padding-left: 1em; padding-right: 1em; text-align: center; vertical-align: top\">7</td>\n",
       "        <td style=\"padding-left: 1em; padding-right: 1em; text-align: center; vertical-align: top\">2016</td>\n",
       "        <td style=\"padding-left: 1em; padding-right: 1em; text-align: center; vertical-align: top\">1473</td>\n",
       "        <td style=\"padding-left: 1em; padding-right: 1em; text-align: center; vertical-align: top\">52</td>\n",
       "    </tr>\n",
       "    <tr>\n",
       "        <td style=\"padding-left: 1em; padding-right: 1em; text-align: center; vertical-align: top\">5</td>\n",
       "        <td style=\"padding-left: 1em; padding-right: 1em; text-align: center; vertical-align: top\">1</td>\n",
       "        <td style=\"padding-left: 1em; padding-right: 1em; text-align: center; vertical-align: top\">10</td>\n",
       "        <td style=\"padding-left: 1em; padding-right: 1em; text-align: center; vertical-align: top\">2015</td>\n",
       "        <td style=\"padding-left: 1em; padding-right: 1em; text-align: center; vertical-align: top\">681</td>\n",
       "        <td style=\"padding-left: 1em; padding-right: 1em; text-align: center; vertical-align: top\">13</td>\n",
       "    </tr>\n",
       "    <tr>\n",
       "        <td style=\"padding-left: 1em; padding-right: 1em; text-align: center; vertical-align: top\">3</td>\n",
       "        <td style=\"padding-left: 1em; padding-right: 1em; text-align: center; vertical-align: top\">7</td>\n",
       "        <td style=\"padding-left: 1em; padding-right: 1em; text-align: center; vertical-align: top\">4</td>\n",
       "        <td style=\"padding-left: 1em; padding-right: 1em; text-align: center; vertical-align: top\">2016</td>\n",
       "        <td style=\"padding-left: 1em; padding-right: 1em; text-align: center; vertical-align: top\">1154</td>\n",
       "        <td style=\"padding-left: 1em; padding-right: 1em; text-align: center; vertical-align: top\">65</td>\n",
       "    </tr>\n",
       "</table>\n",
       "[10 rows x 6 columns]<br/>\n",
       "</div>"
      ],
      "text/plain": [
       "Columns:\n",
       "\tdate.day\tint\n",
       "\tdate.isoweekday\tint\n",
       "\tdate.month\tint\n",
       "\tdate.year\tint\n",
       "\tshop_id\tint\n",
       "\tcount\tint\n",
       "\n",
       "Rows: 10\n",
       "\n",
       "Data:\n",
       "+----------+-----------------+------------+-----------+---------+-------+\n",
       "| date.day | date.isoweekday | date.month | date.year | shop_id | count |\n",
       "+----------+-----------------+------------+-----------+---------+-------+\n",
       "|    25    |        7        |     9      |    2016   |   1230  |   81  |\n",
       "|    28    |        3        |     9      |    2016   |   1989  |   76  |\n",
       "|    5     |        3        |     10     |    2016   |   1712  |   63  |\n",
       "|    30    |        4        |     6      |    2016   |   349   |   48  |\n",
       "|    1     |        2        |     9      |    2015   |   1291  |   29  |\n",
       "|    5     |        6        |     12     |    2015   |   241   |   52  |\n",
       "|    17    |        2        |     11     |    2015   |   1748  |   57  |\n",
       "|    10    |        7        |     7      |    2016   |   1473  |   52  |\n",
       "|    5     |        1        |     10     |    2015   |   681   |   13  |\n",
       "|    3     |        7        |     4      |    2016   |   1154  |   65  |\n",
       "+----------+-----------------+------------+-----------+---------+-------+\n",
       "[10 rows x 6 columns]"
      ]
     },
     "execution_count": 68,
     "metadata": {},
     "output_type": "execute_result"
    }
   ],
   "source": [
    "user_payg.head()"
   ]
  },
  {
   "cell_type": "code",
   "execution_count": 69,
   "metadata": {
    "collapsed": true
   },
   "outputs": [],
   "source": [
    "user_payg.save('user_payg.csv', format = 'csv')"
   ]
  },
  {
   "cell_type": "code",
   "execution_count": 70,
   "metadata": {
    "collapsed": false
   },
   "outputs": [
    {
     "data": {
      "text/plain": [
       "dtype: str\n",
       "Rows: 6\n",
       "['超市便利店', '购物', '休闲娱乐', '医疗健康', '美食', '美发/美容/美甲']"
      ]
     },
     "execution_count": 70,
     "metadata": {},
     "output_type": "execute_result"
    }
   ],
   "source": [
    "shop_sf['cate_1_name'].unique()"
   ]
  },
  {
   "cell_type": "code",
   "execution_count": 71,
   "metadata": {
    "collapsed": false
   },
   "outputs": [
    {
     "data": {
      "text/plain": [
       "dtype: str\n",
       "Rows: 17\n",
       "['超市', '休闲茶饮', '其他美食', '美容美发', '药店', '快餐', '便利店', '火锅', '本地购物', '网吧网咖', '烧烤', '烘焙糕点', '个人护理', '中餐', '休闲食品', '汤/粥/煲/砂锅/炖菜', '小吃']"
      ]
     },
     "execution_count": 71,
     "metadata": {},
     "output_type": "execute_result"
    }
   ],
   "source": [
    "shop_sf['cate_2_name'].unique()"
   ]
  },
  {
   "cell_type": "code",
   "execution_count": 73,
   "metadata": {
    "collapsed": false
   },
   "outputs": [
    {
     "name": "stdout",
     "output_type": "stream",
     "text": [
      "None\n"
     ]
    }
   ],
   "source": [
    "for i in shop_sf['cate_1_name'].unique():\n",
    "    for j in shop_sf['cate_2_name'].unique():\n",
    "        if i == j:\n",
    "            print i \n",
    "print \"None\""
   ]
  },
  {
   "cell_type": "code",
   "execution_count": 74,
   "metadata": {
    "collapsed": false
   },
   "outputs": [
    {
     "data": {
      "text/plain": [
       "dtype: int\n",
       "Rows: 20\n",
       "[13, 2, 8, 15, 14, 20, 19, 5, 12, 16, 4, 3, 1, 10, 9, 7, 6, 11, 18, 17]"
      ]
     },
     "execution_count": 74,
     "metadata": {},
     "output_type": "execute_result"
    }
   ],
   "source": [
    "shop_sf['per_pay'].unique()"
   ]
  },
  {
   "cell_type": "code",
   "execution_count": null,
   "metadata": {
    "collapsed": true
   },
   "outputs": [],
   "source": []
  }
 ],
 "metadata": {
  "kernelspec": {
   "display_name": "Python 2",
   "language": "python",
   "name": "python2"
  },
  "language_info": {
   "codemirror_mode": {
    "name": "ipython",
    "version": 2
   },
   "file_extension": ".py",
   "mimetype": "text/x-python",
   "name": "python",
   "nbconvert_exporter": "python",
   "pygments_lexer": "ipython2",
   "version": "2.7.11"
  }
 },
 "nbformat": 4,
 "nbformat_minor": 0
}
