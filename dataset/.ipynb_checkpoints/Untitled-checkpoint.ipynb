{
 "cells": [
  {
   "cell_type": "code",
   "execution_count": 21,
   "metadata": {
    "collapsed": true
   },
   "outputs": [],
   "source": [
    "import pandas as pd\n",
    "import numpy as np"
   ]
  },
  {
   "cell_type": "code",
   "execution_count": 46,
   "metadata": {
    "collapsed": false
   },
   "outputs": [],
   "source": [
    "user_payg = pd.read_csv('/home/ubuntu/koubei/user_payg.csv')"
   ]
  },
  {
   "cell_type": "code",
   "execution_count": 47,
   "metadata": {
    "collapsed": false
   },
   "outputs": [
    {
     "data": {
      "text/html": [
       "<div>\n",
       "<table border=\"1\" class=\"dataframe\">\n",
       "  <thead>\n",
       "    <tr style=\"text-align: right;\">\n",
       "      <th></th>\n",
       "      <th>date.day</th>\n",
       "      <th>date.isoweekday</th>\n",
       "      <th>date.month</th>\n",
       "      <th>date.year</th>\n",
       "      <th>shop_id</th>\n",
       "      <th>count</th>\n",
       "    </tr>\n",
       "  </thead>\n",
       "  <tbody>\n",
       "    <tr>\n",
       "      <th>0</th>\n",
       "      <td>30</td>\n",
       "      <td>7</td>\n",
       "      <td>10</td>\n",
       "      <td>2016</td>\n",
       "      <td>544</td>\n",
       "      <td>221</td>\n",
       "    </tr>\n",
       "    <tr>\n",
       "      <th>1</th>\n",
       "      <td>30</td>\n",
       "      <td>2</td>\n",
       "      <td>8</td>\n",
       "      <td>2016</td>\n",
       "      <td>810</td>\n",
       "      <td>125</td>\n",
       "    </tr>\n",
       "    <tr>\n",
       "      <th>2</th>\n",
       "      <td>7</td>\n",
       "      <td>5</td>\n",
       "      <td>10</td>\n",
       "      <td>2016</td>\n",
       "      <td>163</td>\n",
       "      <td>91</td>\n",
       "    </tr>\n",
       "    <tr>\n",
       "      <th>3</th>\n",
       "      <td>10</td>\n",
       "      <td>6</td>\n",
       "      <td>9</td>\n",
       "      <td>2016</td>\n",
       "      <td>1977</td>\n",
       "      <td>137</td>\n",
       "    </tr>\n",
       "    <tr>\n",
       "      <th>4</th>\n",
       "      <td>10</td>\n",
       "      <td>7</td>\n",
       "      <td>4</td>\n",
       "      <td>2016</td>\n",
       "      <td>746</td>\n",
       "      <td>68</td>\n",
       "    </tr>\n",
       "  </tbody>\n",
       "</table>\n",
       "</div>"
      ],
      "text/plain": [
       "   date.day  date.isoweekday  date.month  date.year  shop_id  count\n",
       "0        30                7          10       2016      544    221\n",
       "1        30                2           8       2016      810    125\n",
       "2         7                5          10       2016      163     91\n",
       "3        10                6           9       2016     1977    137\n",
       "4        10                7           4       2016      746     68"
      ]
     },
     "execution_count": 47,
     "metadata": {},
     "output_type": "execute_result"
    }
   ],
   "source": [
    "user_payg.head()"
   ]
  },
  {
   "cell_type": "code",
   "execution_count": 51,
   "metadata": {
    "collapsed": false
   },
   "outputs": [],
   "source": [
    "shop_pd = pd.read_csv('dataset/shop_info.txt', header=None,encoding='utf-8')\n"
   ]
  },
  {
   "cell_type": "code",
   "execution_count": 52,
   "metadata": {
    "collapsed": false
   },
   "outputs": [],
   "source": [
    "shop_pd.columns = ['shop_id','city_name','location_id',\n",
    "                   'per_pay','score', 'comment_cnt','shop_level','cate_1_name',\n",
    "                   'cate_2_name','cate_3_name']"
   ]
  },
  {
   "cell_type": "code",
   "execution_count": 53,
   "metadata": {
    "collapsed": false
   },
   "outputs": [
    {
     "data": {
      "text/html": [
       "<div>\n",
       "<table border=\"1\" class=\"dataframe\">\n",
       "  <thead>\n",
       "    <tr style=\"text-align: right;\">\n",
       "      <th></th>\n",
       "      <th>shop_id</th>\n",
       "      <th>city_name</th>\n",
       "      <th>location_id</th>\n",
       "      <th>per_pay</th>\n",
       "      <th>score</th>\n",
       "      <th>comment_cnt</th>\n",
       "      <th>shop_level</th>\n",
       "      <th>cate_1_name</th>\n",
       "      <th>cate_2_name</th>\n",
       "      <th>cate_3_name</th>\n",
       "    </tr>\n",
       "  </thead>\n",
       "  <tbody>\n",
       "    <tr>\n",
       "      <th>0</th>\n",
       "      <td>1</td>\n",
       "      <td>湖州</td>\n",
       "      <td>885</td>\n",
       "      <td>8</td>\n",
       "      <td>4</td>\n",
       "      <td>12</td>\n",
       "      <td>2</td>\n",
       "      <td>美食</td>\n",
       "      <td>休闲茶饮</td>\n",
       "      <td>饮品/甜点</td>\n",
       "    </tr>\n",
       "    <tr>\n",
       "      <th>1</th>\n",
       "      <td>2</td>\n",
       "      <td>哈尔滨</td>\n",
       "      <td>64</td>\n",
       "      <td>19</td>\n",
       "      <td>NaN</td>\n",
       "      <td>NaN</td>\n",
       "      <td>1</td>\n",
       "      <td>超市便利店</td>\n",
       "      <td>超市</td>\n",
       "      <td>NaN</td>\n",
       "    </tr>\n",
       "    <tr>\n",
       "      <th>2</th>\n",
       "      <td>3</td>\n",
       "      <td>南昌</td>\n",
       "      <td>774</td>\n",
       "      <td>5</td>\n",
       "      <td>3</td>\n",
       "      <td>2</td>\n",
       "      <td>0</td>\n",
       "      <td>美食</td>\n",
       "      <td>休闲茶饮</td>\n",
       "      <td>奶茶</td>\n",
       "    </tr>\n",
       "    <tr>\n",
       "      <th>3</th>\n",
       "      <td>4</td>\n",
       "      <td>天津</td>\n",
       "      <td>380</td>\n",
       "      <td>18</td>\n",
       "      <td>NaN</td>\n",
       "      <td>NaN</td>\n",
       "      <td>1</td>\n",
       "      <td>超市便利店</td>\n",
       "      <td>超市</td>\n",
       "      <td>NaN</td>\n",
       "    </tr>\n",
       "    <tr>\n",
       "      <th>4</th>\n",
       "      <td>5</td>\n",
       "      <td>杭州</td>\n",
       "      <td>263</td>\n",
       "      <td>2</td>\n",
       "      <td>2</td>\n",
       "      <td>2</td>\n",
       "      <td>0</td>\n",
       "      <td>美食</td>\n",
       "      <td>休闲食品</td>\n",
       "      <td>生鲜水果</td>\n",
       "    </tr>\n",
       "  </tbody>\n",
       "</table>\n",
       "</div>"
      ],
      "text/plain": [
       "   shop_id city_name  location_id  per_pay  score  comment_cnt  shop_level  \\\n",
       "0        1        湖州          885        8      4           12           2   \n",
       "1        2       哈尔滨           64       19    NaN          NaN           1   \n",
       "2        3        南昌          774        5      3            2           0   \n",
       "3        4        天津          380       18    NaN          NaN           1   \n",
       "4        5        杭州          263        2      2            2           0   \n",
       "\n",
       "  cate_1_name cate_2_name cate_3_name  \n",
       "0          美食        休闲茶饮       饮品/甜点  \n",
       "1       超市便利店          超市         NaN  \n",
       "2          美食        休闲茶饮          奶茶  \n",
       "3       超市便利店          超市         NaN  \n",
       "4          美食        休闲食品        生鲜水果  "
      ]
     },
     "execution_count": 53,
     "metadata": {},
     "output_type": "execute_result"
    }
   ],
   "source": [
    "shop_pd.head()"
   ]
  },
  {
   "cell_type": "code",
   "execution_count": 54,
   "metadata": {
    "collapsed": false
   },
   "outputs": [],
   "source": [
    "result = pd.merge(user_payg, shop_pd, how='left', on='shop_id')"
   ]
  },
  {
   "cell_type": "code",
   "execution_count": 55,
   "metadata": {
    "collapsed": false
   },
   "outputs": [
    {
     "data": {
      "text/plain": [
       "date.day                0\n",
       "date.isoweekday         0\n",
       "date.month              0\n",
       "date.year               0\n",
       "shop_id                 0\n",
       "count                   0\n",
       "city_name               0\n",
       "location_id             0\n",
       "per_pay                 0\n",
       "score               53167\n",
       "comment_cnt         53167\n",
       "shop_level              0\n",
       "cate_1_name             0\n",
       "cate_2_name             0\n",
       "cate_3_name        141766\n",
       "dtype: int64"
      ]
     },
     "execution_count": 55,
     "metadata": {},
     "output_type": "execute_result"
    }
   ],
   "source": [
    "result.isnull().sum()"
   ]
  },
  {
   "cell_type": "code",
   "execution_count": 56,
   "metadata": {
    "collapsed": true
   },
   "outputs": [],
   "source": [
    "result.drop(['location_id', 'comment_cnt', 'score', 'cate_3_name'], axis=1, inplace=True)"
   ]
  },
  {
   "cell_type": "code",
   "execution_count": 57,
   "metadata": {
    "collapsed": false
   },
   "outputs": [
    {
     "data": {
      "text/html": [
       "<div>\n",
       "<table border=\"1\" class=\"dataframe\">\n",
       "  <thead>\n",
       "    <tr style=\"text-align: right;\">\n",
       "      <th></th>\n",
       "      <th>date.day</th>\n",
       "      <th>date.isoweekday</th>\n",
       "      <th>date.month</th>\n",
       "      <th>date.year</th>\n",
       "      <th>shop_id</th>\n",
       "      <th>count</th>\n",
       "      <th>city_name</th>\n",
       "      <th>per_pay</th>\n",
       "      <th>shop_level</th>\n",
       "      <th>cate_1_name</th>\n",
       "      <th>cate_2_name</th>\n",
       "    </tr>\n",
       "  </thead>\n",
       "  <tbody>\n",
       "    <tr>\n",
       "      <th>0</th>\n",
       "      <td>30</td>\n",
       "      <td>7</td>\n",
       "      <td>10</td>\n",
       "      <td>2016</td>\n",
       "      <td>544</td>\n",
       "      <td>221</td>\n",
       "      <td>绍兴</td>\n",
       "      <td>10</td>\n",
       "      <td>0</td>\n",
       "      <td>美食</td>\n",
       "      <td>小吃</td>\n",
       "    </tr>\n",
       "    <tr>\n",
       "      <th>1</th>\n",
       "      <td>30</td>\n",
       "      <td>2</td>\n",
       "      <td>8</td>\n",
       "      <td>2016</td>\n",
       "      <td>810</td>\n",
       "      <td>125</td>\n",
       "      <td>北京</td>\n",
       "      <td>9</td>\n",
       "      <td>0</td>\n",
       "      <td>美食</td>\n",
       "      <td>快餐</td>\n",
       "    </tr>\n",
       "    <tr>\n",
       "      <th>2</th>\n",
       "      <td>7</td>\n",
       "      <td>5</td>\n",
       "      <td>10</td>\n",
       "      <td>2016</td>\n",
       "      <td>163</td>\n",
       "      <td>91</td>\n",
       "      <td>杭州</td>\n",
       "      <td>17</td>\n",
       "      <td>0</td>\n",
       "      <td>超市便利店</td>\n",
       "      <td>超市</td>\n",
       "    </tr>\n",
       "    <tr>\n",
       "      <th>3</th>\n",
       "      <td>10</td>\n",
       "      <td>6</td>\n",
       "      <td>9</td>\n",
       "      <td>2016</td>\n",
       "      <td>1977</td>\n",
       "      <td>137</td>\n",
       "      <td>南昌</td>\n",
       "      <td>6</td>\n",
       "      <td>0</td>\n",
       "      <td>美食</td>\n",
       "      <td>快餐</td>\n",
       "    </tr>\n",
       "    <tr>\n",
       "      <th>4</th>\n",
       "      <td>10</td>\n",
       "      <td>7</td>\n",
       "      <td>4</td>\n",
       "      <td>2016</td>\n",
       "      <td>746</td>\n",
       "      <td>68</td>\n",
       "      <td>广州</td>\n",
       "      <td>9</td>\n",
       "      <td>2</td>\n",
       "      <td>美食</td>\n",
       "      <td>快餐</td>\n",
       "    </tr>\n",
       "    <tr>\n",
       "      <th>5</th>\n",
       "      <td>30</td>\n",
       "      <td>3</td>\n",
       "      <td>12</td>\n",
       "      <td>2015</td>\n",
       "      <td>731</td>\n",
       "      <td>907</td>\n",
       "      <td>广州</td>\n",
       "      <td>1</td>\n",
       "      <td>1</td>\n",
       "      <td>超市便利店</td>\n",
       "      <td>便利店</td>\n",
       "    </tr>\n",
       "    <tr>\n",
       "      <th>6</th>\n",
       "      <td>21</td>\n",
       "      <td>3</td>\n",
       "      <td>9</td>\n",
       "      <td>2016</td>\n",
       "      <td>563</td>\n",
       "      <td>41</td>\n",
       "      <td>龙岩</td>\n",
       "      <td>10</td>\n",
       "      <td>2</td>\n",
       "      <td>美食</td>\n",
       "      <td>快餐</td>\n",
       "    </tr>\n",
       "    <tr>\n",
       "      <th>7</th>\n",
       "      <td>22</td>\n",
       "      <td>2</td>\n",
       "      <td>12</td>\n",
       "      <td>2015</td>\n",
       "      <td>324</td>\n",
       "      <td>47</td>\n",
       "      <td>杭州</td>\n",
       "      <td>10</td>\n",
       "      <td>0</td>\n",
       "      <td>美食</td>\n",
       "      <td>休闲食品</td>\n",
       "    </tr>\n",
       "    <tr>\n",
       "      <th>8</th>\n",
       "      <td>8</td>\n",
       "      <td>3</td>\n",
       "      <td>6</td>\n",
       "      <td>2016</td>\n",
       "      <td>1200</td>\n",
       "      <td>57</td>\n",
       "      <td>温州</td>\n",
       "      <td>5</td>\n",
       "      <td>1</td>\n",
       "      <td>超市便利店</td>\n",
       "      <td>便利店</td>\n",
       "    </tr>\n",
       "    <tr>\n",
       "      <th>9</th>\n",
       "      <td>7</td>\n",
       "      <td>6</td>\n",
       "      <td>5</td>\n",
       "      <td>2016</td>\n",
       "      <td>1978</td>\n",
       "      <td>11</td>\n",
       "      <td>南京</td>\n",
       "      <td>8</td>\n",
       "      <td>0</td>\n",
       "      <td>美食</td>\n",
       "      <td>烘焙糕点</td>\n",
       "    </tr>\n",
       "  </tbody>\n",
       "</table>\n",
       "</div>"
      ],
      "text/plain": [
       "   date.day  date.isoweekday  date.month  date.year  shop_id  count city_name  \\\n",
       "0        30                7          10       2016      544    221        绍兴   \n",
       "1        30                2           8       2016      810    125        北京   \n",
       "2         7                5          10       2016      163     91        杭州   \n",
       "3        10                6           9       2016     1977    137        南昌   \n",
       "4        10                7           4       2016      746     68        广州   \n",
       "5        30                3          12       2015      731    907        广州   \n",
       "6        21                3           9       2016      563     41        龙岩   \n",
       "7        22                2          12       2015      324     47        杭州   \n",
       "8         8                3           6       2016     1200     57        温州   \n",
       "9         7                6           5       2016     1978     11        南京   \n",
       "\n",
       "   per_pay  shop_level cate_1_name cate_2_name  \n",
       "0       10           0          美食          小吃  \n",
       "1        9           0          美食          快餐  \n",
       "2       17           0       超市便利店          超市  \n",
       "3        6           0          美食          快餐  \n",
       "4        9           2          美食          快餐  \n",
       "5        1           1       超市便利店         便利店  \n",
       "6       10           2          美食          快餐  \n",
       "7       10           0          美食        休闲食品  \n",
       "8        5           1       超市便利店         便利店  \n",
       "9        8           0          美食        烘焙糕点  "
      ]
     },
     "execution_count": 57,
     "metadata": {},
     "output_type": "execute_result"
    }
   ],
   "source": [
    "result.head(10)"
   ]
  },
  {
   "cell_type": "code",
   "execution_count": 31,
   "metadata": {
    "collapsed": true
   },
   "outputs": [],
   "source": [
    "dummy_fields = ['date.day', 'date.isoweekday', 'date.month','date.year', \n",
    "                'city_name','per_pay','shop_level','cate_1_name','cate_2_name']\n",
    "#'date.day', 'date.isoweekday', 'date.month', \n",
    "for each in dummy_fields:\n",
    "    dummies = pd.get_dummies(result[each], prefix=each)\n",
    "    result = pd.concat([result, dummies], axis=1)"
   ]
  },
  {
   "cell_type": "code",
   "execution_count": 32,
   "metadata": {
    "collapsed": false
   },
   "outputs": [
    {
     "data": {
      "text/plain": [
       "(555315, 226)"
      ]
     },
     "execution_count": 32,
     "metadata": {},
     "output_type": "execute_result"
    }
   ],
   "source": [
    "result.shape"
   ]
  },
  {
   "cell_type": "code",
   "execution_count": 33,
   "metadata": {
    "collapsed": false
   },
   "outputs": [
    {
     "name": "stdout",
     "output_type": "stream",
     "text": [
      "date.day\n",
      "date.isoweekday\n",
      "date.month\n",
      "date.year\n",
      "shop_id\n",
      "count\n",
      "city_name\n",
      "per_pay\n",
      "shop_level\n",
      "cate_1_name\n",
      "cate_2_name\n",
      "date.day_1\n",
      "date.day_2\n",
      "date.day_3\n",
      "date.day_4\n",
      "date.day_5\n",
      "date.day_6\n",
      "date.day_7\n",
      "date.day_8\n",
      "date.day_9\n",
      "date.day_10\n",
      "date.day_11\n",
      "date.day_12\n",
      "date.day_13\n",
      "date.day_14\n",
      "date.day_15\n",
      "date.day_16\n",
      "date.day_17\n",
      "date.day_18\n",
      "date.day_19\n",
      "date.day_20\n",
      "date.day_21\n",
      "date.day_22\n",
      "date.day_23\n",
      "date.day_24\n",
      "date.day_25\n",
      "date.day_26\n",
      "date.day_27\n",
      "date.day_28\n",
      "date.day_29\n",
      "date.day_30\n",
      "date.day_31\n",
      "date.isoweekday_1\n",
      "date.isoweekday_2\n",
      "date.isoweekday_3\n",
      "date.isoweekday_4\n",
      "date.isoweekday_5\n",
      "date.isoweekday_6\n",
      "date.isoweekday_7\n",
      "date.month_1\n",
      "date.month_2\n",
      "date.month_3\n",
      "date.month_4\n",
      "date.month_5\n",
      "date.month_6\n",
      "date.month_7\n",
      "date.month_8\n",
      "date.month_9\n",
      "date.month_10\n",
      "date.month_11\n",
      "date.month_12\n",
      "date.year_2015\n",
      "date.year_2016\n",
      "city_name_三亚\n",
      "city_name_三明\n",
      "city_name_上海\n",
      "city_name_上饶\n",
      "city_name_东莞\n",
      "city_name_东营\n",
      "city_name_中山\n",
      "city_name_丽水\n",
      "city_name_乐山\n",
      "city_name_佛山\n",
      "city_name_保定\n",
      "city_name_信阳\n",
      "city_name_六安\n",
      "city_name_北京\n",
      "city_name_十堰\n",
      "city_name_南京\n",
      "city_name_南宁\n",
      "city_name_南平\n",
      "city_name_南昌\n",
      "city_name_南通\n",
      "city_name_厦门\n",
      "city_name_台州\n",
      "city_name_合肥\n",
      "city_name_咸宁\n",
      "city_name_哈尔滨\n",
      "city_name_嘉兴\n",
      "city_name_大连\n",
      "city_name_天津\n",
      "city_name_天门\n",
      "city_name_太原\n",
      "city_name_威海\n",
      "city_name_孝感\n",
      "city_name_宁德\n",
      "city_name_宁波\n",
      "city_name_安康\n",
      "city_name_宜昌\n",
      "city_name_宝鸡\n",
      "city_name_宿迁\n",
      "city_name_常州\n",
      "city_name_广州\n",
      "city_name_廊坊\n",
      "city_name_张家口\n",
      "city_name_徐州\n",
      "city_name_德阳\n",
      "city_name_思茅\n",
      "city_name_惠州\n",
      "city_name_成都\n",
      "city_name_扬州\n",
      "city_name_抚顺\n",
      "city_name_无锡\n",
      "city_name_日照\n",
      "city_name_昆明\n",
      "city_name_杭州\n",
      "city_name_柳州\n",
      "city_name_株洲\n",
      "city_name_梧州\n",
      "city_name_武汉\n",
      "city_name_汉中\n",
      "city_name_汕尾\n",
      "city_name_江门\n",
      "city_name_沈阳\n",
      "city_name_泉州\n",
      "city_name_泰州\n",
      "city_name_洛阳\n",
      "city_name_济南\n",
      "city_name_济宁\n",
      "city_name_淮安\n",
      "city_name_深圳\n",
      "city_name_清远\n",
      "city_name_温州\n",
      "city_name_湖州\n",
      "city_name_湛江\n",
      "city_name_漳州\n",
      "city_name_潍坊\n",
      "city_name_濮阳\n",
      "city_name_烟台\n",
      "city_name_珠海\n",
      "city_name_盐城\n",
      "city_name_石家庄\n",
      "city_name_石河子\n",
      "city_name_福州\n",
      "city_name_绍兴\n",
      "city_name_绵阳\n",
      "city_name_聊城\n",
      "city_name_肇庆\n",
      "city_name_自贡\n",
      "city_name_舟山\n",
      "city_name_芜湖\n",
      "city_name_苏州\n",
      "city_name_荆州\n",
      "city_name_荆门\n",
      "city_name_莆田\n",
      "city_name_营口\n",
      "city_name_葫芦岛\n",
      "city_name_蚌埠\n",
      "city_name_衢州\n",
      "city_name_襄阳\n",
      "city_name_西安\n",
      "city_name_贵阳\n",
      "city_name_辽阳\n",
      "city_name_达州\n",
      "city_name_通辽\n",
      "city_name_邢台\n",
      "city_name_邯郸\n",
      "city_name_郑州\n",
      "city_name_重庆\n",
      "city_name_金华\n",
      "city_name_铜陵\n",
      "city_name_锦州\n",
      "city_name_镇江\n",
      "city_name_长沙\n",
      "city_name_长治\n",
      "city_name_阜阳\n",
      "city_name_阳江\n",
      "city_name_青岛\n",
      "city_name_黄冈\n",
      "city_name_黄山\n",
      "city_name_黄石\n",
      "city_name_龙岩\n",
      "per_pay_1\n",
      "per_pay_2\n",
      "per_pay_3\n",
      "per_pay_4\n",
      "per_pay_5\n",
      "per_pay_6\n",
      "per_pay_7\n",
      "per_pay_8\n",
      "per_pay_9\n",
      "per_pay_10\n",
      "per_pay_11\n",
      "per_pay_12\n",
      "per_pay_13\n",
      "per_pay_14\n",
      "per_pay_15\n",
      "per_pay_16\n",
      "per_pay_17\n",
      "per_pay_18\n",
      "per_pay_19\n",
      "per_pay_20\n",
      "shop_level_0\n",
      "shop_level_1\n",
      "shop_level_2\n",
      "cate_1_name_休闲娱乐\n",
      "cate_1_name_医疗健康\n",
      "cate_1_name_美食\n",
      "cate_1_name_购物\n",
      "cate_1_name_超市便利店\n",
      "cate_2_name_个人护理\n",
      "cate_2_name_中餐\n",
      "cate_2_name_休闲茶饮\n",
      "cate_2_name_休闲食品\n",
      "cate_2_name_便利店\n",
      "cate_2_name_其他美食\n",
      "cate_2_name_小吃\n",
      "cate_2_name_快餐\n",
      "cate_2_name_本地购物\n",
      "cate_2_name_汤/粥/煲/砂锅/炖菜\n",
      "cate_2_name_火锅\n",
      "cate_2_name_烘焙糕点\n",
      "cate_2_name_烧烤\n",
      "cate_2_name_网吧网咖\n",
      "cate_2_name_药店\n",
      "cate_2_name_超市\n"
     ]
    }
   ],
   "source": [
    "for i in result.columns: print i"
   ]
  },
  {
   "cell_type": "code",
   "execution_count": 34,
   "metadata": {
    "collapsed": false
   },
   "outputs": [],
   "source": [
    "result.drop(dummy_fields, axis=1, inplace=True)"
   ]
  },
  {
   "cell_type": "code",
   "execution_count": 35,
   "metadata": {
    "collapsed": false
   },
   "outputs": [
    {
     "data": {
      "text/plain": [
       "(555315, 217)"
      ]
     },
     "execution_count": 35,
     "metadata": {},
     "output_type": "execute_result"
    }
   ],
   "source": [
    "result.shape"
   ]
  },
  {
   "cell_type": "code",
   "execution_count": 36,
   "metadata": {
    "collapsed": false
   },
   "outputs": [
    {
     "data": {
      "text/plain": [
       "'shop_id = np.arange(1,2001, 1)\\nates_pred = np.concatenate((d1, d2, d3, d4, d5,\\n                      d6, d7, d8, d9, d10,\\n                      d11, d12, d13, d14))'"
      ]
     },
     "execution_count": 36,
     "metadata": {},
     "output_type": "execute_result"
    }
   ],
   "source": [
    "\"\"\"shop_id = np.arange(1,2001, 1)\n",
    "ates_pred = np.concatenate((d1, d2, d3, d4, d5,\n",
    "                      d6, d7, d8, d9, d10,\n",
    "                      d11, d12, d13, d14))\"\"\""
   ]
  },
  {
   "cell_type": "code",
   "execution_count": 37,
   "metadata": {
    "collapsed": false
   },
   "outputs": [
    {
     "data": {
      "text/plain": [
       "1854"
      ]
     },
     "execution_count": 37,
     "metadata": {},
     "output_type": "execute_result"
    }
   ],
   "source": [
    "n = []\n",
    "for i in set(result.shop_id):\n",
    "    n.append(i)\n",
    "len(n)"
   ]
  },
  {
   "cell_type": "code",
   "execution_count": 63,
   "metadata": {
    "collapsed": false,
    "scrolled": true
   },
   "outputs": [
    {
     "data": {
      "text/plain": [
       "[u'\\u6dee\\u5317', u'\\u54b8\\u9633', u'\\u7389\\u6797']"
      ]
     },
     "execution_count": 63,
     "metadata": {},
     "output_type": "execute_result"
    }
   ],
   "source": [
    "a = result.city_name.unique()\n",
    "b = shop_pd.city_name.unique()\n",
    "[c for c in b if c not in a]"
   ]
  },
  {
   "cell_type": "raw",
   "metadata": {},
   "source": [
    "淮北   咸阳  玉林"
   ]
  },
  {
   "cell_type": "code",
   "execution_count": 64,
   "metadata": {
    "collapsed": false
   },
   "outputs": [
    {
     "data": {
      "text/plain": [
       "[u'\\u7f8e\\u53d1/\\u7f8e\\u5bb9/\\u7f8e\\u7532']"
      ]
     },
     "execution_count": 64,
     "metadata": {},
     "output_type": "execute_result"
    }
   ],
   "source": [
    "a = result.cate_1_name.unique()\n",
    "b = shop_pd.cate_1_name.unique()\n",
    "[c for c in b if c not in a]"
   ]
  },
  {
   "cell_type": "raw",
   "metadata": {},
   "source": [
    "美发美容美甲"
   ]
  },
  {
   "cell_type": "code",
   "execution_count": 65,
   "metadata": {
    "collapsed": false
   },
   "outputs": [
    {
     "data": {
      "text/plain": [
       "[u'\\u7f8e\\u5bb9\\u7f8e\\u53d1']"
      ]
     },
     "execution_count": 65,
     "metadata": {},
     "output_type": "execute_result"
    }
   ],
   "source": [
    "a = result.cate_2_name.unique()\n",
    "b = shop_pd.cate_2_name.unique()\n",
    "[c for c in b if c not in a]"
   ]
  },
  {
   "cell_type": "raw",
   "metadata": {},
   "source": [
    "美容美发"
   ]
  },
  {
   "cell_type": "code",
   "execution_count": 66,
   "metadata": {
    "collapsed": false
   },
   "outputs": [
    {
     "data": {
      "text/plain": [
       "146"
      ]
     },
     "execution_count": 66,
     "metadata": {},
     "output_type": "execute_result"
    }
   ],
   "source": [
    "shop_id = np.arange(1,2001, 1)\n",
    "a =  [c for c in shop_id if c not in n]\n",
    "len(a)"
   ]
  },
  {
   "cell_type": "code",
   "execution_count": 15,
   "metadata": {
    "collapsed": true
   },
   "outputs": [
    {
     "ename": "KeyboardInterrupt",
     "evalue": "",
     "output_type": "error",
     "traceback": [
      "\u001b[1;31m---------------------------------------------------------------------------\u001b[0m",
      "\u001b[1;31mKeyboardInterrupt\u001b[0m                         Traceback (most recent call last)",
      "\u001b[1;32m<ipython-input-15-956fe112c742>\u001b[0m in \u001b[0;36m<module>\u001b[1;34m()\u001b[0m\n\u001b[1;32m----> 1\u001b[1;33m \u001b[0mresult\u001b[0m\u001b[1;33m.\u001b[0m\u001b[0mto_csv\u001b[0m\u001b[1;33m(\u001b[0m\u001b[1;34m'final_file.csv'\u001b[0m\u001b[1;33m,\u001b[0m\u001b[0msep\u001b[0m\u001b[1;33m=\u001b[0m\u001b[1;34m','\u001b[0m\u001b[1;33m,\u001b[0m \u001b[0mencoding\u001b[0m\u001b[1;33m=\u001b[0m\u001b[1;34m'GBK'\u001b[0m\u001b[1;33m)\u001b[0m\u001b[1;33m\u001b[0m\u001b[0m\n\u001b[0m",
      "\u001b[1;32m/opt/anaconda/anaconda2/lib/python2.7/site-packages/pandas/core/frame.pyc\u001b[0m in \u001b[0;36mto_csv\u001b[1;34m(self, path_or_buf, sep, na_rep, float_format, columns, header, index, index_label, mode, encoding, compression, quoting, quotechar, line_terminator, chunksize, tupleize_cols, date_format, doublequote, escapechar, decimal, **kwds)\u001b[0m\n\u001b[0;32m   1330\u001b[0m                                      \u001b[0mescapechar\u001b[0m\u001b[1;33m=\u001b[0m\u001b[0mescapechar\u001b[0m\u001b[1;33m,\u001b[0m\u001b[1;33m\u001b[0m\u001b[0m\n\u001b[0;32m   1331\u001b[0m                                      decimal=decimal)\n\u001b[1;32m-> 1332\u001b[1;33m         \u001b[0mformatter\u001b[0m\u001b[1;33m.\u001b[0m\u001b[0msave\u001b[0m\u001b[1;33m(\u001b[0m\u001b[1;33m)\u001b[0m\u001b[1;33m\u001b[0m\u001b[0m\n\u001b[0m\u001b[0;32m   1333\u001b[0m \u001b[1;33m\u001b[0m\u001b[0m\n\u001b[0;32m   1334\u001b[0m         \u001b[1;32mif\u001b[0m \u001b[0mpath_or_buf\u001b[0m \u001b[1;32mis\u001b[0m \u001b[0mNone\u001b[0m\u001b[1;33m:\u001b[0m\u001b[1;33m\u001b[0m\u001b[0m\n",
      "\u001b[1;32m/opt/anaconda/anaconda2/lib/python2.7/site-packages/pandas/core/format.pyc\u001b[0m in \u001b[0;36msave\u001b[1;34m(self)\u001b[0m\n\u001b[0;32m   1504\u001b[0m \u001b[1;33m\u001b[0m\u001b[0m\n\u001b[0;32m   1505\u001b[0m             \u001b[1;32melse\u001b[0m\u001b[1;33m:\u001b[0m\u001b[1;33m\u001b[0m\u001b[0m\n\u001b[1;32m-> 1506\u001b[1;33m                 \u001b[0mself\u001b[0m\u001b[1;33m.\u001b[0m\u001b[0m_save\u001b[0m\u001b[1;33m(\u001b[0m\u001b[1;33m)\u001b[0m\u001b[1;33m\u001b[0m\u001b[0m\n\u001b[0m\u001b[0;32m   1507\u001b[0m \u001b[1;33m\u001b[0m\u001b[0m\n\u001b[0;32m   1508\u001b[0m         \u001b[1;32mfinally\u001b[0m\u001b[1;33m:\u001b[0m\u001b[1;33m\u001b[0m\u001b[0m\n",
      "\u001b[1;32m/opt/anaconda/anaconda2/lib/python2.7/site-packages/pandas/core/format.pyc\u001b[0m in \u001b[0;36m_save\u001b[1;34m(self)\u001b[0m\n\u001b[0;32m   1604\u001b[0m                 \u001b[1;32mbreak\u001b[0m\u001b[1;33m\u001b[0m\u001b[0m\n\u001b[0;32m   1605\u001b[0m \u001b[1;33m\u001b[0m\u001b[0m\n\u001b[1;32m-> 1606\u001b[1;33m             \u001b[0mself\u001b[0m\u001b[1;33m.\u001b[0m\u001b[0m_save_chunk\u001b[0m\u001b[1;33m(\u001b[0m\u001b[0mstart_i\u001b[0m\u001b[1;33m,\u001b[0m \u001b[0mend_i\u001b[0m\u001b[1;33m)\u001b[0m\u001b[1;33m\u001b[0m\u001b[0m\n\u001b[0m\u001b[0;32m   1607\u001b[0m \u001b[1;33m\u001b[0m\u001b[0m\n\u001b[0;32m   1608\u001b[0m     \u001b[1;32mdef\u001b[0m \u001b[0m_save_chunk\u001b[0m\u001b[1;33m(\u001b[0m\u001b[0mself\u001b[0m\u001b[1;33m,\u001b[0m \u001b[0mstart_i\u001b[0m\u001b[1;33m,\u001b[0m \u001b[0mend_i\u001b[0m\u001b[1;33m)\u001b[0m\u001b[1;33m:\u001b[0m\u001b[1;33m\u001b[0m\u001b[0m\n",
      "\u001b[1;32m/opt/anaconda/anaconda2/lib/python2.7/site-packages/pandas/core/format.pyc\u001b[0m in \u001b[0;36m_save_chunk\u001b[1;34m(self, start_i, end_i)\u001b[0m\n\u001b[0;32m   1619\u001b[0m                                   \u001b[0mdecimal\u001b[0m\u001b[1;33m=\u001b[0m\u001b[0mself\u001b[0m\u001b[1;33m.\u001b[0m\u001b[0mdecimal\u001b[0m\u001b[1;33m,\u001b[0m\u001b[1;33m\u001b[0m\u001b[0m\n\u001b[0;32m   1620\u001b[0m                                   \u001b[0mdate_format\u001b[0m\u001b[1;33m=\u001b[0m\u001b[0mself\u001b[0m\u001b[1;33m.\u001b[0m\u001b[0mdate_format\u001b[0m\u001b[1;33m,\u001b[0m\u001b[1;33m\u001b[0m\u001b[0m\n\u001b[1;32m-> 1621\u001b[1;33m                                   quoting=self.quoting)\n\u001b[0m\u001b[0;32m   1622\u001b[0m \u001b[1;33m\u001b[0m\u001b[0m\n\u001b[0;32m   1623\u001b[0m             \u001b[1;32mfor\u001b[0m \u001b[0mcol_loc\u001b[0m\u001b[1;33m,\u001b[0m \u001b[0mcol\u001b[0m \u001b[1;32min\u001b[0m \u001b[0mzip\u001b[0m\u001b[1;33m(\u001b[0m\u001b[0mb\u001b[0m\u001b[1;33m.\u001b[0m\u001b[0mmgr_locs\u001b[0m\u001b[1;33m,\u001b[0m \u001b[0md\u001b[0m\u001b[1;33m)\u001b[0m\u001b[1;33m:\u001b[0m\u001b[1;33m\u001b[0m\u001b[0m\n",
      "\u001b[1;32m/opt/anaconda/anaconda2/lib/python2.7/site-packages/pandas/core/internals.pyc\u001b[0m in \u001b[0;36mto_native_types\u001b[1;34m(self, slicer, na_rep, float_format, decimal, quoting, **kwargs)\u001b[0m\n\u001b[0;32m   1412\u001b[0m \u001b[1;33m\u001b[0m\u001b[0m\n\u001b[0;32m   1413\u001b[0m         \u001b[1;32mif\u001b[0m \u001b[0mformatter\u001b[0m \u001b[1;32mis\u001b[0m \u001b[0mNone\u001b[0m \u001b[1;32mand\u001b[0m \u001b[1;32mnot\u001b[0m \u001b[0mquoting\u001b[0m\u001b[1;33m:\u001b[0m\u001b[1;33m\u001b[0m\u001b[0m\n\u001b[1;32m-> 1414\u001b[1;33m             \u001b[0mvalues\u001b[0m \u001b[1;33m=\u001b[0m \u001b[0mvalues\u001b[0m\u001b[1;33m.\u001b[0m\u001b[0mastype\u001b[0m\u001b[1;33m(\u001b[0m\u001b[0mstr\u001b[0m\u001b[1;33m)\u001b[0m\u001b[1;33m\u001b[0m\u001b[0m\n\u001b[0m\u001b[0;32m   1415\u001b[0m         \u001b[1;32melse\u001b[0m\u001b[1;33m:\u001b[0m\u001b[1;33m\u001b[0m\u001b[0m\n\u001b[0;32m   1416\u001b[0m             \u001b[0mvalues\u001b[0m \u001b[1;33m=\u001b[0m \u001b[0mnp\u001b[0m\u001b[1;33m.\u001b[0m\u001b[0marray\u001b[0m\u001b[1;33m(\u001b[0m\u001b[0mvalues\u001b[0m\u001b[1;33m,\u001b[0m \u001b[0mdtype\u001b[0m\u001b[1;33m=\u001b[0m\u001b[1;34m'object'\u001b[0m\u001b[1;33m)\u001b[0m\u001b[1;33m\u001b[0m\u001b[0m\n",
      "\u001b[1;31mKeyboardInterrupt\u001b[0m: "
     ]
    }
   ],
   "source": [
    "result.to_csv('final_file.csv',sep=',', encoding='GBK')"
   ]
  },
  {
   "cell_type": "code",
   "execution_count": 13,
   "metadata": {
    "collapsed": true
   },
   "outputs": [
    {
     "ename": "NameError",
     "evalue": "name 'df' is not defined",
     "output_type": "error",
     "traceback": [
      "\u001b[1;31m---------------------------------------------------------------------------\u001b[0m",
      "\u001b[1;31mNameError\u001b[0m                                 Traceback (most recent call last)",
      "\u001b[1;32m<ipython-input-13-2569c44faf66>\u001b[0m in \u001b[0;36m<module>\u001b[1;34m()\u001b[0m\n\u001b[1;32m----> 1\u001b[1;33m \u001b[0mdf\u001b[0m\u001b[1;33m.\u001b[0m\u001b[0mhead\u001b[0m\u001b[1;33m(\u001b[0m\u001b[1;33m)\u001b[0m\u001b[1;33m\u001b[0m\u001b[0m\n\u001b[0m",
      "\u001b[1;31mNameError\u001b[0m: name 'df' is not defined"
     ]
    }
   ],
   "source": [
    "df.head()"
   ]
  },
  {
   "cell_type": "code",
   "execution_count": 97,
   "metadata": {
    "collapsed": false,
    "scrolled": true
   },
   "outputs": [],
   "source": [
    "df = pd.read_csv('final_file.csv',encoding=\"GBK\")\n",
    "#data06_16 = pd.read_csv(\"../data/stocks1542monthly.csv\", encoding=\"\")"
   ]
  },
  {
   "cell_type": "code",
   "execution_count": 98,
   "metadata": {
    "collapsed": false
   },
   "outputs": [],
   "source": [
    "df.drop(['Unnamed: 0'], axis=1, inplace=True)"
   ]
  },
  {
   "cell_type": "code",
   "execution_count": 99,
   "metadata": {
    "collapsed": false
   },
   "outputs": [
    {
     "data": {
      "text/html": [
       "<div>\n",
       "<table border=\"1\" class=\"dataframe\">\n",
       "  <thead>\n",
       "    <tr style=\"text-align: right;\">\n",
       "      <th></th>\n",
       "      <th>count</th>\n",
       "    </tr>\n",
       "  </thead>\n",
       "  <tbody>\n",
       "    <tr>\n",
       "      <th>0</th>\n",
       "      <td>221</td>\n",
       "    </tr>\n",
       "    <tr>\n",
       "      <th>1</th>\n",
       "      <td>125</td>\n",
       "    </tr>\n",
       "    <tr>\n",
       "      <th>2</th>\n",
       "      <td>91</td>\n",
       "    </tr>\n",
       "    <tr>\n",
       "      <th>3</th>\n",
       "      <td>137</td>\n",
       "    </tr>\n",
       "    <tr>\n",
       "      <th>4</th>\n",
       "      <td>68</td>\n",
       "    </tr>\n",
       "    <tr>\n",
       "      <th>5</th>\n",
       "      <td>907</td>\n",
       "    </tr>\n",
       "    <tr>\n",
       "      <th>6</th>\n",
       "      <td>41</td>\n",
       "    </tr>\n",
       "    <tr>\n",
       "      <th>7</th>\n",
       "      <td>47</td>\n",
       "    </tr>\n",
       "    <tr>\n",
       "      <th>8</th>\n",
       "      <td>57</td>\n",
       "    </tr>\n",
       "    <tr>\n",
       "      <th>9</th>\n",
       "      <td>11</td>\n",
       "    </tr>\n",
       "    <tr>\n",
       "      <th>10</th>\n",
       "      <td>72</td>\n",
       "    </tr>\n",
       "    <tr>\n",
       "      <th>11</th>\n",
       "      <td>261</td>\n",
       "    </tr>\n",
       "    <tr>\n",
       "      <th>12</th>\n",
       "      <td>32</td>\n",
       "    </tr>\n",
       "    <tr>\n",
       "      <th>13</th>\n",
       "      <td>84</td>\n",
       "    </tr>\n",
       "    <tr>\n",
       "      <th>14</th>\n",
       "      <td>257</td>\n",
       "    </tr>\n",
       "    <tr>\n",
       "      <th>15</th>\n",
       "      <td>43</td>\n",
       "    </tr>\n",
       "    <tr>\n",
       "      <th>16</th>\n",
       "      <td>1</td>\n",
       "    </tr>\n",
       "    <tr>\n",
       "      <th>17</th>\n",
       "      <td>161</td>\n",
       "    </tr>\n",
       "    <tr>\n",
       "      <th>18</th>\n",
       "      <td>83</td>\n",
       "    </tr>\n",
       "    <tr>\n",
       "      <th>19</th>\n",
       "      <td>60</td>\n",
       "    </tr>\n",
       "    <tr>\n",
       "      <th>20</th>\n",
       "      <td>71</td>\n",
       "    </tr>\n",
       "    <tr>\n",
       "      <th>21</th>\n",
       "      <td>111</td>\n",
       "    </tr>\n",
       "    <tr>\n",
       "      <th>22</th>\n",
       "      <td>42</td>\n",
       "    </tr>\n",
       "    <tr>\n",
       "      <th>23</th>\n",
       "      <td>53</td>\n",
       "    </tr>\n",
       "    <tr>\n",
       "      <th>24</th>\n",
       "      <td>314</td>\n",
       "    </tr>\n",
       "    <tr>\n",
       "      <th>25</th>\n",
       "      <td>111</td>\n",
       "    </tr>\n",
       "    <tr>\n",
       "      <th>26</th>\n",
       "      <td>79</td>\n",
       "    </tr>\n",
       "    <tr>\n",
       "      <th>27</th>\n",
       "      <td>39</td>\n",
       "    </tr>\n",
       "    <tr>\n",
       "      <th>28</th>\n",
       "      <td>388</td>\n",
       "    </tr>\n",
       "    <tr>\n",
       "      <th>29</th>\n",
       "      <td>70</td>\n",
       "    </tr>\n",
       "    <tr>\n",
       "      <th>...</th>\n",
       "      <td>...</td>\n",
       "    </tr>\n",
       "    <tr>\n",
       "      <th>555285</th>\n",
       "      <td>59</td>\n",
       "    </tr>\n",
       "    <tr>\n",
       "      <th>555286</th>\n",
       "      <td>112</td>\n",
       "    </tr>\n",
       "    <tr>\n",
       "      <th>555287</th>\n",
       "      <td>56</td>\n",
       "    </tr>\n",
       "    <tr>\n",
       "      <th>555288</th>\n",
       "      <td>60</td>\n",
       "    </tr>\n",
       "    <tr>\n",
       "      <th>555289</th>\n",
       "      <td>69</td>\n",
       "    </tr>\n",
       "    <tr>\n",
       "      <th>555290</th>\n",
       "      <td>144</td>\n",
       "    </tr>\n",
       "    <tr>\n",
       "      <th>555291</th>\n",
       "      <td>199</td>\n",
       "    </tr>\n",
       "    <tr>\n",
       "      <th>555292</th>\n",
       "      <td>220</td>\n",
       "    </tr>\n",
       "    <tr>\n",
       "      <th>555293</th>\n",
       "      <td>62</td>\n",
       "    </tr>\n",
       "    <tr>\n",
       "      <th>555294</th>\n",
       "      <td>207</td>\n",
       "    </tr>\n",
       "    <tr>\n",
       "      <th>555295</th>\n",
       "      <td>57</td>\n",
       "    </tr>\n",
       "    <tr>\n",
       "      <th>555296</th>\n",
       "      <td>27</td>\n",
       "    </tr>\n",
       "    <tr>\n",
       "      <th>555297</th>\n",
       "      <td>70</td>\n",
       "    </tr>\n",
       "    <tr>\n",
       "      <th>555298</th>\n",
       "      <td>42</td>\n",
       "    </tr>\n",
       "    <tr>\n",
       "      <th>555299</th>\n",
       "      <td>222</td>\n",
       "    </tr>\n",
       "    <tr>\n",
       "      <th>555300</th>\n",
       "      <td>82</td>\n",
       "    </tr>\n",
       "    <tr>\n",
       "      <th>555301</th>\n",
       "      <td>68</td>\n",
       "    </tr>\n",
       "    <tr>\n",
       "      <th>555302</th>\n",
       "      <td>332</td>\n",
       "    </tr>\n",
       "    <tr>\n",
       "      <th>555303</th>\n",
       "      <td>55</td>\n",
       "    </tr>\n",
       "    <tr>\n",
       "      <th>555304</th>\n",
       "      <td>43</td>\n",
       "    </tr>\n",
       "    <tr>\n",
       "      <th>555305</th>\n",
       "      <td>37</td>\n",
       "    </tr>\n",
       "    <tr>\n",
       "      <th>555306</th>\n",
       "      <td>72</td>\n",
       "    </tr>\n",
       "    <tr>\n",
       "      <th>555307</th>\n",
       "      <td>69</td>\n",
       "    </tr>\n",
       "    <tr>\n",
       "      <th>555308</th>\n",
       "      <td>66</td>\n",
       "    </tr>\n",
       "    <tr>\n",
       "      <th>555309</th>\n",
       "      <td>50</td>\n",
       "    </tr>\n",
       "    <tr>\n",
       "      <th>555310</th>\n",
       "      <td>27</td>\n",
       "    </tr>\n",
       "    <tr>\n",
       "      <th>555311</th>\n",
       "      <td>52</td>\n",
       "    </tr>\n",
       "    <tr>\n",
       "      <th>555312</th>\n",
       "      <td>92</td>\n",
       "    </tr>\n",
       "    <tr>\n",
       "      <th>555313</th>\n",
       "      <td>66</td>\n",
       "    </tr>\n",
       "    <tr>\n",
       "      <th>555314</th>\n",
       "      <td>56</td>\n",
       "    </tr>\n",
       "  </tbody>\n",
       "</table>\n",
       "<p>555315 rows × 1 columns</p>\n",
       "</div>"
      ],
      "text/plain": [
       "        count\n",
       "0         221\n",
       "1         125\n",
       "2          91\n",
       "3         137\n",
       "4          68\n",
       "5         907\n",
       "6          41\n",
       "7          47\n",
       "8          57\n",
       "9          11\n",
       "10         72\n",
       "11        261\n",
       "12         32\n",
       "13         84\n",
       "14        257\n",
       "15         43\n",
       "16          1\n",
       "17        161\n",
       "18         83\n",
       "19         60\n",
       "20         71\n",
       "21        111\n",
       "22         42\n",
       "23         53\n",
       "24        314\n",
       "25        111\n",
       "26         79\n",
       "27         39\n",
       "28        388\n",
       "29         70\n",
       "...       ...\n",
       "555285     59\n",
       "555286    112\n",
       "555287     56\n",
       "555288     60\n",
       "555289     69\n",
       "555290    144\n",
       "555291    199\n",
       "555292    220\n",
       "555293     62\n",
       "555294    207\n",
       "555295     57\n",
       "555296     27\n",
       "555297     70\n",
       "555298     42\n",
       "555299    222\n",
       "555300     82\n",
       "555301     68\n",
       "555302    332\n",
       "555303     55\n",
       "555304     43\n",
       "555305     37\n",
       "555306     72\n",
       "555307     69\n",
       "555308     66\n",
       "555309     50\n",
       "555310     27\n",
       "555311     52\n",
       "555312     92\n",
       "555313     66\n",
       "555314     56\n",
       "\n",
       "[555315 rows x 1 columns]"
      ]
     },
     "execution_count": 99,
     "metadata": {},
     "output_type": "execute_result"
    }
   ],
   "source": [
    "a = df[['count']]\n",
    "a"
   ]
  },
  {
   "cell_type": "code",
   "execution_count": 100,
   "metadata": {
    "collapsed": false
   },
   "outputs": [],
   "source": [
    "df.drop(['count'], axis=1, inplace=True)"
   ]
  },
  {
   "cell_type": "code",
   "execution_count": 101,
   "metadata": {
    "collapsed": false
   },
   "outputs": [],
   "source": [
    "df['count'] = a['count']"
   ]
  },
  {
   "cell_type": "code",
   "execution_count": 103,
   "metadata": {
    "collapsed": false
   },
   "outputs": [
    {
     "data": {
      "text/plain": [
       "(555315, 217)"
      ]
     },
     "execution_count": 103,
     "metadata": {},
     "output_type": "execute_result"
    }
   ],
   "source": [
    "df.shape"
   ]
  },
  {
   "cell_type": "code",
   "execution_count": 107,
   "metadata": {
    "collapsed": false
   },
   "outputs": [],
   "source": [
    "df.to_csv('final_file.csv',sep=',', encoding='GBK')"
   ]
  },
  {
   "cell_type": "code",
   "execution_count": 105,
   "metadata": {
    "collapsed": false
   },
   "outputs": [],
   "source": [
    "X = df.values[:, 0:216]\n",
    "Y = df.values[:,216]"
   ]
  },
  {
   "cell_type": "code",
   "execution_count": 73,
   "metadata": {
    "collapsed": false
   },
   "outputs": [],
   "source": [
    "from sklearn.cross_validation import train_test_split\n",
    "X_train, X_test, y_train, y_test = train_test_split(X, Y, test_size = 0.3, random_state = 100)"
   ]
  },
  {
   "cell_type": "code",
   "execution_count": 74,
   "metadata": {
    "collapsed": false
   },
   "outputs": [
    {
     "data": {
      "text/plain": [
       "14883.930836484995"
      ]
     },
     "execution_count": 74,
     "metadata": {},
     "output_type": "execute_result"
    }
   ],
   "source": [
    "import numpy as np\n",
    "from sklearn.metrics import mean_squared_error\n",
    "from sklearn.ensemble import GradientBoostingRegressor\n",
    "\n",
    "est = GradientBoostingRegressor(n_estimators=100, learning_rate=0.1,\n",
    "    max_depth=1, random_state=0, loss='ls').fit(X_train, y_train)\n",
    "mean_squared_error(y_test, est.predict(X_test)) "
   ]
  },
  {
   "cell_type": "code",
   "execution_count": null,
   "metadata": {
    "collapsed": false
   },
   "outputs": [],
   "source": [
    "est1 = GradientBoostingRegressor(loss='huber', n_estimators=10000, learning_rate=0.051,\n",
    "                                 max_depth=10, max_features= 'sqrt', alpha=0.5, warm_start=True,\n",
    "                                 random_state=0).fit(X_train, y_train)\n",
    "#mean_squared_error(y_test, est1.predict(X_test)) \n",
    "# 6:30pm"
   ]
  },
  {
   "cell_type": "code",
   "execution_count": 2,
   "metadata": {
    "collapsed": true
   },
   "outputs": [],
   "source": [
    "df = pd.read_csv('final_file.csv',encoding=\"GBK\")"
   ]
  },
  {
   "cell_type": "code",
   "execution_count": 3,
   "metadata": {
    "collapsed": false
   },
   "outputs": [
    {
     "data": {
      "text/html": [
       "<div>\n",
       "<table border=\"1\" class=\"dataframe\">\n",
       "  <thead>\n",
       "    <tr style=\"text-align: right;\">\n",
       "      <th></th>\n",
       "      <th>Unnamed: 0</th>\n",
       "      <th>shop_id</th>\n",
       "      <th>date.day_1</th>\n",
       "      <th>date.day_2</th>\n",
       "      <th>date.day_3</th>\n",
       "      <th>date.day_4</th>\n",
       "      <th>date.day_5</th>\n",
       "      <th>date.day_6</th>\n",
       "      <th>date.day_7</th>\n",
       "      <th>date.day_8</th>\n",
       "      <th>...</th>\n",
       "      <th>cate_2_name_快餐</th>\n",
       "      <th>cate_2_name_本地购物</th>\n",
       "      <th>cate_2_name_汤/粥/煲/砂锅/炖菜</th>\n",
       "      <th>cate_2_name_火锅</th>\n",
       "      <th>cate_2_name_烘焙糕点</th>\n",
       "      <th>cate_2_name_烧烤</th>\n",
       "      <th>cate_2_name_网吧网咖</th>\n",
       "      <th>cate_2_name_药店</th>\n",
       "      <th>cate_2_name_超市</th>\n",
       "      <th>count</th>\n",
       "    </tr>\n",
       "  </thead>\n",
       "  <tbody>\n",
       "    <tr>\n",
       "      <th>0</th>\n",
       "      <td>0</td>\n",
       "      <td>544</td>\n",
       "      <td>0</td>\n",
       "      <td>0</td>\n",
       "      <td>0</td>\n",
       "      <td>0</td>\n",
       "      <td>0</td>\n",
       "      <td>0</td>\n",
       "      <td>0</td>\n",
       "      <td>0</td>\n",
       "      <td>...</td>\n",
       "      <td>0</td>\n",
       "      <td>0</td>\n",
       "      <td>0</td>\n",
       "      <td>0</td>\n",
       "      <td>0</td>\n",
       "      <td>0</td>\n",
       "      <td>0</td>\n",
       "      <td>0</td>\n",
       "      <td>0</td>\n",
       "      <td>221</td>\n",
       "    </tr>\n",
       "    <tr>\n",
       "      <th>1</th>\n",
       "      <td>1</td>\n",
       "      <td>810</td>\n",
       "      <td>0</td>\n",
       "      <td>0</td>\n",
       "      <td>0</td>\n",
       "      <td>0</td>\n",
       "      <td>0</td>\n",
       "      <td>0</td>\n",
       "      <td>0</td>\n",
       "      <td>0</td>\n",
       "      <td>...</td>\n",
       "      <td>1</td>\n",
       "      <td>0</td>\n",
       "      <td>0</td>\n",
       "      <td>0</td>\n",
       "      <td>0</td>\n",
       "      <td>0</td>\n",
       "      <td>0</td>\n",
       "      <td>0</td>\n",
       "      <td>0</td>\n",
       "      <td>125</td>\n",
       "    </tr>\n",
       "    <tr>\n",
       "      <th>2</th>\n",
       "      <td>2</td>\n",
       "      <td>163</td>\n",
       "      <td>0</td>\n",
       "      <td>0</td>\n",
       "      <td>0</td>\n",
       "      <td>0</td>\n",
       "      <td>0</td>\n",
       "      <td>0</td>\n",
       "      <td>1</td>\n",
       "      <td>0</td>\n",
       "      <td>...</td>\n",
       "      <td>0</td>\n",
       "      <td>0</td>\n",
       "      <td>0</td>\n",
       "      <td>0</td>\n",
       "      <td>0</td>\n",
       "      <td>0</td>\n",
       "      <td>0</td>\n",
       "      <td>0</td>\n",
       "      <td>1</td>\n",
       "      <td>91</td>\n",
       "    </tr>\n",
       "    <tr>\n",
       "      <th>3</th>\n",
       "      <td>3</td>\n",
       "      <td>1977</td>\n",
       "      <td>0</td>\n",
       "      <td>0</td>\n",
       "      <td>0</td>\n",
       "      <td>0</td>\n",
       "      <td>0</td>\n",
       "      <td>0</td>\n",
       "      <td>0</td>\n",
       "      <td>0</td>\n",
       "      <td>...</td>\n",
       "      <td>1</td>\n",
       "      <td>0</td>\n",
       "      <td>0</td>\n",
       "      <td>0</td>\n",
       "      <td>0</td>\n",
       "      <td>0</td>\n",
       "      <td>0</td>\n",
       "      <td>0</td>\n",
       "      <td>0</td>\n",
       "      <td>137</td>\n",
       "    </tr>\n",
       "    <tr>\n",
       "      <th>4</th>\n",
       "      <td>4</td>\n",
       "      <td>746</td>\n",
       "      <td>0</td>\n",
       "      <td>0</td>\n",
       "      <td>0</td>\n",
       "      <td>0</td>\n",
       "      <td>0</td>\n",
       "      <td>0</td>\n",
       "      <td>0</td>\n",
       "      <td>0</td>\n",
       "      <td>...</td>\n",
       "      <td>1</td>\n",
       "      <td>0</td>\n",
       "      <td>0</td>\n",
       "      <td>0</td>\n",
       "      <td>0</td>\n",
       "      <td>0</td>\n",
       "      <td>0</td>\n",
       "      <td>0</td>\n",
       "      <td>0</td>\n",
       "      <td>68</td>\n",
       "    </tr>\n",
       "  </tbody>\n",
       "</table>\n",
       "<p>5 rows × 218 columns</p>\n",
       "</div>"
      ],
      "text/plain": [
       "   Unnamed: 0  shop_id  date.day_1  date.day_2  date.day_3  date.day_4  \\\n",
       "0           0      544           0           0           0           0   \n",
       "1           1      810           0           0           0           0   \n",
       "2           2      163           0           0           0           0   \n",
       "3           3     1977           0           0           0           0   \n",
       "4           4      746           0           0           0           0   \n",
       "\n",
       "   date.day_5  date.day_6  date.day_7  date.day_8  ...    cate_2_name_快餐  \\\n",
       "0           0           0           0           0  ...                 0   \n",
       "1           0           0           0           0  ...                 1   \n",
       "2           0           0           1           0  ...                 0   \n",
       "3           0           0           0           0  ...                 1   \n",
       "4           0           0           0           0  ...                 1   \n",
       "\n",
       "   cate_2_name_本地购物  cate_2_name_汤/粥/煲/砂锅/炖菜  cate_2_name_火锅  \\\n",
       "0                 0                        0               0   \n",
       "1                 0                        0               0   \n",
       "2                 0                        0               0   \n",
       "3                 0                        0               0   \n",
       "4                 0                        0               0   \n",
       "\n",
       "   cate_2_name_烘焙糕点  cate_2_name_烧烤  cate_2_name_网吧网咖  cate_2_name_药店  \\\n",
       "0                 0               0                 0               0   \n",
       "1                 0               0                 0               0   \n",
       "2                 0               0                 0               0   \n",
       "3                 0               0                 0               0   \n",
       "4                 0               0                 0               0   \n",
       "\n",
       "   cate_2_name_超市  count  \n",
       "0               0    221  \n",
       "1               0    125  \n",
       "2               1     91  \n",
       "3               0    137  \n",
       "4               0     68  \n",
       "\n",
       "[5 rows x 218 columns]"
      ]
     },
     "execution_count": 3,
     "metadata": {},
     "output_type": "execute_result"
    }
   ],
   "source": [
    "df.head()"
   ]
  },
  {
   "cell_type": "code",
   "execution_count": null,
   "metadata": {
    "collapsed": true
   },
   "outputs": [],
   "source": []
  }
 ],
 "metadata": {
  "kernelspec": {
   "display_name": "Python 2",
   "language": "python",
   "name": "python2"
  },
  "language_info": {
   "codemirror_mode": {
    "name": "ipython",
    "version": 2
   },
   "file_extension": ".py",
   "mimetype": "text/x-python",
   "name": "python",
   "nbconvert_exporter": "python",
   "pygments_lexer": "ipython2",
   "version": "2.7.13"
  }
 },
 "nbformat": 4,
 "nbformat_minor": 0
}
